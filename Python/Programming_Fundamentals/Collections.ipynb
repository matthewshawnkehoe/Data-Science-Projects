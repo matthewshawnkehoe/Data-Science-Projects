{
 "cells": [
  {
   "cell_type": "markdown",
   "metadata": {},
   "source": [
    "## Lists\n",
    "\n",
    "*Lists* are ordered collections of data.  To create a list, simply wrap other data, separated by commas, in square brackets (`[` `]`):"
   ]
  },
  {
   "cell_type": "code",
   "execution_count": null,
   "metadata": {
    "collapsed": true
   },
   "outputs": [],
   "source": [
    "inventory = [\"beans\", \"coin\", \"tome\"]\n",
    "tome_dimensions = [8.5, 11, 2]"
   ]
  },
  {
   "cell_type": "markdown",
   "metadata": {},
   "source": [
    "You can put any value that you like into a list—even another list. Just like the characters in a string, the elements in a list are _ordered_ and can be accessed by index with bracket notation."
   ]
  },
  {
   "cell_type": "code",
   "execution_count": null,
   "metadata": {
    "collapsed": true
   },
   "outputs": [],
   "source": [
    "# Start by assigning some lists to variables.\n",
    "inventory = [\"beans\", \"coin\", \"tome\"]\n",
    "tome_dimensions = [8.5, 11, 2]\n",
    "\n",
    "# Lists in lists ...\n",
    "random_stuff = [True, 3.14, [\"pie\", \"pizza\", \"automobile\"]]\n",
    "battleship_board = [[1, 1, 0], [1, 0, 1], [0, 0, 1]]\n",
    "\n",
    "# Just like with strings, you can access list elements by index\n",
    "# with bracket notation. Start counting at zero:\n",
    "print(inventory[0])\n",
    "print(random_stuff[2])\n",
    "\n",
    "# With nested lists, you can continue digging down with additional\n",
    "# indexes:\n",
    "print(random_stuff[2][0])\n",
    "\n",
    "# Lists have a particular length.\n",
    "inventory_size = len(inventory)\n",
    "print(\"You have {} items in your inventory\".format(inventory_size))\n",
    "\n",
    "# Lists are easy to modify. You'll learn about this in more detail later.\n",
    "inventory.append(\"magic sword\")\n",
    "print(inventory)\n",
    "\n",
    "# Can you think of a way to print 3.14 solely by referencing the\n",
    "# variables above?"
   ]
  },
  {
   "cell_type": "markdown",
   "metadata": {},
   "source": [
    "## Dictionaries\n",
    "\n",
    "*Dictionaries* are another way to collect several pieces of data together. Recent versions of Python support ordering in dictionaries, which store data as a collection of key-value pairs.\n",
    "\n",
    "To create a dictionary, wrap key-value pairs in curly braces (`{` `}`):"
   ]
  },
  {
   "cell_type": "code",
   "execution_count": null,
   "metadata": {},
   "outputs": [],
   "source": [
    "adventurer = {\"name\": \"grae\", \"profession\": \"magician\"}"
   ]
  },
  {
   "cell_type": "markdown",
   "metadata": {},
   "source": [
    "In the example above, `\"name\"` and `\"profession\"` are the *keys*; `\"magician\"` is the *value* associated with the `\"profession\"` key, and `\"grae\"` is the value associated with the `\"name\"` key. Each key is separated from its value by a colon (`:`), and each key-value pair is separated from other pairs with a comma (`,`).\n",
    "\n",
    "Just like with lists, you can use bracket notation to access the data in a dictionary. Unlike lists, where you use an index number, with dictionaries, you look up data using a particular key."
   ]
  },
  {
   "cell_type": "code",
   "execution_count": 1,
   "metadata": {},
   "outputs": [
    {
     "name": "stdout",
     "output_type": "stream",
     "text": [
      "What is your name?Ben\n",
      "Fantastic, thanks Ben\n",
      "Octarine\n",
      "Ok Ben, you are a Human None.\n"
     ]
    }
   ],
   "source": [
    "# Here's a super-simple dictionary:\n",
    "person = {\"name\": \"grae\", \"profession\": \"magician\"}\n",
    "\n",
    "# Dictionaries are great for grouping related data together.\n",
    "# Now, make a dictionary with more data.\n",
    "\n",
    "# Note how each key-value pair is on a new line. This\n",
    "# can make dictionaries much easier to read.\n",
    "hero = {\n",
    "    \"name\": None,\n",
    "    \"species\": \"Human\",\n",
    "    \"strength\": 4,\n",
    "    \"magic\": 5,\n",
    "    \"profession\": None,\n",
    "}\n",
    "\n",
    "# Check the hero's name again. Just like lists, use\n",
    "# bracket notation.\n",
    "if hero[\"name\"] is None:\n",
    "    # You can modify dictionary values just like you access them.\n",
    "    hero[\"name\"] = input(\"What is your name?\")\n",
    "    print(\"Fantastic, thanks {}\".format(hero[\"name\"]))\n",
    "\n",
    "# You can also add new key-value pairs using the same bracket\n",
    "# notation syntax.\n",
    "hero[\"favorite_color\"] = \"Octarine\"\n",
    "print(hero[\"favorite_color\"])\n",
    "\n",
    "# Try inserting a line of code below this comment that changes\n",
    "# the hero's `profession` from `None` to another value so that the next\n",
    "# `print()` statement works well.\n",
    "\n",
    "print(\"Ok {}, you are a {} {}.\".format(hero[\"name\"], hero[\"species\"], hero[\"profession\"]))"
   ]
  }
 ],
 "metadata": {
  "kernelspec": {
   "display_name": "Python 3 (ipykernel)",
   "language": "python",
   "name": "python3"
  },
  "language_info": {
   "codemirror_mode": {
    "name": "ipython",
    "version": 3
   },
   "file_extension": ".py",
   "mimetype": "text/x-python",
   "name": "python",
   "nbconvert_exporter": "python",
   "pygments_lexer": "ipython3",
   "version": "3.9.12"
  }
 },
 "nbformat": 4,
 "nbformat_minor": 2
}
