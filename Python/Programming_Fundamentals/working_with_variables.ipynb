{
 "cells": [
  {
   "cell_type": "code",
   "execution_count": null,
   "metadata": {},
   "outputs": [],
   "source": [
    "# This URL is long. Write it just once and store it in a\n",
    "# variable to use later.\n",
    "base_url = \"thinkful-students.slack.com/messages/\"\n",
    "\n",
    "# Use newline (\"\\n\") characters to format things nicely.\n",
    "empty_line = \"\\n\"\n",
    "\n",
    "print(\"The Thinkful Slack community is a great place to get help or share your work.\")\n",
    "print(empty_line)\n",
    "\n",
    "print(\"#general-discussion is where everyone can chat about whatever they like\")\n",
    "print(\"You can get there by going to:\")\n",
    "\n",
    "# Now you're going to start using your `base_url` variable multiple\n",
    "# times.\n",
    "print(base_url + \"general-discussion\")\n",
    "print(empty_line)\n",
    "\n",
    "print(\"Data analytics specific conversation is good for #data-analytics, at:\")\n",
    "print(base_url + 'data-analytics')\n",
    "print(empty_line)\n",
    "\n",
    "print(\"There's also a #careers channel dedicated to job-hunting:\")\n",
    "print(base_url + \"careers\")\n",
    "print(empty_line)\n",
    "\n",
    "print(\"Be sure to find your mentor on Slack and introduce yourself to the community.\")"
   ]
  },
  {
   "cell_type": "markdown",
   "metadata": {},
   "source": [
    "In addition to giving you a way to refer to other values, variables provide a way to manage state in a program. *State* has to do with persisting or modifying values over time. That probably sounds abstract, so take a look at a concrete example below.\n",
    "\n",
    "Read over the code in the following cell, then execute it."
   ]
  },
  {
   "cell_type": "code",
   "execution_count": null,
   "metadata": {},
   "outputs": [],
   "source": [
    "# Ask the user for input and store the result in a variable.\n",
    "bottle_count = int(input(\"How many bottles of beer are on the wall?\"))\n",
    "\n",
    "# Substitute in the value that `bottle_count` was set to when printing\n",
    "# this message. The {} here will get replaced with `bottle_count` because of `.format(bottle_count)`\n",
    "print(\"There are {} bottles of beer on the wall.\".format(bottle_count)) \n",
    "\n",
    "if input(\"Would you like to take any down?\") == \"yes\":\n",
    "    removed_bottles = int(input(\"Ok, how many?\"))\n",
    "    bottle_count = bottle_count - removed_bottles\n",
    "    print(\"There are now {} bottles on the wall\".format(bottle_count))\n",
    "else:\n",
    "    print(\"Ok, there are still {} bottles on the wall.\".format(bottle_count))"
   ]
  },
  {
   "cell_type": "markdown",
   "metadata": {},
   "source": [
    "Take a minute to read through the code comments in the Python code in this example to get a sense of what it's doing. Remember, the goal at this moment is not to master the syntax or understand every piece of code; instead, focus on starting to get a feel for this idea of state.\n",
    "\n",
    "In this simple program, the application state is maintained in a single `bottle_count` variable. The user sets the initial value when the program starts, and they can choose to modify this value later. In between prompts to modify its value, the application's state is maintained in the `bottle_count` variable. At any point when this program is running, the `bottle_count` variable tells everyone else how many total bottles exist. Variables give you a way of persisting this information for the life of the program."
   ]
  },
  {
   "cell_type": "markdown",
   "metadata": {},
   "source": [
    "## Creating and referring to variables in Python\n",
    "\n",
    "There are two distinct moments to think about when working with variables in Python: assigning a value to a variable, and retrieving the value from a variable.\n",
    "\n",
    "To assign a value to a variable, use the assignment operator `=` with the following syntax:\n",
    "\n",
    "```python\n",
    "my_name = \"Johnny Robot\"\n",
    "```\n",
    "\n",
    "This code says that the value of the variable `my_name` is `\"Johnny Robot\"`, and that information is stored in memory. You could update the value of `my_name` by adding another line using the assignment operator. For example, you could add a line that says `my_name = \"PJ Harvey\"`).\n",
    "\n",
    "It's important to note that the `=` operator is assigning a value to a variable, not asserting that two different values are equal. When you see the `=` character in mathematical statements, it's an equals sign, and it means that the values on both sides are equal. For example, `2 + 2 = 4` is a perfectly reasonable mathematical statement. But that's not how `=` works in Python.\n",
    "In Python, the `=` character is an operator that assigns the value on the right to the variable on the left. Trying to execute the line of code `2 + 2 = 4` in Python will give you a syntax error because you can't *assign* anything to the value `2 + 2`. Mixing up the math usage of `=` with the programming usage of `=` is one of the most common errors for beginner programmers, and it's one that you will probably make several times.\n",
    "\n",
    "To access the value in a variable, just refer to the variable in your code. This example would print a greeting that accesses and uses the value of `my_name`:\n"
   ]
  },
  {
   "cell_type": "code",
   "execution_count": null,
   "metadata": {},
   "outputs": [],
   "source": [
    "my_name = \"Pretty Great Person\"\n",
    "\n",
    "# Edit and uncomment the line below if you want to reassign the\n",
    "# value of the `my_name` variable.\n",
    "\n",
    "# my_name = \"\"\n",
    "\n",
    "print(\"Hello world, my name is \" + my_name + \".\")"
   ]
  },
  {
   "cell_type": "markdown",
   "metadata": {},
   "source": [
    "## Naming variables\n",
    "\n",
    "The names that you choose for variables are important.\n",
    "\n",
    "There are some rules about how variable names *must* look in order for the Python interpreter to recognize that your code is talking about a variable in the first place. And there are also stylistic conventions about how you *should* name your variables.\n",
    "\n",
    "### The rules\n",
    "\n",
    "The naming requirements in Python are simple:\n",
    " 1. Variable names must start with a letter or an underscore.\n",
    " 2. The remainder of your variable name may include letters, numbers, and underscores.\n",
    " 3. The variable name cannot be a *reserved word*.\n",
    "\n",
    "All of the following are valid variable names:\n",
    "```python\n",
    "name = \"Guido\"\n",
    "favorite_painter = \"Mondrian\"\n",
    "__password__ = \"hunter7\"\n",
    "job1 = \"Programmer\"\n",
    "job2 = \"Benevolent Dictator\"\n",
    "```\n",
    "*(Guido van Rossum, the creator of Python, held the position of Benevolent Dictator for Life of the programming language until stepping down in 2018.)*\n",
    "\n",
    "Each of the variable names below is invalid and will raise a syntax error:\n",
    "\n",
    "```python\n",
    "# Variable name doesn't start with a letter or underscore:\n",
    "1st_name = \"Guido\"\n",
    "\n",
    "# Variable name includes a disallowed character: `-`:\n",
    "my-password = \"hunter2\"\n",
    "\n",
    "# Variable names can't be keywords like `else`:\n",
    "else = 1\n",
    "```\n",
    "\n",
    "*Reserved words* are a special category of words that you're not allowed to use as variable names in a given programming language. For example, in Python, you can't reassign the name `True` or the word `def` to a new value. See the documentation for the full list of [33 reserved words](https://docs.python.org/3.5/reference/lexical_analysis.html#keywords).\n",
    "\n",
    "### The recommendations\n",
    "\n",
    "In addition to the syntax rules above, there are also recommended best practices that you *should* follow. Ignoring these recommendations won't cause your code to break, but it will make your code look strange to other Python developers and make it harder to maintain. [PEP 8](https://www.python.org/dev/peps/pep-0008/) contains most of the relevant Python style recommendations. Here are a few important ones:\n",
    "\n",
    "* **Use snake case**: Python developers generally use lower case with underscores (which is sometimes called *snake case*) for variable names. For example, `this_is_snake_casing`. A Python variable name should have lowercase letters throughout, with words separated by an underscore (`_`) character. There are cases where you may use TitleCasing ([with classes for instance](https://www.python.org/dev/peps/pep-0008/#class-names)) or ALLCAPS ([for constants](https://www.python.org/dev/peps/pep-0008/#constants)), but the general rule is to use snake casing.\n",
    "\n",
    "* **Choose meaningful variable names**: When you choose variable names in Python, choose names that describe the underlying value and reflect how the variable gets used in the program. A well-chosen variable name can help other people reading the code to understand how the variable is intended to be used. For example, full words are generally better than single characters or abbreviations:\n",
    "\n",
    "```python\n",
    "# Bad:\n",
    "p = 0\n",
    "n = \"Guido van Rossum\"\n",
    "b_btls = 99\n",
    "\n",
    "# Good:\n",
    "position = 0\n",
    "name = \"Guido van Rossum\"\n",
    "beer_bottles = 99\n",
    "```\n",
    "Naming variables is [more of an art than a science](http://martinfowler.com/bliki/TwoHardThings.html), and you'll get better at it over time. But as a general rule of thumb, the more your code reads like an English sentence, the better you've chosen your variable names.\n",
    "\n",
    "For additional resources on style issues, you can dive into [PEP 8](https://www.python.org/dev/peps/pep-0008/) and follow it up with this fantastic talk on PEP 8 and good practices by Python contributor [Raymond Hettinger](https://medium.com/@drb/pep-8-beautiful-code-and-the-tyranny-of-guidelines-f96499f5ac17#.y7fi2ew7h).\n"
   ]
  },
  {
   "cell_type": "markdown",
   "metadata": {},
   "source": [
    "## Data types\n",
    "\n",
    "Variables can represent different *types* of values. For example, words and numbers are different types of data. A variable could refer to the number `42`, or it could refer to the word `\"forty-two\"`. You can do math with the first one, but trying to subtract `5` from `\"forty-two\"` in Python isn't going to fly.\n",
    "\n",
    "Python has many data types, and you'll cover some common ones now: strings, numbers (including integers and floats), booleans, and `None`. Later in this module, you'll explore each of these in more detail. Right now, you'll get a brief introduction to each. The goal here is to give you the lay of the land and a chance to tinker, not for you to memorize all the information in this lesson.\n",
    "\n",
    "After that, you'll explore the idea of *conversion*, which has to do with how you can transform data from one type to another in Python.\n",
    "\n",
    "\n",
    "### Strings\n",
    "\n",
    "*Strings* are textual data delineated by opening and closing quotes. Either single or double quotes is fine, but both the opening and the closing quote must be the same kind; for example, `food = 'pizza'` and `food = \"pizza\"` are both valid.\n",
    "\n",
    "Words, names, book chapters, emails, text files—all of these are textual data and can be represented by strings. When you get down to it, much of data is just a bunch of characters strung together in a particular order.\n",
    "\n",
    "Read through the code below, then go back and fiddle with it and rerun it to get a sense for what's going on."
   ]
  },
  {
   "cell_type": "code",
   "execution_count": 4,
   "metadata": {},
   "outputs": [
    {
     "name": "stdout",
     "output_type": "stream",
     "text": [
      "<class 'str'>\n",
      "The first letter is h\n",
      "The second letter is a\n",
      "3\n",
      "I like ham and eggs\n",
      "Bring me 3 shrubberies, Guido!\n"
     ]
    }
   ],
   "source": [
    "# Start by assigning a string to your variable.\n",
    "food = \"ham\"\n",
    "\n",
    "# Check out what the built-in `type()` function does.\n",
    "type_of_food = type(food)\n",
    "print(type_of_food)\n",
    "\n",
    "# You can access the characters of a string by index using bracket\n",
    "# notation, starting at index zero.\n",
    "first_letter = food[0]\n",
    "second_letter = food[1]\n",
    "print(\"The first letter is \" + first_letter)\n",
    "print(\"The second letter is \" + second_letter)\n",
    "\n",
    "# You can use the built-in `len()` function to get a string's\n",
    "# length, which is the number of characters that it contains.\n",
    "print(len(food))\n",
    "\n",
    "# You can concatenate two strings together into one string using\n",
    "# the + operator.\n",
    "superfood = food + \" and eggs\"\n",
    "print(\"I like \" + superfood)\n",
    "\n",
    "# You can fill in strings using the `.format()` string method.\n",
    "name = \"Guido\"\n",
    "cost = 3\n",
    "demand = \"Bring me {} shrubberies, {}!\"\n",
    "print(demand.format(cost, name))"
   ]
  },
  {
   "cell_type": "markdown",
   "metadata": {},
   "source": [
    "You'll explore strings in depth later in this module.\n",
    "\n",
    "\n",
    "### Numbers: Integers and floats\n",
    "\n",
    "Numbers come in two main flavors in Python: integers (or *ints*) and floating-point numbers (or *floats*).\n",
    "\n",
    "Integers represent, well, integers: whole numbers that aren't written as a fraction or with a decimal point. There is no maximum integer size; Python 3 can handle integers that are arbitrarily large (unlike many other languages).\n",
    "\n",
    "Floating-point numbers are numbers that *do* include a decimal point. Floats in computer science are a fun topic. Because computers internally represent everything in binary, and because it's impossible to precisely represent many decimal fractions in binary, it's easy to end up with floating-point issues like this:\n"
   ]
  },
  {
   "cell_type": "code",
   "execution_count": 5,
   "metadata": {},
   "outputs": [
    {
     "name": "stdout",
     "output_type": "stream",
     "text": [
      "0.6000000000000001\n"
     ]
    }
   ],
   "source": [
    "print(.2 + .4)"
   ]
  },
  {
   "cell_type": "markdown",
   "metadata": {},
   "source": [
    "That happens because it's impossible to represent `.2`, `.4`, and `.6` precisely in binary, so there's a limit to how precise you can get. You won't get into the nitty-gritty with floating-point numbers in this program, but know that doing arithmetic with floats is asking for trouble. See [here](https://docs.python.org/3.5/tutorial/floatingpoint.html) for more information on floats in Python 3 if you're interested.\n",
    "\n",
    "Unlike with strings, you can do math with numbers!"
   ]
  },
  {
   "cell_type": "code",
   "execution_count": 6,
   "metadata": {},
   "outputs": [
    {
     "name": "stdout",
     "output_type": "stream",
     "text": [
      "<class 'int'>\n",
      "<class 'float'>\n",
      "5\n",
      "30\n",
      "1.5\n",
      "1\n",
      "9.42\n",
      "0.6000000000000001\n",
      "False\n",
      "Bring me 3 shrubberies!\n"
     ]
    }
   ],
   "source": [
    "# Start by assigning some numbers to your variables.\n",
    "count = 3\n",
    "pi = 3.14\n",
    "\n",
    "# Check out what the built-in `type()`function does.\n",
    "type_of_count = type(count)\n",
    "type_of_pi = type(pi)\n",
    "print(type_of_count)\n",
    "print(type_of_pi)\n",
    "\n",
    "# You can do math with numbers. The % operator is modulo.\n",
    "print(count + 2)\n",
    "print(count * 10 )\n",
    "print(count / 2)\n",
    "print(1337 % 2)\n",
    "\n",
    "# Putting an int and a float together will give you a float.\n",
    "print(count * pi)\n",
    "\n",
    "# Be careful with floating-point math.\n",
    "print(.2 + .4)\n",
    "\n",
    "# Numbers aren't strings, even if they look similar.\n",
    "print(10 == \"10\")\n",
    "\n",
    "# Thankfully, it's easy to convert numbers to strings when you\n",
    "# need to:\n",
    "\n",
    "print(\"Bring me \" + str(count) + \" shrubberies!\")"
   ]
  },
  {
   "cell_type": "markdown",
   "metadata": {},
   "source": [
    "You'll explore the properties and operations of ints and floats in depth later.\n",
    "\n",
    "\n",
    "### Booleans\n",
    "\n",
    "*Booleans* signify truth and falsity. A boolean has just two possible values: `True` and `False`."
   ]
  },
  {
   "cell_type": "code",
   "execution_count": 8,
   "metadata": {},
   "outputs": [
    {
     "name": "stdout",
     "output_type": "stream",
     "text": [
      "Welcome Pluto, loading launch codes.\n"
     ]
    }
   ],
   "source": [
    "# Here you're assigning the boolean `True` to the variable\n",
    "# `logged_in`. Try running this code, then changing `True` to `False`\n",
    "# to see how that changes the program. (Note the capital \"F\" and\n",
    "# the lack of quotation marks.)\n",
    "# What happens if you change the value of `logged_in` to a number\n",
    "# or string instead of a boolean `True` or `False`?\n",
    "logged_in = True\n",
    "\n",
    "username = \"Pluto\"\n",
    "\n",
    "# These are conditional statements. You'll learn about these later, but\n",
    "# you might be able to make out how they're working here.\n",
    "if logged_in == True:\n",
    "    print(\"Welcome \" + username + \", loading launch codes.\")\n",
    "elif logged_in == False:\n",
    "    print(\"Sorry, I can't load the launch codes unless you log in.\")\n",
    "else:\n",
    "    print(\"Hey pal, no trying to hack the mainframe login.\")\n"
   ]
  },
  {
   "cell_type": "markdown",
   "metadata": {},
   "source": [
    "In the example above, you set `logged_in` to `True`, and you then have a block of code that runs if and only if the user is logged in. You also have a block of code that only runs if `logged_in` is set to `False`, and another block that runs for any other nonboolean value. Tinker around with the example to see if you can get all three responses to run.\n",
    "\n",
    "You'll learn more about booleans in the lesson on application logic.\n",
    "\n",
    "### `None`\n",
    "\n",
    "Strings, numbers, and booleans are useful for representing actual things, but sometimes you want to represent *nothing*. That is, you want to represent the _absence_ of any value. For that, Python has `None`.\n",
    "\n"
   ]
  },
  {
   "cell_type": "code",
   "execution_count": 1,
   "metadata": {},
   "outputs": [
    {
     "name": "stdout",
     "output_type": "stream",
     "text": [
      "What is your name?Ben\n",
      "Fantastic, thanks Ben\n",
      "Ben, you are a Human who needs a profession\n",
      "Your strength is 4 and magic is 5,\n",
      "and your favorite color is Octarine\n",
      "What profession would you like?Race car driver\n",
      "Welcome, Ben. You are a Human Race car driver.\n"
     ]
    }
   ],
   "source": [
    "# Assign some variables to start with, including `None`\n",
    "# in a couple places.\n",
    " \n",
    "name = None\n",
    "species = \"Human\"\n",
    "strength = 4\n",
    "magic = 5\n",
    "favorite_color = \"Octarine\"\n",
    "profession = None\n",
    "\n",
    "# Hm, maybe a name isn't assigned yet ...\n",
    "if name is None:\n",
    "    name = input(\"What is your name?\")\n",
    "    print(\"Fantastic, thanks {}\".format(name))\n",
    "\n",
    "# Every adventurer needs a profession.\n",
    "if profession is None:\n",
    "    print(\"{}, you are a {} who needs a profession\".format(name, species))\n",
    "    print(\"Your strength is {} and magic is {},\".format(strength, magic))\n",
    "    print(\"and your favorite color is {}\".format(favorite_color))\n",
    "    profession = input(\"What profession would you like?\")\n",
    "\n",
    "print(\"Welcome, {}. You are a {} {}.\".format(name, species, profession))\n",
    "\n",
    "# Once you've run the program, go back and tweak your starting\n",
    "# variables. Does that change the program's behavior?\n",
    "\n",
    "# As a stretch goal, try setting `favorite_color` to `None` and\n",
    "# getting user input by copying the logic for `name` and\n",
    "# `profession`."
   ]
  },
  {
   "cell_type": "markdown",
   "metadata": {},
   "source": [
    "You could have a deep philosophical debate about when it's appropriate to use `None` instead of `False` or `0` or an empty string `\"\"` or so on. You won't explore that debate in this program; just know that `None` is around to use when you want to represent the lack of a value.\n",
    "\n",
    "\n",
    "## Type conversion\n",
    "\n",
    "To close out this lesson, it's useful to be aware of the idea of *converting* data of one type to data of another. In Python, if you try to perform an operation that expects a number on a string, you'll get an error. For example, if you try to subtract the string `\"10\"` from the number `42`, you'll get an error.\n"
   ]
  },
  {
   "cell_type": "code",
   "execution_count": 2,
   "metadata": {},
   "outputs": [
    {
     "ename": "TypeError",
     "evalue": "unsupported operand type(s) for -: 'int' and 'str'",
     "output_type": "error",
     "traceback": [
      "\u001b[0;31m------------------------------------\u001b[0m",
      "\u001b[0;31mTypeError\u001b[0mTraceback (most recent call last)",
      "\u001b[0;32m<ipython-input-2-89f1e243d532>\u001b[0m in \u001b[0;36m<module>\u001b[0;34m\u001b[0m\n\u001b[0;32m----> 1\u001b[0;31m \u001b[0;36m42\u001b[0m \u001b[0;34m-\u001b[0m \u001b[0;34m\"10\"\u001b[0m\u001b[0;34m\u001b[0m\u001b[0m\n\u001b[0m",
      "\u001b[0;31mTypeError\u001b[0m: unsupported operand type(s) for -: 'int' and 'str'"
     ]
    }
   ],
   "source": [
    "print(42 - \"10\")"
   ]
  },
  {
   "cell_type": "markdown",
   "metadata": {},
   "source": [
    "That `TypeError` is telling you that you're trying to use data of a particular type (a string) that the minus `-` operator doesn't support. You can fix that by converting the string to an integer with the built-in [`int()`](https://docs.python.org/3.5/library/functions.html#int) function or converting it to a float with the built-in [`float()`](https://docs.python.org/3.5/library/functions.html#float) function:"
   ]
  },
  {
   "cell_type": "code",
   "execution_count": 4,
   "metadata": {},
   "outputs": [
    {
     "name": "stdout",
     "output_type": "stream",
     "text": [
      "32\n",
      "40.5\n"
     ]
    }
   ],
   "source": [
    "print(42 - int(\"10\"))\n",
    "print(42 - float(\"1.5\"))"
   ]
  },
  {
   "cell_type": "markdown",
   "metadata": {},
   "source": [
    "Similarly, you can't use the `+` operator to concatenate a number with a string."
   ]
  },
  {
   "cell_type": "code",
   "execution_count": 6,
   "metadata": {},
   "outputs": [
    {
     "ename": "TypeError",
     "evalue": "can only concatenate str (not \"int\") to str",
     "output_type": "error",
     "traceback": [
      "\u001b[0;31m------------------------------------\u001b[0m",
      "\u001b[0;31mTypeError\u001b[0mTraceback (most recent call last)",
      "\u001b[0;32m<ipython-input-6-13307ea67e91>\u001b[0m in \u001b[0;36m<module>\u001b[0;34m\u001b[0m\n\u001b[0;32m----> 1\u001b[0;31m \u001b[0mprint\u001b[0m\u001b[0;34m(\u001b[0m\u001b[0;34m\"Number of magic beans: \"\u001b[0m \u001b[0;34m+\u001b[0m \u001b[0;36m42\u001b[0m\u001b[0;34m)\u001b[0m\u001b[0;34m\u001b[0m\u001b[0m\n\u001b[0m",
      "\u001b[0;31mTypeError\u001b[0m: can only concatenate str (not \"int\") to str"
     ]
    }
   ],
   "source": [
    "print(\"Number of magic beans: \" + 42)"
   ]
  },
  {
   "cell_type": "markdown",
   "metadata": {},
   "source": [
    "This error is telling you that you're trying to perform an operation, concatenation, on integer data that doesn't support that operation. Again, you can fix that error by converting the number to a string with the built-in [`str()`](https://docs.python.org/3.5/library/functions.html#func-str) function:"
   ]
  },
  {
   "cell_type": "code",
   "execution_count": 7,
   "metadata": {},
   "outputs": [
    {
     "data": {
      "text/plain": [
       "'Number of magic beans: 42'"
      ]
     },
     "execution_count": 7,
     "metadata": {},
     "output_type": "execute_result"
    }
   ],
   "source": [
    "\"Number of magic beans: \" + str(42)"
   ]
  },
  {
   "cell_type": "markdown",
   "metadata": {},
   "source": [
    "That does it for the basic data types that you'll learn about now. Next up, you'll look at different ways to collect multiple pieces of data into one convenient structure."
   ]
  }
 ],
 "metadata": {
  "kernelspec": {
   "display_name": "Python 3 (ipykernel)",
   "language": "python",
   "name": "python3"
  },
  "language_info": {
   "codemirror_mode": {
    "name": "ipython",
    "version": 3
   },
   "file_extension": ".py",
   "mimetype": "text/x-python",
   "name": "python",
   "nbconvert_exporter": "python",
   "pygments_lexer": "ipython3",
   "version": "3.9.12"
  }
 },
 "nbformat": 4,
 "nbformat_minor": 2
}
