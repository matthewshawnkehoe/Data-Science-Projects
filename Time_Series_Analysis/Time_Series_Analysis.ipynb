{
  "nbformat": 4,
  "nbformat_minor": 0,
  "metadata": {
    "colab": {
      "provenance": []
    },
    "kernelspec": {
      "name": "python3",
      "display_name": "Python 3"
    },
    "language_info": {
      "name": "python"
    }
  },
  "cells": [
    {
      "cell_type": "markdown",
      "source": [
        "# Basics of modeling time\n",
        "\n",
        "Deja vu translates to \"already seen.\" It's that feeling of having been there before, and done it before. Some key elements for dealing with time are shown below.\n",
        "\n",
        "**Key Terms**\n",
        "\n",
        "- **Aware object:**\n",
        "    A type of Python object that has sufficient knowledge of applicable algorithmic and political time adjustments, such as time zone and daylight saving time information, to locate itself relative to other aware objects\n",
        "- **Naive object:**\n",
        "    A type of Python object that doesn't contain enough information to unambiguously locate itself relative to other date/time objects\n",
        "- **Trend:**\n",
        "    A way to quantify the direction and speed of a variable's change in value over time\n",
        "- **Seasonality:**\n",
        "    A pattern that repeats over a month, week, hour, or any other consistent period of time shorter than a year\n",
        "- **Event:**\n",
        "    A moment in time where the data's behavior changes, with a phase shift, shock, change in direction, or something else\n",
        "- **Amplitude:**\n",
        "    A measure of how much a variable changes in a period, often measured on a graph as the distance between the center line and the top or bottom of its curve\n",
        "- **Period:**\n",
        "    The interval in which a pattern repeats, often measured on a graph as the distance between two peaks"
      ],
      "metadata": {
        "id": "mFvrMAY_RZGP"
      }
    },
    {
      "cell_type": "code",
      "source": [],
      "metadata": {
        "id": "Y3cAfA25R3lb"
      },
      "execution_count": null,
      "outputs": []
    }
  ]
}