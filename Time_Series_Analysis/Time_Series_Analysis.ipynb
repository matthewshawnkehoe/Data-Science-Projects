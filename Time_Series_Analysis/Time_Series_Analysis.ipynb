{
  "cells": [
    {
      "cell_type": "markdown",
      "metadata": {
        "id": "mFvrMAY_RZGP"
      },
      "source": [
        "# Basics of modeling time\n",
        "\n",
        "Deja vu translates to \"already seen.\" It's that feeling of having been there before, and done it before. Some key elements for dealing with time are shown below.\n",
        "\n",
        "**Key Terms**\n",
        "\n",
        "- **Aware object:**\n",
        "    A type of Python object that has sufficient knowledge of applicable algorithmic and political time adjustments, such as time zone and daylight saving time information, to locate itself relative to other aware objects\n",
        "- **Naive object:**\n",
        "    A type of Python object that doesn't contain enough information to unambiguously locate itself relative to other date/time objects\n",
        "- **Trend:**\n",
        "    A way to quantify the direction and speed of a variable's change in value over time\n",
        "- **Seasonality:**\n",
        "    A pattern that repeats over a month, week, hour, or any other consistent period of time shorter than a year\n",
        "- **Event:**\n",
        "    A moment in time where the data's behavior changes, with a phase shift, shock, change in direction, or something else\n",
        "- **Amplitude:**\n",
        "    A measure of how much a variable changes in a period, often measured on a graph as the distance between the center line and the top or bottom of its curve\n",
        "- **Period:**\n",
        "    The interval in which a pattern repeats, often measured on a graph as the distance between two peaks"
      ]
    },
    {
      "cell_type": "markdown",
      "metadata": {
        "id": "sXggnag1FRSS"
      },
      "source": [
        "---\n",
        "# Stochastic processes\n",
        "\n",
        "Sometimes when you think about time, you aren't thinking about seasonality. In fact, you may not even have data about the time of year. The data could just be a sequence of variables that are understood to have happened over time. This is typically called a process. When those variables are random, based on some known or unknown distribution, then it is said to be a stochastic process.\n",
        "\n",
        "**Key Terms**\n",
        "\n",
        "- **Stochastic process:**\n",
        "    A sequence of random variables that are understood to have happened over time\n",
        "- **Bernoulli distribution:**\n",
        "    A probability distribution that represents two possible outcomes of an event\n",
        "- **Bernoulli process:**\n",
        "    A set of independent and identically distributed random variables, each one following a Bernoulli distribution\n",
        "- **iid:**\n",
        "    An abbreviation that means \"independent and identically distributed\"; a set of iid variables is one where the outcome of one observation does not affect any other outcome, and each random variable is drawn from the same distribution\n",
        "- **Random walk:**\n",
        "    A sequence of values representing the cumulative sums of iid random variables\n",
        "\n",
        "### Bernoulli process\n",
        "\n",
        "Next, you'll crystallize the definition of a stochastic process by considering its simplest example: the Bernoulli process. A Bernoulli process is a set of independent and identically distributed random variables, each one following a Bernoulli distribution. Now, break that definition down piece by piece.\n",
        "\n",
        "First, there is *independent*. By now, the idea of independence should be familiar to you; it means that the outcome of one observation does not affect any other outcome. *Identically distributed* means that each random variable is drawn from the same distribution. These two traits are very important to stochastic processes; often, you'll see \"independent and identically distributed\" abbreviated as iid.\n",
        "\n",
        "A Bernoulli distribution is one of the simplest distributions in statistics. In a Bernoulli distribution, the outcome has only two possible values, `1` and `0`, occurring with a probability of `p` and `1-p` respectively. The most common example of a Bernoulli distribution is a coin flip. A coin flip with a fair coin is said to be Bernoulli(`0.5`), with `0.5` as the value of `p`.\n",
        "\n",
        "Now, revisit the definition of a Bernoulli process, which is simply a series of outcomes from a Bernoulli distribution. Again, the most common example of a Bernoulli process is a series of coin flips, which would look something like `{0,1,1,0,1,0,0,0,0,1,1,0,1,0,0,1}`.\n",
        "\n",
        "If given a Bernoulli process, you can take its average value as an estimate of `p`, and then use a random generator to simulate the process further. So with the coin-flip values given above, `p=7/16`. Then you could simply randomly generate more `0` and `1` values, giving a probability of `p` to `1` and appending the values to your set as you continue.\n",
        "\n",
        "### Random walks\n",
        "\n",
        "Now, if Bernoulli processes are the simplest stochastic processes, then random walks are the next logical complication. A random walk is defined as the sum of iid random variables.\n",
        "\n",
        "To build an intuitive understanding of what a random walk is, think about someone walking along a path. The person starts at brick `0`, the bricks in front of them are numbered `1`, `2`, `3`, and so on, and the bricks behind them are numbered `-1`, `-2`, `-3`, and so on. With each step that the person takes, there is some constant, random probability that they will step forward (`+1`) or backward (`-1`). A random walk would be the path of the bricks that the person walks. `{0,1,2,1,2,3,4,5,4,3,4,5,6}` is a random walk. So is `{0,1,0,-1,-2,-1,0,1,0,1}`.\n",
        "\n",
        "If the random distribution of a step is Bernoulli with `1` and `-1` as the outcomes, then it is called a *simple random walk*. And if the `p` of that Bernoulli is `0.5` and the step values are `1` or `-1`, then it is a *symmetric simple random walk*, because the probability of going in either direction is symmetrical.\n",
        "\n",
        "Random walks are thought of as occurring in *discrete time*, meaning that there are specified steps where the process moves, rather than a smooth and continuous progression.\n",
        "\n",
        "Another extension of the random walk is the Wiener process, also called *Brownian motion*. In this process, the step, or the direction to its next position, is normally distributed. Note that the standard normal distribution has an expected value of zero. In stochastic processes, having an expected value of zero is an important characteristic because it means that the future value of the process is actually expected to be wherever the process is currently. These processes are called *stationary*. If it is expected to deviate from its current position, that is called *drift*.\n",
        "\n",
        "### Application\n",
        "\n",
        "Where will you see these in the wild? You'll see them all the time. When you're tracking a single object or entity over time, the observed values can be thought of as a stochastic process. The object or entity moves randomly in some direction over time, and that randomness is stochasticity. For example, purchases by a customer over their lifetime is a stochastic process. So is the price of a stock.\n",
        "\n",
        "When you define these time series in terms of their stochastic characteristics, it allows you to model and often predict what they are going to do next.\n",
        "\n",
        "Next, you'll learn how to model a specific kind of stochastic process modeling using a model called ARIMA.\n",
        "\n",
        "If you're interested in a wider range of topics in this field, [Introduction to Stochastic Processes](https://assets.ctfassets.net/c7lxnbtvvcxm/48njyxcEHJyUiFHgScX4RM/85066d525b46264f27a2a830f29e47d6/DS_-_introduction_to_stochastic_processes.pdf) by Gordan Žitković is a good continuation of these notes."
      ]
    },
    {
      "cell_type": "markdown",
      "metadata": {
        "id": "19hzMy4MG9NC"
      },
      "source": [
        "---\n",
        "# ARIMA modeling\n",
        "\n",
        "There is one more key branch of time series modeling that you need to know about, and that branch has to do with random movement rather than seasonality. Here, you'll learn about time series that are observed at regular intervals.\n",
        "\n",
        "**Key Terms**\n",
        "\n",
        "- **Stationary process:**\n",
        "    A process whose statistical properties (mean, variance, etc.) don't change over time\n",
        "- **Differencing:**\n",
        "    The practice of subtracting each term from the term that follows it in order to make data stationary\n",
        "- **Drift:**\n",
        "    A constant value that indicates how much the original process is moving on average per time period\n",
        "- **Autoregressive model:**\n",
        "    Also known as AR model, a linear model where observations from previous time steps are used to predict the value of the next time step\n",
        "- **Moving-average model:**\n",
        "    MA model, a linear model where the noise terms from previous time steps are used to predict the value of the next time step\n",
        "- **Autoregressive moving-average model:**\n",
        "    Also called ARMA model, a linear model where the observations and noise terms from previous time steps are used to predict the value of the next time step"
      ]
    },
    {
      "cell_type": "markdown",
      "metadata": {},
      "source": [
        "---\n",
        "# Time series analysis: example\n",
        "\n",
        "Time series modeling is particularly popular in finance; it's used to model the price movements of almost every asset and commodity. A good example is a model of the currency exchange rate such as the value of the S&P 500 stock market index.\n",
        "\n",
        "**Key Terms**\n",
        "\n",
        "- **p-value:**\n",
        "    The probability of observing a sample statistic at least as extreme as the one that you have, assuming that the null hypothesis is true\n",
        "- **Log-likelihood:**\n",
        "    A log of the likelihood that the given model would generate the data that you see\n",
        "- **Error term:**\n",
        "    Also known as the residual, the information in the target variable that isn't explained by the features\n",
        "- **Akaike information criterion:**\n",
        "    A measure of the degree of information contained in a model"
      ]
    },
    {
      "cell_type": "code",
      "execution_count": null,
      "metadata": {
        "id": "Y3cAfA25R3lb"
      },
      "outputs": [],
      "source": []
    }
  ],
  "metadata": {
    "colab": {
      "provenance": []
    },
    "kernelspec": {
      "display_name": "Python 3",
      "name": "python3"
    },
    "language_info": {
      "name": "python"
    }
  },
  "nbformat": 4,
  "nbformat_minor": 0
}
