{
 "cells": [
  {
   "cell_type": "markdown",
   "metadata": {
    "colab_type": "text",
    "id": "VQVwxMmepP4s"
   },
   "source": [
    "## Presenting research in business  \n",
    "\n",
    "\n",
    "In research presentations, your audience can range from data geeks like you, who want to know every last tool that you used, to managers who are only interested in the business impact of your research.\n",
    "\n",
    "Fortunately, by being thorough and detailed, you can weave a story that satisfies both audiences.\n",
    "Use the following outline to present your research:\n",
    "\n",
    "\n",
    "1.\t**Introduction:** Here, you want to talk about the subject matter domain, an overall take on what makes the topic interesting, and your research questions. \n",
    "\n",
    "2.\t**Hypotheses:** Given your general research questions, which are based on some interesting observation or outside trend, the next step is to formally state which hypotheses you want to test.\n",
    "\n",
    "3.\t**Data:** Now that you have walked through the relevance of the topic, posed your research questions, and framed testable hypotheses based on those questions, it's time to introduce the dataset. Tell your audience about the data—when and where was it collected? Perhaps include descriptive statistics or measures of distribution.\n",
    "\n",
    "4.\t**Methods:** Explain the steps needed to test the hypotheses. This includes any data wrangling, tests, and visualizations that you will need to definitively reject or fail to reject your null hypotheses.\n",
    "\n",
    "5.\t**Results:** Now, you can walk through the results of the methods. State the results of your tests and explain whether these results mean that you reject or fail to reject the null. Also include compelling tables or graphs to illustrate your findings.\n",
    "\n",
    "6.\t**Discussion and recommendations:** What insights can interested parties get from this research? What would you recommend for further research? \n",
    "\n",
    "Below is a brief example taken from a retail sales setting. "
   ]
  },
  {
   "cell_type": "markdown",
   "metadata": {
    "colab_type": "text",
    "id": "54Q3iO2kziI4"
   },
   "source": [
    "## 1. Introduction\n",
    "\n",
    "The store that we are working with operates globally, with its original and largest presence in the US. \n",
    "\n",
    "Sales still lag in most parts of the world compared to the US. I would like to focus on comparing the difference in average sale per order in the US versus the other English-speaking markets—Canada, the UK, and Australia—to quantify any potential marketing lift.\n",
    "\n",
    "I am focused on English-speaking countries because I feel that culturally, these would be the easiest to translate across markets. "
   ]
  },
  {
   "cell_type": "markdown",
   "metadata": {
    "colab_type": "text",
    "id": "TmqiY9nT0Q23"
   },
   "source": [
    "## 2. Hypothesis\n",
    "\n",
    "**H₀:** There is no significant difference between the average sales per order in the US versus that of Canada, the UK, and Australia.\n",
    "\n",
    "**Hₐ:**  There is a significant difference between the average sales per order in the US versus that of Canada, the UK, and Australia."
   ]
  },
  {
   "cell_type": "markdown",
   "metadata": {
    "colab_type": "text",
    "id": "idOcJVzDMKGW"
   },
   "source": [
    "## 3. Data \n",
    "\n",
    "The data comes from [Kaggle](https://www.kaggle.com/kyanyoga/sample-sales-data/) and contains 2,823 observations and 25 variables. There are no missing values; empty entries for state or territory, for example, are recorded in locations where these entities do not apply.\n",
    "\n",
    "1,004 of these records are from the USA, with 185, 70, and 144 coming from Australia, Canada, and the UK, respectively."
   ]
  },
  {
   "cell_type": "code",
   "execution_count": 1,
   "metadata": {
    "colab": {
     "base_uri": "https://localhost:8080/",
     "height": 903
    },
    "colab_type": "code",
    "id": "q9h9ztvpnklE",
    "outputId": "5765e111-aa90-4e19-ff5b-9baac7981434"
   },
   "outputs": [
    {
     "name": "stdout",
     "output_type": "stream",
     "text": [
      "(2823, 25)\n",
      "<class 'pandas.core.frame.DataFrame'>\n",
      "RangeIndex: 2823 entries, 0 to 2822\n",
      "Data columns (total 25 columns):\n",
      "ordernumber         2823 non-null int64\n",
      "quantityordered     2823 non-null int64\n",
      "priceeach           2823 non-null float64\n",
      "orderlinenumber     2823 non-null int64\n",
      "sales               2823 non-null float64\n",
      "orderdate           2823 non-null object\n",
      "status              2823 non-null object\n",
      "qtr_id              2823 non-null int64\n",
      "month_id            2823 non-null int64\n",
      "year_id             2823 non-null int64\n",
      "productline         2823 non-null object\n",
      "msrp                2823 non-null int64\n",
      "productcode         2823 non-null object\n",
      "customername        2823 non-null object\n",
      "phone               2823 non-null object\n",
      "addressline1        2823 non-null object\n",
      "addressline2        302 non-null object\n",
      "city                2823 non-null object\n",
      "state               1337 non-null object\n",
      "postalcode          2747 non-null object\n",
      "country             2823 non-null object\n",
      "territory           1749 non-null object\n",
      "contactlastname     2823 non-null object\n",
      "contactfirstname    2823 non-null object\n",
      "dealsize            2823 non-null object\n",
      "dtypes: float64(2), int64(7), object(16)\n",
      "memory usage: 551.4+ KB\n"
     ]
    },
    {
     "data": {
      "text/html": [
       "<div>\n",
       "<style scoped>\n",
       "    .dataframe tbody tr th:only-of-type {\n",
       "        vertical-align: middle;\n",
       "    }\n",
       "\n",
       "    .dataframe tbody tr th {\n",
       "        vertical-align: top;\n",
       "    }\n",
       "\n",
       "    .dataframe thead th {\n",
       "        text-align: right;\n",
       "    }\n",
       "</style>\n",
       "<table border=\"1\" class=\"dataframe\">\n",
       "  <thead>\n",
       "    <tr style=\"text-align: right;\">\n",
       "      <th></th>\n",
       "      <th>ordernumber</th>\n",
       "      <th>quantityordered</th>\n",
       "      <th>priceeach</th>\n",
       "      <th>orderlinenumber</th>\n",
       "      <th>sales</th>\n",
       "      <th>orderdate</th>\n",
       "      <th>status</th>\n",
       "      <th>qtr_id</th>\n",
       "      <th>month_id</th>\n",
       "      <th>year_id</th>\n",
       "      <th>...</th>\n",
       "      <th>addressline1</th>\n",
       "      <th>addressline2</th>\n",
       "      <th>city</th>\n",
       "      <th>state</th>\n",
       "      <th>postalcode</th>\n",
       "      <th>country</th>\n",
       "      <th>territory</th>\n",
       "      <th>contactlastname</th>\n",
       "      <th>contactfirstname</th>\n",
       "      <th>dealsize</th>\n",
       "    </tr>\n",
       "  </thead>\n",
       "  <tbody>\n",
       "    <tr>\n",
       "      <th>0</th>\n",
       "      <td>10107</td>\n",
       "      <td>30</td>\n",
       "      <td>95.70</td>\n",
       "      <td>2</td>\n",
       "      <td>2871.00</td>\n",
       "      <td>2/24/2003 0:00</td>\n",
       "      <td>Shipped</td>\n",
       "      <td>1</td>\n",
       "      <td>2</td>\n",
       "      <td>2003</td>\n",
       "      <td>...</td>\n",
       "      <td>897 Long Airport Avenue</td>\n",
       "      <td>NaN</td>\n",
       "      <td>NYC</td>\n",
       "      <td>NY</td>\n",
       "      <td>10022</td>\n",
       "      <td>USA</td>\n",
       "      <td>NaN</td>\n",
       "      <td>Yu</td>\n",
       "      <td>Kwai</td>\n",
       "      <td>Small</td>\n",
       "    </tr>\n",
       "    <tr>\n",
       "      <th>1</th>\n",
       "      <td>10121</td>\n",
       "      <td>34</td>\n",
       "      <td>81.35</td>\n",
       "      <td>5</td>\n",
       "      <td>2765.90</td>\n",
       "      <td>5/7/2003 0:00</td>\n",
       "      <td>Shipped</td>\n",
       "      <td>2</td>\n",
       "      <td>5</td>\n",
       "      <td>2003</td>\n",
       "      <td>...</td>\n",
       "      <td>59 rue de l'Abbaye</td>\n",
       "      <td>NaN</td>\n",
       "      <td>Reims</td>\n",
       "      <td>NaN</td>\n",
       "      <td>51100</td>\n",
       "      <td>France</td>\n",
       "      <td>EMEA</td>\n",
       "      <td>Henriot</td>\n",
       "      <td>Paul</td>\n",
       "      <td>Small</td>\n",
       "    </tr>\n",
       "    <tr>\n",
       "      <th>2</th>\n",
       "      <td>10134</td>\n",
       "      <td>41</td>\n",
       "      <td>94.74</td>\n",
       "      <td>2</td>\n",
       "      <td>3884.34</td>\n",
       "      <td>7/1/2003 0:00</td>\n",
       "      <td>Shipped</td>\n",
       "      <td>3</td>\n",
       "      <td>7</td>\n",
       "      <td>2003</td>\n",
       "      <td>...</td>\n",
       "      <td>27 rue du Colonel Pierre Avia</td>\n",
       "      <td>NaN</td>\n",
       "      <td>Paris</td>\n",
       "      <td>NaN</td>\n",
       "      <td>75508</td>\n",
       "      <td>France</td>\n",
       "      <td>EMEA</td>\n",
       "      <td>Da Cunha</td>\n",
       "      <td>Daniel</td>\n",
       "      <td>Medium</td>\n",
       "    </tr>\n",
       "    <tr>\n",
       "      <th>3</th>\n",
       "      <td>10145</td>\n",
       "      <td>45</td>\n",
       "      <td>83.26</td>\n",
       "      <td>6</td>\n",
       "      <td>3746.70</td>\n",
       "      <td>8/25/2003 0:00</td>\n",
       "      <td>Shipped</td>\n",
       "      <td>3</td>\n",
       "      <td>8</td>\n",
       "      <td>2003</td>\n",
       "      <td>...</td>\n",
       "      <td>78934 Hillside Dr.</td>\n",
       "      <td>NaN</td>\n",
       "      <td>Pasadena</td>\n",
       "      <td>CA</td>\n",
       "      <td>90003</td>\n",
       "      <td>USA</td>\n",
       "      <td>NaN</td>\n",
       "      <td>Young</td>\n",
       "      <td>Julie</td>\n",
       "      <td>Medium</td>\n",
       "    </tr>\n",
       "    <tr>\n",
       "      <th>4</th>\n",
       "      <td>10159</td>\n",
       "      <td>49</td>\n",
       "      <td>100.00</td>\n",
       "      <td>14</td>\n",
       "      <td>5205.27</td>\n",
       "      <td>10/10/2003 0:00</td>\n",
       "      <td>Shipped</td>\n",
       "      <td>4</td>\n",
       "      <td>10</td>\n",
       "      <td>2003</td>\n",
       "      <td>...</td>\n",
       "      <td>7734 Strong St.</td>\n",
       "      <td>NaN</td>\n",
       "      <td>San Francisco</td>\n",
       "      <td>CA</td>\n",
       "      <td>NaN</td>\n",
       "      <td>USA</td>\n",
       "      <td>NaN</td>\n",
       "      <td>Brown</td>\n",
       "      <td>Julie</td>\n",
       "      <td>Medium</td>\n",
       "    </tr>\n",
       "  </tbody>\n",
       "</table>\n",
       "<p>5 rows × 25 columns</p>\n",
       "</div>"
      ],
      "text/plain": [
       "   ordernumber  quantityordered  priceeach  orderlinenumber    sales  \\\n",
       "0        10107               30      95.70                2  2871.00   \n",
       "1        10121               34      81.35                5  2765.90   \n",
       "2        10134               41      94.74                2  3884.34   \n",
       "3        10145               45      83.26                6  3746.70   \n",
       "4        10159               49     100.00               14  5205.27   \n",
       "\n",
       "         orderdate   status  qtr_id  month_id  year_id  ...  \\\n",
       "0   2/24/2003 0:00  Shipped       1         2     2003  ...   \n",
       "1    5/7/2003 0:00  Shipped       2         5     2003  ...   \n",
       "2    7/1/2003 0:00  Shipped       3         7     2003  ...   \n",
       "3   8/25/2003 0:00  Shipped       3         8     2003  ...   \n",
       "4  10/10/2003 0:00  Shipped       4        10     2003  ...   \n",
       "\n",
       "                    addressline1  addressline2           city state  \\\n",
       "0        897 Long Airport Avenue           NaN            NYC    NY   \n",
       "1             59 rue de l'Abbaye           NaN          Reims   NaN   \n",
       "2  27 rue du Colonel Pierre Avia           NaN          Paris   NaN   \n",
       "3             78934 Hillside Dr.           NaN       Pasadena    CA   \n",
       "4                7734 Strong St.           NaN  San Francisco    CA   \n",
       "\n",
       "  postalcode country territory contactlastname contactfirstname dealsize  \n",
       "0      10022     USA       NaN              Yu             Kwai    Small  \n",
       "1      51100  France      EMEA         Henriot             Paul    Small  \n",
       "2      75508  France      EMEA        Da Cunha           Daniel   Medium  \n",
       "3      90003     USA       NaN           Young            Julie   Medium  \n",
       "4        NaN     USA       NaN           Brown            Julie   Medium  \n",
       "\n",
       "[5 rows x 25 columns]"
      ]
     },
     "execution_count": 1,
     "metadata": {},
     "output_type": "execute_result"
    }
   ],
   "source": [
    "# Set up environment\n",
    "\n",
    "import math\n",
    "import pandas as pd\n",
    "import numpy as np\n",
    "from scipy import stats\n",
    "import matplotlib.pyplot as plt\n",
    "\n",
    "\n",
    "\n",
    "sales = pd.read_csv(\"https://tf-assets-prod.s3.amazonaws.com/tf-curric/data-science/sales_data_sample12.4.19.csv\", encoding= 'ISO-8859-1')\n",
    "\n",
    "# Convert column headers to lower case for ease of coding\n",
    "\n",
    "sales.columns = sales.columns.str.lower()\n",
    "\n",
    "print(sales.shape)\n",
    "\n",
    "\n",
    "sales.info()\n",
    "sales.head()"
   ]
  },
  {
   "cell_type": "code",
   "execution_count": 2,
   "metadata": {},
   "outputs": [
    {
     "name": "stdout",
     "output_type": "stream",
     "text": [
      "            ordernumber\n",
      "                  count\n",
      "country                \n",
      "Australia           185\n",
      "Austria              55\n",
      "Belgium              33\n",
      "Canada               70\n",
      "Denmark              63\n",
      "Finland              92\n",
      "France              314\n",
      "Germany              62\n",
      "Ireland              16\n",
      "Italy               113\n",
      "Japan                52\n",
      "Norway               85\n",
      "Philippines          26\n",
      "Singapore            79\n",
      "Spain               342\n",
      "Sweden               57\n",
      "Switzerland          31\n",
      "UK                  144\n",
      "USA                1004\n"
     ]
    }
   ],
   "source": [
    "# Count records by country\n",
    "\n",
    "print(sales[['ordernumber']].groupby(sales['country']).agg(['count']))"
   ]
  },
  {
   "cell_type": "markdown",
   "metadata": {
    "colab_type": "text",
    "id": "Z6PfRDEgPzqX"
   },
   "source": [
    "## 4. Methods\n",
    "\n",
    "For this analysis, I will create two DataFrames, one containing all records for US sales and another for all sales from Australia, Canada, and the UK. I feel that the best approach is to combine these three into one group rather than to compare the four separately; this will allow for a more interpretable and more stable result with a larger sample size and only two groups.  \n",
    "\n",
    "If the distributions of sales appear to be close to normally distributed based on their histogram, skewness, and kurtosis, I will conduct an independent samples t-test between the groups at the two-tail, 95% confidence interval. "
   ]
  },
  {
   "cell_type": "code",
   "execution_count": 0,
   "metadata": {
    "colab": {
     "base_uri": "https://localhost:8080/",
     "height": 1000
    },
    "colab_type": "code",
    "id": "kvUnkk-Hr1FN",
    "outputId": "13f88e5e-dfc6-4cae-b646-ca789db4d892"
   },
   "outputs": [
    {
     "name": "stdout",
     "output_type": "stream",
     "text": [
      "<class 'pandas.core.frame.DataFrame'>\n",
      "Int64Index: 1004 entries, 0 to 2822\n",
      "Data columns (total 25 columns):\n",
      "ordernumber         1004 non-null int64\n",
      "quantityordered     1004 non-null int64\n",
      "priceeach           1004 non-null float64\n",
      "orderlinenumber     1004 non-null int64\n",
      "sales               1004 non-null float64\n",
      "orderdate           1004 non-null object\n",
      "status              1004 non-null object\n",
      "qtr_id              1004 non-null int64\n",
      "month_id            1004 non-null int64\n",
      "year_id             1004 non-null int64\n",
      "productline         1004 non-null object\n",
      "msrp                1004 non-null int64\n",
      "productcode         1004 non-null object\n",
      "customername        1004 non-null object\n",
      "phone               1004 non-null object\n",
      "addressline1        1004 non-null object\n",
      "addressline2        103 non-null object\n",
      "city                1004 non-null object\n",
      "state               1004 non-null object\n",
      "postalcode          928 non-null object\n",
      "country             1004 non-null object\n",
      "territory           0 non-null object\n",
      "contactlastname     1004 non-null object\n",
      "contactfirstname    1004 non-null object\n",
      "dealsize            1004 non-null object\n",
      "dtypes: float64(2), int64(7), object(16)\n",
      "memory usage: 203.9+ KB\n",
      "None\n",
      "<class 'pandas.core.frame.DataFrame'>\n",
      "Int64Index: 399 entries, 10 to 2814\n",
      "Data columns (total 25 columns):\n",
      "ordernumber         399 non-null int64\n",
      "quantityordered     399 non-null int64\n",
      "priceeach           399 non-null float64\n",
      "orderlinenumber     399 non-null int64\n",
      "sales               399 non-null float64\n",
      "orderdate           399 non-null object\n",
      "status              399 non-null object\n",
      "qtr_id              399 non-null int64\n",
      "month_id            399 non-null int64\n",
      "year_id             399 non-null int64\n",
      "productline         399 non-null object\n",
      "msrp                399 non-null int64\n",
      "productcode         399 non-null object\n",
      "customername        399 non-null object\n",
      "phone               399 non-null object\n",
      "addressline1        399 non-null object\n",
      "addressline2        147 non-null object\n",
      "city                399 non-null object\n",
      "state               281 non-null object\n",
      "postalcode          399 non-null object\n",
      "country             399 non-null object\n",
      "territory           329 non-null object\n",
      "contactlastname     399 non-null object\n",
      "contactfirstname    399 non-null object\n",
      "dealsize            399 non-null object\n",
      "dtypes: float64(2), int64(7), object(16)\n",
      "memory usage: 81.0+ KB\n",
      "None\n"
     ]
    }
   ],
   "source": [
    "# Split up your dataset\n",
    "usa_sales = sales[(sales['country'] == 'USA')]\n",
    "uk_can_aus_sales = sales[sales['country'].isin(['UK', 'Canada','Australia'])]\n",
    "\n",
    "print(usa_sales.info())\n",
    "print(uk_can_aus_sales.info())"
   ]
  },
  {
   "cell_type": "code",
   "execution_count": 0,
   "metadata": {
    "colab": {
     "base_uri": "https://localhost:8080/",
     "height": 322
    },
    "colab_type": "code",
    "id": "zH2I6tcys3r2",
    "outputId": "b7409fb8-4b36-4e2f-957a-649344d6ad56"
   },
   "outputs": [
    {
     "data": {
      "image/png": "[encoded data removed]",
      "text/plain": [
       "<Figure size 432x288 with 1 Axes>"
      ]
     },
     "metadata": {
      "tags": []
     },
     "output_type": "display_data"
    },
    {
     "name": "stdout",
     "output_type": "stream",
     "text": [
      "DescribeResult(nobs=1004, minmax=(541.14, 14082.8), mean=3613.5287151394423, variance=3537913.263575915, skewness=1.1902242714600775, kurtosis=2.0904573952796275)\n",
      "DescribeResult(nobs=399, minmax=(652.35, 11886.6), mean=3342.3110776942353, variance=2760478.1861071275, skewness=1.2861309164437988, kurtosis=2.5836102920283714)\n"
     ]
    }
   ],
   "source": [
    "# Plot the histogram\n",
    "\n",
    "plt.hist(usa_sales['sales'], alpha = .5)\n",
    "plt.hist(uk_can_aus_sales['sales'], alpha = .5)\n",
    "plt.show()\n",
    "\n",
    "print(stats.describe(usa_sales['sales']))\n",
    "print(stats.describe(uk_can_aus_sales['sales']))"
   ]
  },
  {
   "cell_type": "code",
   "execution_count": 0,
   "metadata": {
    "colab": {
     "base_uri": "https://localhost:8080/",
     "height": 33
    },
    "colab_type": "code",
    "id": "W1paqmemtTPi",
    "outputId": "812d4c56-a295-45f8-9f9b-42434cf16f2b"
   },
   "outputs": [
    {
     "data": {
      "text/plain": [
       "Ttest_indResult(statistic=2.516320225403417, pvalue=0.011969721868344921)"
      ]
     },
     "execution_count": 12,
     "metadata": {
      "tags": []
     },
     "output_type": "execute_result"
    }
   ],
   "source": [
    "# Conduct the t-test\n",
    "\n",
    "stats.ttest_ind(usa_sales['sales'], uk_can_aus_sales['sales'])"
   ]
  },
  {
   "cell_type": "code",
   "execution_count": 0,
   "metadata": {
    "colab": {
     "base_uri": "https://localhost:8080/",
     "height": 50
    },
    "colab_type": "code",
    "id": "14i4uzGBykxn",
    "outputId": "59badc72-a16f-4b47-8ed6-8a8afe248692"
   },
   "outputs": [
    {
     "name": "stdout",
     "output_type": "stream",
     "text": [
      "The difference in means at the 95% confidence interval (two-tail) is between -471.5053726917114 and -70.92990219870254.\n",
      "3342.3110776942353\n"
     ]
    }
   ],
   "source": [
    "# Confidence interval\n",
    "\n",
    "\n",
    "def get_95_ci(array_1, array_2):\n",
    "    sample_1_n = array_1.shape[0]\n",
    "    sample_2_n = array_2.shape[0]\n",
    "    sample_1_mean = array_1.mean()\n",
    "    sample_2_mean = array_2.mean()\n",
    "    sample_1_var = array_1.var()\n",
    "    sample_2_var = array_2.var()\n",
    "    mean_difference = sample_2_mean - sample_1_mean\n",
    "    std_err_difference = math.sqrt((sample_1_var/sample_1_n)+(sample_2_var/sample_2_n))\n",
    "    margin_of_error = 1.96 * std_err_difference\n",
    "    ci_lower = mean_difference - margin_of_error\n",
    "    ci_upper = mean_difference + margin_of_error\n",
    "    return(\"The difference in means at the 95% confidence interval (two-tail) is between \"+str(ci_lower)+\" and \"+str(ci_upper)+\".\")\n",
    "\n",
    "print(get_95_ci(usa_sales['sales'], uk_can_aus_sales['sales']))\n",
    "\n",
    "# What is the current average sales in these countries?\n",
    "\n",
    "print(uk_can_aus_sales[\"sales\"].mean())\n"
   ]
  },
  {
   "cell_type": "markdown",
   "metadata": {
    "colab_type": "text",
    "id": "pjIjNth9Q-jD"
   },
   "source": [
    "## 5. Results\n",
    "\n",
    "Based on a visual inspection, sales are close enough to normally distributed that I could proceed with the t-test. Based on a p-value of `0.01`, I reject the null that there is no significant difference in means. \n",
    "\n",
    "The 95% confidence interval suggests that the difference in the average sale between the US and other English-speaking countries is between \\\\$71 and \\\\$471. Currently, the average sale in these countries is $3,342. \n",
    "\n"
   ]
  },
  {
   "cell_type": "markdown",
   "metadata": {
    "colab_type": "text",
    "id": "NBcl4wy7TxGm"
   },
   "source": [
    "## 6. Discussion and recommendation\n",
    "\n",
    "Sales are on average significantly higher in the US than in other English-speaking countries. However, the \"lift\" that would be achieved by exporting strategies could fall in a wide range. As a next step in the process, I will examine whether there are certain products sold in the US that may not be available in these other countries, then examine through A/B testing the results of introducing them to these markets. \n",
    "\n",
    "This makes for a non-risky, inexpensive way to follow up on the findings of this research."
   ]
  }
 ],
 "metadata": {
  "colab": {
   "collapsed_sections": [],
   "name": "Guided_example_of_presenting_research.ipynb",
   "provenance": []
  },
  "kernelspec": {
   "display_name": "Python 3 (ipykernel)",
   "language": "python",
   "name": "python3"
  },
  "language_info": {
   "codemirror_mode": {
    "name": "ipython",
    "version": 3
   },
   "file_extension": ".py",
   "mimetype": "text/x-python",
   "name": "python",
   "nbconvert_exporter": "python",
   "pygments_lexer": "ipython3",
   "version": "3.9.12"
  }
 },
 "nbformat": 4,
 "nbformat_minor": 1
}
