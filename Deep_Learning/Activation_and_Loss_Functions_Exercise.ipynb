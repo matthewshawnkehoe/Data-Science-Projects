{
  "nbformat": 4,
  "nbformat_minor": 0,
  "metadata": {
    "colab": {
      "provenance": [],
      "gpuType": "T4"
    },
    "kernelspec": {
      "name": "python3",
      "display_name": "Python 3"
    },
    "language_info": {
      "name": "python"
    },
    "accelerator": "GPU"
  },
  "cells": [
    {
      "cell_type": "markdown",
      "source": [
        "We start by loading the *MNIST* dataset using the `mnist` class from the `keras.datasets` module. We will later build our model using the `Sequential()` class of the `keras.models` module. To do this, we will add dense layers to our `model` object."
      ],
      "metadata": {
        "id": "r18yJPMlYVJP"
      }
    },
    {
      "cell_type": "code",
      "execution_count": 1,
      "metadata": {
        "id": "xCrBhvQxYPro"
      },
      "outputs": [],
      "source": [
        "import warnings\n",
        "warnings.filterwarnings(\"ignore\")\n",
        "\n",
        "from tensorflow.keras.datasets import mnist\n",
        "from tensorflow.keras.utils import to_categorical\n",
        "from tensorflow.keras.models import Sequential\n",
        "from tensorflow.keras.layers import Dense\n",
        "from tensorflow.keras.layers import LeakyReLU"
      ]
    },
    {
      "cell_type": "markdown",
      "source": [
        "We will now work on a famous optical character recognition dataset called *MNIST*. This dataset consists of 70,000 grayscale images of handwritten digits. In the following, we'll load the dataset and do some data preprocessing. As we'll see, each image is represented as 28x28 pixel data. This is a two-dimensional vector. We'll convert this to a vector of length 784, which will be single-dimensional. We'll also normalize each vector by dividing each element by 255 (which is the maximum value of the RGB color scale)."
      ],
      "metadata": {
        "id": "7jMJT5m0Yfpe"
      }
    },
    {
      "cell_type": "code",
      "source": [
        "(X_train, y_train), (X_test, y_test) = mnist.load_data()\n",
        "\n",
        "input_dim = 784  # 28*28\n",
        "output_dim = nb_classes = 10\n",
        "batch_size = 128\n",
        "nb_epoch = 20\n",
        "\n",
        "X_train = X_train.reshape(60000, input_dim)\n",
        "X_test = X_test.reshape(10000, input_dim)\n",
        "X_train = X_train.astype('float32')\n",
        "X_test = X_test.astype('float32')\n",
        "X_train /= 255\n",
        "X_test /= 255"
      ],
      "metadata": {
        "id": "BVCDnfnyYf9_"
      },
      "execution_count": 2,
      "outputs": []
    },
    {
      "cell_type": "markdown",
      "source": [
        "Next, we'll *one-hot code* our *target variable* using the `to_categorical()` function from the `keras.utils` module:"
      ],
      "metadata": {
        "id": "xfuwbUjxYlkH"
      }
    },
    {
      "cell_type": "code",
      "source": [
        "Y_train = to_categorical(y_train, nb_classes)\n",
        "Y_test = to_categorical(y_test, nb_classes)"
      ],
      "metadata": {
        "id": "hNlyeUl1Ylyi"
      },
      "execution_count": 3,
      "outputs": []
    },
    {
      "cell_type": "markdown",
      "source": [
        "### Q1. In this task, you'll implement several ANN models with different activation functions. For each, use the cross-entropy loss function as the loss function. Specifically, do the following:"
      ],
      "metadata": {
        "id": "1hSNHyZNY0IG"
      }
    },
    {
      "cell_type": "code",
      "source": [
        "def compile_and_fit_model(activation_func, loss_func):\n",
        "  model = Sequential()\n",
        "  # The first dense layer\n",
        "  model.add(Dense(128, input_shape=(784,), activation=activation_func))\n",
        "  # The second dense layer\n",
        "  model.add(Dense(64, activation=activation_func))\n",
        "  # The last layer is the output layer\n",
        "  model.add(Dense(10, activation=\"softmax\"))\n",
        "\n",
        "  # Compile\n",
        "  model.compile(optimizer='sgd', loss=loss_func,\n",
        "              metrics=['accuracy'])\n",
        "\n",
        "  # Train for 20 epochs\n",
        "  # Setting `verbose=1` prints out some results after each epoch\n",
        "  model.fit(X_train, Y_train, batch_size=batch_size, epochs=20, verbose=1)\n",
        "\n",
        "  return model"
      ],
      "metadata": {
        "id": "_ujKe7IxbAE0"
      },
      "execution_count": 4,
      "outputs": []
    },
    {
      "cell_type": "markdown",
      "source": [
        "### a. Implement a three-layer ANN model with 128, 64, and 10 neurons in the layers. Use the tanh activation function for each layer."
      ],
      "metadata": {
        "id": "e9GsYIKqa8d6"
      }
    },
    {
      "cell_type": "code",
      "source": [
        "model = compile_and_fit_model('tanh','categorical_crossentropy')"
      ],
      "metadata": {
        "colab": {
          "base_uri": "https://localhost:8080/"
        },
        "id": "_144684oYnm0",
        "outputId": "54dd68bd-6419-4520-f067-7e4d04901ace"
      },
      "execution_count": 5,
      "outputs": [
        {
          "output_type": "stream",
          "name": "stdout",
          "text": [
            "Epoch 1/20\n",
            "469/469 [==============================] - 3s 3ms/step - loss: 1.0412 - accuracy: 0.7364\n",
            "Epoch 2/20\n",
            "469/469 [==============================] - 1s 3ms/step - loss: 0.5218 - accuracy: 0.8688\n",
            "Epoch 3/20\n",
            "469/469 [==============================] - 1s 3ms/step - loss: 0.4209 - accuracy: 0.8877\n",
            "Epoch 4/20\n",
            "469/469 [==============================] - 2s 4ms/step - loss: 0.3729 - accuracy: 0.8978\n",
            "Epoch 5/20\n",
            "469/469 [==============================] - 1s 3ms/step - loss: 0.3429 - accuracy: 0.9049\n",
            "Epoch 6/20\n",
            "469/469 [==============================] - 2s 4ms/step - loss: 0.3216 - accuracy: 0.9095\n",
            "Epoch 7/20\n",
            "469/469 [==============================] - 2s 4ms/step - loss: 0.3053 - accuracy: 0.9129\n",
            "Epoch 8/20\n",
            "469/469 [==============================] - 1s 3ms/step - loss: 0.2919 - accuracy: 0.9167\n",
            "Epoch 9/20\n",
            "469/469 [==============================] - 2s 3ms/step - loss: 0.2805 - accuracy: 0.9199\n",
            "Epoch 10/20\n",
            "469/469 [==============================] - 1s 3ms/step - loss: 0.2706 - accuracy: 0.9228\n",
            "Epoch 11/20\n",
            "469/469 [==============================] - 1s 3ms/step - loss: 0.2618 - accuracy: 0.9252\n",
            "Epoch 12/20\n",
            "469/469 [==============================] - 2s 3ms/step - loss: 0.2538 - accuracy: 0.9275\n",
            "Epoch 13/20\n",
            "469/469 [==============================] - 2s 3ms/step - loss: 0.2465 - accuracy: 0.9293\n",
            "Epoch 14/20\n",
            "469/469 [==============================] - 2s 4ms/step - loss: 0.2396 - accuracy: 0.9317\n",
            "Epoch 15/20\n",
            "469/469 [==============================] - 2s 4ms/step - loss: 0.2333 - accuracy: 0.9335\n",
            "Epoch 16/20\n",
            "469/469 [==============================] - 1s 3ms/step - loss: 0.2272 - accuracy: 0.9348\n",
            "Epoch 17/20\n",
            "469/469 [==============================] - 1s 3ms/step - loss: 0.2216 - accuracy: 0.9371\n",
            "Epoch 18/20\n",
            "469/469 [==============================] - 2s 3ms/step - loss: 0.2161 - accuracy: 0.9383\n",
            "Epoch 19/20\n",
            "469/469 [==============================] - 1s 3ms/step - loss: 0.2110 - accuracy: 0.9395\n",
            "Epoch 20/20\n",
            "469/469 [==============================] - 2s 3ms/step - loss: 0.2062 - accuracy: 0.9412\n"
          ]
        }
      ]
    },
    {
      "cell_type": "markdown",
      "source": [
        "Next, let's look at the score and accuracy."
      ],
      "metadata": {
        "id": "zKwSzVhPZmBY"
      }
    },
    {
      "cell_type": "code",
      "source": [
        "score = model.evaluate(X_test, Y_test, verbose=0)\n",
        "print('Test score:', score[0])\n",
        "print('Test accuracy:', score[1])"
      ],
      "metadata": {
        "colab": {
          "base_uri": "https://localhost:8080/"
        },
        "id": "p01XvAMQZp7F",
        "outputId": "1413efc6-10bd-40fc-8b87-c65221ebb4dd"
      },
      "execution_count": 6,
      "outputs": [
        {
          "output_type": "stream",
          "name": "stdout",
          "text": [
            "Test score: 0.20436684787273407\n",
            "Test accuracy: 0.9394999742507935\n"
          ]
        }
      ]
    },
    {
      "cell_type": "markdown",
      "source": [
        "### b. Implement a three-layer ANN model with 128, 64, and 10 neurons in the layers. Use the sigmoid activation function for each layer."
      ],
      "metadata": {
        "id": "2AB2o6PIZyl4"
      }
    },
    {
      "cell_type": "code",
      "source": [
        "model = compile_and_fit_model('sigmoid','categorical_crossentropy')"
      ],
      "metadata": {
        "colab": {
          "base_uri": "https://localhost:8080/"
        },
        "id": "icpKxDeiZ0LS",
        "outputId": "30b359bd-c4ec-4472-b522-b16dc5a2c2bf"
      },
      "execution_count": 7,
      "outputs": [
        {
          "output_type": "stream",
          "name": "stdout",
          "text": [
            "Epoch 1/20\n",
            "469/469 [==============================] - 2s 3ms/step - loss: 2.2877 - accuracy: 0.1682\n",
            "Epoch 2/20\n",
            "469/469 [==============================] - 2s 3ms/step - loss: 2.2229 - accuracy: 0.3479\n",
            "Epoch 3/20\n",
            "469/469 [==============================] - 2s 4ms/step - loss: 2.1507 - accuracy: 0.4935\n",
            "Epoch 4/20\n",
            "469/469 [==============================] - 2s 4ms/step - loss: 2.0471 - accuracy: 0.5635\n",
            "Epoch 5/20\n",
            "469/469 [==============================] - 1s 3ms/step - loss: 1.9002 - accuracy: 0.5986\n",
            "Epoch 6/20\n",
            "469/469 [==============================] - 2s 3ms/step - loss: 1.7146 - accuracy: 0.6372\n",
            "Epoch 7/20\n",
            "469/469 [==============================] - 2s 3ms/step - loss: 1.5174 - accuracy: 0.6693\n",
            "Epoch 8/20\n",
            "469/469 [==============================] - 1s 3ms/step - loss: 1.3394 - accuracy: 0.6976\n",
            "Epoch 9/20\n",
            "469/469 [==============================] - 1s 3ms/step - loss: 1.1937 - accuracy: 0.7207\n",
            "Epoch 10/20\n",
            "469/469 [==============================] - 1s 3ms/step - loss: 1.0785 - accuracy: 0.7428\n",
            "Epoch 11/20\n",
            "469/469 [==============================] - 2s 4ms/step - loss: 0.9867 - accuracy: 0.7585\n",
            "Epoch 12/20\n",
            "469/469 [==============================] - 2s 4ms/step - loss: 0.9116 - accuracy: 0.7754\n",
            "Epoch 13/20\n",
            "469/469 [==============================] - 1s 3ms/step - loss: 0.8483 - accuracy: 0.7886\n",
            "Epoch 14/20\n",
            "469/469 [==============================] - 1s 3ms/step - loss: 0.7939 - accuracy: 0.7997\n",
            "Epoch 15/20\n",
            "469/469 [==============================] - 1s 3ms/step - loss: 0.7467 - accuracy: 0.8110\n",
            "Epoch 16/20\n",
            "469/469 [==============================] - 2s 3ms/step - loss: 0.7053 - accuracy: 0.8206\n",
            "Epoch 17/20\n",
            "469/469 [==============================] - 2s 3ms/step - loss: 0.6690 - accuracy: 0.8281\n",
            "Epoch 18/20\n",
            "469/469 [==============================] - 1s 3ms/step - loss: 0.6370 - accuracy: 0.8345\n",
            "Epoch 19/20\n",
            "469/469 [==============================] - 2s 4ms/step - loss: 0.6088 - accuracy: 0.8416\n",
            "Epoch 20/20\n",
            "469/469 [==============================] - 2s 4ms/step - loss: 0.5838 - accuracy: 0.8471\n"
          ]
        }
      ]
    },
    {
      "cell_type": "markdown",
      "source": [
        "Next, let's review the score and accuracy."
      ],
      "metadata": {
        "id": "TMO3LjjbaX8M"
      }
    },
    {
      "cell_type": "code",
      "source": [
        "score = model.evaluate(X_test, Y_test, verbose=0)\n",
        "print('Test score:', score[0])\n",
        "print('Test accuracy:', score[1])"
      ],
      "metadata": {
        "colab": {
          "base_uri": "https://localhost:8080/"
        },
        "id": "eFLVidrGaZ3S",
        "outputId": "d556aa56-4e4e-4ed3-eec0-34848841fead"
      },
      "execution_count": 8,
      "outputs": [
        {
          "output_type": "stream",
          "name": "stdout",
          "text": [
            "Test score: 0.5581122636795044\n",
            "Test accuracy: 0.8557999730110168\n"
          ]
        }
      ]
    },
    {
      "cell_type": "markdown",
      "source": [
        "### c. Implement a three-layer ANN model with 128, 64, and 10 neurons in the layers. Use the ReLU activation function for each layer."
      ],
      "metadata": {
        "id": "nIn1ya3zadgB"
      }
    },
    {
      "cell_type": "code",
      "source": [
        "model = compile_and_fit_model('relu','categorical_crossentropy')"
      ],
      "metadata": {
        "colab": {
          "base_uri": "https://localhost:8080/"
        },
        "id": "DDjzj2ilahZN",
        "outputId": "bed8e9da-6995-443a-da48-6cec6348a417"
      },
      "execution_count": 9,
      "outputs": [
        {
          "output_type": "stream",
          "name": "stdout",
          "text": [
            "Epoch 1/20\n",
            "469/469 [==============================] - 3s 4ms/step - loss: 1.3038 - accuracy: 0.6777\n",
            "Epoch 2/20\n",
            "469/469 [==============================] - 2s 4ms/step - loss: 0.5011 - accuracy: 0.8712\n",
            "Epoch 3/20\n",
            "469/469 [==============================] - 2s 3ms/step - loss: 0.3826 - accuracy: 0.8955\n",
            "Epoch 4/20\n",
            "469/469 [==============================] - 2s 3ms/step - loss: 0.3366 - accuracy: 0.9058\n",
            "Epoch 5/20\n",
            "469/469 [==============================] - 2s 3ms/step - loss: 0.3087 - accuracy: 0.9132\n",
            "Epoch 6/20\n",
            "469/469 [==============================] - 1s 3ms/step - loss: 0.2886 - accuracy: 0.9179\n",
            "Epoch 7/20\n",
            "469/469 [==============================] - 1s 3ms/step - loss: 0.2727 - accuracy: 0.9222\n",
            "Epoch 8/20\n",
            "469/469 [==============================] - 2s 3ms/step - loss: 0.2591 - accuracy: 0.9262\n",
            "Epoch 9/20\n",
            "469/469 [==============================] - 2s 4ms/step - loss: 0.2472 - accuracy: 0.9297\n",
            "Epoch 10/20\n",
            "469/469 [==============================] - 2s 4ms/step - loss: 0.2366 - accuracy: 0.9323\n",
            "Epoch 11/20\n",
            "469/469 [==============================] - 1s 3ms/step - loss: 0.2269 - accuracy: 0.9361\n",
            "Epoch 12/20\n",
            "469/469 [==============================] - 1s 3ms/step - loss: 0.2178 - accuracy: 0.9383\n",
            "Epoch 13/20\n",
            "469/469 [==============================] - 2s 3ms/step - loss: 0.2096 - accuracy: 0.9408\n",
            "Epoch 14/20\n",
            "469/469 [==============================] - 1s 3ms/step - loss: 0.2019 - accuracy: 0.9429\n",
            "Epoch 15/20\n",
            "469/469 [==============================] - 1s 3ms/step - loss: 0.1949 - accuracy: 0.9451\n",
            "Epoch 16/20\n",
            "469/469 [==============================] - 1s 3ms/step - loss: 0.1883 - accuracy: 0.9463\n",
            "Epoch 17/20\n",
            "469/469 [==============================] - 2s 4ms/step - loss: 0.1821 - accuracy: 0.9481\n",
            "Epoch 18/20\n",
            "469/469 [==============================] - 2s 4ms/step - loss: 0.1763 - accuracy: 0.9501\n",
            "Epoch 19/20\n",
            "469/469 [==============================] - 1s 3ms/step - loss: 0.1710 - accuracy: 0.9511\n",
            "Epoch 20/20\n",
            "469/469 [==============================] - 2s 3ms/step - loss: 0.1659 - accuracy: 0.9531\n"
          ]
        }
      ]
    },
    {
      "cell_type": "markdown",
      "source": [
        "Again, let's review the score and accuracy."
      ],
      "metadata": {
        "id": "1l7PM_xPam1k"
      }
    },
    {
      "cell_type": "code",
      "source": [
        "score = model.evaluate(X_test, Y_test, verbose=0)\n",
        "print('Test score:', score[0])\n",
        "print('Test accuracy:', score[1])"
      ],
      "metadata": {
        "colab": {
          "base_uri": "https://localhost:8080/"
        },
        "id": "xGBn9RMcaoEV",
        "outputId": "d7894b78-a38e-40c3-b919-cc9498f73635"
      },
      "execution_count": 10,
      "outputs": [
        {
          "output_type": "stream",
          "name": "stdout",
          "text": [
            "Test score: 0.16747501492500305\n",
            "Test accuracy: 0.9498000144958496\n"
          ]
        }
      ]
    },
    {
      "cell_type": "markdown",
      "source": [
        "### d. Implement a three-layer ANN model with 128, 64, and 10 neurons in the layers. Use the Leaky ReLU activation function for each layer."
      ],
      "metadata": {
        "id": "AzfuI6cOazYt"
      }
    },
    {
      "cell_type": "code",
      "source": [
        "model = compile_and_fit_model(LeakyReLU(),'categorical_crossentropy')"
      ],
      "metadata": {
        "colab": {
          "base_uri": "https://localhost:8080/"
        },
        "id": "9yI_vWs8a4d-",
        "outputId": "ec1a597d-3065-4819-8526-0f5258a496f6"
      },
      "execution_count": 11,
      "outputs": [
        {
          "output_type": "stream",
          "name": "stdout",
          "text": [
            "Epoch 1/20\n",
            "469/469 [==============================] - 2s 3ms/step - loss: 1.1262 - accuracy: 0.7040\n",
            "Epoch 2/20\n",
            "469/469 [==============================] - 2s 3ms/step - loss: 0.4766 - accuracy: 0.8714\n",
            "Epoch 3/20\n",
            "469/469 [==============================] - 2s 3ms/step - loss: 0.3831 - accuracy: 0.8928\n",
            "Epoch 4/20\n",
            "469/469 [==============================] - 2s 4ms/step - loss: 0.3448 - accuracy: 0.9015\n",
            "Epoch 5/20\n",
            "469/469 [==============================] - 2s 4ms/step - loss: 0.3220 - accuracy: 0.9071\n",
            "Epoch 6/20\n",
            "469/469 [==============================] - 1s 3ms/step - loss: 0.3058 - accuracy: 0.9117\n",
            "Epoch 7/20\n",
            "469/469 [==============================] - 1s 3ms/step - loss: 0.2932 - accuracy: 0.9158\n",
            "Epoch 8/20\n",
            "469/469 [==============================] - 1s 3ms/step - loss: 0.2826 - accuracy: 0.9198\n",
            "Epoch 9/20\n",
            "469/469 [==============================] - 1s 3ms/step - loss: 0.2736 - accuracy: 0.9218\n",
            "Epoch 10/20\n",
            "469/469 [==============================] - 1s 3ms/step - loss: 0.2655 - accuracy: 0.9243\n",
            "Epoch 11/20\n",
            "469/469 [==============================] - 2s 3ms/step - loss: 0.2580 - accuracy: 0.9265\n",
            "Epoch 12/20\n",
            "469/469 [==============================] - 2s 4ms/step - loss: 0.2513 - accuracy: 0.9286\n",
            "Epoch 13/20\n",
            "469/469 [==============================] - 2s 4ms/step - loss: 0.2448 - accuracy: 0.9312\n",
            "Epoch 14/20\n",
            "469/469 [==============================] - 2s 3ms/step - loss: 0.2385 - accuracy: 0.9324\n",
            "Epoch 15/20\n",
            "469/469 [==============================] - 2s 3ms/step - loss: 0.2325 - accuracy: 0.9337\n",
            "Epoch 16/20\n",
            "469/469 [==============================] - 1s 3ms/step - loss: 0.2269 - accuracy: 0.9355\n",
            "Epoch 17/20\n",
            "469/469 [==============================] - 2s 3ms/step - loss: 0.2217 - accuracy: 0.9370\n",
            "Epoch 18/20\n",
            "469/469 [==============================] - 1s 3ms/step - loss: 0.2162 - accuracy: 0.9385\n",
            "Epoch 19/20\n",
            "469/469 [==============================] - 1s 3ms/step - loss: 0.2114 - accuracy: 0.9399\n",
            "Epoch 20/20\n",
            "469/469 [==============================] - 2s 4ms/step - loss: 0.2067 - accuracy: 0.9413\n"
          ]
        }
      ]
    },
    {
      "cell_type": "markdown",
      "source": [
        "Once again, let's review the score and accuracy."
      ],
      "metadata": {
        "id": "TFcK7-PXcJwr"
      }
    },
    {
      "cell_type": "code",
      "source": [
        "score = model.evaluate(X_test, Y_test, verbose=0)\n",
        "print('Test score:', score[0])\n",
        "print('Test accuracy:', score[1])"
      ],
      "metadata": {
        "colab": {
          "base_uri": "https://localhost:8080/"
        },
        "id": "Z6a217QAcLGJ",
        "outputId": "3f00446d-4239-426b-e145-e67bd751a715"
      },
      "execution_count": 12,
      "outputs": [
        {
          "output_type": "stream",
          "name": "stdout",
          "text": [
            "Test score: 0.20780551433563232\n",
            "Test accuracy: 0.9395999908447266\n"
          ]
        }
      ]
    },
    {
      "cell_type": "markdown",
      "source": [
        "### e. Compare the results of each model. Which activation function performed best?"
      ],
      "metadata": {
        "id": "6ykJZZdycNWq"
      }
    },
    {
      "cell_type": "markdown",
      "source": [
        "The best performer in the training and test sets was the ReLU activation function. In this setting, the Leaky ReLU function did not improve performance."
      ],
      "metadata": {
        "id": "L37P73Zwc3dx"
      }
    },
    {
      "cell_type": "markdown",
      "source": [
        "### Q2. In this task, you'll implement the ANN models specified below. For each, use the hinge loss function as the loss function. Specifically, do the following:"
      ],
      "metadata": {
        "id": "jUvqkAYRdBSu"
      }
    },
    {
      "cell_type": "markdown",
      "source": [
        "### a. Implement a three-layer ANN model with 128, 64, and 10 neurons in the layers. Use the tanh activation function for each layer."
      ],
      "metadata": {
        "id": "hjBH9KzddJWg"
      }
    },
    {
      "cell_type": "code",
      "source": [
        "model = compile_and_fit_model('tanh','categorical_hinge')"
      ],
      "metadata": {
        "colab": {
          "base_uri": "https://localhost:8080/"
        },
        "id": "Noz_NLMLcP_x",
        "outputId": "b8d9e520-bfb6-4367-b53e-e1ddd14001e0"
      },
      "execution_count": 21,
      "outputs": [
        {
          "output_type": "stream",
          "name": "stdout",
          "text": [
            "Epoch 1/20\n",
            "469/469 [==============================] - 2s 3ms/step - loss: 0.9607 - accuracy: 0.4469\n",
            "Epoch 2/20\n",
            "469/469 [==============================] - 2s 3ms/step - loss: 0.7209 - accuracy: 0.7225\n",
            "Epoch 3/20\n",
            "469/469 [==============================] - 2s 3ms/step - loss: 0.5487 - accuracy: 0.8144\n",
            "Epoch 4/20\n",
            "469/469 [==============================] - 2s 3ms/step - loss: 0.4404 - accuracy: 0.8552\n",
            "Epoch 5/20\n",
            "469/469 [==============================] - 2s 5ms/step - loss: 0.3726 - accuracy: 0.8719\n",
            "Epoch 6/20\n",
            "469/469 [==============================] - 2s 4ms/step - loss: 0.3303 - accuracy: 0.8812\n",
            "Epoch 7/20\n",
            "469/469 [==============================] - 2s 3ms/step - loss: 0.3018 - accuracy: 0.8876\n",
            "Epoch 8/20\n",
            "469/469 [==============================] - 2s 3ms/step - loss: 0.2813 - accuracy: 0.8926\n",
            "Epoch 9/20\n",
            "469/469 [==============================] - 2s 3ms/step - loss: 0.2655 - accuracy: 0.8970\n",
            "Epoch 10/20\n",
            "469/469 [==============================] - 2s 3ms/step - loss: 0.2530 - accuracy: 0.9007\n",
            "Epoch 11/20\n",
            "469/469 [==============================] - 2s 3ms/step - loss: 0.2427 - accuracy: 0.9031\n",
            "Epoch 12/20\n",
            "469/469 [==============================] - 2s 4ms/step - loss: 0.2339 - accuracy: 0.9056\n",
            "Epoch 13/20\n",
            "469/469 [==============================] - 2s 5ms/step - loss: 0.2264 - accuracy: 0.9079\n",
            "Epoch 14/20\n",
            "469/469 [==============================] - 2s 4ms/step - loss: 0.2199 - accuracy: 0.9097\n",
            "Epoch 15/20\n",
            "469/469 [==============================] - 2s 4ms/step - loss: 0.2139 - accuracy: 0.9114\n",
            "Epoch 16/20\n",
            "469/469 [==============================] - 2s 4ms/step - loss: 0.2088 - accuracy: 0.9134\n",
            "Epoch 17/20\n",
            "469/469 [==============================] - 2s 3ms/step - loss: 0.2040 - accuracy: 0.9150\n",
            "Epoch 18/20\n",
            "469/469 [==============================] - 2s 4ms/step - loss: 0.1996 - accuracy: 0.9165\n",
            "Epoch 19/20\n",
            "469/469 [==============================] - 2s 3ms/step - loss: 0.1955 - accuracy: 0.9176\n",
            "Epoch 20/20\n",
            "469/469 [==============================] - 2s 4ms/step - loss: 0.1918 - accuracy: 0.9189\n"
          ]
        }
      ]
    },
    {
      "cell_type": "markdown",
      "source": [
        "Again, let's look at the score and accuracy."
      ],
      "metadata": {
        "id": "VGwi9RmXdTLv"
      }
    },
    {
      "cell_type": "code",
      "source": [
        "score = model.evaluate(X_test, Y_test, verbose=0)\n",
        "print('Test score:', score[0])\n",
        "print('Test accuracy:', score[1])"
      ],
      "metadata": {
        "colab": {
          "base_uri": "https://localhost:8080/"
        },
        "id": "x42swcjmdUbj",
        "outputId": "05fe7f6c-c779-4fed-d109-7ccad1deaf4b"
      },
      "execution_count": 22,
      "outputs": [
        {
          "output_type": "stream",
          "name": "stdout",
          "text": [
            "Test score: 0.18517930805683136\n",
            "Test accuracy: 0.9214000105857849\n"
          ]
        }
      ]
    },
    {
      "cell_type": "markdown",
      "source": [
        "### b. Implement a three-layer ANN model with 128, 64, and 10 neurons in the layers. Use the sigmoid activation function for each layer."
      ],
      "metadata": {
        "id": "8CXadyojd4CK"
      }
    },
    {
      "cell_type": "code",
      "source": [
        "model = compile_and_fit_model('sigmoid','categorical_hinge')"
      ],
      "metadata": {
        "colab": {
          "base_uri": "https://localhost:8080/"
        },
        "id": "7KG_MtSid6Py",
        "outputId": "60cb724f-cf42-40ea-e196-67df2891e425"
      },
      "execution_count": 23,
      "outputs": [
        {
          "output_type": "stream",
          "name": "stdout",
          "text": [
            "Epoch 1/20\n",
            "469/469 [==============================] - 2s 3ms/step - loss: 1.0132 - accuracy: 0.0901\n",
            "Epoch 2/20\n",
            "469/469 [==============================] - 2s 3ms/step - loss: 1.0033 - accuracy: 0.1320\n",
            "Epoch 3/20\n",
            "469/469 [==============================] - 2s 3ms/step - loss: 1.0026 - accuracy: 0.1826\n",
            "Epoch 4/20\n",
            "469/469 [==============================] - 2s 4ms/step - loss: 1.0020 - accuracy: 0.2405\n",
            "Epoch 5/20\n",
            "469/469 [==============================] - 2s 5ms/step - loss: 1.0015 - accuracy: 0.2951\n",
            "Epoch 6/20\n",
            "469/469 [==============================] - 2s 4ms/step - loss: 1.0011 - accuracy: 0.3440\n",
            "Epoch 7/20\n",
            "469/469 [==============================] - 2s 3ms/step - loss: 1.0007 - accuracy: 0.3867\n",
            "Epoch 8/20\n",
            "469/469 [==============================] - 2s 3ms/step - loss: 1.0003 - accuracy: 0.4258\n",
            "Epoch 9/20\n",
            "469/469 [==============================] - 2s 3ms/step - loss: 1.0000 - accuracy: 0.4636\n",
            "Epoch 10/20\n",
            "469/469 [==============================] - 2s 3ms/step - loss: 0.9996 - accuracy: 0.5002\n",
            "Epoch 11/20\n",
            "469/469 [==============================] - 2s 3ms/step - loss: 0.9993 - accuracy: 0.5308\n",
            "Epoch 12/20\n",
            "469/469 [==============================] - 2s 5ms/step - loss: 0.9990 - accuracy: 0.5603\n",
            "Epoch 13/20\n",
            "469/469 [==============================] - 2s 4ms/step - loss: 0.9987 - accuracy: 0.5857\n",
            "Epoch 14/20\n",
            "469/469 [==============================] - 2s 3ms/step - loss: 0.9984 - accuracy: 0.6085\n",
            "Epoch 15/20\n",
            "469/469 [==============================] - 2s 3ms/step - loss: 0.9982 - accuracy: 0.6278\n",
            "Epoch 16/20\n",
            "469/469 [==============================] - 2s 3ms/step - loss: 0.9979 - accuracy: 0.6453\n",
            "Epoch 17/20\n",
            "469/469 [==============================] - 2s 3ms/step - loss: 0.9976 - accuracy: 0.6594\n",
            "Epoch 18/20\n",
            "469/469 [==============================] - 2s 3ms/step - loss: 0.9973 - accuracy: 0.6723\n",
            "Epoch 19/20\n",
            "469/469 [==============================] - 2s 4ms/step - loss: 0.9971 - accuracy: 0.6831\n",
            "Epoch 20/20\n",
            "469/469 [==============================] - 2s 5ms/step - loss: 0.9968 - accuracy: 0.6927\n"
          ]
        }
      ]
    },
    {
      "cell_type": "markdown",
      "source": [
        "As before, let's look at the score and accuracy."
      ],
      "metadata": {
        "id": "vLTcBs8od-0s"
      }
    },
    {
      "cell_type": "code",
      "source": [
        "score = model.evaluate(X_test, Y_test, verbose=0)\n",
        "print('Test score:', score[0])\n",
        "print('Test accuracy:', score[1])"
      ],
      "metadata": {
        "colab": {
          "base_uri": "https://localhost:8080/"
        },
        "id": "GRB82y4veAbG",
        "outputId": "16da2cde-e1ca-4163-aa3e-66019403d699"
      },
      "execution_count": 24,
      "outputs": [
        {
          "output_type": "stream",
          "name": "stdout",
          "text": [
            "Test score: 0.996630847454071\n",
            "Test accuracy: 0.7096999883651733\n"
          ]
        }
      ]
    },
    {
      "cell_type": "markdown",
      "source": [
        "### c. Implement a three-layer ANN model with 128, 64, and 10 neurons in the layers. Use the ReLU activation function for each layer."
      ],
      "metadata": {
        "id": "YjLreXm8eJXL"
      }
    },
    {
      "cell_type": "code",
      "source": [
        "model = compile_and_fit_model('relu','categorical_hinge')"
      ],
      "metadata": {
        "colab": {
          "base_uri": "https://localhost:8080/"
        },
        "id": "LVP6oB5WeOMM",
        "outputId": "2a8f5fa3-53e6-47e5-a845-8e8f1af52f06"
      },
      "execution_count": 25,
      "outputs": [
        {
          "output_type": "stream",
          "name": "stdout",
          "text": [
            "Epoch 1/20\n",
            "469/469 [==============================] - 2s 3ms/step - loss: 1.0080 - accuracy: 0.3537\n",
            "Epoch 2/20\n",
            "469/469 [==============================] - 2s 3ms/step - loss: 0.9608 - accuracy: 0.5607\n",
            "Epoch 3/20\n",
            "469/469 [==============================] - 2s 4ms/step - loss: 0.8514 - accuracy: 0.6504\n",
            "Epoch 4/20\n",
            "469/469 [==============================] - 2s 5ms/step - loss: 0.6636 - accuracy: 0.7444\n",
            "Epoch 5/20\n",
            "469/469 [==============================] - 2s 4ms/step - loss: 0.4899 - accuracy: 0.8302\n",
            "Epoch 6/20\n",
            "469/469 [==============================] - 2s 3ms/step - loss: 0.3778 - accuracy: 0.8696\n",
            "Epoch 7/20\n",
            "469/469 [==============================] - 2s 3ms/step - loss: 0.3152 - accuracy: 0.8837\n",
            "Epoch 8/20\n",
            "469/469 [==============================] - 2s 3ms/step - loss: 0.2792 - accuracy: 0.8912\n",
            "Epoch 9/20\n",
            "469/469 [==============================] - 2s 3ms/step - loss: 0.2559 - accuracy: 0.8975\n",
            "Epoch 10/20\n",
            "469/469 [==============================] - 2s 4ms/step - loss: 0.2393 - accuracy: 0.9018\n",
            "Epoch 11/20\n",
            "469/469 [==============================] - 2s 5ms/step - loss: 0.2268 - accuracy: 0.9055\n",
            "Epoch 12/20\n",
            "469/469 [==============================] - 2s 4ms/step - loss: 0.2166 - accuracy: 0.9085\n",
            "Epoch 13/20\n",
            "469/469 [==============================] - 2s 3ms/step - loss: 0.2086 - accuracy: 0.9112\n",
            "Epoch 14/20\n",
            "469/469 [==============================] - 2s 3ms/step - loss: 0.2017 - accuracy: 0.9132\n",
            "Epoch 15/20\n",
            "469/469 [==============================] - 2s 4ms/step - loss: 0.1954 - accuracy: 0.9154\n",
            "Epoch 16/20\n",
            "469/469 [==============================] - 2s 3ms/step - loss: 0.1901 - accuracy: 0.9174\n",
            "Epoch 17/20\n",
            "469/469 [==============================] - 2s 3ms/step - loss: 0.1854 - accuracy: 0.9193\n",
            "Epoch 18/20\n",
            "469/469 [==============================] - 2s 4ms/step - loss: 0.1810 - accuracy: 0.9211\n",
            "Epoch 19/20\n",
            "469/469 [==============================] - 2s 5ms/step - loss: 0.1770 - accuracy: 0.9222\n",
            "Epoch 20/20\n",
            "469/469 [==============================] - 2s 4ms/step - loss: 0.1734 - accuracy: 0.9240\n"
          ]
        }
      ]
    },
    {
      "cell_type": "markdown",
      "source": [
        "Next, let's look at the score and accuracy."
      ],
      "metadata": {
        "id": "JlVKXCr5edW8"
      }
    },
    {
      "cell_type": "code",
      "source": [
        "score = model.evaluate(X_test, Y_test, verbose=0)\n",
        "print('Test score:', score[0])\n",
        "print('Test accuracy:', score[1])"
      ],
      "metadata": {
        "colab": {
          "base_uri": "https://localhost:8080/"
        },
        "id": "rNz00qZXeeLW",
        "outputId": "3dbb23c1-e5de-40b8-8f25-e9b970b3df68"
      },
      "execution_count": 26,
      "outputs": [
        {
          "output_type": "stream",
          "name": "stdout",
          "text": [
            "Test score: 0.16660864651203156\n",
            "Test accuracy: 0.9269000291824341\n"
          ]
        }
      ]
    },
    {
      "cell_type": "markdown",
      "source": [
        "### d. Implement a three-layer ANN model with 128, 64, and 10 neurons in the layers. Use the Leaky ReLU activation function for each layer."
      ],
      "metadata": {
        "id": "uryf__Gveg2a"
      }
    },
    {
      "cell_type": "code",
      "source": [
        "model = compile_and_fit_model(LeakyReLU(),'categorical_hinge')"
      ],
      "metadata": {
        "colab": {
          "base_uri": "https://localhost:8080/"
        },
        "id": "QJhGMdXEeks3",
        "outputId": "59fdcfff-c9d3-4247-d435-b4bd92f47993"
      },
      "execution_count": 27,
      "outputs": [
        {
          "output_type": "stream",
          "name": "stdout",
          "text": [
            "Epoch 1/20\n",
            "469/469 [==============================] - 2s 3ms/step - loss: 1.0118 - accuracy: 0.3156\n",
            "Epoch 2/20\n",
            "469/469 [==============================] - 2s 4ms/step - loss: 0.9267 - accuracy: 0.5886\n",
            "Epoch 3/20\n",
            "469/469 [==============================] - 2s 3ms/step - loss: 0.7484 - accuracy: 0.7126\n",
            "Epoch 4/20\n",
            "469/469 [==============================] - 2s 4ms/step - loss: 0.5228 - accuracy: 0.8208\n",
            "Epoch 5/20\n",
            "469/469 [==============================] - 2s 5ms/step - loss: 0.3841 - accuracy: 0.8655\n",
            "Epoch 6/20\n",
            "469/469 [==============================] - 2s 3ms/step - loss: 0.3177 - accuracy: 0.8798\n",
            "Epoch 7/20\n",
            "469/469 [==============================] - 2s 3ms/step - loss: 0.2818 - accuracy: 0.8882\n",
            "Epoch 8/20\n",
            "469/469 [==============================] - 2s 3ms/step - loss: 0.2589 - accuracy: 0.8940\n",
            "Epoch 9/20\n",
            "469/469 [==============================] - 2s 3ms/step - loss: 0.2429 - accuracy: 0.8989\n",
            "Epoch 10/20\n",
            "469/469 [==============================] - 2s 3ms/step - loss: 0.2307 - accuracy: 0.9025\n",
            "Epoch 11/20\n",
            "469/469 [==============================] - 2s 3ms/step - loss: 0.2213 - accuracy: 0.9049\n",
            "Epoch 12/20\n",
            "469/469 [==============================] - 2s 4ms/step - loss: 0.2134 - accuracy: 0.9079\n",
            "Epoch 13/20\n",
            "469/469 [==============================] - 2s 5ms/step - loss: 0.2068 - accuracy: 0.9097\n",
            "Epoch 14/20\n",
            "469/469 [==============================] - 2s 3ms/step - loss: 0.2012 - accuracy: 0.9123\n",
            "Epoch 15/20\n",
            "469/469 [==============================] - 2s 3ms/step - loss: 0.1964 - accuracy: 0.9136\n",
            "Epoch 16/20\n",
            "469/469 [==============================] - 2s 3ms/step - loss: 0.1920 - accuracy: 0.9151\n",
            "Epoch 17/20\n",
            "469/469 [==============================] - 2s 3ms/step - loss: 0.1881 - accuracy: 0.9168\n",
            "Epoch 18/20\n",
            "469/469 [==============================] - 2s 3ms/step - loss: 0.1846 - accuracy: 0.9180\n",
            "Epoch 19/20\n",
            "469/469 [==============================] - 2s 3ms/step - loss: 0.1814 - accuracy: 0.9194\n",
            "Epoch 20/20\n",
            "469/469 [==============================] - 2s 5ms/step - loss: 0.1785 - accuracy: 0.9204\n"
          ]
        }
      ]
    },
    {
      "cell_type": "markdown",
      "source": [
        "Again, let's review the score and accuracy."
      ],
      "metadata": {
        "id": "Qvz2Z63Xet8n"
      }
    },
    {
      "cell_type": "code",
      "source": [
        "score = model.evaluate(X_test, Y_test, verbose=0)\n",
        "print('Test score:', score[0])\n",
        "print('Test accuracy:', score[1])"
      ],
      "metadata": {
        "colab": {
          "base_uri": "https://localhost:8080/"
        },
        "id": "Qx-1goBhexzp",
        "outputId": "abe4215a-8502-4d2f-f7ce-fa6b1ac25767"
      },
      "execution_count": 28,
      "outputs": [
        {
          "output_type": "stream",
          "name": "stdout",
          "text": [
            "Test score: 0.17141056060791016\n",
            "Test accuracy: 0.9228000044822693\n"
          ]
        }
      ]
    },
    {
      "cell_type": "markdown",
      "source": [
        "### e. Compare the results of each model with the result of the same model from the previous task. Which loss function performed best?"
      ],
      "metadata": {
        "id": "BmLQ4AuFe1D-"
      }
    },
    {
      "cell_type": "markdown",
      "source": [
        "The highest performance in both the training and the test sets are achieved using the ReLU function. Moreover, the accuracy for all the models are lower when we train our models using hinge loss in comparison to using cross entropy loss."
      ],
      "metadata": {
        "id": "vFA5oCg3fA-A"
      }
    },
    {
      "cell_type": "code",
      "source": [],
      "metadata": {
        "id": "vCnuyrJWe4KR"
      },
      "execution_count": null,
      "outputs": []
    }
  ]
}