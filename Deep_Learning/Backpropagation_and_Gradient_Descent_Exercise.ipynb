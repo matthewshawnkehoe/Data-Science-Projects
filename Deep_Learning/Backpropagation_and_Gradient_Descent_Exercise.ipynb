{
  "nbformat": 4,
  "nbformat_minor": 0,
  "metadata": {
    "colab": {
      "provenance": [],
      "gpuType": "T4"
    },
    "kernelspec": {
      "name": "python3",
      "display_name": "Python 3"
    },
    "language_info": {
      "name": "python"
    },
    "accelerator": "GPU"
  },
  "cells": [
    {
      "cell_type": "markdown",
      "source": [
        "We start by loading the *MNIST* dataset using the `mnist` class from the `keras.datasets` module. We will later build our model using the `Sequential()` class of the `keras.models` module. To do this, we will add dense layers to our `model` object."
      ],
      "metadata": {
        "id": "YS3YDqOg3fP8"
      }
    },
    {
      "cell_type": "code",
      "execution_count": 1,
      "metadata": {
        "id": "AglFgwSC3ZLc"
      },
      "outputs": [],
      "source": [
        "import warnings\n",
        "warnings.filterwarnings(\"ignore\")\n",
        "\n",
        "from tensorflow.keras.datasets import mnist\n",
        "from tensorflow.keras.utils import to_categorical\n",
        "from tensorflow.keras.models import Sequential\n",
        "from tensorflow.keras.layers import Dense\n",
        "from tensorflow.keras.layers import LeakyReLU\n",
        "from tensorflow.keras import optimizers"
      ]
    },
    {
      "cell_type": "markdown",
      "source": [
        "We will now work on a famous optical character recognition dataset called *MNIST*. This dataset consists of 70,000 grayscale images of handwritten digits. In the following, we'll load the dataset and do some data preprocessing. As we'll see, each image is represented as 28x28 pixel data. This is a two-dimensional vector. We'll convert this to a vector of length 784, which will be single-dimensional. We'll also normalize each vector by dividing each element by 255 (which is the maximum value of the RGB color scale)."
      ],
      "metadata": {
        "id": "jV9HIJmo3kRs"
      }
    },
    {
      "cell_type": "code",
      "source": [
        "(X_train, y_train), (X_test, y_test) = mnist.load_data()\n",
        "\n",
        "input_dim = 784  # 28*28\n",
        "output_dim = nb_classes = 10\n",
        "batch_size = 128\n",
        "nb_epoch = 20\n",
        "\n",
        "X_train = X_train.reshape(60000, input_dim)\n",
        "X_test = X_test.reshape(10000, input_dim)\n",
        "X_train = X_train.astype('float32')\n",
        "X_test = X_test.astype('float32')\n",
        "X_train /= 255\n",
        "X_test /= 255"
      ],
      "metadata": {
        "colab": {
          "base_uri": "https://localhost:8080/"
        },
        "id": "FRlwJGGV3koy",
        "outputId": "a225f451-1235-4ae0-cdf5-e6c13484b6e6"
      },
      "execution_count": 2,
      "outputs": [
        {
          "output_type": "stream",
          "name": "stdout",
          "text": [
            "Downloading data from https://storage.googleapis.com/tensorflow/tf-keras-datasets/mnist.npz\n",
            "11490434/11490434 [==============================] - 1s 0us/step\n"
          ]
        }
      ]
    },
    {
      "cell_type": "markdown",
      "source": [
        "Next, we'll *one-hot code* our *target variable* using the `to_categorical()` function from the `keras.utils` module:"
      ],
      "metadata": {
        "id": "bTcudiRl3ob7"
      }
    },
    {
      "cell_type": "code",
      "source": [
        "Y_train = to_categorical(y_train, nb_classes)\n",
        "Y_test = to_categorical(y_test, nb_classes)"
      ],
      "metadata": {
        "id": "_lnketZO3os1"
      },
      "execution_count": 3,
      "outputs": []
    },
    {
      "cell_type": "markdown",
      "source": [
        "### Q1. In this task, you'll implement several ANN models with different batch sizes. Specifically, do the following:"
      ],
      "metadata": {
        "id": "QeO-yufI3rGg"
      }
    },
    {
      "cell_type": "code",
      "source": [
        "def compile_and_fit_model(batch_size, lr):\n",
        "  model = Sequential()\n",
        "  # The first dense layer\n",
        "  model.add(Dense(128, input_shape=(784,), activation=\"relu\"))\n",
        "  # The second dense layer\n",
        "  model.add(Dense(64, activation=\"relu\"))\n",
        "  # The last layer is the output layer\n",
        "  model.add(Dense(10, activation=\"softmax\"))\n",
        "\n",
        "  # Compile\n",
        "  model.compile(optimizer=optimizers.SGD(learning_rate=lr), loss='categorical_crossentropy',\n",
        "              metrics=['accuracy'])\n",
        "\n",
        "  # Train for 20 epochs\n",
        "  # Setting `verbose=1` prints out some results after each epoch\n",
        "  model.fit(X_train, Y_train, batch_size=batch_size, epochs=20, verbose=1)\n",
        "\n",
        "  return model"
      ],
      "metadata": {
        "id": "IHPmoRpL512t"
      },
      "execution_count": 11,
      "outputs": []
    },
    {
      "cell_type": "code",
      "source": [
        "def evaluate_model():\n",
        "  score = model.evaluate(X_test, Y_test, verbose=0)\n",
        "  print('Test score:', score[0])\n",
        "  print('Test accuracy:', score[1])"
      ],
      "metadata": {
        "id": "MAU6Px_76qkB"
      },
      "execution_count": 8,
      "outputs": []
    },
    {
      "cell_type": "markdown",
      "source": [
        "a. Implement a three-layer ANN model with 128, 64, and 10 neurons in the layers. Use 8 as the mini-batch size."
      ],
      "metadata": {
        "id": "ZQ7JWvmP35Y-"
      }
    },
    {
      "cell_type": "code",
      "source": [
        "model = compile_and_fit_model(8, 0.1)"
      ],
      "metadata": {
        "colab": {
          "base_uri": "https://localhost:8080/"
        },
        "id": "Y-47osxc34sQ",
        "outputId": "ff116e16-9e13-4aae-8f08-3058a71252fa"
      },
      "execution_count": 12,
      "outputs": [
        {
          "output_type": "stream",
          "name": "stdout",
          "text": [
            "Epoch 1/20\n",
            "7500/7500 [==============================] - 23s 3ms/step - loss: 0.2288 - accuracy: 0.9308\n",
            "Epoch 2/20\n",
            "7500/7500 [==============================] - 23s 3ms/step - loss: 0.1141 - accuracy: 0.9653\n",
            "Epoch 3/20\n",
            "7500/7500 [==============================] - 22s 3ms/step - loss: 0.0876 - accuracy: 0.9740\n",
            "Epoch 4/20\n",
            "7500/7500 [==============================] - 22s 3ms/step - loss: 0.0721 - accuracy: 0.9778\n",
            "Epoch 5/20\n",
            "7500/7500 [==============================] - 23s 3ms/step - loss: 0.0579 - accuracy: 0.9819\n",
            "Epoch 6/20\n",
            "7500/7500 [==============================] - 23s 3ms/step - loss: 0.0490 - accuracy: 0.9847\n",
            "Epoch 7/20\n",
            "7500/7500 [==============================] - 22s 3ms/step - loss: 0.0467 - accuracy: 0.9852\n",
            "Epoch 8/20\n",
            "7500/7500 [==============================] - 23s 3ms/step - loss: 0.0400 - accuracy: 0.9877\n",
            "Epoch 9/20\n",
            "7500/7500 [==============================] - 22s 3ms/step - loss: 0.0389 - accuracy: 0.9876\n",
            "Epoch 10/20\n",
            "7500/7500 [==============================] - 23s 3ms/step - loss: 0.0357 - accuracy: 0.9888\n",
            "Epoch 11/20\n",
            "7500/7500 [==============================] - 22s 3ms/step - loss: 0.0313 - accuracy: 0.9898\n",
            "Epoch 12/20\n",
            "7500/7500 [==============================] - 23s 3ms/step - loss: 0.0326 - accuracy: 0.9896\n",
            "Epoch 13/20\n",
            "7500/7500 [==============================] - 23s 3ms/step - loss: 0.0344 - accuracy: 0.9901\n",
            "Epoch 14/20\n",
            "7500/7500 [==============================] - 22s 3ms/step - loss: 0.0300 - accuracy: 0.9910\n",
            "Epoch 15/20\n",
            "7500/7500 [==============================] - 23s 3ms/step - loss: 0.0287 - accuracy: 0.9915\n",
            "Epoch 16/20\n",
            "7500/7500 [==============================] - 23s 3ms/step - loss: 0.0304 - accuracy: 0.9915\n",
            "Epoch 17/20\n",
            "7500/7500 [==============================] - 23s 3ms/step - loss: 0.0231 - accuracy: 0.9934\n",
            "Epoch 18/20\n",
            "7500/7500 [==============================] - 22s 3ms/step - loss: 0.0324 - accuracy: 0.9909\n",
            "Epoch 19/20\n",
            "7500/7500 [==============================] - 23s 3ms/step - loss: 0.0275 - accuracy: 0.9925\n",
            "Epoch 20/20\n",
            "7500/7500 [==============================] - 22s 3ms/step - loss: 0.0194 - accuracy: 0.9943\n"
          ]
        }
      ]
    },
    {
      "cell_type": "markdown",
      "source": [
        "Next, let's review the accuracy and score of our model."
      ],
      "metadata": {
        "id": "Hnvn9Byb8mPk"
      }
    },
    {
      "cell_type": "code",
      "source": [
        "evaluate_model()"
      ],
      "metadata": {
        "colab": {
          "base_uri": "https://localhost:8080/"
        },
        "id": "LNA0h-uI8uY4",
        "outputId": "ba615b1f-0544-428e-a4cb-7c78082696b1"
      },
      "execution_count": 13,
      "outputs": [
        {
          "output_type": "stream",
          "name": "stdout",
          "text": [
            "Test score: 0.13997013866901398\n",
            "Test accuracy: 0.9782999753952026\n"
          ]
        }
      ]
    },
    {
      "cell_type": "markdown",
      "source": [
        "### b. Implement a three-layer ANN model with 128, 64, and 10 neurons in the layers. Use 128 as the mini-batch size."
      ],
      "metadata": {
        "id": "jGDXxJkw8xqN"
      }
    },
    {
      "cell_type": "code",
      "source": [
        "model = compile_and_fit_model(128, 0.1)"
      ],
      "metadata": {
        "colab": {
          "base_uri": "https://localhost:8080/"
        },
        "id": "wCrgOm5d84eX",
        "outputId": "47209bec-2a06-4137-83e6-6126deab84e1"
      },
      "execution_count": 14,
      "outputs": [
        {
          "output_type": "stream",
          "name": "stdout",
          "text": [
            "Epoch 1/20\n",
            "469/469 [==============================] - 2s 3ms/step - loss: 0.4476 - accuracy: 0.8719\n",
            "Epoch 2/20\n",
            "469/469 [==============================] - 1s 3ms/step - loss: 0.2095 - accuracy: 0.9391\n",
            "Epoch 3/20\n",
            "469/469 [==============================] - 1s 3ms/step - loss: 0.1572 - accuracy: 0.9545\n",
            "Epoch 4/20\n",
            "469/469 [==============================] - 1s 3ms/step - loss: 0.1262 - accuracy: 0.9634\n",
            "Epoch 5/20\n",
            "469/469 [==============================] - 2s 3ms/step - loss: 0.1059 - accuracy: 0.9694\n",
            "Epoch 6/20\n",
            "469/469 [==============================] - 2s 4ms/step - loss: 0.0909 - accuracy: 0.9736\n",
            "Epoch 7/20\n",
            "469/469 [==============================] - 2s 4ms/step - loss: 0.0789 - accuracy: 0.9768\n",
            "Epoch 8/20\n",
            "469/469 [==============================] - 2s 3ms/step - loss: 0.0693 - accuracy: 0.9796\n",
            "Epoch 9/20\n",
            "469/469 [==============================] - 1s 3ms/step - loss: 0.0616 - accuracy: 0.9821\n",
            "Epoch 10/20\n",
            "469/469 [==============================] - 1s 3ms/step - loss: 0.0551 - accuracy: 0.9843\n",
            "Epoch 11/20\n",
            "469/469 [==============================] - 1s 3ms/step - loss: 0.0497 - accuracy: 0.9855\n",
            "Epoch 12/20\n",
            "469/469 [==============================] - 1s 3ms/step - loss: 0.0451 - accuracy: 0.9871\n",
            "Epoch 13/20\n",
            "469/469 [==============================] - 1s 3ms/step - loss: 0.0399 - accuracy: 0.9888\n",
            "Epoch 14/20\n",
            "469/469 [==============================] - 1s 3ms/step - loss: 0.0364 - accuracy: 0.9900\n",
            "Epoch 15/20\n",
            "469/469 [==============================] - 2s 4ms/step - loss: 0.0333 - accuracy: 0.9906\n",
            "Epoch 16/20\n",
            "469/469 [==============================] - 2s 4ms/step - loss: 0.0295 - accuracy: 0.9927\n",
            "Epoch 17/20\n",
            "469/469 [==============================] - 1s 3ms/step - loss: 0.0268 - accuracy: 0.9930\n",
            "Epoch 18/20\n",
            "469/469 [==============================] - 1s 3ms/step - loss: 0.0246 - accuracy: 0.9936\n",
            "Epoch 19/20\n",
            "469/469 [==============================] - 1s 3ms/step - loss: 0.0221 - accuracy: 0.9947\n",
            "Epoch 20/20\n",
            "469/469 [==============================] - 1s 3ms/step - loss: 0.0201 - accuracy: 0.9953\n"
          ]
        }
      ]
    },
    {
      "cell_type": "markdown",
      "source": [
        "As before, let's review the accuracy and score of our model."
      ],
      "metadata": {
        "id": "O51eZ2rV89X5"
      }
    },
    {
      "cell_type": "code",
      "source": [
        "evaluate_model()"
      ],
      "metadata": {
        "colab": {
          "base_uri": "https://localhost:8080/"
        },
        "id": "GvKiLRQB9AkS",
        "outputId": "7dcecefe-38a7-4128-dd93-8ba0a6c045e1"
      },
      "execution_count": 15,
      "outputs": [
        {
          "output_type": "stream",
          "name": "stdout",
          "text": [
            "Test score: 0.07275497168302536\n",
            "Test accuracy: 0.9771000146865845\n"
          ]
        }
      ]
    },
    {
      "cell_type": "markdown",
      "source": [
        "### c. Implement a three-layer ANN model with 128, 64, and 10 neurons in the layers. Use the full sample as the mini-batch size."
      ],
      "metadata": {
        "id": "tb36mr1l9CLZ"
      }
    },
    {
      "cell_type": "code",
      "source": [
        "X_train.shape"
      ],
      "metadata": {
        "colab": {
          "base_uri": "https://localhost:8080/"
        },
        "id": "7wnMMG5c9N_O",
        "outputId": "789d9960-c442-49c0-875a-b69e592b7bd9"
      },
      "execution_count": 16,
      "outputs": [
        {
          "output_type": "execute_result",
          "data": {
            "text/plain": [
              "(60000, 784)"
            ]
          },
          "metadata": {},
          "execution_count": 16
        }
      ]
    },
    {
      "cell_type": "code",
      "source": [
        "model = compile_and_fit_model(X_train.shape[0], 0.1)"
      ],
      "metadata": {
        "colab": {
          "base_uri": "https://localhost:8080/"
        },
        "id": "3CfgbfM39Hfw",
        "outputId": "a79357b3-1e9f-4406-9017-f06a08d2605f"
      },
      "execution_count": 17,
      "outputs": [
        {
          "output_type": "stream",
          "name": "stdout",
          "text": [
            "Epoch 1/20\n",
            "1/1 [==============================] - 2s 2s/step - loss: 2.3453 - accuracy: 0.0739\n",
            "Epoch 2/20\n",
            "1/1 [==============================] - 0s 143ms/step - loss: 2.2808 - accuracy: 0.1016\n",
            "Epoch 3/20\n",
            "1/1 [==============================] - 0s 202ms/step - loss: 2.2246 - accuracy: 0.1734\n",
            "Epoch 4/20\n",
            "1/1 [==============================] - 0s 170ms/step - loss: 2.1729 - accuracy: 0.2619\n",
            "Epoch 5/20\n",
            "1/1 [==============================] - 0s 142ms/step - loss: 2.1241 - accuracy: 0.3332\n",
            "Epoch 6/20\n",
            "1/1 [==============================] - 0s 135ms/step - loss: 2.0767 - accuracy: 0.3863\n",
            "Epoch 7/20\n",
            "1/1 [==============================] - 0s 138ms/step - loss: 2.0294 - accuracy: 0.4266\n",
            "Epoch 8/20\n",
            "1/1 [==============================] - 0s 296ms/step - loss: 1.9813 - accuracy: 0.4618\n",
            "Epoch 9/20\n",
            "1/1 [==============================] - 0s 160ms/step - loss: 1.9318 - accuracy: 0.4928\n",
            "Epoch 10/20\n",
            "1/1 [==============================] - 0s 174ms/step - loss: 1.8809 - accuracy: 0.5212\n",
            "Epoch 11/20\n",
            "1/1 [==============================] - 0s 137ms/step - loss: 1.8283 - accuracy: 0.5470\n",
            "Epoch 12/20\n",
            "1/1 [==============================] - 0s 125ms/step - loss: 1.7743 - accuracy: 0.5708\n",
            "Epoch 13/20\n",
            "1/1 [==============================] - 0s 140ms/step - loss: 1.7190 - accuracy: 0.5933\n",
            "Epoch 14/20\n",
            "1/1 [==============================] - 0s 123ms/step - loss: 1.6628 - accuracy: 0.6148\n",
            "Epoch 15/20\n",
            "1/1 [==============================] - 0s 131ms/step - loss: 1.6061 - accuracy: 0.6352\n",
            "Epoch 16/20\n",
            "1/1 [==============================] - 0s 171ms/step - loss: 1.5493 - accuracy: 0.6549\n",
            "Epoch 17/20\n",
            "1/1 [==============================] - 0s 141ms/step - loss: 1.4927 - accuracy: 0.6721\n",
            "Epoch 18/20\n",
            "1/1 [==============================] - 0s 127ms/step - loss: 1.4370 - accuracy: 0.6885\n",
            "Epoch 19/20\n",
            "1/1 [==============================] - 0s 77ms/step - loss: 1.3826 - accuracy: 0.7043\n",
            "Epoch 20/20\n",
            "1/1 [==============================] - 0s 74ms/step - loss: 1.3299 - accuracy: 0.7181\n"
          ]
        }
      ]
    },
    {
      "cell_type": "markdown",
      "source": [
        "Once again, let's review the accuracy and score of our model."
      ],
      "metadata": {
        "id": "r41fwXOf9UsO"
      }
    },
    {
      "cell_type": "code",
      "source": [
        "evaluate_model()"
      ],
      "metadata": {
        "colab": {
          "base_uri": "https://localhost:8080/"
        },
        "id": "k0luKOIo9W5z",
        "outputId": "2cbfdeac-b800-4ea9-8d46-41e4b5100403"
      },
      "execution_count": 18,
      "outputs": [
        {
          "output_type": "stream",
          "name": "stdout",
          "text": [
            "Test score: 1.2646130323410034\n",
            "Test accuracy: 0.7336000204086304\n"
          ]
        }
      ]
    },
    {
      "cell_type": "markdown",
      "source": [
        "### d. Compare the results of each model. Which batch size performed best?"
      ],
      "metadata": {
        "id": "gFrHOk3T9Y75"
      }
    },
    {
      "cell_type": "markdown",
      "source": [
        "The best performance in the training and test sets is achieved using 8 as the mini-batch size. However, the difference between the scores of 128 and 8 as the mini-batch size are not significant. Therefore, it would be worthwhile to use 128 as the mini-batch size to reduce computational costs. Passing in the full sample as the mini-batch size gives poor results."
      ],
      "metadata": {
        "id": "9EPYoM5j9cKP"
      }
    },
    {
      "cell_type": "markdown",
      "source": [
        "### Q2. In this task, you'll implement several ANN models with different learning rates for the stochastic gradient descent. In all of the models below, use 128 as your mini-batch size."
      ],
      "metadata": {
        "id": "fcYLtLgW9qtJ"
      }
    },
    {
      "cell_type": "markdown",
      "source": [
        "### a. Implement a three-layer ANN model with 128, 64, and 10 neurons in the layers. Use 0.01 as the learning rate."
      ],
      "metadata": {
        "id": "ewTQ7ysC9vOy"
      }
    },
    {
      "cell_type": "code",
      "source": [
        "model = compile_and_fit_model(128, 0.01)"
      ],
      "metadata": {
        "colab": {
          "base_uri": "https://localhost:8080/"
        },
        "id": "szcBWP279beG",
        "outputId": "78b62ade-3a0b-43ba-e55c-fb5395737aaf"
      },
      "execution_count": 19,
      "outputs": [
        {
          "output_type": "stream",
          "name": "stdout",
          "text": [
            "Epoch 1/20\n",
            "469/469 [==============================] - 3s 4ms/step - loss: 1.3047 - accuracy: 0.6617\n",
            "Epoch 2/20\n",
            "469/469 [==============================] - 2s 4ms/step - loss: 0.5058 - accuracy: 0.8688\n",
            "Epoch 3/20\n",
            "469/469 [==============================] - 1s 3ms/step - loss: 0.3850 - accuracy: 0.8942\n",
            "Epoch 4/20\n",
            "469/469 [==============================] - 1s 3ms/step - loss: 0.3378 - accuracy: 0.9045\n",
            "Epoch 5/20\n",
            "469/469 [==============================] - 1s 3ms/step - loss: 0.3097 - accuracy: 0.9112\n",
            "Epoch 6/20\n",
            "469/469 [==============================] - 1s 3ms/step - loss: 0.2889 - accuracy: 0.9168\n",
            "Epoch 7/20\n",
            "469/469 [==============================] - 1s 3ms/step - loss: 0.2724 - accuracy: 0.9215\n",
            "Epoch 8/20\n",
            "469/469 [==============================] - 2s 3ms/step - loss: 0.2581 - accuracy: 0.9257\n",
            "Epoch 9/20\n",
            "469/469 [==============================] - 2s 5ms/step - loss: 0.2458 - accuracy: 0.9292\n",
            "Epoch 10/20\n",
            "469/469 [==============================] - 2s 4ms/step - loss: 0.2346 - accuracy: 0.9322\n",
            "Epoch 11/20\n",
            "469/469 [==============================] - 1s 3ms/step - loss: 0.2249 - accuracy: 0.9353\n",
            "Epoch 12/20\n",
            "469/469 [==============================] - 1s 3ms/step - loss: 0.2159 - accuracy: 0.9379\n",
            "Epoch 13/20\n",
            "469/469 [==============================] - 1s 3ms/step - loss: 0.2079 - accuracy: 0.9407\n",
            "Epoch 14/20\n",
            "469/469 [==============================] - 1s 3ms/step - loss: 0.2003 - accuracy: 0.9424\n",
            "Epoch 15/20\n",
            "469/469 [==============================] - 1s 3ms/step - loss: 0.1932 - accuracy: 0.9445\n",
            "Epoch 16/20\n",
            "469/469 [==============================] - 1s 3ms/step - loss: 0.1868 - accuracy: 0.9463\n",
            "Epoch 17/20\n",
            "469/469 [==============================] - 2s 4ms/step - loss: 0.1807 - accuracy: 0.9476\n",
            "Epoch 18/20\n",
            "469/469 [==============================] - 2s 4ms/step - loss: 0.1748 - accuracy: 0.9499\n",
            "Epoch 19/20\n",
            "469/469 [==============================] - 1s 3ms/step - loss: 0.1695 - accuracy: 0.9511\n",
            "Epoch 20/20\n",
            "469/469 [==============================] - 1s 3ms/step - loss: 0.1644 - accuracy: 0.9532\n"
          ]
        }
      ]
    },
    {
      "cell_type": "markdown",
      "source": [
        "As before, let's review the accuracy and score of our model."
      ],
      "metadata": {
        "id": "2T45LAL7_A0d"
      }
    },
    {
      "cell_type": "code",
      "source": [
        "evaluate_model()"
      ],
      "metadata": {
        "colab": {
          "base_uri": "https://localhost:8080/"
        },
        "id": "0cQGStpg_Iza",
        "outputId": "a27a37a0-b732-4c2e-fce6-bbbf1f5ea31a"
      },
      "execution_count": 20,
      "outputs": [
        {
          "output_type": "stream",
          "name": "stdout",
          "text": [
            "Test score: 0.164168119430542\n",
            "Test accuracy: 0.9503999948501587\n"
          ]
        }
      ]
    },
    {
      "cell_type": "markdown",
      "source": [
        "### b. Implement a three-layer ANN model with 128, 64, and 10 neurons in the layers. Use 100 as the learning rate."
      ],
      "metadata": {
        "id": "8AwwS_6X_Lb8"
      }
    },
    {
      "cell_type": "code",
      "source": [
        "model = compile_and_fit_model(128, 100)"
      ],
      "metadata": {
        "colab": {
          "base_uri": "https://localhost:8080/"
        },
        "id": "1LdBYkvF_Nx5",
        "outputId": "6681a396-b3ec-4029-e2a6-4002135d3166"
      },
      "execution_count": 21,
      "outputs": [
        {
          "output_type": "stream",
          "name": "stdout",
          "text": [
            "Epoch 1/20\n",
            "469/469 [==============================] - 3s 4ms/step - loss: 230144464.0000 - accuracy: 0.1003\n",
            "Epoch 2/20\n",
            "469/469 [==============================] - 2s 3ms/step - loss: 40.0737 - accuracy: 0.1020\n",
            "Epoch 3/20\n",
            "469/469 [==============================] - 1s 3ms/step - loss: 39.7008 - accuracy: 0.0993\n",
            "Epoch 4/20\n",
            "469/469 [==============================] - 1s 3ms/step - loss: 40.3209 - accuracy: 0.0994\n",
            "Epoch 5/20\n",
            "469/469 [==============================] - 2s 3ms/step - loss: 39.5733 - accuracy: 0.1003\n",
            "Epoch 6/20\n",
            "469/469 [==============================] - 2s 3ms/step - loss: 40.9660 - accuracy: 0.1006\n",
            "Epoch 7/20\n",
            "469/469 [==============================] - 1s 3ms/step - loss: 39.7915 - accuracy: 0.0998\n",
            "Epoch 8/20\n",
            "469/469 [==============================] - 2s 3ms/step - loss: 40.4351 - accuracy: 0.0999\n",
            "Epoch 9/20\n",
            "469/469 [==============================] - 2s 4ms/step - loss: 40.3966 - accuracy: 0.0994\n",
            "Epoch 10/20\n",
            "469/469 [==============================] - 2s 4ms/step - loss: 39.4187 - accuracy: 0.0992\n",
            "Epoch 11/20\n",
            "469/469 [==============================] - 1s 3ms/step - loss: 40.8771 - accuracy: 0.0983\n",
            "Epoch 12/20\n",
            "469/469 [==============================] - 1s 3ms/step - loss: 40.3625 - accuracy: 0.1000\n",
            "Epoch 13/20\n",
            "469/469 [==============================] - 1s 3ms/step - loss: 39.6371 - accuracy: 0.0987\n",
            "Epoch 14/20\n",
            "469/469 [==============================] - 1s 3ms/step - loss: 39.8938 - accuracy: 0.1025\n",
            "Epoch 15/20\n",
            "469/469 [==============================] - 1s 3ms/step - loss: 40.0539 - accuracy: 0.0996\n",
            "Epoch 16/20\n",
            "469/469 [==============================] - 2s 3ms/step - loss: 39.5286 - accuracy: 0.1005\n",
            "Epoch 17/20\n",
            "469/469 [==============================] - 2s 4ms/step - loss: 40.9761 - accuracy: 0.0990\n",
            "Epoch 18/20\n",
            "469/469 [==============================] - 2s 4ms/step - loss: 39.9423 - accuracy: 0.0999\n",
            "Epoch 19/20\n",
            "469/469 [==============================] - 1s 3ms/step - loss: 40.4925 - accuracy: 0.1027\n",
            "Epoch 20/20\n",
            "469/469 [==============================] - 1s 3ms/step - loss: 40.0954 - accuracy: 0.0988\n"
          ]
        }
      ]
    },
    {
      "cell_type": "markdown",
      "source": [
        "Once again, let's review the accuracy and score of our model."
      ],
      "metadata": {
        "id": "H3QUHf2z_UpY"
      }
    },
    {
      "cell_type": "code",
      "source": [
        "evaluate_model()"
      ],
      "metadata": {
        "colab": {
          "base_uri": "https://localhost:8080/"
        },
        "id": "OqPKFzGZ_ao8",
        "outputId": "88ef8468-c759-43a4-e914-c3c0c809edf4"
      },
      "execution_count": 22,
      "outputs": [
        {
          "output_type": "stream",
          "name": "stdout",
          "text": [
            "Test score: 37.32565689086914\n",
            "Test accuracy: 0.11349999904632568\n"
          ]
        }
      ]
    },
    {
      "cell_type": "markdown",
      "source": [
        "### c. Implement a three-layer ANN model with 128, 64, and 10 neurons in the layers. Use 0.0000001 as the learning rate."
      ],
      "metadata": {
        "id": "BBWV5Xu7_dPX"
      }
    },
    {
      "cell_type": "code",
      "source": [
        "model = compile_and_fit_model(128, 0.0000001)"
      ],
      "metadata": {
        "colab": {
          "base_uri": "https://localhost:8080/"
        },
        "id": "JCYsMZhZ_gEv",
        "outputId": "908b0a6b-77b2-4fb1-eaf8-cbc6279432e3"
      },
      "execution_count": 23,
      "outputs": [
        {
          "output_type": "stream",
          "name": "stdout",
          "text": [
            "Epoch 1/20\n",
            "469/469 [==============================] - 2s 3ms/step - loss: 2.2964 - accuracy: 0.1189\n",
            "Epoch 2/20\n",
            "469/469 [==============================] - 1s 3ms/step - loss: 2.2964 - accuracy: 0.1189\n",
            "Epoch 3/20\n",
            "469/469 [==============================] - 1s 3ms/step - loss: 2.2964 - accuracy: 0.1189\n",
            "Epoch 4/20\n",
            "469/469 [==============================] - 1s 3ms/step - loss: 2.2964 - accuracy: 0.1189\n",
            "Epoch 5/20\n",
            "469/469 [==============================] - 1s 3ms/step - loss: 2.2964 - accuracy: 0.1189\n",
            "Epoch 6/20\n",
            "469/469 [==============================] - 2s 4ms/step - loss: 2.2964 - accuracy: 0.1189\n",
            "Epoch 7/20\n",
            "469/469 [==============================] - 2s 4ms/step - loss: 2.2964 - accuracy: 0.1189\n",
            "Epoch 8/20\n",
            "469/469 [==============================] - 2s 3ms/step - loss: 2.2964 - accuracy: 0.1189\n",
            "Epoch 9/20\n",
            "469/469 [==============================] - 1s 3ms/step - loss: 2.2963 - accuracy: 0.1189\n",
            "Epoch 10/20\n",
            "469/469 [==============================] - 1s 3ms/step - loss: 2.2963 - accuracy: 0.1189\n",
            "Epoch 11/20\n",
            "469/469 [==============================] - 2s 3ms/step - loss: 2.2963 - accuracy: 0.1189\n",
            "Epoch 12/20\n",
            "469/469 [==============================] - 2s 3ms/step - loss: 2.2963 - accuracy: 0.1190\n",
            "Epoch 13/20\n",
            "469/469 [==============================] - 1s 3ms/step - loss: 2.2963 - accuracy: 0.1190\n",
            "Epoch 14/20\n",
            "469/469 [==============================] - 2s 4ms/step - loss: 2.2963 - accuracy: 0.1190\n",
            "Epoch 15/20\n",
            "469/469 [==============================] - 2s 4ms/step - loss: 2.2963 - accuracy: 0.1190\n",
            "Epoch 16/20\n",
            "469/469 [==============================] - 2s 3ms/step - loss: 2.2963 - accuracy: 0.1190\n",
            "Epoch 17/20\n",
            "469/469 [==============================] - 1s 3ms/step - loss: 2.2963 - accuracy: 0.1190\n",
            "Epoch 18/20\n",
            "469/469 [==============================] - 1s 3ms/step - loss: 2.2963 - accuracy: 0.1190\n",
            "Epoch 19/20\n",
            "469/469 [==============================] - 1s 3ms/step - loss: 2.2963 - accuracy: 0.1190\n",
            "Epoch 20/20\n",
            "469/469 [==============================] - 2s 3ms/step - loss: 2.2963 - accuracy: 0.1190\n"
          ]
        }
      ]
    },
    {
      "cell_type": "markdown",
      "source": [
        "Next, let's review the accuracy and score of our model."
      ],
      "metadata": {
        "id": "cn9pzUcL_l6Y"
      }
    },
    {
      "cell_type": "code",
      "source": [
        "evaluate_model()"
      ],
      "metadata": {
        "colab": {
          "base_uri": "https://localhost:8080/"
        },
        "id": "hRwt2fUF_ovA",
        "outputId": "a0f1f363-e554-423a-b61a-1e0967601a5c"
      },
      "execution_count": 24,
      "outputs": [
        {
          "output_type": "stream",
          "name": "stdout",
          "text": [
            "Test score: 2.2973341941833496\n",
            "Test accuracy: 0.12099999934434891\n"
          ]
        }
      ]
    },
    {
      "cell_type": "markdown",
      "source": [
        "### d. Compare the results of each model. Which learning rate performed best?"
      ],
      "metadata": {
        "id": "sruV6XpC_q0a"
      }
    },
    {
      "cell_type": "markdown",
      "source": [
        "The learning rate of `0.1` was a feasible choice for the hyperparameter and converged quickly. The learning rate of `100` was a poor choice for the hyperparameter and the model diverged. The learning rate of `0.0000001` was also a poor choice for the hyperparameter as the model did not converge after 20 epochs."
      ],
      "metadata": {
        "id": "Z-eCn7f1_t01"
      }
    },
    {
      "cell_type": "code",
      "source": [],
      "metadata": {
        "id": "6iS-Qhls_tNa"
      },
      "execution_count": null,
      "outputs": []
    }
  ]
}