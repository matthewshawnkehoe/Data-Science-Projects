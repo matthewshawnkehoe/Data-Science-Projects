{
  "nbformat": 4,
  "nbformat_minor": 0,
  "metadata": {
    "colab": {
      "provenance": [],
      "gpuType": "T4"
    },
    "kernelspec": {
      "name": "python3",
      "display_name": "Python 3"
    },
    "language_info": {
      "name": "python"
    },
    "accelerator": "GPU"
  },
  "cells": [
    {
      "cell_type": "markdown",
      "source": [
        "Now we will work with the [fashion MNIST dataset](https://github.com/zalandoresearch/fashion-mnist). `Fashion-MNIST` is a dataset of [Zalando](https://jobs.zalando.com/tech/)'s article images—consisting of a training set of 60,000 examples and a test set of 10,000 examples. Each example is a 28x28 grayscale image, associated with a label from 10 classes. We intend `Fashion-MNIST` to serve as a direct **drop-in replacement** for the original [MNIST dataset](http://yann.lecun.com/exdb/mnist/) for benchmarking machine learning algorithms. It shares the same image size and structure of training and testing splits.\n",
        "\n",
        "Here's an example of how the data looks (*each class takes three-rows*):\n",
        "\n",
        "![](https://github.com/zalandoresearch/fashion-mnist/raw/master/doc/img/fashion-mnist-sprite.png)"
      ],
      "metadata": {
        "id": "IgCV-NlrDrqv"
      }
    },
    {
      "cell_type": "markdown",
      "source": [
        "We start by loading the *Fashion-MNIST* dataset using the `mnist` class from the `keras.datasets` module. We will later build our model using the `Sequential()` class of the `keras.models` module. To do this, we will add dense layers to our `model` object."
      ],
      "metadata": {
        "id": "7YQHY6eTFCxS"
      }
    },
    {
      "cell_type": "code",
      "source": [
        "#!pip install scikeras"
      ],
      "metadata": {
        "id": "lUpKDb7GRs2T"
      },
      "execution_count": 1,
      "outputs": []
    },
    {
      "cell_type": "code",
      "source": [
        "import warnings\n",
        "warnings.filterwarnings(\"ignore\")\n",
        "\n",
        "import numpy as np\n",
        "import tensorflow as tf\n",
        "from sklearn.model_selection import GridSearchCV\n",
        "from tensorflow.keras.datasets import fashion_mnist\n",
        "from tensorflow.keras.utils import to_categorical\n",
        "from tensorflow.keras.models import Sequential\n",
        "from tensorflow.keras.layers import Dense\n",
        "from tensorflow.keras.layers import LeakyReLU\n",
        "from tensorflow.keras import optimizers\n",
        "from scikeras.wrappers import KerasClassifier"
      ],
      "metadata": {
        "id": "przMA0Z-FHia"
      },
      "execution_count": 2,
      "outputs": []
    },
    {
      "cell_type": "markdown",
      "source": [
        "In the following, we'll load the dataset and do some data preprocessing. As we'll see, each image is represented as 28x28 pixel data. This is a two-dimensional vector. We'll convert this to a vector of length 784, which will be single-dimensional. We'll also normalize each vector by dividing each element by 255 (which is the maximum value of the RGB color scale)."
      ],
      "metadata": {
        "id": "EAoGR-zjEqQg"
      }
    },
    {
      "cell_type": "code",
      "execution_count": 3,
      "metadata": {
        "id": "6KdgUDo7DVem"
      },
      "outputs": [],
      "source": [
        "(X_train, y_train), (X_test, y_test) = fashion_mnist.load_data()\n",
        "\n",
        "input_dim = 784  # 28*28\n",
        "output_dim = nb_classes = 10\n",
        "batch_size = 128\n",
        "nb_epoch = 20\n",
        "\n",
        "X_train = X_train.reshape(60000, input_dim)\n",
        "X_test = X_test.reshape(10000, input_dim)\n",
        "X_train = X_train.astype('float32')\n",
        "X_test = X_test.astype('float32')\n",
        "X_train /= 255\n",
        "X_test /= 255"
      ]
    },
    {
      "cell_type": "markdown",
      "source": [
        "Next, we'll *one-hot code* our *target variable* using the `to_categorical()` function from the `keras.utils` module:"
      ],
      "metadata": {
        "id": "3bMEgZ_bFmwS"
      }
    },
    {
      "cell_type": "code",
      "source": [
        "Y_train = to_categorical(y_train, nb_classes)\n",
        "Y_test = to_categorical(y_test, nb_classes)"
      ],
      "metadata": {
        "id": "ANWVPGbJF0I4"
      },
      "execution_count": 4,
      "outputs": []
    },
    {
      "cell_type": "markdown",
      "source": [
        "Now, check the size of the dataset:"
      ],
      "metadata": {
        "id": "Nm5jYYv7GEYe"
      }
    },
    {
      "cell_type": "code",
      "source": [
        "X_train[0].shape"
      ],
      "metadata": {
        "colab": {
          "base_uri": "https://localhost:8080/"
        },
        "id": "Nea6g-meGEuJ",
        "outputId": "8e4b5688-b1ce-48e5-944b-3cd4ab7c5397"
      },
      "execution_count": 5,
      "outputs": [
        {
          "output_type": "execute_result",
          "data": {
            "text/plain": [
              "(784,)"
            ]
          },
          "metadata": {},
          "execution_count": 5
        }
      ]
    },
    {
      "cell_type": "markdown",
      "source": [
        "As you can see, the size of each image is 784. In fact, all images in *Fashion-MNIST* are 28 by 28 pixels, and 784 is just the result of multiplying 28 by 28. So, the data that you have is a flattened version of the images, where each row in the 28x28 matrix is concatenated side by side.\n",
        "\n",
        "Now, plot some images and see what they look like:\n"
      ],
      "metadata": {
        "id": "xUbM_sLaGJfB"
      }
    },
    {
      "cell_type": "code",
      "source": [
        "import matplotlib.pyplot as plt\n",
        "\n",
        "plt.figure(figsize=(20,5))\n",
        "\n",
        "plt.subplot(141)\n",
        "plt.imshow(X_train[123].reshape(28,28), cmap=\"gray\")\n",
        "plt.title(\"Label of the image: {}\".format(y_train[123]))\n",
        "\n",
        "plt.subplot(142)\n",
        "plt.imshow(X_train[124].reshape(28,28), cmap=\"gray\")\n",
        "plt.title(\"Label of the image: {}\".format(y_train[124]))\n",
        "\n",
        "plt.subplot(143)\n",
        "plt.imshow(X_train[125].reshape(28,28), cmap=\"gray\")\n",
        "plt.title(\"Label of the image: {}\".format(y_train[125]))\n",
        "\n",
        "plt.subplot(144)\n",
        "plt.imshow(X_train[126].reshape(28,28), cmap=\"gray\")\n",
        "plt.title(\"Label of the image: {}\".format(y_train[126]))\n",
        "\n",
        "plt.show()"
      ],
      "metadata": {
        "colab": {
          "base_uri": "https://localhost:8080/",
          "height": 420
        },
        "id": "04_gxXvBGGSk",
        "outputId": "0ba5c89a-44e5-41bf-8666-36c2a9da176f"
      },
      "execution_count": 6,
      "outputs": [
        {
          "output_type": "display_data",
          "data": {
            "text/plain": [
              "<Figure size 2000x500 with 4 Axes>"
            ],
            "image/png": "[encoded data removed]"
          },
          "metadata": {}
        }
      ]
    },
    {
      "cell_type": "markdown",
      "source": [
        "Next, we will test several ANN models through training them on our training set. In particular, we will investigate performance for:\n",
        "\n",
        "*   Different number of layers\n",
        "*   Different activation functions in the layers\n",
        "*   Different number of neurons in the layers\n",
        "*   Different batch sizes during training\n",
        "*   Different learning rates\n",
        "\n",
        "To do this, we will use [GridSearchCV](https://machinelearningmastery.com/grid-search-hyperparameters-deep-learning-models-python-keras/) which can be parallelized by setting `n_jobs=-1`.\n"
      ],
      "metadata": {
        "id": "BJBW16mJGXyT"
      }
    },
    {
      "cell_type": "markdown",
      "source": [
        "First, we will tune the training optimization algorithm."
      ],
      "metadata": {
        "id": "mpw-JOXCQP_O"
      }
    },
    {
      "cell_type": "code",
      "source": [
        "def create_model():\n",
        "  # create model\n",
        "  model = Sequential()\n",
        "  # The first dense layer\n",
        "  model.add(Dense(128, input_shape=(784,), activation=\"relu\"))\n",
        "  # The second dense layer\n",
        "  model.add(Dense(64, activation=\"relu\"))\n",
        "  # The third dense layer\n",
        "  model.add(Dense(32, activation=\"relu\"))\n",
        "  # The last layer is the output layer\n",
        "  model.add(Dense(10, activation=\"softmax\"))\n",
        "\n",
        "  return model\n",
        "\n",
        "def summarize_results():\n",
        "  print(\"Best: %f using %s\" % (grid_result.best_score_, grid_result.best_params_))\n",
        "  means = grid_result.cv_results_['mean_test_score']\n",
        "  stds = grid_result.cv_results_['std_test_score']\n",
        "  params = grid_result.cv_results_['params']\n",
        "  for mean, stdev, param in zip(means, stds, params):\n",
        "      print(\"%f (%f) with: %r\" % (mean, stdev, param))\n",
        "\n",
        "# fix random seed for reproducibility\n",
        "seed = 7\n",
        "tf.random.set_seed(seed)"
      ],
      "metadata": {
        "id": "byO_3s6CUjdf"
      },
      "execution_count": 7,
      "outputs": []
    },
    {
      "cell_type": "code",
      "source": [
        "# create model\n",
        "model = KerasClassifier(model=create_model, loss=\"categorical_crossentropy\",\n",
        "                        epochs=20, batch_size=batch_size, verbose=0)\n",
        "\n",
        "# define the grid search parameters\n",
        "optimizer = ['SGD', 'RMSprop', 'Adagrad', 'Adadelta', 'Adam', 'Adamax', 'Nadam']\n",
        "param_grid = dict(optimizer=optimizer)\n",
        "grid = GridSearchCV(estimator=model, param_grid=param_grid, n_jobs=-1, cv=3)\n",
        "grid_result = grid.fit(X_train, y_train)\n",
        "\n",
        "# summarize results\n",
        "summarize_results()"
      ],
      "metadata": {
        "colab": {
          "base_uri": "https://localhost:8080/"
        },
        "id": "fhQ5M1udQVC1",
        "outputId": "9187488a-c575-4370-ee37-f203dbfba4a6"
      },
      "execution_count": 8,
      "outputs": [
        {
          "output_type": "stream",
          "name": "stdout",
          "text": [
            "Best: 0.889117 using {'optimizer': 'Nadam'}\n",
            "0.851900 (0.003635) with: {'optimizer': 'SGD'}\n",
            "0.886517 (0.007216) with: {'optimizer': 'RMSprop'}\n",
            "0.811033 (0.001857) with: {'optimizer': 'Adagrad'}\n",
            "0.613883 (0.007994) with: {'optimizer': 'Adadelta'}\n",
            "0.888400 (0.003125) with: {'optimizer': 'Adam'}\n",
            "0.881900 (0.005678) with: {'optimizer': 'Adamax'}\n",
            "0.889117 (0.001280) with: {'optimizer': 'Nadam'}\n"
          ]
        }
      ]
    },
    {
      "cell_type": "markdown",
      "source": [
        "Let's go with the Adam optimizer. Next, we will tune the learning rate."
      ],
      "metadata": {
        "id": "HHzBhUtQUVw4"
      }
    },
    {
      "cell_type": "code",
      "source": [
        "# define the grid search parameters\n",
        "optimizer = ['Adam']\n",
        "learn_rate = [0.001, 0.01, 0.1, 0.2, 0.3]\n",
        "param_grid = dict(optimizer=optimizer,optimizer__learning_rate=learn_rate)\n",
        "grid = GridSearchCV(estimator=model, param_grid=param_grid, n_jobs=-1, cv=3)\n",
        "grid_result = grid.fit(X_train, y_train)\n",
        "\n",
        "# summarize results\n",
        "summarize_results()"
      ],
      "metadata": {
        "colab": {
          "base_uri": "https://localhost:8080/"
        },
        "id": "f4rpjVOqUfvL",
        "outputId": "847ecf4b-6702-4313-b2a9-0796a9f6480a"
      },
      "execution_count": 10,
      "outputs": [
        {
          "output_type": "stream",
          "name": "stdout",
          "text": [
            "Best: 0.886900 using {'optimizer': 'Adam', 'optimizer__learning_rate': 0.001}\n",
            "0.886900 (0.005675) with: {'optimizer': 'Adam', 'optimizer__learning_rate': 0.001}\n",
            "0.876983 (0.002978) with: {'optimizer': 'Adam', 'optimizer__learning_rate': 0.01}\n",
            "0.338567 (0.117617) with: {'optimizer': 'Adam', 'optimizer__learning_rate': 0.1}\n",
            "0.100000 (0.000000) with: {'optimizer': 'Adam', 'optimizer__learning_rate': 0.2}\n",
            "0.100000 (0.000000) with: {'optimizer': 'Adam', 'optimizer__learning_rate': 0.3}\n"
          ]
        }
      ]
    }
  ]
}