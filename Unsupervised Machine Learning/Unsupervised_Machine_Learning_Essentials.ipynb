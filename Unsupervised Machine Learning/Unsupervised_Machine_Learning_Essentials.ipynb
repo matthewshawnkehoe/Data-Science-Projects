{
  "cells": [
    {
      "cell_type": "markdown",
      "metadata": {
        "id": "a23r3z1lUJY0"
      },
      "source": [
        "# Unsupervised Machine Learning\n",
        "\n",
        "Supervised learning focuses on creating algorithms that learn from labeled data. In unsupervised learning, we'll run algorithms on unlabeled data to derive useful patterns.\n",
        "\n",
        "**Key Terms**\n",
        "\n",
        "- **The curse of dimensionality:**\n",
        "    The exponential increase in the number of combinations for a linear increase in the number of dimensions\n",
        "- **Hard clustering:**\n",
        "    A type of clustering in which each data point is assigned to only one cluster\n",
        "- **Soft clustering:**\n",
        "    A type of clustering in which each data point is assigned a degree of membership for every cluster\n",
        "\n",
        "Unsupervised learning can be challenging, not because the algorithms are too difficult to grasp, but because the problems that unsupervised learning addresses are hard to formalize and evaluate. Most of human reasoning and learning operates in an unsupervised manner. In this section, we'll step into the exciting domain of unsupervised learning by exploring two main problems that it needs to tackle:\n",
        "\n",
        "1. Clustering\n",
        "2. Dimensionality reduction\n",
        "\n",
        "Although unsupervised learning includes other interesting topics, like anomaly detection, we'll focus on these two subjects.\n",
        "\n",
        "## What is clustering?\n",
        "\n",
        "Clustering is all about organizing individual examples or observations into groups, such that individuals in each group resemble fellow group members more than they do nongroup members. Clustering inherently requires the ability to measure similarity. For example, say that a management team gives us a customer dataset for their company. The management team asks us to help them organize customers into different groups in order to expedite customer service and drive reorganization strategies for the customer service department.\n",
        "\n",
        "Where to start? There's no need to overthink things, and we could start with a relatively straightforward grouping. We could separate the customers into different groups with respect to their city of origin, gender, income level, or all three of these variables.\n",
        "\n",
        "Grouping customers with respect to a single variable is easy. For example, we can separate the customers into two groups with respect to income."
      ]
    },
    {
      "cell_type": "markdown",
      "metadata": {},
      "source": []
    }
  ],
  "metadata": {
    "colab": {
      "provenance": []
    },
    "kernelspec": {
      "display_name": "Python 3",
      "name": "python3"
    },
    "language_info": {
      "name": "python"
    }
  },
  "nbformat": 4,
  "nbformat_minor": 0
}
