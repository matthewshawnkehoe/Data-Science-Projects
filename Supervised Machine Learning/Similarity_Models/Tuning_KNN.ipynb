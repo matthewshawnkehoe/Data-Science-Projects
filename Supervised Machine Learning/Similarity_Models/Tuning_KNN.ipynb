{
  "cells": [
    {
      "cell_type": "code",
      "execution_count": 1,
      "metadata": {
        "collapsed": true,
        "run_control": {
          "frozen": false,
          "read_only": false
        },
        "id": "SF9Pto4dfl5S"
      },
      "outputs": [],
      "source": [
        "import numpy as np\n",
        "import pandas as pd\n",
        "import matplotlib.pyplot as plt\n",
        "import scipy\n",
        "%matplotlib inline\n",
        "\n",
        "music = pd.DataFrame()\n",
        "music['duration'] = [184, 134, 243, 186, 122, 197, 294, 382, 102, 264,\n",
        "                     205, 110, 307, 110, 397, 153, 190, 192, 210, 403,\n",
        "                     164, 198, 204, 253, 234, 190, 182, 401, 376, 102]\n",
        "music['loudness'] = [18, 34, 43, 36, 22, 9, 29, 22, 10, 24,\n",
        "                     20, 10, 17, 51, 7, 13, 19, 12, 21, 22,\n",
        "                     16, 18, 4, 23, 34, 19, 14, 11, 37, 42]\n",
        "music['jazz'] = [ 1, 0, 0, 0, 1, 1, 0, 1, 1, 0,\n",
        "                  0, 1, 1, 0, 1, 1, 0, 1, 1, 1,\n",
        "                  1, 1, 1, 1, 0, 0, 1, 1, 0, 0]"
      ]
    },
    {
      "cell_type": "markdown",
      "metadata": {
        "run_control": {
          "frozen": false,
          "read_only": false
        },
        "id": "gpQYzLW6fl5T"
      },
      "source": [
        "# Tuning KNN\n",
        "\n",
        "Although KNN is a relatively simple model, there are several things that you can do to tune its performance. These primarily have to do with how you handle distance and how many neighbors you include.\n",
        "\n",
        "## Distance and normalizing\n",
        "\n",
        "In the previous lesson, you learned about the distance measure that's used for deciding how close other observations are to a test point. But you still need to learn about some important nuances in measuring distance. **Specifically, the measurement makes the assumption that all units are equal.** So, in the previous example, being one loudness unit away is equivalent to being one second away. This is intensely problematic; it's one of the main issues that people have with KNN. Units are rarely equivalent, and determining how to adjust that inequivalence is an abstract and touchy subject. **This difficulty also makes it nearly impossible to include binary or categorical variables in a KNN model; it really is best if the variables are continuous.**\n",
        "\n",
        "This issue can be more obvious if you're dealing with something where the relative scales are strikingly different. For example, if you were looking at buildings, and you had height in floors and area in square footage, you'd have a model that would really only care about square footage. That's because distance in that dimension would be a far greater number of units than the number of floors.\n",
        "\n",
        "To deal with this, data scientists typically use *normalization* techniques. Normalization is a way of taking these seemingly incommensurate measures and making them comparable. There are two main normalization techniques that are effective with KNN:\n",
        "\n",
        "1. You can set the bounds of the data to `0` and `1`, and then rescale every variable to be within those bounds. (It may also be reasonable to use `-1` and `1` as the bounds, but the difference is actually immaterial.) This way, every data point is measured in terms of its distance between the maximum and minimum of its category. This is best if the data shows a linear relationship, such that scaling to a `0` to `1` range makes logical sense. It is also best if there are known limits to the dataset, because those provide logical bounds for `0` and `1` for the rescaling.\n",
        "\n",
        "2. You can also calculate how far each observation is from the mean, expressed in the number of standard deviations. This is often called *z-scores*. Calculating z-scores and using them as your basis for measuring distance works for continuous data. It puts everything in terms of how far from the mean it is (or how \"abnormal\" it is).\n",
        "\n",
        "Either of these techniques is viable for most situations, and you'll have to use your intuition to see which makes the most sense. Mixing them, although possible, is usually a dangerous proposition.\n",
        "\n",
        "## Weighting\n",
        "\n",
        "There is one more thing to address when talking about distance, and that is weighting. In the vanilla version of KNN, all $k$ of the closest observations are given equal votes on what the outcome of the test observation should be. When the data is densely populated, that isn't necessarily a problem. Particularly if there is variance in the measurement itself, it can be wise to avoid trying to draw information from small differences in distance.\n",
        "\n",
        "However, sometimes the $k$ nearest observations are not all similarly close to the test. In that case, it may be useful to weight by distance. Functionally, you will weight by the inverse of distance, so that closer data points (with a low distance) have a higher weight than further ones.\n",
        "\n",
        "Scikit-learn again makes this quite easy to implement. There is an optional `weights` parameter that you can use when defining the model. If you set that parameter to `distance`, you will use distance weighting.\n",
        "\n",
        "Try it below and see how it affects your model. The code below also uses the stats module from SciPy to convert the data to z-scores."
      ]
    },
    {
      "cell_type": "code",
      "execution_count": 2,
      "metadata": {
        "run_control": {
          "frozen": false,
          "read_only": false
        },
        "colab": {
          "base_uri": "https://localhost:8080/",
          "height": 388
        },
        "id": "9Gu3mYE3fl5U",
        "outputId": "58425917-3a71-4922-c4e2-37bcf6aa6f55"
      },
      "outputs": [
        {
          "output_type": "display_data",
          "data": {
            "text/plain": [
              "<Figure size 600x400 with 1 Axes>"
            ],
            "image/png": "[encoded data removed]"
          },
          "metadata": {}
        }
      ],
      "source": [
        "from sklearn.neighbors import KNeighborsClassifier\n",
        "from scipy import stats\n",
        "\n",
        "neighbors = KNeighborsClassifier(n_neighbors=5, weights='distance')\n",
        "\n",
        "# The input DataFrame will be the z-scores this time instead of raw data\n",
        "X = pd.DataFrame({\n",
        "    'loudness': stats.zscore(music.loudness),\n",
        "    'duration': stats.zscore(music.duration)\n",
        "})\n",
        "\n",
        "# Fit the model\n",
        "Y = music.jazz\n",
        "neighbors.fit(X.values, Y)\n",
        "\n",
        "# Arrays, not DataFrames, for the mesh\n",
        "X = np.array(X.values)\n",
        "Y = np.array(Y)\n",
        "\n",
        "# Mesh size\n",
        "h = .01\n",
        "\n",
        "# Plot the decision boundary and assign a color to each point in the mesh\n",
        "x_min = X[:,0].min() - .5\n",
        "x_max = X[:,0].max() + .5\n",
        "y_min = X[:,1].min() - .5\n",
        "y_max = X[:,1].max() + .5\n",
        "xx, yy = np.meshgrid(\n",
        "    np.arange(x_min, x_max, h),\n",
        "    np.arange(y_min, y_max, h)\n",
        ")\n",
        "Z = neighbors.predict(np.c_[xx.ravel(), yy.ravel()])\n",
        "\n",
        "# Put the result into a color plot\n",
        "Z = Z.reshape(xx.shape)\n",
        "plt.figure(1, figsize=(6, 4))\n",
        "plt.set_cmap(plt.cm.Paired)\n",
        "plt.pcolormesh(xx, yy, Z)\n",
        "\n",
        "# Add the training points to the plot\n",
        "plt.scatter(X[:, 0], X[:, 1], c=Y)\n",
        "plt.xlabel('Loudness')\n",
        "plt.ylabel('Duration')\n",
        "\n",
        "plt.xlim(xx.min(), xx.max())\n",
        "plt.ylim(yy.min(), yy.max())\n",
        "\n",
        "plt.show()"
      ]
    },
    {
      "cell_type": "markdown",
      "metadata": {
        "run_control": {
          "frozen": false,
          "read_only": false
        },
        "id": "dO4BEe55fl5V"
      },
      "source": [
        "This is a much more nuanced decision boundary than before. But it's also relatively continuous and consistent, providing a nice sense of which regions are likely to belong to which classification.\n"
      ]
    },
    {
      "cell_type": "code",
      "source": [
        "# Trying weighting all points in each neighborhood equally and increasing\n",
        "# number of neighbors to 10.\n",
        "neighbors = KNeighborsClassifier(n_neighbors=10, weights='uniform')\n",
        "\n",
        "# The input DataFrame will be the z-scores this time instead of raw data\n",
        "X = pd.DataFrame({\n",
        "    'loudness': stats.zscore(music.loudness),\n",
        "    'duration': stats.zscore(music.duration)\n",
        "})\n",
        "\n",
        "# Fit the model\n",
        "Y = music.jazz\n",
        "neighbors.fit(X.values, Y)\n",
        "\n",
        "# Arrays, not DataFrames, for the mesh\n",
        "X = np.array(X.values)\n",
        "Y = np.array(Y)\n",
        "\n",
        "# Mesh size\n",
        "h = .01\n",
        "\n",
        "# Plot the decision boundary and assign a color to each point in the mesh\n",
        "x_min = X[:,0].min() - .5\n",
        "x_max = X[:,0].max() + .5\n",
        "y_min = X[:,1].min() - .5\n",
        "y_max = X[:,1].max() + .5\n",
        "xx, yy = np.meshgrid(\n",
        "    np.arange(x_min, x_max, h),\n",
        "    np.arange(y_min, y_max, h)\n",
        ")\n",
        "Z = neighbors.predict(np.c_[xx.ravel(), yy.ravel()])\n",
        "\n",
        "# Put the result into a color plot\n",
        "Z = Z.reshape(xx.shape)\n",
        "plt.figure(1, figsize=(6, 4))\n",
        "plt.set_cmap(plt.cm.Paired)\n",
        "plt.pcolormesh(xx, yy, Z)\n",
        "\n",
        "# Add the training points to the plot\n",
        "plt.scatter(X[:, 0], X[:, 1], c=Y)\n",
        "plt.xlabel('Loudness')\n",
        "plt.ylabel('Duration')\n",
        "\n",
        "plt.xlim(xx.min(), xx.max())\n",
        "plt.ylim(yy.min(), yy.max())\n",
        "\n",
        "plt.show()"
      ],
      "metadata": {
        "colab": {
          "base_uri": "https://localhost:8080/",
          "height": 388
        },
        "id": "sKSHAOf_h_yZ",
        "outputId": "43daf746-0052-4bb9-925e-d5b61ec80b41"
      },
      "execution_count": 3,
      "outputs": [
        {
          "output_type": "display_data",
          "data": {
            "text/plain": [
              "<Figure size 600x400 with 1 Axes>"
            ],
            "image/png": "[encoded data removed]"
          },
          "metadata": {}
        }
      ]
    },
    {
      "cell_type": "code",
      "source": [
        "import numpy as np\n",
        "def customized_weights(distances: np.array)->np.array:\n",
        "    max_dist = 50\n",
        "    weights: np.array = np.array(np.full(distances.shape, 0), dtype='float')\n",
        "    # create a new array 'weights' with the same dimension of  'distances' and fill\n",
        "    # the array with 0 element.\n",
        "    for i in range(distances.shape[0]): # for each prediction:\n",
        "        if distances[i, 0] >= max_dist: # if the smaller distance is greather than max distance,\n",
        "                                   # consider the nearest neighbor's weight as 1\n",
        "                                   # and the neighbor weights will stay zero\n",
        "            weights[i, 0] = 1\n",
        "                                   # than continue to the next prediction\n",
        "            continue\n",
        "\n",
        "        for j in range(distances.shape[1]): # aply the weight function for each distance\n",
        "\n",
        "            if (distances[i, j] >= max_dist):\n",
        "                continue\n",
        "\n",
        "            weights[i, j] = 1 - distances[i, j]/max_dist\n",
        "\n",
        "    return weights\n",
        "\n",
        "# Trying a custom distance function and setting the number of neighbors to 8.\n",
        "neighbors = KNeighborsClassifier(n_neighbors=8, weights=customized_weights)\n",
        "\n",
        "# The input DataFrame will be the z-scores this time instead of raw data\n",
        "X = pd.DataFrame({\n",
        "    'loudness': stats.zscore(music.loudness),\n",
        "    'duration': stats.zscore(music.duration)\n",
        "})\n",
        "\n",
        "# Fit the model\n",
        "Y = music.jazz\n",
        "neighbors.fit(X.values, Y)\n",
        "\n",
        "# Arrays, not DataFrames, for the mesh\n",
        "X = np.array(X.values)\n",
        "Y = np.array(Y)\n",
        "\n",
        "# Mesh size\n",
        "h = .01\n",
        "\n",
        "# Plot the decision boundary and assign a color to each point in the mesh\n",
        "x_min = X[:,0].min() - .5\n",
        "x_max = X[:,0].max() + .5\n",
        "y_min = X[:,1].min() - .5\n",
        "y_max = X[:,1].max() + .5\n",
        "xx, yy = np.meshgrid(\n",
        "    np.arange(x_min, x_max, h),\n",
        "    np.arange(y_min, y_max, h)\n",
        ")\n",
        "Z = neighbors.predict(np.c_[xx.ravel(), yy.ravel()])\n",
        "\n",
        "# Put the result into a color plot\n",
        "Z = Z.reshape(xx.shape)\n",
        "plt.figure(1, figsize=(6, 4))\n",
        "plt.set_cmap(plt.cm.Paired)\n",
        "plt.pcolormesh(xx, yy, Z)\n",
        "\n",
        "# Add the training points to the plot\n",
        "plt.scatter(X[:, 0], X[:, 1], c=Y)\n",
        "plt.xlabel('Loudness')\n",
        "plt.ylabel('Duration')\n",
        "\n",
        "plt.xlim(xx.min(), xx.max())\n",
        "plt.ylim(yy.min(), yy.max())\n",
        "\n",
        "plt.show()"
      ],
      "metadata": {
        "colab": {
          "base_uri": "https://localhost:8080/",
          "height": 388
        },
        "id": "fjLaKDGAi20o",
        "outputId": "0bd140f7-41f8-419e-8fe2-bd5b0d76817b"
      },
      "execution_count": 4,
      "outputs": [
        {
          "output_type": "display_data",
          "data": {
            "text/plain": [
              "<Figure size 600x400 with 1 Axes>"
            ],
            "image/png": "[encoded data removed]"
          },
          "metadata": {}
        }
      ]
    },
    {
      "cell_type": "markdown",
      "source": [
        "## Choosing k\n",
        "\n",
        "The last major aspect of tuning KNN is picking $k$. This choice is largely up to the data scientist building the model, but there are some things to consider.\n",
        "\n",
        "Choosing a value for $k$ is a tradeoff. The larger the $k$, the more smoothed out your decision space will be, with more observations getting a vote in the prediction. A smaller $k$ will pick up more subtle deviations, but these deviations could be just randomness, and therefore you could just be overfitting. Add in weighting, and that's an additional dimension to this entire conversation.\n",
        "\n",
        "In the end, the best technique is probably to try multiple models and use your validation techniques to see which is best. In particular, k-fold cross-validation is a great way to see how your KNN model is performing."
      ],
      "metadata": {
        "id": "EqXca9Orh79s"
      }
    },
    {
      "cell_type": "markdown",
      "source": [
        "## Drill\n",
        "\n",
        "Imagine that you work at a credit card company and you're trying to figure out if people are going to pay their bills on time. You have everyone's purchases split into four main categories: groceries, dining out, utilities, and entertainment. What are some ways that you might use KNN to create this model? What aspects of KNN would be useful? For your own purposes, write up your thoughts and document how you'd approach this challenge."
      ],
      "metadata": {
        "id": "WzHQhN-JhzaA"
      }
    },
    {
      "cell_type": "markdown",
      "source": [
        "**Answer**\n",
        "\n",
        "The KNN algorithm faces two difficulties: it becomes computationally more expensive to compute distance and find the nearest neighbors in high-dimensional space. With two categories, this isn't a major problem. In higher-dimensional space, the KNN algorithm is limited by the curse of dimensionality.\n",
        "\n",
        "With four categories (groceries, dining out, utilities, entertainment) and a thousand customers, this shouldn't be a huge problem. However, most large credit card companies likely have millions of customers. So, the cost of calculating distances between the new point and each existing point one million times is huge, which degrades performance. I wouldn't use the KNN algorithm on this problem. To make it computationally efficient, you would have to use a small value for the number of neighbors which would degrade perfomance."
      ],
      "metadata": {
        "id": "rOa9bNywk0lf"
      }
    },
    {
      "cell_type": "code",
      "source": [],
      "metadata": {
        "id": "5wllK9lAms-J"
      },
      "execution_count": null,
      "outputs": []
    }
  ],
  "metadata": {
    "hide_input": false,
    "kernelspec": {
      "display_name": "Python 3",
      "name": "python3"
    },
    "language_info": {
      "codemirror_mode": {
        "name": "ipython",
        "version": 3
      },
      "file_extension": ".py",
      "mimetype": "text/x-python",
      "name": "python",
      "nbconvert_exporter": "python",
      "pygments_lexer": "ipython3",
      "version": "3.9.12"
    },
    "toc": {
      "colors": {
        "hover_highlight": "#DAA520",
        "running_highlight": "#FF0000",
        "selected_highlight": "#FFD700"
      },
      "moveMenuLeft": true,
      "nav_menu": {
        "height": "105px",
        "width": "252px"
      },
      "navigate_menu": true,
      "number_sections": true,
      "sideBar": true,
      "threshold": 4,
      "toc_cell": false,
      "toc_section_display": "block",
      "toc_window_display": false
    },
    "colab": {
      "provenance": [],
      "gpuType": "T4"
    },
    "accelerator": "GPU"
  },
  "nbformat": 4,
  "nbformat_minor": 0
}