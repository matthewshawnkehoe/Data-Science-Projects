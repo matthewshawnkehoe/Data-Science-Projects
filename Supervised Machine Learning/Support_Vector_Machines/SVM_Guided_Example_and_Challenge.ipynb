{
  "cells": [
    {
      "cell_type": "code",
      "execution_count": 1,
      "metadata": {
        "run_control": {
          "frozen": false,
          "read_only": false
        },
        "id": "jGRjVI8jH0_J"
      },
      "outputs": [],
      "source": [
        "import numpy as np\n",
        "import pandas as pd\n",
        "import scipy\n",
        "import matplotlib.pyplot as plt\n",
        "import seaborn as sns\n",
        "%matplotlib inline"
      ]
    },
    {
      "cell_type": "markdown",
      "metadata": {
        "run_control": {
          "frozen": false,
          "read_only": false
        },
        "id": "K6i-yA_PH0_K"
      },
      "source": [
        "Now it's time for another guided example. This time, you're going to look at recipes. Specifically, you'll use the *epicurious* dataset, which has a collection of recipes, key terms, ingredients, and ratings.\n",
        "\n",
        "What you want to see is if you can use the ingredient and keyword list to predict the rating. For someone writing a cookbook, this could be really useful information. They could use it to identify which recipes are more likely to be enjoyed, which could help them choose which recipes to include to make the book more likely to be successful.\n",
        "\n",
        "First, load the dataset, which is [available on Kaggle](https://www.kaggle.com/hugodarwood/epirecipes). You'll use the CSV file here; start by pulling out column names and some summary statistics for ratings."
      ]
    },
    {
      "cell_type": "code",
      "execution_count": 2,
      "metadata": {
        "run_control": {
          "frozen": false,
          "read_only": false
        },
        "id": "reyxH6ZhH0_L"
      },
      "outputs": [],
      "source": [
        "raw_data = pd.read_csv('https://tf-assets-prod.s3.amazonaws.com/tf-curric/data-science/epi_r.csv')"
      ]
    },
    {
      "cell_type": "code",
      "execution_count": 3,
      "metadata": {
        "run_control": {
          "frozen": false,
          "read_only": false
        },
        "scrolled": true,
        "colab": {
          "base_uri": "https://localhost:8080/"
        },
        "id": "qGpPh71MH0_L",
        "outputId": "1d7a221d-65ce-4d38-acf8-65dbc7d27d86"
      },
      "outputs": [
        {
          "output_type": "execute_result",
          "data": {
            "text/plain": [
              "['title',\n",
              " 'rating',\n",
              " 'calories',\n",
              " 'protein',\n",
              " 'fat',\n",
              " 'sodium',\n",
              " '#cakeweek',\n",
              " '#wasteless',\n",
              " '22-minute meals',\n",
              " '3-ingredient recipes',\n",
              " '30 days of groceries',\n",
              " 'advance prep required',\n",
              " 'alabama',\n",
              " 'alaska',\n",
              " 'alcoholic',\n",
              " 'almond',\n",
              " 'amaretto',\n",
              " 'anchovy',\n",
              " 'anise',\n",
              " 'anniversary',\n",
              " 'anthony bourdain',\n",
              " 'aperitif',\n",
              " 'appetizer',\n",
              " 'apple',\n",
              " 'apple juice',\n",
              " 'apricot',\n",
              " 'arizona',\n",
              " 'artichoke',\n",
              " 'arugula',\n",
              " 'asian pear',\n",
              " 'asparagus',\n",
              " 'aspen',\n",
              " 'atlanta',\n",
              " 'australia',\n",
              " 'avocado',\n",
              " 'back to school',\n",
              " 'backyard bbq',\n",
              " 'bacon',\n",
              " 'bake',\n",
              " 'banana',\n",
              " 'barley',\n",
              " 'basil',\n",
              " 'bass',\n",
              " 'bastille day',\n",
              " 'bean',\n",
              " 'beef',\n",
              " 'beef rib',\n",
              " 'beef shank',\n",
              " 'beef tenderloin',\n",
              " 'beer',\n",
              " 'beet',\n",
              " 'bell pepper',\n",
              " 'berry',\n",
              " 'beverly hills',\n",
              " 'birthday',\n",
              " 'biscuit',\n",
              " 'bitters',\n",
              " 'blackberry',\n",
              " 'blender',\n",
              " 'blue cheese',\n",
              " 'blueberry',\n",
              " 'boil',\n",
              " 'bok choy',\n",
              " 'bon appétit',\n",
              " 'bon app��tit',\n",
              " 'boston',\n",
              " 'bourbon',\n",
              " 'braise',\n",
              " 'bran',\n",
              " 'brandy',\n",
              " 'bread',\n",
              " 'breadcrumbs',\n",
              " 'breakfast',\n",
              " 'brie',\n",
              " 'brine',\n",
              " 'brisket',\n",
              " 'broccoli',\n",
              " 'broccoli rabe',\n",
              " 'broil',\n",
              " 'brooklyn',\n",
              " 'brown rice',\n",
              " 'brownie',\n",
              " 'brunch',\n",
              " 'brussel sprout',\n",
              " 'buffalo',\n",
              " 'buffet',\n",
              " 'bulgaria',\n",
              " 'bulgur',\n",
              " 'burrito',\n",
              " 'butter',\n",
              " 'buttermilk',\n",
              " 'butternut squash',\n",
              " 'butterscotch/caramel',\n",
              " 'cabbage',\n",
              " 'cake',\n",
              " 'california',\n",
              " 'calvados',\n",
              " 'cambridge',\n",
              " 'campari',\n",
              " 'camping',\n",
              " 'canada',\n",
              " 'candy',\n",
              " 'candy thermometer',\n",
              " 'cantaloupe',\n",
              " 'capers',\n",
              " 'caraway',\n",
              " 'cardamom',\n",
              " 'carrot',\n",
              " 'cashew',\n",
              " 'casserole/gratin',\n",
              " 'cauliflower',\n",
              " 'caviar',\n",
              " 'celery',\n",
              " 'chambord',\n",
              " 'champagne',\n",
              " 'chard',\n",
              " 'chartreuse',\n",
              " 'cheddar',\n",
              " 'cheese',\n",
              " 'cherry',\n",
              " 'chestnut',\n",
              " 'chicago',\n",
              " 'chicken',\n",
              " 'chickpea',\n",
              " 'chile',\n",
              " 'chile pepper',\n",
              " 'chili',\n",
              " 'chill',\n",
              " 'chive',\n",
              " 'chocolate',\n",
              " 'christmas',\n",
              " 'christmas eve',\n",
              " 'cilantro',\n",
              " 'cinco de mayo',\n",
              " 'cinnamon',\n",
              " 'citrus',\n",
              " 'clam',\n",
              " 'clove',\n",
              " 'cobbler/crumble',\n",
              " 'cocktail',\n",
              " 'cocktail party',\n",
              " 'coconut',\n",
              " 'cod',\n",
              " 'coffee',\n",
              " 'coffee grinder',\n",
              " 'cognac/armagnac',\n",
              " 'collard greens',\n",
              " 'colorado',\n",
              " 'columbus',\n",
              " 'condiment',\n",
              " 'condiment/spread',\n",
              " 'connecticut',\n",
              " 'cook like a diner',\n",
              " 'cookbook critic',\n",
              " 'cookie',\n",
              " 'cookies',\n",
              " 'coriander',\n",
              " 'corn',\n",
              " 'cornmeal',\n",
              " 'costa mesa',\n",
              " 'cottage cheese',\n",
              " 'couscous',\n",
              " 'crab',\n",
              " 'cranberry',\n",
              " 'cranberry sauce',\n",
              " 'cream cheese',\n",
              " 'créme de cacao',\n",
              " 'crêpe',\n",
              " 'cr��me de cacao',\n",
              " 'cuba',\n",
              " 'cucumber',\n",
              " 'cumin',\n",
              " 'cupcake',\n",
              " 'currant',\n",
              " 'curry',\n",
              " 'custard',\n",
              " 'dairy',\n",
              " 'dairy free',\n",
              " 'dallas',\n",
              " 'date',\n",
              " 'deep-fry',\n",
              " 'denver',\n",
              " 'dessert',\n",
              " 'digestif',\n",
              " 'dill',\n",
              " 'dinner',\n",
              " 'dip',\n",
              " 'diwali',\n",
              " 'dominican republic',\n",
              " 'dorie greenspan',\n",
              " 'double boiler',\n",
              " 'dried fruit',\n",
              " 'drink',\n",
              " 'drinks',\n",
              " 'duck',\n",
              " 'easter',\n",
              " 'eau de vie',\n",
              " 'edible gift',\n",
              " 'egg',\n",
              " 'egg nog',\n",
              " 'eggplant',\n",
              " 'egypt',\n",
              " 'emeril lagasse',\n",
              " 'endive',\n",
              " 'engagement party',\n",
              " 'england',\n",
              " 'entertaining',\n",
              " 'epi + ushg',\n",
              " 'epi loves the microwave',\n",
              " 'escarole',\n",
              " 'fall',\n",
              " 'family reunion',\n",
              " 'fat free',\n",
              " \"father's day\",\n",
              " 'fennel',\n",
              " 'feta',\n",
              " 'fig',\n",
              " 'fish',\n",
              " 'flaming hot summer',\n",
              " 'flat bread',\n",
              " 'florida',\n",
              " 'fontina',\n",
              " 'food processor',\n",
              " 'fortified wine',\n",
              " 'fourth of july',\n",
              " 'france',\n",
              " 'frangelico',\n",
              " 'frankenrecipe',\n",
              " 'freeze/chill',\n",
              " 'freezer food',\n",
              " 'friendsgiving',\n",
              " 'frittata',\n",
              " 'fritter',\n",
              " 'frozen dessert',\n",
              " 'fruit',\n",
              " 'fruit juice',\n",
              " 'fry',\n",
              " 'game',\n",
              " 'garlic',\n",
              " 'georgia',\n",
              " 'germany',\n",
              " 'gin',\n",
              " 'ginger',\n",
              " 'goat cheese',\n",
              " 'goose',\n",
              " 'gouda',\n",
              " 'gourmet',\n",
              " 'graduation',\n",
              " 'grains',\n",
              " 'grand marnier',\n",
              " 'granola',\n",
              " 'grape',\n",
              " 'grapefruit',\n",
              " 'grappa',\n",
              " 'green bean',\n",
              " 'green onion/scallion',\n",
              " 'grill',\n",
              " 'grill/barbecue',\n",
              " 'ground beef',\n",
              " 'ground lamb',\n",
              " 'guam',\n",
              " 'guava',\n",
              " 'haiti',\n",
              " 'halibut',\n",
              " 'halloween',\n",
              " 'ham',\n",
              " 'hamburger',\n",
              " 'hanukkah',\n",
              " 'harpercollins',\n",
              " 'hawaii',\n",
              " 'hazelnut',\n",
              " 'healdsburg',\n",
              " 'healthy',\n",
              " 'herb',\n",
              " 'high fiber',\n",
              " 'hollywood',\n",
              " 'hominy/cornmeal/masa',\n",
              " 'honey',\n",
              " 'honeydew',\n",
              " \"hors d'oeuvre\",\n",
              " 'horseradish',\n",
              " 'hot drink',\n",
              " 'hot pepper',\n",
              " 'house & garden',\n",
              " 'house cocktail',\n",
              " 'houston',\n",
              " 'hummus',\n",
              " 'ice cream',\n",
              " 'ice cream machine',\n",
              " 'iced coffee',\n",
              " 'iced tea',\n",
              " 'idaho',\n",
              " 'illinois',\n",
              " 'indiana',\n",
              " 'iowa',\n",
              " 'ireland',\n",
              " 'israel',\n",
              " 'italy',\n",
              " 'jalapeño',\n",
              " 'jam or jelly',\n",
              " 'jamaica',\n",
              " 'japan',\n",
              " 'jerusalem artichoke',\n",
              " 'juicer',\n",
              " 'jícama',\n",
              " 'kahlúa',\n",
              " 'kale',\n",
              " 'kansas',\n",
              " 'kansas city',\n",
              " 'kentucky',\n",
              " 'kentucky derby',\n",
              " 'kid-friendly',\n",
              " 'kidney friendly',\n",
              " 'kirsch',\n",
              " 'kitchen olympics',\n",
              " 'kiwi',\n",
              " 'kosher',\n",
              " 'kosher for passover',\n",
              " 'kumquat',\n",
              " 'kwanzaa',\n",
              " 'labor day',\n",
              " 'lamb',\n",
              " 'lamb chop',\n",
              " 'lamb shank',\n",
              " 'lancaster',\n",
              " 'las vegas',\n",
              " 'lasagna',\n",
              " 'leafy green',\n",
              " 'leek',\n",
              " 'legume',\n",
              " 'lemon',\n",
              " 'lemon juice',\n",
              " 'lemongrass',\n",
              " 'lentil',\n",
              " 'lettuce',\n",
              " 'lima bean',\n",
              " 'lime',\n",
              " 'lime juice',\n",
              " 'lingonberry',\n",
              " 'liqueur',\n",
              " 'lobster',\n",
              " 'london',\n",
              " 'long beach',\n",
              " 'los angeles',\n",
              " 'louisiana',\n",
              " 'louisville',\n",
              " 'low cal',\n",
              " 'low carb',\n",
              " 'low cholesterol',\n",
              " 'low fat',\n",
              " 'low sodium',\n",
              " 'low sugar',\n",
              " 'low/no sugar',\n",
              " 'lunar new year',\n",
              " 'lunch',\n",
              " 'lychee',\n",
              " 'macadamia nut',\n",
              " 'macaroni and cheese',\n",
              " 'maine',\n",
              " 'mandoline',\n",
              " 'mango',\n",
              " 'maple syrup',\n",
              " 'mardi gras',\n",
              " 'margarita',\n",
              " 'marinade',\n",
              " 'marinate',\n",
              " 'marsala',\n",
              " 'marscarpone',\n",
              " 'marshmallow',\n",
              " 'martini',\n",
              " 'maryland',\n",
              " 'massachusetts',\n",
              " 'mayonnaise',\n",
              " 'meat',\n",
              " 'meatball',\n",
              " 'meatloaf',\n",
              " 'melon',\n",
              " 'mexico',\n",
              " 'mezcal',\n",
              " 'miami',\n",
              " 'michigan',\n",
              " 'microwave',\n",
              " 'midori',\n",
              " 'milk/cream',\n",
              " 'minneapolis',\n",
              " 'minnesota',\n",
              " 'mint',\n",
              " 'mississippi',\n",
              " 'missouri',\n",
              " 'mixer',\n",
              " 'molasses',\n",
              " 'monterey jack',\n",
              " 'mortar and pestle',\n",
              " \"mother's day\",\n",
              " 'mozzarella',\n",
              " 'muffin',\n",
              " 'mushroom',\n",
              " 'mussel',\n",
              " 'mustard',\n",
              " 'mustard greens',\n",
              " 'nancy silverton',\n",
              " 'nebraska',\n",
              " 'nectarine',\n",
              " 'new hampshire',\n",
              " 'new jersey',\n",
              " 'new mexico',\n",
              " 'new orleans',\n",
              " \"new year's day\",\n",
              " \"new year's eve\",\n",
              " 'new york',\n",
              " 'no meat, no problem',\n",
              " 'no sugar added',\n",
              " 'no-cook',\n",
              " 'non-alcoholic',\n",
              " 'noodle',\n",
              " 'north carolina',\n",
              " 'nut',\n",
              " 'nutmeg',\n",
              " 'oat',\n",
              " 'oatmeal',\n",
              " 'octopus',\n",
              " 'ohio',\n",
              " 'oklahoma',\n",
              " 'okra',\n",
              " 'oktoberfest',\n",
              " 'olive',\n",
              " 'omelet',\n",
              " 'one-pot meal',\n",
              " 'onion',\n",
              " 'orange',\n",
              " 'orange juice',\n",
              " 'oregano',\n",
              " 'oregon',\n",
              " 'organic',\n",
              " 'orzo',\n",
              " 'oscars',\n",
              " 'oyster',\n",
              " 'pacific palisades',\n",
              " 'paleo',\n",
              " 'pan-fry',\n",
              " 'pancake',\n",
              " 'papaya',\n",
              " 'paprika',\n",
              " 'parade',\n",
              " 'paris',\n",
              " 'parmesan',\n",
              " 'parsley',\n",
              " 'parsnip',\n",
              " 'party',\n",
              " 'pasadena',\n",
              " 'passion fruit',\n",
              " 'passover',\n",
              " 'pasta',\n",
              " 'pasta maker',\n",
              " 'pastry',\n",
              " 'pea',\n",
              " 'peach',\n",
              " 'peanut',\n",
              " 'peanut butter',\n",
              " 'peanut free',\n",
              " 'pear',\n",
              " 'pecan',\n",
              " 'pennsylvania',\n",
              " 'pepper',\n",
              " 'pernod',\n",
              " 'persian new year',\n",
              " 'persimmon',\n",
              " 'peru',\n",
              " 'pescatarian',\n",
              " 'philippines',\n",
              " 'phyllo/puff pastry dough',\n",
              " 'pickles',\n",
              " 'picnic',\n",
              " 'pie',\n",
              " 'pine nut',\n",
              " 'pineapple',\n",
              " 'pistachio',\n",
              " 'pittsburgh',\n",
              " 'pizza',\n",
              " 'plantain',\n",
              " 'plum',\n",
              " 'poach',\n",
              " 'poblano',\n",
              " 'poker/game night',\n",
              " 'pomegranate',\n",
              " 'pomegranate juice',\n",
              " 'poppy',\n",
              " 'pork',\n",
              " 'pork chop',\n",
              " 'pork rib',\n",
              " 'pork tenderloin',\n",
              " 'port',\n",
              " 'portland',\n",
              " 'pot pie',\n",
              " 'potato',\n",
              " 'potato salad',\n",
              " 'potluck',\n",
              " 'poultry',\n",
              " 'poultry sausage',\n",
              " 'pressure cooker',\n",
              " 'prosciutto',\n",
              " 'providence',\n",
              " 'prune',\n",
              " 'pumpkin',\n",
              " 'punch',\n",
              " 'purim',\n",
              " 'quail',\n",
              " 'quiche',\n",
              " 'quick & easy',\n",
              " 'quick and healthy',\n",
              " 'quince',\n",
              " 'quinoa',\n",
              " 'rabbit',\n",
              " 'rack of lamb',\n",
              " 'radicchio',\n",
              " 'radish',\n",
              " 'raisin',\n",
              " 'ramadan',\n",
              " 'ramekin',\n",
              " 'raspberry',\n",
              " 'raw',\n",
              " 'red wine',\n",
              " 'rhode island',\n",
              " 'rhubarb',\n",
              " 'rice',\n",
              " 'ricotta',\n",
              " 'roast',\n",
              " 'root vegetable',\n",
              " 'rosemary',\n",
              " 'rosh hashanah/yom kippur',\n",
              " 'rosé',\n",
              " 'rub',\n",
              " 'rum',\n",
              " 'rutabaga',\n",
              " 'rye',\n",
              " 'saffron',\n",
              " 'sage',\n",
              " 'sake',\n",
              " 'salad',\n",
              " 'salad dressing',\n",
              " 'salmon',\n",
              " 'salsa',\n",
              " 'san francisco',\n",
              " 'sandwich',\n",
              " 'sandwich theory',\n",
              " 'sangria',\n",
              " 'santa monica',\n",
              " 'sardine',\n",
              " 'sauce',\n",
              " 'sausage',\n",
              " 'sauté',\n",
              " 'scallop',\n",
              " 'scotch',\n",
              " 'seafood',\n",
              " 'seattle',\n",
              " 'seed',\n",
              " 'self',\n",
              " 'semolina',\n",
              " 'sesame',\n",
              " 'sesame oil',\n",
              " 'shallot',\n",
              " 'shavuot',\n",
              " 'shellfish',\n",
              " 'sherry',\n",
              " 'shower',\n",
              " 'shrimp',\n",
              " 'side',\n",
              " 'simmer',\n",
              " 'skewer',\n",
              " 'slow cooker',\n",
              " 'smoker',\n",
              " 'smoothie',\n",
              " 'snapper',\n",
              " 'sorbet',\n",
              " 'soufflé/meringue',\n",
              " 'soup/stew',\n",
              " 'sour cream',\n",
              " 'sourdough',\n",
              " 'south carolina',\n",
              " 'soy',\n",
              " 'soy free',\n",
              " 'soy sauce',\n",
              " 'spain',\n",
              " 'sparkling wine',\n",
              " 'spice',\n",
              " 'spinach',\n",
              " 'spirit',\n",
              " 'spring',\n",
              " 'spritzer',\n",
              " 'squash',\n",
              " 'squid',\n",
              " 'st. louis',\n",
              " \"st. patrick's day\",\n",
              " 'steak',\n",
              " 'steam',\n",
              " 'stew',\n",
              " 'stir-fry',\n",
              " 'stock',\n",
              " 'strawberry',\n",
              " 'stuffing/dressing',\n",
              " 'sugar conscious',\n",
              " 'sugar snap pea',\n",
              " 'sukkot',\n",
              " 'summer',\n",
              " 'super bowl',\n",
              " 'suzanne goin',\n",
              " 'sweet potato/yam',\n",
              " 'swiss cheese',\n",
              " 'switzerland',\n",
              " 'swordfish',\n",
              " 'taco',\n",
              " 'tailgating',\n",
              " 'tamarind',\n",
              " 'tangerine',\n",
              " 'tapioca',\n",
              " 'tarragon',\n",
              " 'tart',\n",
              " 'tea',\n",
              " 'tennessee',\n",
              " 'tequila',\n",
              " 'tested & improved',\n",
              " 'texas',\n",
              " 'thanksgiving',\n",
              " 'thyme',\n",
              " 'tilapia',\n",
              " 'tofu',\n",
              " 'tomatillo',\n",
              " 'tomato',\n",
              " 'tortillas',\n",
              " 'tree nut',\n",
              " 'tree nut free',\n",
              " 'triple sec',\n",
              " 'tropical fruit',\n",
              " 'trout',\n",
              " 'tuna',\n",
              " 'turnip',\n",
              " 'utah',\n",
              " \"valentine's day\",\n",
              " 'vanilla',\n",
              " 'veal',\n",
              " 'vegan',\n",
              " 'vegetable',\n",
              " 'vegetarian',\n",
              " 'venison',\n",
              " 'vermont',\n",
              " 'vermouth',\n",
              " 'vinegar',\n",
              " 'virginia',\n",
              " 'vodka',\n",
              " 'waffle',\n",
              " 'walnut',\n",
              " 'wasabi',\n",
              " 'washington',\n",
              " 'washington, d.c.',\n",
              " 'watercress',\n",
              " 'watermelon',\n",
              " 'wedding',\n",
              " 'weelicious',\n",
              " 'west virginia',\n",
              " 'westwood',\n",
              " 'wheat/gluten-free',\n",
              " 'whiskey',\n",
              " 'white wine',\n",
              " 'whole wheat',\n",
              " 'wild rice',\n",
              " 'windsor',\n",
              " 'wine',\n",
              " 'winter',\n",
              " 'wisconsin',\n",
              " 'wok',\n",
              " 'yellow squash',\n",
              " 'yogurt',\n",
              " 'yonkers',\n",
              " 'yuca',\n",
              " 'zucchini',\n",
              " 'cookbooks',\n",
              " 'leftovers',\n",
              " 'snack',\n",
              " 'snack week',\n",
              " 'turkey']"
            ]
          },
          "metadata": {},
          "execution_count": 3
        }
      ],
      "source": [
        "list(raw_data.columns)"
      ]
    },
    {
      "cell_type": "code",
      "execution_count": 4,
      "metadata": {
        "run_control": {
          "frozen": false,
          "read_only": false
        },
        "scrolled": true,
        "colab": {
          "base_uri": "https://localhost:8080/"
        },
        "id": "JFzLcdDaH0_M",
        "outputId": "0975107f-a60d-420f-dd6f-76e20ea05da5"
      },
      "outputs": [
        {
          "output_type": "execute_result",
          "data": {
            "text/plain": [
              "count    20052.000000\n",
              "mean         3.714467\n",
              "std          1.340829\n",
              "min          0.000000\n",
              "25%          3.750000\n",
              "50%          4.375000\n",
              "75%          4.375000\n",
              "max          5.000000\n",
              "Name: rating, dtype: float64"
            ]
          },
          "metadata": {},
          "execution_count": 4
        }
      ],
      "source": [
        "raw_data.rating.describe()"
      ]
    },
    {
      "cell_type": "markdown",
      "metadata": {
        "run_control": {
          "frozen": false,
          "read_only": false
        },
        "id": "S6h24SH7H0_N"
      },
      "source": [
        "You can learn a few things from this analysis. From a ratings perspective, there are just over 20,000 recipes, with an average rating of 3.71. What is interesting is that the twenty-fifth percentile is actually above the mean. This means that there is likely some kind of outlier population. This makes sense when you think about reviews; some bad recipes may have very few, very low reviews.\n",
        "\n",
        "Now, use a histogram to validate that idea a bit further."
      ]
    },
    {
      "cell_type": "code",
      "execution_count": 5,
      "metadata": {
        "run_control": {
          "frozen": false,
          "read_only": false
        },
        "colab": {
          "base_uri": "https://localhost:8080/",
          "height": 452
        },
        "id": "-xGG8lGwH0_N",
        "outputId": "4fa9695b-815c-4d4b-95d6-808fec68172a"
      },
      "outputs": [
        {
          "output_type": "display_data",
          "data": {
            "text/plain": [
              "<Figure size 640x480 with 1 Axes>"
            ],
            "image/png": "[encoded data removed]"
          },
          "metadata": {}
        }
      ],
      "source": [
        "raw_data.rating.hist(bins=20)\n",
        "plt.title('Histogram of Recipe Ratings')\n",
        "plt.show()"
      ]
    },
    {
      "cell_type": "markdown",
      "metadata": {
        "run_control": {
          "frozen": false,
          "read_only": false
        },
        "id": "akQ4cbMRH0_O"
      },
      "source": [
        "This histogram reveals a few things. Firstly, there are sharp discontinuities. You don't have continuous data. No recipe has a 3.5 rating, for example. Also, you can see the anticipated increase at 0.\n",
        "\n",
        "Now, try a naive approach again, this time using an SVM regressor. But first, you'll have to do a bit of data cleaning."
      ]
    },
    {
      "cell_type": "code",
      "execution_count": 6,
      "metadata": {
        "run_control": {
          "frozen": false,
          "read_only": false
        },
        "colab": {
          "base_uri": "https://localhost:8080/"
        },
        "id": "rMjcZq3qH0_O",
        "outputId": "d89351c1-d6e2-4651-c9f5-b1e703fc80c3"
      },
      "outputs": [
        {
          "output_type": "execute_result",
          "data": {
            "text/plain": [
              "calories    4117\n",
              "protein     4162\n",
              "fat         4183\n",
              "sodium      4119\n",
              "dtype: int64"
            ]
          },
          "metadata": {},
          "execution_count": 6
        }
      ],
      "source": [
        "# Count the nulls\n",
        "null_count = raw_data.isnull().sum()\n",
        "null_count[null_count>0]"
      ]
    },
    {
      "cell_type": "markdown",
      "metadata": {
        "run_control": {
          "frozen": false,
          "read_only": false
        },
        "id": "xUyObcbkH0_P"
      },
      "source": [
        "What you can see right away is that nutrition information is not available for all goods. This would be an interesting data point, but focus on ingredients and keywords right now. So go ahead and drop the whole columns for calories, protein, fat, and sodium. You'll come back to nutrition information later."
      ]
    },
    {
      "cell_type": "code",
      "execution_count": 7,
      "metadata": {
        "run_control": {
          "frozen": false,
          "read_only": false
        },
        "colab": {
          "base_uri": "https://localhost:8080/",
          "height": 110
        },
        "id": "A9E7rHLxH0_P",
        "outputId": "c0d550a5-6f4c-4d0d-9768-76402b15458c"
      },
      "outputs": [
        {
          "output_type": "stream",
          "name": "stderr",
          "text": [
            "<ipython-input-7-87ef74f6ea6b>:3: FutureWarning: In a future version of pandas all arguments of DataFrame.drop except for the argument 'labels' will be keyword-only.\n",
            "  X = raw_data.drop(['rating', 'title', 'calories', 'protein', 'fat', 'sodium'], 1).sample(frac=0.3, replace=True, random_state=1)\n"
          ]
        },
        {
          "output_type": "execute_result",
          "data": {
            "text/plain": [
              "SVR()"
            ],
            "text/html": [
              "<style>#sk-container-id-1 {color: black;background-color: white;}#sk-container-id-1 pre{padding: 0;}#sk-container-id-1 div.sk-toggleable {background-color: white;}#sk-container-id-1 label.sk-toggleable__label {cursor: pointer;display: block;width: 100%;margin-bottom: 0;padding: 0.3em;box-sizing: border-box;text-align: center;}#sk-container-id-1 label.sk-toggleable__label-arrow:before {content: \"▸\";float: left;margin-right: 0.25em;color: #696969;}#sk-container-id-1 label.sk-toggleable__label-arrow:hover:before {color: black;}#sk-container-id-1 div.sk-estimator:hover label.sk-toggleable__label-arrow:before {color: black;}#sk-container-id-1 div.sk-toggleable__content {max-height: 0;max-width: 0;overflow: hidden;text-align: left;background-color: #f0f8ff;}#sk-container-id-1 div.sk-toggleable__content pre {margin: 0.2em;color: black;border-radius: 0.25em;background-color: #f0f8ff;}#sk-container-id-1 input.sk-toggleable__control:checked~div.sk-toggleable__content {max-height: 200px;max-width: 100%;overflow: auto;}#sk-container-id-1 input.sk-toggleable__control:checked~label.sk-toggleable__label-arrow:before {content: \"▾\";}#sk-container-id-1 div.sk-estimator input.sk-toggleable__control:checked~label.sk-toggleable__label {background-color: #d4ebff;}#sk-container-id-1 div.sk-label input.sk-toggleable__control:checked~label.sk-toggleable__label {background-color: #d4ebff;}#sk-container-id-1 input.sk-hidden--visually {border: 0;clip: rect(1px 1px 1px 1px);clip: rect(1px, 1px, 1px, 1px);height: 1px;margin: -1px;overflow: hidden;padding: 0;position: absolute;width: 1px;}#sk-container-id-1 div.sk-estimator {font-family: monospace;background-color: #f0f8ff;border: 1px dotted black;border-radius: 0.25em;box-sizing: border-box;margin-bottom: 0.5em;}#sk-container-id-1 div.sk-estimator:hover {background-color: #d4ebff;}#sk-container-id-1 div.sk-parallel-item::after {content: \"\";width: 100%;border-bottom: 1px solid gray;flex-grow: 1;}#sk-container-id-1 div.sk-label:hover label.sk-toggleable__label {background-color: #d4ebff;}#sk-container-id-1 div.sk-serial::before {content: \"\";position: absolute;border-left: 1px solid gray;box-sizing: border-box;top: 0;bottom: 0;left: 50%;z-index: 0;}#sk-container-id-1 div.sk-serial {display: flex;flex-direction: column;align-items: center;background-color: white;padding-right: 0.2em;padding-left: 0.2em;position: relative;}#sk-container-id-1 div.sk-item {position: relative;z-index: 1;}#sk-container-id-1 div.sk-parallel {display: flex;align-items: stretch;justify-content: center;background-color: white;position: relative;}#sk-container-id-1 div.sk-item::before, #sk-container-id-1 div.sk-parallel-item::before {content: \"\";position: absolute;border-left: 1px solid gray;box-sizing: border-box;top: 0;bottom: 0;left: 50%;z-index: -1;}#sk-container-id-1 div.sk-parallel-item {display: flex;flex-direction: column;z-index: 1;position: relative;background-color: white;}#sk-container-id-1 div.sk-parallel-item:first-child::after {align-self: flex-end;width: 50%;}#sk-container-id-1 div.sk-parallel-item:last-child::after {align-self: flex-start;width: 50%;}#sk-container-id-1 div.sk-parallel-item:only-child::after {width: 0;}#sk-container-id-1 div.sk-dashed-wrapped {border: 1px dashed gray;margin: 0 0.4em 0.5em 0.4em;box-sizing: border-box;padding-bottom: 0.4em;background-color: white;}#sk-container-id-1 div.sk-label label {font-family: monospace;font-weight: bold;display: inline-block;line-height: 1.2em;}#sk-container-id-1 div.sk-label-container {text-align: center;}#sk-container-id-1 div.sk-container {/* jupyter's `normalize.less` sets `[hidden] { display: none; }` but bootstrap.min.css set `[hidden] { display: none !important; }` so we also need the `!important` here to be able to override the default hidden behavior on the sphinx rendered scikit-learn.org. See: https://github.com/scikit-learn/scikit-learn/issues/21755 */display: inline-block !important;position: relative;}#sk-container-id-1 div.sk-text-repr-fallback {display: none;}</style><div id=\"sk-container-id-1\" class=\"sk-top-container\"><div class=\"sk-text-repr-fallback\"><pre>SVR()</pre><b>In a Jupyter environment, please rerun this cell to show the HTML representation or trust the notebook. <br />On GitHub, the HTML representation is unable to render, please try loading this page with nbviewer.org.</b></div><div class=\"sk-container\" hidden><div class=\"sk-item\"><div class=\"sk-estimator sk-toggleable\"><input class=\"sk-toggleable__control sk-hidden--visually\" id=\"sk-estimator-id-1\" type=\"checkbox\" checked><label for=\"sk-estimator-id-1\" class=\"sk-toggleable__label sk-toggleable__label-arrow\">SVR</label><div class=\"sk-toggleable__content\"><pre>SVR()</pre></div></div></div></div></div>"
            ]
          },
          "metadata": {},
          "execution_count": 7
        }
      ],
      "source": [
        "from sklearn.svm import SVR\n",
        "svr = SVR()\n",
        "X = raw_data.drop(['rating', 'title', 'calories', 'protein', 'fat', 'sodium'], 1).sample(frac=0.3, replace=True, random_state=1)\n",
        "Y = raw_data.rating.sample(frac=0.3, replace=True, random_state=1)\n",
        "svr.fit(X,Y)"
      ]
    },
    {
      "cell_type": "markdown",
      "metadata": {
        "run_control": {
          "frozen": false,
          "read_only": false
        },
        "id": "hs7AzpUuH0_Q"
      },
      "source": [
        "Note that this actually takes quite a while to run, compared to some of the models that you've done before. Be patient—it's because of the number of features that you have.\n",
        "\n",
        "Now, see what a scatter plot looks like if you compare actual ratings to predicted ratings:"
      ]
    },
    {
      "cell_type": "code",
      "execution_count": 8,
      "metadata": {
        "run_control": {
          "frozen": false,
          "read_only": false
        },
        "colab": {
          "base_uri": "https://localhost:8080/",
          "height": 448
        },
        "id": "xnDln6I-H0_Q",
        "outputId": "2de50377-3927-4ae4-f31c-687d453da45a"
      },
      "outputs": [
        {
          "output_type": "execute_result",
          "data": {
            "text/plain": [
              "<matplotlib.collections.PathCollection at 0x791122544550>"
            ]
          },
          "metadata": {},
          "execution_count": 8
        },
        {
          "output_type": "display_data",
          "data": {
            "text/plain": [
              "<Figure size 640x480 with 1 Axes>"
            ],
            "image/png": "[encoded data removed]"
          },
          "metadata": {}
        }
      ],
      "source": [
        "plt.scatter(Y, svr.predict(X))"
      ]
    },
    {
      "cell_type": "markdown",
      "metadata": {
        "run_control": {
          "frozen": false,
          "read_only": false
        },
        "id": "PFczwVCEH0_Q"
      },
      "source": [
        "Now, that is a pretty useless visualization. This is because of the discontinuous nature of the outcome variable. There's too much data for you to really see what's going on here. If you wanted to look at it, you could create histograms. But here, you'll move on to the scores of both the full-fit model and the model with cross-validation. Again, if you choose to run it again, it will take some time—so you probably shouldn't run it again."
      ]
    },
    {
      "cell_type": "code",
      "execution_count": 9,
      "metadata": {
        "run_control": {
          "frozen": false,
          "read_only": false
        },
        "colab": {
          "base_uri": "https://localhost:8080/"
        },
        "id": "ZpQ8ifALH0_R",
        "outputId": "7fc7ea02-00d0-40c8-b47e-0de23b244214"
      },
      "outputs": [
        {
          "output_type": "execute_result",
          "data": {
            "text/plain": [
              "0.40998459138007937"
            ]
          },
          "metadata": {},
          "execution_count": 9
        }
      ],
      "source": [
        "svr.score(X, Y)"
      ]
    },
    {
      "cell_type": "code",
      "execution_count": 10,
      "metadata": {
        "run_control": {
          "frozen": false,
          "read_only": false
        },
        "colab": {
          "base_uri": "https://localhost:8080/"
        },
        "id": "4mtosaTtH0_R",
        "outputId": "d6252f51-5739-4308-e8b7-485c04c832a4"
      },
      "outputs": [
        {
          "output_type": "execute_result",
          "data": {
            "text/plain": [
              "array([0.19563385, 0.14683481, 0.15013401, 0.13597791, 0.16082192])"
            ]
          },
          "metadata": {},
          "execution_count": 10
        }
      ],
      "source": [
        "from sklearn.model_selection import cross_val_score\n",
        "cross_val_score(svr, X, Y, cv=5)"
      ]
    },
    {
      "cell_type": "markdown",
      "metadata": {
        "run_control": {
          "frozen": false,
          "read_only": false
        },
        "id": "hfiUTDg7H0_R"
      },
      "source": [
        "Oh dear, this does not seem to have worked very well. In fact, it is remarkably poor! There are many things that you could do here:\n",
        "\n",
        "* **Approach 1:** The overfit is a problem, even though it was poor in the first place. You could go back and clean up your feature set. There might be some gains to be made by getting rid of the noise.\n",
        "\n",
        "* **Approach 2:** You could also try removing the nulls but including dietary information, and see how that performs. Though it's a slight change to the question, you could still possibly get some improvements there.\n",
        "\n",
        "* **Approach 3:** Also, you could take your regression problem and turn it into a classifier. With this number of features and a discontinuous outcome, you might have better luck thinking of this as a classification problem. You could make it simpler still if, instead of classifying on each possible value, you group reviews to some specific high and low values.\n",
        "\n",
        "**Challenge:** Transform this regression problem into a binary classifier and clean up the feature set. You can choose whether or not to include nutritional information, but try to cut your feature set down to the 30 most valuable features.\n"
      ]
    },
    {
      "cell_type": "markdown",
      "metadata": {
        "run_control": {
          "frozen": false,
          "read_only": false
        },
        "id": "nh8tGfDhH0_S"
      },
      "source": [
        "When you've finished that, also take a moment to think about bias. Is there anything in this dataset that makes you think that it could be biased, perhaps extremely so? There is. There are several things, in fact. But most glaringly, you don't actually have a random sample. It could be, and probably is, that the people more likely to choose some kinds of recipes are also more likely to give high reviews. After all, people who eat chocolate might just be happier people."
      ]
    },
    {
      "cell_type": "markdown",
      "source": [
        "First, we will isolate the target variable `rating` and look at scores."
      ],
      "metadata": {
        "id": "ix-fynoTLEri"
      }
    },
    {
      "cell_type": "code",
      "source": [
        "raw_data['rating'].value_counts()"
      ],
      "metadata": {
        "colab": {
          "base_uri": "https://localhost:8080/"
        },
        "id": "TiPZWWddK7Ut",
        "outputId": "b974c3b3-a8cf-4d66-fb37-29c1e78b70bc"
      },
      "execution_count": 11,
      "outputs": [
        {
          "output_type": "execute_result",
          "data": {
            "text/plain": [
              "4.375    8019\n",
              "3.750    5169\n",
              "5.000    2719\n",
              "0.000    1836\n",
              "3.125    1489\n",
              "2.500     532\n",
              "1.250     164\n",
              "1.875     124\n",
              "Name: rating, dtype: int64"
            ]
          },
          "metadata": {},
          "execution_count": 11
        }
      ]
    },
    {
      "cell_type": "markdown",
      "source": [
        "We can now turn our regression problem into a classifier problem."
      ],
      "metadata": {
        "id": "3ZOCIqLbLgia"
      }
    },
    {
      "cell_type": "markdown",
      "source": [
        "### Approach 3: Turn our regression problem into a classification problem.\n",
        "\n",
        "Let's change our dataset so that everything with a rating of 4.2 or higher is \"good\" and everything below a 4.2 is \"not good.\""
      ],
      "metadata": {
        "id": "zKdd6KQHLn8L"
      }
    },
    {
      "cell_type": "code",
      "source": [
        "raw_data['good'] = raw_data['rating'].apply(lambda x: 1 if x >=4.2 else 0)\n",
        "raw_data['good'].value_counts()"
      ],
      "metadata": {
        "colab": {
          "base_uri": "https://localhost:8080/"
        },
        "id": "Ew0kF0rELnbj",
        "outputId": "8072e3ff-803c-451f-d54d-57bb26765fd8"
      },
      "execution_count": 12,
      "outputs": [
        {
          "output_type": "execute_result",
          "data": {
            "text/plain": [
              "1    10738\n",
              "0     9314\n",
              "Name: good, dtype: int64"
            ]
          },
          "metadata": {},
          "execution_count": 12
        }
      ]
    },
    {
      "cell_type": "markdown",
      "source": [
        "Now let's build a Support Vector Classifier."
      ],
      "metadata": {
        "id": "SIJtEdflMqK8"
      }
    },
    {
      "cell_type": "code",
      "source": [
        "from sklearn.svm import SVC\n",
        "svc = SVC()\n",
        "X = raw_data.drop(['good','rating', 'title', 'calories', 'protein', 'fat', 'sodium'], 1).sample(frac=0.3, replace=True, random_state=1)\n",
        "Y = raw_data['good'].sample(frac=0.3, replace=True, random_state=1)\n",
        "svc.fit(X,Y)"
      ],
      "metadata": {
        "colab": {
          "base_uri": "https://localhost:8080/",
          "height": 110
        },
        "id": "mJAQpPbCMs6A",
        "outputId": "45bac0bb-ae9d-4d41-b541-e9ddf3872a31"
      },
      "execution_count": 13,
      "outputs": [
        {
          "output_type": "stream",
          "name": "stderr",
          "text": [
            "<ipython-input-13-1641227d7a7c>:3: FutureWarning: In a future version of pandas all arguments of DataFrame.drop except for the argument 'labels' will be keyword-only.\n",
            "  X = raw_data.drop(['good','rating', 'title', 'calories', 'protein', 'fat', 'sodium'], 1).sample(frac=0.3, replace=True, random_state=1)\n"
          ]
        },
        {
          "output_type": "execute_result",
          "data": {
            "text/plain": [
              "SVC()"
            ],
            "text/html": [
              "<style>#sk-container-id-2 {color: black;background-color: white;}#sk-container-id-2 pre{padding: 0;}#sk-container-id-2 div.sk-toggleable {background-color: white;}#sk-container-id-2 label.sk-toggleable__label {cursor: pointer;display: block;width: 100%;margin-bottom: 0;padding: 0.3em;box-sizing: border-box;text-align: center;}#sk-container-id-2 label.sk-toggleable__label-arrow:before {content: \"▸\";float: left;margin-right: 0.25em;color: #696969;}#sk-container-id-2 label.sk-toggleable__label-arrow:hover:before {color: black;}#sk-container-id-2 div.sk-estimator:hover label.sk-toggleable__label-arrow:before {color: black;}#sk-container-id-2 div.sk-toggleable__content {max-height: 0;max-width: 0;overflow: hidden;text-align: left;background-color: #f0f8ff;}#sk-container-id-2 div.sk-toggleable__content pre {margin: 0.2em;color: black;border-radius: 0.25em;background-color: #f0f8ff;}#sk-container-id-2 input.sk-toggleable__control:checked~div.sk-toggleable__content {max-height: 200px;max-width: 100%;overflow: auto;}#sk-container-id-2 input.sk-toggleable__control:checked~label.sk-toggleable__label-arrow:before {content: \"▾\";}#sk-container-id-2 div.sk-estimator input.sk-toggleable__control:checked~label.sk-toggleable__label {background-color: #d4ebff;}#sk-container-id-2 div.sk-label input.sk-toggleable__control:checked~label.sk-toggleable__label {background-color: #d4ebff;}#sk-container-id-2 input.sk-hidden--visually {border: 0;clip: rect(1px 1px 1px 1px);clip: rect(1px, 1px, 1px, 1px);height: 1px;margin: -1px;overflow: hidden;padding: 0;position: absolute;width: 1px;}#sk-container-id-2 div.sk-estimator {font-family: monospace;background-color: #f0f8ff;border: 1px dotted black;border-radius: 0.25em;box-sizing: border-box;margin-bottom: 0.5em;}#sk-container-id-2 div.sk-estimator:hover {background-color: #d4ebff;}#sk-container-id-2 div.sk-parallel-item::after {content: \"\";width: 100%;border-bottom: 1px solid gray;flex-grow: 1;}#sk-container-id-2 div.sk-label:hover label.sk-toggleable__label {background-color: #d4ebff;}#sk-container-id-2 div.sk-serial::before {content: \"\";position: absolute;border-left: 1px solid gray;box-sizing: border-box;top: 0;bottom: 0;left: 50%;z-index: 0;}#sk-container-id-2 div.sk-serial {display: flex;flex-direction: column;align-items: center;background-color: white;padding-right: 0.2em;padding-left: 0.2em;position: relative;}#sk-container-id-2 div.sk-item {position: relative;z-index: 1;}#sk-container-id-2 div.sk-parallel {display: flex;align-items: stretch;justify-content: center;background-color: white;position: relative;}#sk-container-id-2 div.sk-item::before, #sk-container-id-2 div.sk-parallel-item::before {content: \"\";position: absolute;border-left: 1px solid gray;box-sizing: border-box;top: 0;bottom: 0;left: 50%;z-index: -1;}#sk-container-id-2 div.sk-parallel-item {display: flex;flex-direction: column;z-index: 1;position: relative;background-color: white;}#sk-container-id-2 div.sk-parallel-item:first-child::after {align-self: flex-end;width: 50%;}#sk-container-id-2 div.sk-parallel-item:last-child::after {align-self: flex-start;width: 50%;}#sk-container-id-2 div.sk-parallel-item:only-child::after {width: 0;}#sk-container-id-2 div.sk-dashed-wrapped {border: 1px dashed gray;margin: 0 0.4em 0.5em 0.4em;box-sizing: border-box;padding-bottom: 0.4em;background-color: white;}#sk-container-id-2 div.sk-label label {font-family: monospace;font-weight: bold;display: inline-block;line-height: 1.2em;}#sk-container-id-2 div.sk-label-container {text-align: center;}#sk-container-id-2 div.sk-container {/* jupyter's `normalize.less` sets `[hidden] { display: none; }` but bootstrap.min.css set `[hidden] { display: none !important; }` so we also need the `!important` here to be able to override the default hidden behavior on the sphinx rendered scikit-learn.org. See: https://github.com/scikit-learn/scikit-learn/issues/21755 */display: inline-block !important;position: relative;}#sk-container-id-2 div.sk-text-repr-fallback {display: none;}</style><div id=\"sk-container-id-2\" class=\"sk-top-container\"><div class=\"sk-text-repr-fallback\"><pre>SVC()</pre><b>In a Jupyter environment, please rerun this cell to show the HTML representation or trust the notebook. <br />On GitHub, the HTML representation is unable to render, please try loading this page with nbviewer.org.</b></div><div class=\"sk-container\" hidden><div class=\"sk-item\"><div class=\"sk-estimator sk-toggleable\"><input class=\"sk-toggleable__control sk-hidden--visually\" id=\"sk-estimator-id-2\" type=\"checkbox\" checked><label for=\"sk-estimator-id-2\" class=\"sk-toggleable__label sk-toggleable__label-arrow\">SVC</label><div class=\"sk-toggleable__content\"><pre>SVC()</pre></div></div></div></div></div>"
            ]
          },
          "metadata": {},
          "execution_count": 13
        }
      ]
    },
    {
      "cell_type": "code",
      "source": [
        "svc.score(X, Y)"
      ],
      "metadata": {
        "colab": {
          "base_uri": "https://localhost:8080/"
        },
        "id": "6RVGMI88NKEZ",
        "outputId": "777fdb54-213c-4a68-b0f2-9a478656c958"
      },
      "execution_count": 14,
      "outputs": [
        {
          "output_type": "execute_result",
          "data": {
            "text/plain": [
              "0.8602061170212766"
            ]
          },
          "metadata": {},
          "execution_count": 14
        }
      ]
    },
    {
      "cell_type": "code",
      "source": [
        "cross_val_score(svc, X, Y, cv=5)"
      ],
      "metadata": {
        "colab": {
          "base_uri": "https://localhost:8080/"
        },
        "id": "PsxXJlziNQCU",
        "outputId": "bcac29b5-0fbe-4889-fc60-a932767dbd9f"
      },
      "execution_count": 16,
      "outputs": [
        {
          "output_type": "execute_result",
          "data": {
            "text/plain": [
              "array([0.6461794 , 0.64089776, 0.61679135, 0.65502909, 0.6641729 ])"
            ]
          },
          "metadata": {},
          "execution_count": 16
        }
      ]
    }
  ],
  "metadata": {
    "hide_input": false,
    "kernelspec": {
      "display_name": "Python 3",
      "name": "python3"
    },
    "language_info": {
      "codemirror_mode": {
        "name": "ipython",
        "version": 3
      },
      "file_extension": ".py",
      "mimetype": "text/x-python",
      "name": "python",
      "nbconvert_exporter": "python",
      "pygments_lexer": "ipython3",
      "version": "3.9.12"
    },
    "toc": {
      "colors": {
        "hover_highlight": "#DAA520",
        "running_highlight": "#FF0000",
        "selected_highlight": "#FFD700"
      },
      "moveMenuLeft": true,
      "nav_menu": {
        "height": "12px",
        "width": "252px"
      },
      "navigate_menu": true,
      "number_sections": true,
      "sideBar": true,
      "threshold": 4,
      "toc_cell": false,
      "toc_section_display": "block",
      "toc_window_display": false
    },
    "colab": {
      "provenance": [],
      "gpuType": "T4"
    },
    "accelerator": "GPU"
  },
  "nbformat": 4,
  "nbformat_minor": 0
}