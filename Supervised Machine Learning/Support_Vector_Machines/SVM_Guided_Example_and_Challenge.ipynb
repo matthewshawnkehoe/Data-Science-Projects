{
  "cells": [
    {
      "cell_type": "code",
      "execution_count": 1,
      "metadata": {
        "run_control": {
          "frozen": false,
          "read_only": false
        },
        "id": "jGRjVI8jH0_J"
      },
      "outputs": [],
      "source": [
        "import numpy as np\n",
        "import pandas as pd\n",
        "import scipy\n",
        "import matplotlib.pyplot as plt\n",
        "import seaborn as sns\n",
        "%matplotlib inline"
      ]
    },
    {
      "cell_type": "markdown",
      "metadata": {
        "run_control": {
          "frozen": false,
          "read_only": false
        },
        "id": "K6i-yA_PH0_K"
      },
      "source": [
        "Now it's time for another guided example. This time, you're going to look at recipes. Specifically, you'll use the *epicurious* dataset, which has a collection of recipes, key terms, ingredients, and ratings.\n",
        "\n",
        "What you want to see is if you can use the ingredient and keyword list to predict the rating. For someone writing a cookbook, this could be really useful information. They could use it to identify which recipes are more likely to be enjoyed, which could help them choose which recipes to include to make the book more likely to be successful.\n",
        "\n",
        "First, load the dataset, which is [available on Kaggle](https://www.kaggle.com/hugodarwood/epirecipes). You'll use the CSV file here; start by pulling out column names and some summary statistics for ratings."
      ]
    },
    {
      "cell_type": "code",
      "execution_count": 2,
      "metadata": {
        "run_control": {
          "frozen": false,
          "read_only": false
        },
        "id": "reyxH6ZhH0_L"
      },
      "outputs": [],
      "source": [
        "raw_data = pd.read_csv('https://tf-assets-prod.s3.amazonaws.com/tf-curric/data-science/epi_r.csv')"
      ]
    },
    {
      "cell_type": "code",
      "execution_count": 3,
      "metadata": {
        "run_control": {
          "frozen": false,
          "read_only": false
        },
        "scrolled": true,
        "colab": {
          "base_uri": "https://localhost:8080/"
        },
        "id": "qGpPh71MH0_L",
        "outputId": "b55bc6a7-dbbd-4af0-feb5-e2ac769ba9b6"
      },
      "outputs": [
        {
          "output_type": "execute_result",
          "data": {
            "text/plain": [
              "['title',\n",
              " 'rating',\n",
              " 'calories',\n",
              " 'protein',\n",
              " 'fat',\n",
              " 'sodium',\n",
              " '#cakeweek',\n",
              " '#wasteless',\n",
              " '22-minute meals',\n",
              " '3-ingredient recipes',\n",
              " '30 days of groceries',\n",
              " 'advance prep required',\n",
              " 'alabama',\n",
              " 'alaska',\n",
              " 'alcoholic',\n",
              " 'almond',\n",
              " 'amaretto',\n",
              " 'anchovy',\n",
              " 'anise',\n",
              " 'anniversary',\n",
              " 'anthony bourdain',\n",
              " 'aperitif',\n",
              " 'appetizer',\n",
              " 'apple',\n",
              " 'apple juice',\n",
              " 'apricot',\n",
              " 'arizona',\n",
              " 'artichoke',\n",
              " 'arugula',\n",
              " 'asian pear',\n",
              " 'asparagus',\n",
              " 'aspen',\n",
              " 'atlanta',\n",
              " 'australia',\n",
              " 'avocado',\n",
              " 'back to school',\n",
              " 'backyard bbq',\n",
              " 'bacon',\n",
              " 'bake',\n",
              " 'banana',\n",
              " 'barley',\n",
              " 'basil',\n",
              " 'bass',\n",
              " 'bastille day',\n",
              " 'bean',\n",
              " 'beef',\n",
              " 'beef rib',\n",
              " 'beef shank',\n",
              " 'beef tenderloin',\n",
              " 'beer',\n",
              " 'beet',\n",
              " 'bell pepper',\n",
              " 'berry',\n",
              " 'beverly hills',\n",
              " 'birthday',\n",
              " 'biscuit',\n",
              " 'bitters',\n",
              " 'blackberry',\n",
              " 'blender',\n",
              " 'blue cheese',\n",
              " 'blueberry',\n",
              " 'boil',\n",
              " 'bok choy',\n",
              " 'bon appétit',\n",
              " 'bon app��tit',\n",
              " 'boston',\n",
              " 'bourbon',\n",
              " 'braise',\n",
              " 'bran',\n",
              " 'brandy',\n",
              " 'bread',\n",
              " 'breadcrumbs',\n",
              " 'breakfast',\n",
              " 'brie',\n",
              " 'brine',\n",
              " 'brisket',\n",
              " 'broccoli',\n",
              " 'broccoli rabe',\n",
              " 'broil',\n",
              " 'brooklyn',\n",
              " 'brown rice',\n",
              " 'brownie',\n",
              " 'brunch',\n",
              " 'brussel sprout',\n",
              " 'buffalo',\n",
              " 'buffet',\n",
              " 'bulgaria',\n",
              " 'bulgur',\n",
              " 'burrito',\n",
              " 'butter',\n",
              " 'buttermilk',\n",
              " 'butternut squash',\n",
              " 'butterscotch/caramel',\n",
              " 'cabbage',\n",
              " 'cake',\n",
              " 'california',\n",
              " 'calvados',\n",
              " 'cambridge',\n",
              " 'campari',\n",
              " 'camping',\n",
              " 'canada',\n",
              " 'candy',\n",
              " 'candy thermometer',\n",
              " 'cantaloupe',\n",
              " 'capers',\n",
              " 'caraway',\n",
              " 'cardamom',\n",
              " 'carrot',\n",
              " 'cashew',\n",
              " 'casserole/gratin',\n",
              " 'cauliflower',\n",
              " 'caviar',\n",
              " 'celery',\n",
              " 'chambord',\n",
              " 'champagne',\n",
              " 'chard',\n",
              " 'chartreuse',\n",
              " 'cheddar',\n",
              " 'cheese',\n",
              " 'cherry',\n",
              " 'chestnut',\n",
              " 'chicago',\n",
              " 'chicken',\n",
              " 'chickpea',\n",
              " 'chile',\n",
              " 'chile pepper',\n",
              " 'chili',\n",
              " 'chill',\n",
              " 'chive',\n",
              " 'chocolate',\n",
              " 'christmas',\n",
              " 'christmas eve',\n",
              " 'cilantro',\n",
              " 'cinco de mayo',\n",
              " 'cinnamon',\n",
              " 'citrus',\n",
              " 'clam',\n",
              " 'clove',\n",
              " 'cobbler/crumble',\n",
              " 'cocktail',\n",
              " 'cocktail party',\n",
              " 'coconut',\n",
              " 'cod',\n",
              " 'coffee',\n",
              " 'coffee grinder',\n",
              " 'cognac/armagnac',\n",
              " 'collard greens',\n",
              " 'colorado',\n",
              " 'columbus',\n",
              " 'condiment',\n",
              " 'condiment/spread',\n",
              " 'connecticut',\n",
              " 'cook like a diner',\n",
              " 'cookbook critic',\n",
              " 'cookie',\n",
              " 'cookies',\n",
              " 'coriander',\n",
              " 'corn',\n",
              " 'cornmeal',\n",
              " 'costa mesa',\n",
              " 'cottage cheese',\n",
              " 'couscous',\n",
              " 'crab',\n",
              " 'cranberry',\n",
              " 'cranberry sauce',\n",
              " 'cream cheese',\n",
              " 'créme de cacao',\n",
              " 'crêpe',\n",
              " 'cr��me de cacao',\n",
              " 'cuba',\n",
              " 'cucumber',\n",
              " 'cumin',\n",
              " 'cupcake',\n",
              " 'currant',\n",
              " 'curry',\n",
              " 'custard',\n",
              " 'dairy',\n",
              " 'dairy free',\n",
              " 'dallas',\n",
              " 'date',\n",
              " 'deep-fry',\n",
              " 'denver',\n",
              " 'dessert',\n",
              " 'digestif',\n",
              " 'dill',\n",
              " 'dinner',\n",
              " 'dip',\n",
              " 'diwali',\n",
              " 'dominican republic',\n",
              " 'dorie greenspan',\n",
              " 'double boiler',\n",
              " 'dried fruit',\n",
              " 'drink',\n",
              " 'drinks',\n",
              " 'duck',\n",
              " 'easter',\n",
              " 'eau de vie',\n",
              " 'edible gift',\n",
              " 'egg',\n",
              " 'egg nog',\n",
              " 'eggplant',\n",
              " 'egypt',\n",
              " 'emeril lagasse',\n",
              " 'endive',\n",
              " 'engagement party',\n",
              " 'england',\n",
              " 'entertaining',\n",
              " 'epi + ushg',\n",
              " 'epi loves the microwave',\n",
              " 'escarole',\n",
              " 'fall',\n",
              " 'family reunion',\n",
              " 'fat free',\n",
              " \"father's day\",\n",
              " 'fennel',\n",
              " 'feta',\n",
              " 'fig',\n",
              " 'fish',\n",
              " 'flaming hot summer',\n",
              " 'flat bread',\n",
              " 'florida',\n",
              " 'fontina',\n",
              " 'food processor',\n",
              " 'fortified wine',\n",
              " 'fourth of july',\n",
              " 'france',\n",
              " 'frangelico',\n",
              " 'frankenrecipe',\n",
              " 'freeze/chill',\n",
              " 'freezer food',\n",
              " 'friendsgiving',\n",
              " 'frittata',\n",
              " 'fritter',\n",
              " 'frozen dessert',\n",
              " 'fruit',\n",
              " 'fruit juice',\n",
              " 'fry',\n",
              " 'game',\n",
              " 'garlic',\n",
              " 'georgia',\n",
              " 'germany',\n",
              " 'gin',\n",
              " 'ginger',\n",
              " 'goat cheese',\n",
              " 'goose',\n",
              " 'gouda',\n",
              " 'gourmet',\n",
              " 'graduation',\n",
              " 'grains',\n",
              " 'grand marnier',\n",
              " 'granola',\n",
              " 'grape',\n",
              " 'grapefruit',\n",
              " 'grappa',\n",
              " 'green bean',\n",
              " 'green onion/scallion',\n",
              " 'grill',\n",
              " 'grill/barbecue',\n",
              " 'ground beef',\n",
              " 'ground lamb',\n",
              " 'guam',\n",
              " 'guava',\n",
              " 'haiti',\n",
              " 'halibut',\n",
              " 'halloween',\n",
              " 'ham',\n",
              " 'hamburger',\n",
              " 'hanukkah',\n",
              " 'harpercollins',\n",
              " 'hawaii',\n",
              " 'hazelnut',\n",
              " 'healdsburg',\n",
              " 'healthy',\n",
              " 'herb',\n",
              " 'high fiber',\n",
              " 'hollywood',\n",
              " 'hominy/cornmeal/masa',\n",
              " 'honey',\n",
              " 'honeydew',\n",
              " \"hors d'oeuvre\",\n",
              " 'horseradish',\n",
              " 'hot drink',\n",
              " 'hot pepper',\n",
              " 'house & garden',\n",
              " 'house cocktail',\n",
              " 'houston',\n",
              " 'hummus',\n",
              " 'ice cream',\n",
              " 'ice cream machine',\n",
              " 'iced coffee',\n",
              " 'iced tea',\n",
              " 'idaho',\n",
              " 'illinois',\n",
              " 'indiana',\n",
              " 'iowa',\n",
              " 'ireland',\n",
              " 'israel',\n",
              " 'italy',\n",
              " 'jalapeño',\n",
              " 'jam or jelly',\n",
              " 'jamaica',\n",
              " 'japan',\n",
              " 'jerusalem artichoke',\n",
              " 'juicer',\n",
              " 'jícama',\n",
              " 'kahlúa',\n",
              " 'kale',\n",
              " 'kansas',\n",
              " 'kansas city',\n",
              " 'kentucky',\n",
              " 'kentucky derby',\n",
              " 'kid-friendly',\n",
              " 'kidney friendly',\n",
              " 'kirsch',\n",
              " 'kitchen olympics',\n",
              " 'kiwi',\n",
              " 'kosher',\n",
              " 'kosher for passover',\n",
              " 'kumquat',\n",
              " 'kwanzaa',\n",
              " 'labor day',\n",
              " 'lamb',\n",
              " 'lamb chop',\n",
              " 'lamb shank',\n",
              " 'lancaster',\n",
              " 'las vegas',\n",
              " 'lasagna',\n",
              " 'leafy green',\n",
              " 'leek',\n",
              " 'legume',\n",
              " 'lemon',\n",
              " 'lemon juice',\n",
              " 'lemongrass',\n",
              " 'lentil',\n",
              " 'lettuce',\n",
              " 'lima bean',\n",
              " 'lime',\n",
              " 'lime juice',\n",
              " 'lingonberry',\n",
              " 'liqueur',\n",
              " 'lobster',\n",
              " 'london',\n",
              " 'long beach',\n",
              " 'los angeles',\n",
              " 'louisiana',\n",
              " 'louisville',\n",
              " 'low cal',\n",
              " 'low carb',\n",
              " 'low cholesterol',\n",
              " 'low fat',\n",
              " 'low sodium',\n",
              " 'low sugar',\n",
              " 'low/no sugar',\n",
              " 'lunar new year',\n",
              " 'lunch',\n",
              " 'lychee',\n",
              " 'macadamia nut',\n",
              " 'macaroni and cheese',\n",
              " 'maine',\n",
              " 'mandoline',\n",
              " 'mango',\n",
              " 'maple syrup',\n",
              " 'mardi gras',\n",
              " 'margarita',\n",
              " 'marinade',\n",
              " 'marinate',\n",
              " 'marsala',\n",
              " 'marscarpone',\n",
              " 'marshmallow',\n",
              " 'martini',\n",
              " 'maryland',\n",
              " 'massachusetts',\n",
              " 'mayonnaise',\n",
              " 'meat',\n",
              " 'meatball',\n",
              " 'meatloaf',\n",
              " 'melon',\n",
              " 'mexico',\n",
              " 'mezcal',\n",
              " 'miami',\n",
              " 'michigan',\n",
              " 'microwave',\n",
              " 'midori',\n",
              " 'milk/cream',\n",
              " 'minneapolis',\n",
              " 'minnesota',\n",
              " 'mint',\n",
              " 'mississippi',\n",
              " 'missouri',\n",
              " 'mixer',\n",
              " 'molasses',\n",
              " 'monterey jack',\n",
              " 'mortar and pestle',\n",
              " \"mother's day\",\n",
              " 'mozzarella',\n",
              " 'muffin',\n",
              " 'mushroom',\n",
              " 'mussel',\n",
              " 'mustard',\n",
              " 'mustard greens',\n",
              " 'nancy silverton',\n",
              " 'nebraska',\n",
              " 'nectarine',\n",
              " 'new hampshire',\n",
              " 'new jersey',\n",
              " 'new mexico',\n",
              " 'new orleans',\n",
              " \"new year's day\",\n",
              " \"new year's eve\",\n",
              " 'new york',\n",
              " 'no meat, no problem',\n",
              " 'no sugar added',\n",
              " 'no-cook',\n",
              " 'non-alcoholic',\n",
              " 'noodle',\n",
              " 'north carolina',\n",
              " 'nut',\n",
              " 'nutmeg',\n",
              " 'oat',\n",
              " 'oatmeal',\n",
              " 'octopus',\n",
              " 'ohio',\n",
              " 'oklahoma',\n",
              " 'okra',\n",
              " 'oktoberfest',\n",
              " 'olive',\n",
              " 'omelet',\n",
              " 'one-pot meal',\n",
              " 'onion',\n",
              " 'orange',\n",
              " 'orange juice',\n",
              " 'oregano',\n",
              " 'oregon',\n",
              " 'organic',\n",
              " 'orzo',\n",
              " 'oscars',\n",
              " 'oyster',\n",
              " 'pacific palisades',\n",
              " 'paleo',\n",
              " 'pan-fry',\n",
              " 'pancake',\n",
              " 'papaya',\n",
              " 'paprika',\n",
              " 'parade',\n",
              " 'paris',\n",
              " 'parmesan',\n",
              " 'parsley',\n",
              " 'parsnip',\n",
              " 'party',\n",
              " 'pasadena',\n",
              " 'passion fruit',\n",
              " 'passover',\n",
              " 'pasta',\n",
              " 'pasta maker',\n",
              " 'pastry',\n",
              " 'pea',\n",
              " 'peach',\n",
              " 'peanut',\n",
              " 'peanut butter',\n",
              " 'peanut free',\n",
              " 'pear',\n",
              " 'pecan',\n",
              " 'pennsylvania',\n",
              " 'pepper',\n",
              " 'pernod',\n",
              " 'persian new year',\n",
              " 'persimmon',\n",
              " 'peru',\n",
              " 'pescatarian',\n",
              " 'philippines',\n",
              " 'phyllo/puff pastry dough',\n",
              " 'pickles',\n",
              " 'picnic',\n",
              " 'pie',\n",
              " 'pine nut',\n",
              " 'pineapple',\n",
              " 'pistachio',\n",
              " 'pittsburgh',\n",
              " 'pizza',\n",
              " 'plantain',\n",
              " 'plum',\n",
              " 'poach',\n",
              " 'poblano',\n",
              " 'poker/game night',\n",
              " 'pomegranate',\n",
              " 'pomegranate juice',\n",
              " 'poppy',\n",
              " 'pork',\n",
              " 'pork chop',\n",
              " 'pork rib',\n",
              " 'pork tenderloin',\n",
              " 'port',\n",
              " 'portland',\n",
              " 'pot pie',\n",
              " 'potato',\n",
              " 'potato salad',\n",
              " 'potluck',\n",
              " 'poultry',\n",
              " 'poultry sausage',\n",
              " 'pressure cooker',\n",
              " 'prosciutto',\n",
              " 'providence',\n",
              " 'prune',\n",
              " 'pumpkin',\n",
              " 'punch',\n",
              " 'purim',\n",
              " 'quail',\n",
              " 'quiche',\n",
              " 'quick & easy',\n",
              " 'quick and healthy',\n",
              " 'quince',\n",
              " 'quinoa',\n",
              " 'rabbit',\n",
              " 'rack of lamb',\n",
              " 'radicchio',\n",
              " 'radish',\n",
              " 'raisin',\n",
              " 'ramadan',\n",
              " 'ramekin',\n",
              " 'raspberry',\n",
              " 'raw',\n",
              " 'red wine',\n",
              " 'rhode island',\n",
              " 'rhubarb',\n",
              " 'rice',\n",
              " 'ricotta',\n",
              " 'roast',\n",
              " 'root vegetable',\n",
              " 'rosemary',\n",
              " 'rosh hashanah/yom kippur',\n",
              " 'rosé',\n",
              " 'rub',\n",
              " 'rum',\n",
              " 'rutabaga',\n",
              " 'rye',\n",
              " 'saffron',\n",
              " 'sage',\n",
              " 'sake',\n",
              " 'salad',\n",
              " 'salad dressing',\n",
              " 'salmon',\n",
              " 'salsa',\n",
              " 'san francisco',\n",
              " 'sandwich',\n",
              " 'sandwich theory',\n",
              " 'sangria',\n",
              " 'santa monica',\n",
              " 'sardine',\n",
              " 'sauce',\n",
              " 'sausage',\n",
              " 'sauté',\n",
              " 'scallop',\n",
              " 'scotch',\n",
              " 'seafood',\n",
              " 'seattle',\n",
              " 'seed',\n",
              " 'self',\n",
              " 'semolina',\n",
              " 'sesame',\n",
              " 'sesame oil',\n",
              " 'shallot',\n",
              " 'shavuot',\n",
              " 'shellfish',\n",
              " 'sherry',\n",
              " 'shower',\n",
              " 'shrimp',\n",
              " 'side',\n",
              " 'simmer',\n",
              " 'skewer',\n",
              " 'slow cooker',\n",
              " 'smoker',\n",
              " 'smoothie',\n",
              " 'snapper',\n",
              " 'sorbet',\n",
              " 'soufflé/meringue',\n",
              " 'soup/stew',\n",
              " 'sour cream',\n",
              " 'sourdough',\n",
              " 'south carolina',\n",
              " 'soy',\n",
              " 'soy free',\n",
              " 'soy sauce',\n",
              " 'spain',\n",
              " 'sparkling wine',\n",
              " 'spice',\n",
              " 'spinach',\n",
              " 'spirit',\n",
              " 'spring',\n",
              " 'spritzer',\n",
              " 'squash',\n",
              " 'squid',\n",
              " 'st. louis',\n",
              " \"st. patrick's day\",\n",
              " 'steak',\n",
              " 'steam',\n",
              " 'stew',\n",
              " 'stir-fry',\n",
              " 'stock',\n",
              " 'strawberry',\n",
              " 'stuffing/dressing',\n",
              " 'sugar conscious',\n",
              " 'sugar snap pea',\n",
              " 'sukkot',\n",
              " 'summer',\n",
              " 'super bowl',\n",
              " 'suzanne goin',\n",
              " 'sweet potato/yam',\n",
              " 'swiss cheese',\n",
              " 'switzerland',\n",
              " 'swordfish',\n",
              " 'taco',\n",
              " 'tailgating',\n",
              " 'tamarind',\n",
              " 'tangerine',\n",
              " 'tapioca',\n",
              " 'tarragon',\n",
              " 'tart',\n",
              " 'tea',\n",
              " 'tennessee',\n",
              " 'tequila',\n",
              " 'tested & improved',\n",
              " 'texas',\n",
              " 'thanksgiving',\n",
              " 'thyme',\n",
              " 'tilapia',\n",
              " 'tofu',\n",
              " 'tomatillo',\n",
              " 'tomato',\n",
              " 'tortillas',\n",
              " 'tree nut',\n",
              " 'tree nut free',\n",
              " 'triple sec',\n",
              " 'tropical fruit',\n",
              " 'trout',\n",
              " 'tuna',\n",
              " 'turnip',\n",
              " 'utah',\n",
              " \"valentine's day\",\n",
              " 'vanilla',\n",
              " 'veal',\n",
              " 'vegan',\n",
              " 'vegetable',\n",
              " 'vegetarian',\n",
              " 'venison',\n",
              " 'vermont',\n",
              " 'vermouth',\n",
              " 'vinegar',\n",
              " 'virginia',\n",
              " 'vodka',\n",
              " 'waffle',\n",
              " 'walnut',\n",
              " 'wasabi',\n",
              " 'washington',\n",
              " 'washington, d.c.',\n",
              " 'watercress',\n",
              " 'watermelon',\n",
              " 'wedding',\n",
              " 'weelicious',\n",
              " 'west virginia',\n",
              " 'westwood',\n",
              " 'wheat/gluten-free',\n",
              " 'whiskey',\n",
              " 'white wine',\n",
              " 'whole wheat',\n",
              " 'wild rice',\n",
              " 'windsor',\n",
              " 'wine',\n",
              " 'winter',\n",
              " 'wisconsin',\n",
              " 'wok',\n",
              " 'yellow squash',\n",
              " 'yogurt',\n",
              " 'yonkers',\n",
              " 'yuca',\n",
              " 'zucchini',\n",
              " 'cookbooks',\n",
              " 'leftovers',\n",
              " 'snack',\n",
              " 'snack week',\n",
              " 'turkey']"
            ]
          },
          "metadata": {},
          "execution_count": 3
        }
      ],
      "source": [
        "list(raw_data.columns)"
      ]
    },
    {
      "cell_type": "code",
      "execution_count": 4,
      "metadata": {
        "run_control": {
          "frozen": false,
          "read_only": false
        },
        "scrolled": true,
        "colab": {
          "base_uri": "https://localhost:8080/"
        },
        "id": "JFzLcdDaH0_M",
        "outputId": "c994fa71-ad6f-4749-905f-b8fc2a2ca4b8"
      },
      "outputs": [
        {
          "output_type": "execute_result",
          "data": {
            "text/plain": [
              "count    20052.000000\n",
              "mean         3.714467\n",
              "std          1.340829\n",
              "min          0.000000\n",
              "25%          3.750000\n",
              "50%          4.375000\n",
              "75%          4.375000\n",
              "max          5.000000\n",
              "Name: rating, dtype: float64"
            ]
          },
          "metadata": {},
          "execution_count": 4
        }
      ],
      "source": [
        "raw_data.rating.describe()"
      ]
    },
    {
      "cell_type": "markdown",
      "metadata": {
        "run_control": {
          "frozen": false,
          "read_only": false
        },
        "id": "S6h24SH7H0_N"
      },
      "source": [
        "You can learn a few things from this analysis. From a ratings perspective, there are just over 20,000 recipes, with an average rating of 3.71. What is interesting is that the twenty-fifth percentile is actually above the mean. This means that there is likely some kind of outlier population. This makes sense when you think about reviews; some bad recipes may have very few, very low reviews.\n",
        "\n",
        "Now, use a histogram to validate that idea a bit further."
      ]
    },
    {
      "cell_type": "code",
      "execution_count": 5,
      "metadata": {
        "run_control": {
          "frozen": false,
          "read_only": false
        },
        "colab": {
          "base_uri": "https://localhost:8080/",
          "height": 452
        },
        "id": "-xGG8lGwH0_N",
        "outputId": "d9e81b8b-4921-4e64-a884-ff029ac64c02"
      },
      "outputs": [
        {
          "output_type": "display_data",
          "data": {
            "text/plain": [
              "<Figure size 640x480 with 1 Axes>"
            ],
            "image/png": "[encoded data removed]"
          },
          "metadata": {}
        }
      ],
      "source": [
        "raw_data.rating.hist(bins=20)\n",
        "plt.title('Histogram of Recipe Ratings')\n",
        "plt.show()"
      ]
    },
    {
      "cell_type": "markdown",
      "metadata": {
        "run_control": {
          "frozen": false,
          "read_only": false
        },
        "id": "akQ4cbMRH0_O"
      },
      "source": [
        "This histogram reveals a few things. Firstly, there are sharp discontinuities. You don't have continuous data. No recipe has a 3.5 rating, for example. Also, you can see the anticipated increase at 0.\n",
        "\n",
        "Now, try a naive approach again, this time using an SVM regressor. But first, you'll have to do a bit of data cleaning."
      ]
    },
    {
      "cell_type": "code",
      "execution_count": 6,
      "metadata": {
        "run_control": {
          "frozen": false,
          "read_only": false
        },
        "colab": {
          "base_uri": "https://localhost:8080/"
        },
        "id": "rMjcZq3qH0_O",
        "outputId": "bbcbff10-fc47-4b82-82e9-514e9ee8cf1b"
      },
      "outputs": [
        {
          "output_type": "execute_result",
          "data": {
            "text/plain": [
              "calories    4117\n",
              "protein     4162\n",
              "fat         4183\n",
              "sodium      4119\n",
              "dtype: int64"
            ]
          },
          "metadata": {},
          "execution_count": 6
        }
      ],
      "source": [
        "# Count the nulls\n",
        "null_count = raw_data.isnull().sum()\n",
        "null_count[null_count>0]"
      ]
    },
    {
      "cell_type": "markdown",
      "metadata": {
        "run_control": {
          "frozen": false,
          "read_only": false
        },
        "id": "xUyObcbkH0_P"
      },
      "source": [
        "What you can see right away is that nutrition information is not available for all goods. This would be an interesting data point, but focus on ingredients and keywords right now. So go ahead and drop the whole columns for calories, protein, fat, and sodium. You'll come back to nutrition information later."
      ]
    },
    {
      "cell_type": "code",
      "execution_count": 7,
      "metadata": {
        "run_control": {
          "frozen": false,
          "read_only": false
        },
        "colab": {
          "base_uri": "https://localhost:8080/",
          "height": 110
        },
        "id": "A9E7rHLxH0_P",
        "outputId": "38541386-45c7-4c46-cc74-ae77ee055105"
      },
      "outputs": [
        {
          "output_type": "stream",
          "name": "stderr",
          "text": [
            "<ipython-input-7-87ef74f6ea6b>:3: FutureWarning: In a future version of pandas all arguments of DataFrame.drop except for the argument 'labels' will be keyword-only.\n",
            "  X = raw_data.drop(['rating', 'title', 'calories', 'protein', 'fat', 'sodium'], 1).sample(frac=0.3, replace=True, random_state=1)\n"
          ]
        },
        {
          "output_type": "execute_result",
          "data": {
            "text/plain": [
              "SVR()"
            ],
            "text/html": [
              "<style>#sk-container-id-1 {color: black;background-color: white;}#sk-container-id-1 pre{padding: 0;}#sk-container-id-1 div.sk-toggleable {background-color: white;}#sk-container-id-1 label.sk-toggleable__label {cursor: pointer;display: block;width: 100%;margin-bottom: 0;padding: 0.3em;box-sizing: border-box;text-align: center;}#sk-container-id-1 label.sk-toggleable__label-arrow:before {content: \"▸\";float: left;margin-right: 0.25em;color: #696969;}#sk-container-id-1 label.sk-toggleable__label-arrow:hover:before {color: black;}#sk-container-id-1 div.sk-estimator:hover label.sk-toggleable__label-arrow:before {color: black;}#sk-container-id-1 div.sk-toggleable__content {max-height: 0;max-width: 0;overflow: hidden;text-align: left;background-color: #f0f8ff;}#sk-container-id-1 div.sk-toggleable__content pre {margin: 0.2em;color: black;border-radius: 0.25em;background-color: #f0f8ff;}#sk-container-id-1 input.sk-toggleable__control:checked~div.sk-toggleable__content {max-height: 200px;max-width: 100%;overflow: auto;}#sk-container-id-1 input.sk-toggleable__control:checked~label.sk-toggleable__label-arrow:before {content: \"▾\";}#sk-container-id-1 div.sk-estimator input.sk-toggleable__control:checked~label.sk-toggleable__label {background-color: #d4ebff;}#sk-container-id-1 div.sk-label input.sk-toggleable__control:checked~label.sk-toggleable__label {background-color: #d4ebff;}#sk-container-id-1 input.sk-hidden--visually {border: 0;clip: rect(1px 1px 1px 1px);clip: rect(1px, 1px, 1px, 1px);height: 1px;margin: -1px;overflow: hidden;padding: 0;position: absolute;width: 1px;}#sk-container-id-1 div.sk-estimator {font-family: monospace;background-color: #f0f8ff;border: 1px dotted black;border-radius: 0.25em;box-sizing: border-box;margin-bottom: 0.5em;}#sk-container-id-1 div.sk-estimator:hover {background-color: #d4ebff;}#sk-container-id-1 div.sk-parallel-item::after {content: \"\";width: 100%;border-bottom: 1px solid gray;flex-grow: 1;}#sk-container-id-1 div.sk-label:hover label.sk-toggleable__label {background-color: #d4ebff;}#sk-container-id-1 div.sk-serial::before {content: \"\";position: absolute;border-left: 1px solid gray;box-sizing: border-box;top: 0;bottom: 0;left: 50%;z-index: 0;}#sk-container-id-1 div.sk-serial {display: flex;flex-direction: column;align-items: center;background-color: white;padding-right: 0.2em;padding-left: 0.2em;position: relative;}#sk-container-id-1 div.sk-item {position: relative;z-index: 1;}#sk-container-id-1 div.sk-parallel {display: flex;align-items: stretch;justify-content: center;background-color: white;position: relative;}#sk-container-id-1 div.sk-item::before, #sk-container-id-1 div.sk-parallel-item::before {content: \"\";position: absolute;border-left: 1px solid gray;box-sizing: border-box;top: 0;bottom: 0;left: 50%;z-index: -1;}#sk-container-id-1 div.sk-parallel-item {display: flex;flex-direction: column;z-index: 1;position: relative;background-color: white;}#sk-container-id-1 div.sk-parallel-item:first-child::after {align-self: flex-end;width: 50%;}#sk-container-id-1 div.sk-parallel-item:last-child::after {align-self: flex-start;width: 50%;}#sk-container-id-1 div.sk-parallel-item:only-child::after {width: 0;}#sk-container-id-1 div.sk-dashed-wrapped {border: 1px dashed gray;margin: 0 0.4em 0.5em 0.4em;box-sizing: border-box;padding-bottom: 0.4em;background-color: white;}#sk-container-id-1 div.sk-label label {font-family: monospace;font-weight: bold;display: inline-block;line-height: 1.2em;}#sk-container-id-1 div.sk-label-container {text-align: center;}#sk-container-id-1 div.sk-container {/* jupyter's `normalize.less` sets `[hidden] { display: none; }` but bootstrap.min.css set `[hidden] { display: none !important; }` so we also need the `!important` here to be able to override the default hidden behavior on the sphinx rendered scikit-learn.org. See: https://github.com/scikit-learn/scikit-learn/issues/21755 */display: inline-block !important;position: relative;}#sk-container-id-1 div.sk-text-repr-fallback {display: none;}</style><div id=\"sk-container-id-1\" class=\"sk-top-container\"><div class=\"sk-text-repr-fallback\"><pre>SVR()</pre><b>In a Jupyter environment, please rerun this cell to show the HTML representation or trust the notebook. <br />On GitHub, the HTML representation is unable to render, please try loading this page with nbviewer.org.</b></div><div class=\"sk-container\" hidden><div class=\"sk-item\"><div class=\"sk-estimator sk-toggleable\"><input class=\"sk-toggleable__control sk-hidden--visually\" id=\"sk-estimator-id-1\" type=\"checkbox\" checked><label for=\"sk-estimator-id-1\" class=\"sk-toggleable__label sk-toggleable__label-arrow\">SVR</label><div class=\"sk-toggleable__content\"><pre>SVR()</pre></div></div></div></div></div>"
            ]
          },
          "metadata": {},
          "execution_count": 7
        }
      ],
      "source": [
        "from sklearn.svm import SVR\n",
        "svr = SVR()\n",
        "X = raw_data.drop(['rating', 'title', 'calories', 'protein', 'fat', 'sodium'], 1).sample(frac=0.3, replace=True, random_state=1)\n",
        "Y = raw_data.rating.sample(frac=0.3, replace=True, random_state=1)\n",
        "svr.fit(X,Y)"
      ]
    },
    {
      "cell_type": "markdown",
      "metadata": {
        "run_control": {
          "frozen": false,
          "read_only": false
        },
        "id": "hs7AzpUuH0_Q"
      },
      "source": [
        "Note that this actually takes quite a while to run, compared to some of the models that you've done before. Be patient—it's because of the number of features that you have.\n",
        "\n",
        "Now, see what a scatter plot looks like if you compare actual ratings to predicted ratings:"
      ]
    },
    {
      "cell_type": "code",
      "execution_count": 8,
      "metadata": {
        "run_control": {
          "frozen": false,
          "read_only": false
        },
        "colab": {
          "base_uri": "https://localhost:8080/",
          "height": 448
        },
        "id": "xnDln6I-H0_Q",
        "outputId": "c6de8e2b-fe17-4823-8f38-a8ac316754ee"
      },
      "outputs": [
        {
          "output_type": "execute_result",
          "data": {
            "text/plain": [
              "<matplotlib.collections.PathCollection at 0x785c2d13feb0>"
            ]
          },
          "metadata": {},
          "execution_count": 8
        },
        {
          "output_type": "display_data",
          "data": {
            "text/plain": [
              "<Figure size 640x480 with 1 Axes>"
            ],
            "image/png": "[encoded data removed]"
          },
          "metadata": {}
        }
      ],
      "source": [
        "plt.scatter(Y, svr.predict(X))"
      ]
    },
    {
      "cell_type": "markdown",
      "metadata": {
        "run_control": {
          "frozen": false,
          "read_only": false
        },
        "id": "PFczwVCEH0_Q"
      },
      "source": [
        "Now, that is a pretty useless visualization. This is because of the discontinuous nature of the outcome variable. There's too much data for you to really see what's going on here. If you wanted to look at it, you could create histograms. But here, you'll move on to the scores of both the full-fit model and the model with cross-validation. Again, if you choose to run it again, it will take some time—so you probably shouldn't run it again."
      ]
    },
    {
      "cell_type": "code",
      "execution_count": 9,
      "metadata": {
        "run_control": {
          "frozen": false,
          "read_only": false
        },
        "colab": {
          "base_uri": "https://localhost:8080/"
        },
        "id": "ZpQ8ifALH0_R",
        "outputId": "fbf0a8c9-f482-4577-a6b4-95ffe2430357"
      },
      "outputs": [
        {
          "output_type": "execute_result",
          "data": {
            "text/plain": [
              "0.40998459138007937"
            ]
          },
          "metadata": {},
          "execution_count": 9
        }
      ],
      "source": [
        "svr.score(X, Y)"
      ]
    },
    {
      "cell_type": "code",
      "execution_count": 10,
      "metadata": {
        "run_control": {
          "frozen": false,
          "read_only": false
        },
        "colab": {
          "base_uri": "https://localhost:8080/"
        },
        "id": "4mtosaTtH0_R",
        "outputId": "98e4375f-278e-4cc6-d665-8e3ce93193ef"
      },
      "outputs": [
        {
          "output_type": "execute_result",
          "data": {
            "text/plain": [
              "array([0.19563385, 0.14683481, 0.15013401, 0.13597791, 0.16082192])"
            ]
          },
          "metadata": {},
          "execution_count": 10
        }
      ],
      "source": [
        "from sklearn.model_selection import cross_val_score\n",
        "cross_val_score(svr, X, Y, cv=5)"
      ]
    },
    {
      "cell_type": "markdown",
      "metadata": {
        "run_control": {
          "frozen": false,
          "read_only": false
        },
        "id": "hfiUTDg7H0_R"
      },
      "source": [
        "Oh dear, this does not seem to have worked very well. In fact, it is remarkably poor! There are many things that you could do here:\n",
        "\n",
        "* **Approach 1:** The overfit is a problem, even though it was poor in the first place. You could go back and clean up your feature set. There might be some gains to be made by getting rid of the noise.\n",
        "\n",
        "* **Approach 2:** You could also try removing the nulls but including dietary information, and see how that performs. Though it's a slight change to the question, you could still possibly get some improvements there.\n",
        "\n",
        "* **Approach 3:** Also, you could take your regression problem and turn it into a classifier. With this number of features and a discontinuous outcome, you might have better luck thinking of this as a classification problem. You could make it simpler still if, instead of classifying on each possible value, you group reviews to some specific high and low values.\n",
        "\n",
        "**Challenge:** Transform this regression problem into a binary classifier and clean up the feature set. You can choose whether or not to include nutritional information, but try to cut your feature set down to the 30 most valuable features.\n"
      ]
    },
    {
      "cell_type": "markdown",
      "metadata": {
        "run_control": {
          "frozen": false,
          "read_only": false
        },
        "id": "nh8tGfDhH0_S"
      },
      "source": [
        "When you've finished that, also take a moment to think about bias. Is there anything in this dataset that makes you think that it could be biased, perhaps extremely so? There is. There are several things, in fact. But most glaringly, you don't actually have a random sample. It could be, and probably is, that the people more likely to choose some kinds of recipes are also more likely to give high reviews. After all, people who eat chocolate might just be happier people."
      ]
    },
    {
      "cell_type": "markdown",
      "source": [
        "First, we will isolate the target variable `rating` and look at scores."
      ],
      "metadata": {
        "id": "ix-fynoTLEri"
      }
    },
    {
      "cell_type": "code",
      "source": [
        "raw_data['rating'].value_counts()"
      ],
      "metadata": {
        "colab": {
          "base_uri": "https://localhost:8080/"
        },
        "id": "TiPZWWddK7Ut",
        "outputId": "f6e2d54a-3bcf-420a-abb7-5641c49efd5d"
      },
      "execution_count": 11,
      "outputs": [
        {
          "output_type": "execute_result",
          "data": {
            "text/plain": [
              "4.375    8019\n",
              "3.750    5169\n",
              "5.000    2719\n",
              "0.000    1836\n",
              "3.125    1489\n",
              "2.500     532\n",
              "1.250     164\n",
              "1.875     124\n",
              "Name: rating, dtype: int64"
            ]
          },
          "metadata": {},
          "execution_count": 11
        }
      ]
    },
    {
      "cell_type": "markdown",
      "source": [
        "We can now turn our regression problem into a classifier problem."
      ],
      "metadata": {
        "id": "3ZOCIqLbLgia"
      }
    },
    {
      "cell_type": "markdown",
      "source": [
        "### Approach 3: Turn our regression problem into a classification problem.\n",
        "\n",
        "Let's change our dataset so that everything with a rating of 4.2 or higher is \"good\" and everything below a 4.2 is \"not good.\""
      ],
      "metadata": {
        "id": "zKdd6KQHLn8L"
      }
    },
    {
      "cell_type": "code",
      "source": [
        "raw_data['good'] = raw_data['rating'].apply(lambda x: 1 if x >=4.2 else 0)\n",
        "raw_data['good'].value_counts()"
      ],
      "metadata": {
        "colab": {
          "base_uri": "https://localhost:8080/"
        },
        "id": "Ew0kF0rELnbj",
        "outputId": "ca598a5f-e486-4f82-8671-85ea48dafc01"
      },
      "execution_count": 12,
      "outputs": [
        {
          "output_type": "execute_result",
          "data": {
            "text/plain": [
              "1    10738\n",
              "0     9314\n",
              "Name: good, dtype: int64"
            ]
          },
          "metadata": {},
          "execution_count": 12
        }
      ]
    },
    {
      "cell_type": "markdown",
      "source": [
        "Now let's build a Support Vector Classifier."
      ],
      "metadata": {
        "id": "SIJtEdflMqK8"
      }
    },
    {
      "cell_type": "code",
      "source": [
        "from sklearn.svm import SVC\n",
        "svc = SVC()\n",
        "X = raw_data.drop(['good','rating', 'title', 'calories', 'protein', 'fat', 'sodium'], 1).sample(frac=0.3, replace=True, random_state=1)\n",
        "Y = raw_data['good'].sample(frac=0.3, replace=True, random_state=1)\n",
        "svc.fit(X,Y)"
      ],
      "metadata": {
        "colab": {
          "base_uri": "https://localhost:8080/",
          "height": 110
        },
        "id": "mJAQpPbCMs6A",
        "outputId": "b4acb192-7423-4f81-e5f1-9ae4db9294e8"
      },
      "execution_count": 34,
      "outputs": [
        {
          "output_type": "stream",
          "name": "stderr",
          "text": [
            "<ipython-input-34-1641227d7a7c>:3: FutureWarning: In a future version of pandas all arguments of DataFrame.drop except for the argument 'labels' will be keyword-only.\n",
            "  X = raw_data.drop(['good','rating', 'title', 'calories', 'protein', 'fat', 'sodium'], 1).sample(frac=0.3, replace=True, random_state=1)\n"
          ]
        },
        {
          "output_type": "execute_result",
          "data": {
            "text/plain": [
              "SVC()"
            ],
            "text/html": [
              "<style>#sk-container-id-5 {color: black;background-color: white;}#sk-container-id-5 pre{padding: 0;}#sk-container-id-5 div.sk-toggleable {background-color: white;}#sk-container-id-5 label.sk-toggleable__label {cursor: pointer;display: block;width: 100%;margin-bottom: 0;padding: 0.3em;box-sizing: border-box;text-align: center;}#sk-container-id-5 label.sk-toggleable__label-arrow:before {content: \"▸\";float: left;margin-right: 0.25em;color: #696969;}#sk-container-id-5 label.sk-toggleable__label-arrow:hover:before {color: black;}#sk-container-id-5 div.sk-estimator:hover label.sk-toggleable__label-arrow:before {color: black;}#sk-container-id-5 div.sk-toggleable__content {max-height: 0;max-width: 0;overflow: hidden;text-align: left;background-color: #f0f8ff;}#sk-container-id-5 div.sk-toggleable__content pre {margin: 0.2em;color: black;border-radius: 0.25em;background-color: #f0f8ff;}#sk-container-id-5 input.sk-toggleable__control:checked~div.sk-toggleable__content {max-height: 200px;max-width: 100%;overflow: auto;}#sk-container-id-5 input.sk-toggleable__control:checked~label.sk-toggleable__label-arrow:before {content: \"▾\";}#sk-container-id-5 div.sk-estimator input.sk-toggleable__control:checked~label.sk-toggleable__label {background-color: #d4ebff;}#sk-container-id-5 div.sk-label input.sk-toggleable__control:checked~label.sk-toggleable__label {background-color: #d4ebff;}#sk-container-id-5 input.sk-hidden--visually {border: 0;clip: rect(1px 1px 1px 1px);clip: rect(1px, 1px, 1px, 1px);height: 1px;margin: -1px;overflow: hidden;padding: 0;position: absolute;width: 1px;}#sk-container-id-5 div.sk-estimator {font-family: monospace;background-color: #f0f8ff;border: 1px dotted black;border-radius: 0.25em;box-sizing: border-box;margin-bottom: 0.5em;}#sk-container-id-5 div.sk-estimator:hover {background-color: #d4ebff;}#sk-container-id-5 div.sk-parallel-item::after {content: \"\";width: 100%;border-bottom: 1px solid gray;flex-grow: 1;}#sk-container-id-5 div.sk-label:hover label.sk-toggleable__label {background-color: #d4ebff;}#sk-container-id-5 div.sk-serial::before {content: \"\";position: absolute;border-left: 1px solid gray;box-sizing: border-box;top: 0;bottom: 0;left: 50%;z-index: 0;}#sk-container-id-5 div.sk-serial {display: flex;flex-direction: column;align-items: center;background-color: white;padding-right: 0.2em;padding-left: 0.2em;position: relative;}#sk-container-id-5 div.sk-item {position: relative;z-index: 1;}#sk-container-id-5 div.sk-parallel {display: flex;align-items: stretch;justify-content: center;background-color: white;position: relative;}#sk-container-id-5 div.sk-item::before, #sk-container-id-5 div.sk-parallel-item::before {content: \"\";position: absolute;border-left: 1px solid gray;box-sizing: border-box;top: 0;bottom: 0;left: 50%;z-index: -1;}#sk-container-id-5 div.sk-parallel-item {display: flex;flex-direction: column;z-index: 1;position: relative;background-color: white;}#sk-container-id-5 div.sk-parallel-item:first-child::after {align-self: flex-end;width: 50%;}#sk-container-id-5 div.sk-parallel-item:last-child::after {align-self: flex-start;width: 50%;}#sk-container-id-5 div.sk-parallel-item:only-child::after {width: 0;}#sk-container-id-5 div.sk-dashed-wrapped {border: 1px dashed gray;margin: 0 0.4em 0.5em 0.4em;box-sizing: border-box;padding-bottom: 0.4em;background-color: white;}#sk-container-id-5 div.sk-label label {font-family: monospace;font-weight: bold;display: inline-block;line-height: 1.2em;}#sk-container-id-5 div.sk-label-container {text-align: center;}#sk-container-id-5 div.sk-container {/* jupyter's `normalize.less` sets `[hidden] { display: none; }` but bootstrap.min.css set `[hidden] { display: none !important; }` so we also need the `!important` here to be able to override the default hidden behavior on the sphinx rendered scikit-learn.org. See: https://github.com/scikit-learn/scikit-learn/issues/21755 */display: inline-block !important;position: relative;}#sk-container-id-5 div.sk-text-repr-fallback {display: none;}</style><div id=\"sk-container-id-5\" class=\"sk-top-container\"><div class=\"sk-text-repr-fallback\"><pre>SVC()</pre><b>In a Jupyter environment, please rerun this cell to show the HTML representation or trust the notebook. <br />On GitHub, the HTML representation is unable to render, please try loading this page with nbviewer.org.</b></div><div class=\"sk-container\" hidden><div class=\"sk-item\"><div class=\"sk-estimator sk-toggleable\"><input class=\"sk-toggleable__control sk-hidden--visually\" id=\"sk-estimator-id-5\" type=\"checkbox\" checked><label for=\"sk-estimator-id-5\" class=\"sk-toggleable__label sk-toggleable__label-arrow\">SVC</label><div class=\"sk-toggleable__content\"><pre>SVC()</pre></div></div></div></div></div>"
            ]
          },
          "metadata": {},
          "execution_count": 34
        }
      ]
    },
    {
      "cell_type": "code",
      "source": [
        "svc.score(X, Y)"
      ],
      "metadata": {
        "colab": {
          "base_uri": "https://localhost:8080/"
        },
        "id": "6RVGMI88NKEZ",
        "outputId": "ffdcd0d2-975c-4b52-ce16-83b64fb66672"
      },
      "execution_count": 14,
      "outputs": [
        {
          "output_type": "execute_result",
          "data": {
            "text/plain": [
              "0.8602061170212766"
            ]
          },
          "metadata": {},
          "execution_count": 14
        }
      ]
    },
    {
      "cell_type": "code",
      "source": [
        "cross_val_score(svc, X, Y, cv=5)"
      ],
      "metadata": {
        "colab": {
          "base_uri": "https://localhost:8080/"
        },
        "id": "PsxXJlziNQCU",
        "outputId": "e759e909-1959-47c5-8ef1-9231ba1c6004"
      },
      "execution_count": 15,
      "outputs": [
        {
          "output_type": "execute_result",
          "data": {
            "text/plain": [
              "array([0.6461794 , 0.64089776, 0.61679135, 0.65502909, 0.6641729 ])"
            ]
          },
          "metadata": {},
          "execution_count": 15
        }
      ]
    },
    {
      "cell_type": "markdown",
      "source": [
        "We will now investigate feature selection and data cleaning."
      ],
      "metadata": {
        "id": "j9CkpHO6S1oq"
      }
    },
    {
      "cell_type": "markdown",
      "source": [
        "### Approach 1: Clean the feature set and get rid of noise."
      ],
      "metadata": {
        "id": "3UebQw9fPwZs"
      }
    },
    {
      "cell_type": "markdown",
      "source": [
        "Let's first examine at the most correlated features."
      ],
      "metadata": {
        "id": "ZHKAYZs4S6Is"
      }
    },
    {
      "cell_type": "code",
      "source": [
        "recipe_corr = raw_data.corr()\n",
        "fig, ax = plt.subplots(figsize=(10,10))\n",
        "sns.heatmap(raw_data.corr()[['good']].sort_values('good').tail(20),\n",
        " vmax=1, vmin=-1, cmap='YlGnBu', annot=True, ax=ax);\n",
        "ax.invert_yaxis()"
      ],
      "metadata": {
        "id": "x87lUrqlP3Xj",
        "outputId": "46744f82-48c8-4883-c9c2-224c26fd2419",
        "colab": {
          "base_uri": "https://localhost:8080/",
          "height": 927
        }
      },
      "execution_count": 16,
      "outputs": [
        {
          "output_type": "stream",
          "name": "stderr",
          "text": [
            "<ipython-input-16-a860703d518f>:1: FutureWarning: The default value of numeric_only in DataFrame.corr is deprecated. In a future version, it will default to False. Select only valid columns or specify the value of numeric_only to silence this warning.\n",
            "  recipe_corr = raw_data.corr()\n",
            "<ipython-input-16-a860703d518f>:3: FutureWarning: The default value of numeric_only in DataFrame.corr is deprecated. In a future version, it will default to False. Select only valid columns or specify the value of numeric_only to silence this warning.\n",
            "  sns.heatmap(raw_data.corr()[['good']].sort_values('good').tail(20),\n"
          ]
        },
        {
          "output_type": "display_data",
          "data": {
            "text/plain": [
              "<Figure size 1000x1000 with 2 Axes>"
            ],
            "image/png": "[encoded data removed]"
          },
          "metadata": {}
        }
      ]
    },
    {
      "cell_type": "code",
      "source": [
        "most_positive_corr = recipe_corr.loc[(recipe_corr['good'] > .03) & (recipe_corr['good'].index != 'rating'),'good'].index.to_list()\n",
        "raw_data[most_positive_corr].describe()"
      ],
      "metadata": {
        "id": "NzBeL3_4TUCP",
        "outputId": "53261237-91c4-45b4-f6e8-d35ffbd6e2c4",
        "colab": {
          "base_uri": "https://localhost:8080/",
          "height": 367
        }
      },
      "execution_count": 17,
      "outputs": [
        {
          "output_type": "execute_result",
          "data": {
            "text/plain": [
              "       backyard bbq          bake   bon appétit       brisket          cake  \\\n",
              "count  20052.000000  20052.000000  20052.000000  20052.000000  20052.000000   \n",
              "mean       0.046778      0.220078      0.466537      0.001895      0.035907   \n",
              "std        0.211169      0.414309      0.498891      0.043492      0.186062   \n",
              "min        0.000000      0.000000      0.000000      0.000000      0.000000   \n",
              "25%        0.000000      0.000000      0.000000      0.000000      0.000000   \n",
              "50%        0.000000      0.000000      0.000000      0.000000      0.000000   \n",
              "75%        0.000000      0.000000      1.000000      0.000000      0.000000   \n",
              "max        1.000000      1.000000      1.000000      1.000000      1.000000   \n",
              "\n",
              "          christmas     cranberry       dessert        dinner          fall  \\\n",
              "count  20052.000000  20052.000000  20052.000000  20052.000000  20052.000000   \n",
              "mean       0.051815      0.018452      0.178187      0.134899      0.150359   \n",
              "std        0.221659      0.134583      0.382679      0.341624      0.357432   \n",
              "min        0.000000      0.000000      0.000000      0.000000      0.000000   \n",
              "25%        0.000000      0.000000      0.000000      0.000000      0.000000   \n",
              "50%        0.000000      0.000000      0.000000      0.000000      0.000000   \n",
              "75%        0.000000      0.000000      0.000000      0.000000      0.000000   \n",
              "max        1.000000      1.000000      1.000000      1.000000      1.000000   \n",
              "\n",
              "       ...  pork tenderloin      red wine         roast       sausage  \\\n",
              "count  ...     20052.000000  20052.000000  20052.000000  20052.000000   \n",
              "mean   ...         0.005984      0.013515      0.065829      0.019150   \n",
              "std    ...         0.077129      0.115468      0.247989      0.137056   \n",
              "min    ...         0.000000      0.000000      0.000000      0.000000   \n",
              "25%    ...         0.000000      0.000000      0.000000      0.000000   \n",
              "50%    ...         0.000000      0.000000      0.000000      0.000000   \n",
              "75%    ...         0.000000      0.000000      0.000000      0.000000   \n",
              "max    ...         1.000000      1.000000      1.000000      1.000000   \n",
              "\n",
              "           soy free  stuffing/dressing  thanksgiving  tree nut free  \\\n",
              "count  20052.000000       20052.000000  20052.000000   20052.000000   \n",
              "mean       0.403351           0.006882      0.072711       0.351287   \n",
              "std        0.490582           0.082675      0.259668       0.477384   \n",
              "min        0.000000           0.000000      0.000000       0.000000   \n",
              "25%        0.000000           0.000000      0.000000       0.000000   \n",
              "50%        0.000000           0.000000      0.000000       0.000000   \n",
              "75%        1.000000           0.000000      0.000000       1.000000   \n",
              "max        1.000000           1.000000      1.000000       1.000000   \n",
              "\n",
              "             turkey          good  \n",
              "count  20052.000000  20052.000000  \n",
              "mean       0.022741      0.535508  \n",
              "std        0.149080      0.498750  \n",
              "min        0.000000      0.000000  \n",
              "25%        0.000000      0.000000  \n",
              "50%        0.000000      1.000000  \n",
              "75%        0.000000      1.000000  \n",
              "max        1.000000      1.000000  \n",
              "\n",
              "[8 rows x 30 columns]"
            ],
            "text/html": [
              "\n",
              "  <div id=\"df-74ccf797-77fe-4588-85a3-4cdb93b51be4\" class=\"colab-df-container\">\n",
              "    <div>\n",
              "<style scoped>\n",
              "    .dataframe tbody tr th:only-of-type {\n",
              "        vertical-align: middle;\n",
              "    }\n",
              "\n",
              "    .dataframe tbody tr th {\n",
              "        vertical-align: top;\n",
              "    }\n",
              "\n",
              "    .dataframe thead th {\n",
              "        text-align: right;\n",
              "    }\n",
              "</style>\n",
              "<table border=\"1\" class=\"dataframe\">\n",
              "  <thead>\n",
              "    <tr style=\"text-align: right;\">\n",
              "      <th></th>\n",
              "      <th>backyard bbq</th>\n",
              "      <th>bake</th>\n",
              "      <th>bon appétit</th>\n",
              "      <th>brisket</th>\n",
              "      <th>cake</th>\n",
              "      <th>christmas</th>\n",
              "      <th>cranberry</th>\n",
              "      <th>dessert</th>\n",
              "      <th>dinner</th>\n",
              "      <th>fall</th>\n",
              "      <th>...</th>\n",
              "      <th>pork tenderloin</th>\n",
              "      <th>red wine</th>\n",
              "      <th>roast</th>\n",
              "      <th>sausage</th>\n",
              "      <th>soy free</th>\n",
              "      <th>stuffing/dressing</th>\n",
              "      <th>thanksgiving</th>\n",
              "      <th>tree nut free</th>\n",
              "      <th>turkey</th>\n",
              "      <th>good</th>\n",
              "    </tr>\n",
              "  </thead>\n",
              "  <tbody>\n",
              "    <tr>\n",
              "      <th>count</th>\n",
              "      <td>20052.000000</td>\n",
              "      <td>20052.000000</td>\n",
              "      <td>20052.000000</td>\n",
              "      <td>20052.000000</td>\n",
              "      <td>20052.000000</td>\n",
              "      <td>20052.000000</td>\n",
              "      <td>20052.000000</td>\n",
              "      <td>20052.000000</td>\n",
              "      <td>20052.000000</td>\n",
              "      <td>20052.000000</td>\n",
              "      <td>...</td>\n",
              "      <td>20052.000000</td>\n",
              "      <td>20052.000000</td>\n",
              "      <td>20052.000000</td>\n",
              "      <td>20052.000000</td>\n",
              "      <td>20052.000000</td>\n",
              "      <td>20052.000000</td>\n",
              "      <td>20052.000000</td>\n",
              "      <td>20052.000000</td>\n",
              "      <td>20052.000000</td>\n",
              "      <td>20052.000000</td>\n",
              "    </tr>\n",
              "    <tr>\n",
              "      <th>mean</th>\n",
              "      <td>0.046778</td>\n",
              "      <td>0.220078</td>\n",
              "      <td>0.466537</td>\n",
              "      <td>0.001895</td>\n",
              "      <td>0.035907</td>\n",
              "      <td>0.051815</td>\n",
              "      <td>0.018452</td>\n",
              "      <td>0.178187</td>\n",
              "      <td>0.134899</td>\n",
              "      <td>0.150359</td>\n",
              "      <td>...</td>\n",
              "      <td>0.005984</td>\n",
              "      <td>0.013515</td>\n",
              "      <td>0.065829</td>\n",
              "      <td>0.019150</td>\n",
              "      <td>0.403351</td>\n",
              "      <td>0.006882</td>\n",
              "      <td>0.072711</td>\n",
              "      <td>0.351287</td>\n",
              "      <td>0.022741</td>\n",
              "      <td>0.535508</td>\n",
              "    </tr>\n",
              "    <tr>\n",
              "      <th>std</th>\n",
              "      <td>0.211169</td>\n",
              "      <td>0.414309</td>\n",
              "      <td>0.498891</td>\n",
              "      <td>0.043492</td>\n",
              "      <td>0.186062</td>\n",
              "      <td>0.221659</td>\n",
              "      <td>0.134583</td>\n",
              "      <td>0.382679</td>\n",
              "      <td>0.341624</td>\n",
              "      <td>0.357432</td>\n",
              "      <td>...</td>\n",
              "      <td>0.077129</td>\n",
              "      <td>0.115468</td>\n",
              "      <td>0.247989</td>\n",
              "      <td>0.137056</td>\n",
              "      <td>0.490582</td>\n",
              "      <td>0.082675</td>\n",
              "      <td>0.259668</td>\n",
              "      <td>0.477384</td>\n",
              "      <td>0.149080</td>\n",
              "      <td>0.498750</td>\n",
              "    </tr>\n",
              "    <tr>\n",
              "      <th>min</th>\n",
              "      <td>0.000000</td>\n",
              "      <td>0.000000</td>\n",
              "      <td>0.000000</td>\n",
              "      <td>0.000000</td>\n",
              "      <td>0.000000</td>\n",
              "      <td>0.000000</td>\n",
              "      <td>0.000000</td>\n",
              "      <td>0.000000</td>\n",
              "      <td>0.000000</td>\n",
              "      <td>0.000000</td>\n",
              "      <td>...</td>\n",
              "      <td>0.000000</td>\n",
              "      <td>0.000000</td>\n",
              "      <td>0.000000</td>\n",
              "      <td>0.000000</td>\n",
              "      <td>0.000000</td>\n",
              "      <td>0.000000</td>\n",
              "      <td>0.000000</td>\n",
              "      <td>0.000000</td>\n",
              "      <td>0.000000</td>\n",
              "      <td>0.000000</td>\n",
              "    </tr>\n",
              "    <tr>\n",
              "      <th>25%</th>\n",
              "      <td>0.000000</td>\n",
              "      <td>0.000000</td>\n",
              "      <td>0.000000</td>\n",
              "      <td>0.000000</td>\n",
              "      <td>0.000000</td>\n",
              "      <td>0.000000</td>\n",
              "      <td>0.000000</td>\n",
              "      <td>0.000000</td>\n",
              "      <td>0.000000</td>\n",
              "      <td>0.000000</td>\n",
              "      <td>...</td>\n",
              "      <td>0.000000</td>\n",
              "      <td>0.000000</td>\n",
              "      <td>0.000000</td>\n",
              "      <td>0.000000</td>\n",
              "      <td>0.000000</td>\n",
              "      <td>0.000000</td>\n",
              "      <td>0.000000</td>\n",
              "      <td>0.000000</td>\n",
              "      <td>0.000000</td>\n",
              "      <td>0.000000</td>\n",
              "    </tr>\n",
              "    <tr>\n",
              "      <th>50%</th>\n",
              "      <td>0.000000</td>\n",
              "      <td>0.000000</td>\n",
              "      <td>0.000000</td>\n",
              "      <td>0.000000</td>\n",
              "      <td>0.000000</td>\n",
              "      <td>0.000000</td>\n",
              "      <td>0.000000</td>\n",
              "      <td>0.000000</td>\n",
              "      <td>0.000000</td>\n",
              "      <td>0.000000</td>\n",
              "      <td>...</td>\n",
              "      <td>0.000000</td>\n",
              "      <td>0.000000</td>\n",
              "      <td>0.000000</td>\n",
              "      <td>0.000000</td>\n",
              "      <td>0.000000</td>\n",
              "      <td>0.000000</td>\n",
              "      <td>0.000000</td>\n",
              "      <td>0.000000</td>\n",
              "      <td>0.000000</td>\n",
              "      <td>1.000000</td>\n",
              "    </tr>\n",
              "    <tr>\n",
              "      <th>75%</th>\n",
              "      <td>0.000000</td>\n",
              "      <td>0.000000</td>\n",
              "      <td>1.000000</td>\n",
              "      <td>0.000000</td>\n",
              "      <td>0.000000</td>\n",
              "      <td>0.000000</td>\n",
              "      <td>0.000000</td>\n",
              "      <td>0.000000</td>\n",
              "      <td>0.000000</td>\n",
              "      <td>0.000000</td>\n",
              "      <td>...</td>\n",
              "      <td>0.000000</td>\n",
              "      <td>0.000000</td>\n",
              "      <td>0.000000</td>\n",
              "      <td>0.000000</td>\n",
              "      <td>1.000000</td>\n",
              "      <td>0.000000</td>\n",
              "      <td>0.000000</td>\n",
              "      <td>1.000000</td>\n",
              "      <td>0.000000</td>\n",
              "      <td>1.000000</td>\n",
              "    </tr>\n",
              "    <tr>\n",
              "      <th>max</th>\n",
              "      <td>1.000000</td>\n",
              "      <td>1.000000</td>\n",
              "      <td>1.000000</td>\n",
              "      <td>1.000000</td>\n",
              "      <td>1.000000</td>\n",
              "      <td>1.000000</td>\n",
              "      <td>1.000000</td>\n",
              "      <td>1.000000</td>\n",
              "      <td>1.000000</td>\n",
              "      <td>1.000000</td>\n",
              "      <td>...</td>\n",
              "      <td>1.000000</td>\n",
              "      <td>1.000000</td>\n",
              "      <td>1.000000</td>\n",
              "      <td>1.000000</td>\n",
              "      <td>1.000000</td>\n",
              "      <td>1.000000</td>\n",
              "      <td>1.000000</td>\n",
              "      <td>1.000000</td>\n",
              "      <td>1.000000</td>\n",
              "      <td>1.000000</td>\n",
              "    </tr>\n",
              "  </tbody>\n",
              "</table>\n",
              "<p>8 rows × 30 columns</p>\n",
              "</div>\n",
              "    <div class=\"colab-df-buttons\">\n",
              "\n",
              "  <div class=\"colab-df-container\">\n",
              "    <button class=\"colab-df-convert\" onclick=\"convertToInteractive('df-74ccf797-77fe-4588-85a3-4cdb93b51be4')\"\n",
              "            title=\"Convert this dataframe to an interactive table.\"\n",
              "            style=\"display:none;\">\n",
              "\n",
              "  <svg xmlns=\"http://www.w3.org/2000/svg\" height=\"24px\" viewBox=\"0 -960 960 960\">\n",
              "    <path d=\"M120-120v-720h720v720H120Zm60-500h600v-160H180v160Zm220 220h160v-160H400v160Zm0 220h160v-160H400v160ZM180-400h160v-160H180v160Zm440 0h160v-160H620v160ZM180-180h160v-160H180v160Zm440 0h160v-160H620v160Z\"/>\n",
              "  </svg>\n",
              "    </button>\n",
              "\n",
              "  <style>\n",
              "    .colab-df-container {\n",
              "      display:flex;\n",
              "      gap: 12px;\n",
              "    }\n",
              "\n",
              "    .colab-df-convert {\n",
              "      background-color: #E8F0FE;\n",
              "      border: none;\n",
              "      border-radius: 50%;\n",
              "      cursor: pointer;\n",
              "      display: none;\n",
              "      fill: #1967D2;\n",
              "      height: 32px;\n",
              "      padding: 0 0 0 0;\n",
              "      width: 32px;\n",
              "    }\n",
              "\n",
              "    .colab-df-convert:hover {\n",
              "      background-color: #E2EBFA;\n",
              "      box-shadow: 0px 1px 2px rgba(60, 64, 67, 0.3), 0px 1px 3px 1px rgba(60, 64, 67, 0.15);\n",
              "      fill: #174EA6;\n",
              "    }\n",
              "\n",
              "    .colab-df-buttons div {\n",
              "      margin-bottom: 4px;\n",
              "    }\n",
              "\n",
              "    [theme=dark] .colab-df-convert {\n",
              "      background-color: #3B4455;\n",
              "      fill: #D2E3FC;\n",
              "    }\n",
              "\n",
              "    [theme=dark] .colab-df-convert:hover {\n",
              "      background-color: #434B5C;\n",
              "      box-shadow: 0px 1px 3px 1px rgba(0, 0, 0, 0.15);\n",
              "      filter: drop-shadow(0px 1px 2px rgba(0, 0, 0, 0.3));\n",
              "      fill: #FFFFFF;\n",
              "    }\n",
              "  </style>\n",
              "\n",
              "    <script>\n",
              "      const buttonEl =\n",
              "        document.querySelector('#df-74ccf797-77fe-4588-85a3-4cdb93b51be4 button.colab-df-convert');\n",
              "      buttonEl.style.display =\n",
              "        google.colab.kernel.accessAllowed ? 'block' : 'none';\n",
              "\n",
              "      async function convertToInteractive(key) {\n",
              "        const element = document.querySelector('#df-74ccf797-77fe-4588-85a3-4cdb93b51be4');\n",
              "        const dataTable =\n",
              "          await google.colab.kernel.invokeFunction('convertToInteractive',\n",
              "                                                    [key], {});\n",
              "        if (!dataTable) return;\n",
              "\n",
              "        const docLinkHtml = 'Like what you see? Visit the ' +\n",
              "          '<a target=\"_blank\" href=https://colab.research.google.com/notebooks/data_table.ipynb>data table notebook</a>'\n",
              "          + ' to learn more about interactive tables.';\n",
              "        element.innerHTML = '';\n",
              "        dataTable['output_type'] = 'display_data';\n",
              "        await google.colab.output.renderOutput(dataTable, element);\n",
              "        const docLink = document.createElement('div');\n",
              "        docLink.innerHTML = docLinkHtml;\n",
              "        element.appendChild(docLink);\n",
              "      }\n",
              "    </script>\n",
              "  </div>\n",
              "\n",
              "\n",
              "<div id=\"df-e1f1184b-fd8d-480d-ba3f-62bd972d3cc1\">\n",
              "  <button class=\"colab-df-quickchart\" onclick=\"quickchart('df-e1f1184b-fd8d-480d-ba3f-62bd972d3cc1')\"\n",
              "            title=\"Suggest charts\"\n",
              "            style=\"display:none;\">\n",
              "\n",
              "<svg xmlns=\"http://www.w3.org/2000/svg\" height=\"24px\"viewBox=\"0 0 24 24\"\n",
              "     width=\"24px\">\n",
              "    <g>\n",
              "        <path d=\"M19 3H5c-1.1 0-2 .9-2 2v14c0 1.1.9 2 2 2h14c1.1 0 2-.9 2-2V5c0-1.1-.9-2-2-2zM9 17H7v-7h2v7zm4 0h-2V7h2v10zm4 0h-2v-4h2v4z\"/>\n",
              "    </g>\n",
              "</svg>\n",
              "  </button>\n",
              "\n",
              "<style>\n",
              "  .colab-df-quickchart {\n",
              "      --bg-color: #E8F0FE;\n",
              "      --fill-color: #1967D2;\n",
              "      --hover-bg-color: #E2EBFA;\n",
              "      --hover-fill-color: #174EA6;\n",
              "      --disabled-fill-color: #AAA;\n",
              "      --disabled-bg-color: #DDD;\n",
              "  }\n",
              "\n",
              "  [theme=dark] .colab-df-quickchart {\n",
              "      --bg-color: #3B4455;\n",
              "      --fill-color: #D2E3FC;\n",
              "      --hover-bg-color: #434B5C;\n",
              "      --hover-fill-color: #FFFFFF;\n",
              "      --disabled-bg-color: #3B4455;\n",
              "      --disabled-fill-color: #666;\n",
              "  }\n",
              "\n",
              "  .colab-df-quickchart {\n",
              "    background-color: var(--bg-color);\n",
              "    border: none;\n",
              "    border-radius: 50%;\n",
              "    cursor: pointer;\n",
              "    display: none;\n",
              "    fill: var(--fill-color);\n",
              "    height: 32px;\n",
              "    padding: 0;\n",
              "    width: 32px;\n",
              "  }\n",
              "\n",
              "  .colab-df-quickchart:hover {\n",
              "    background-color: var(--hover-bg-color);\n",
              "    box-shadow: 0 1px 2px rgba(60, 64, 67, 0.3), 0 1px 3px 1px rgba(60, 64, 67, 0.15);\n",
              "    fill: var(--button-hover-fill-color);\n",
              "  }\n",
              "\n",
              "  .colab-df-quickchart-complete:disabled,\n",
              "  .colab-df-quickchart-complete:disabled:hover {\n",
              "    background-color: var(--disabled-bg-color);\n",
              "    fill: var(--disabled-fill-color);\n",
              "    box-shadow: none;\n",
              "  }\n",
              "\n",
              "  .colab-df-spinner {\n",
              "    border: 2px solid var(--fill-color);\n",
              "    border-color: transparent;\n",
              "    border-bottom-color: var(--fill-color);\n",
              "    animation:\n",
              "      spin 1s steps(1) infinite;\n",
              "  }\n",
              "\n",
              "  @keyframes spin {\n",
              "    0% {\n",
              "      border-color: transparent;\n",
              "      border-bottom-color: var(--fill-color);\n",
              "      border-left-color: var(--fill-color);\n",
              "    }\n",
              "    20% {\n",
              "      border-color: transparent;\n",
              "      border-left-color: var(--fill-color);\n",
              "      border-top-color: var(--fill-color);\n",
              "    }\n",
              "    30% {\n",
              "      border-color: transparent;\n",
              "      border-left-color: var(--fill-color);\n",
              "      border-top-color: var(--fill-color);\n",
              "      border-right-color: var(--fill-color);\n",
              "    }\n",
              "    40% {\n",
              "      border-color: transparent;\n",
              "      border-right-color: var(--fill-color);\n",
              "      border-top-color: var(--fill-color);\n",
              "    }\n",
              "    60% {\n",
              "      border-color: transparent;\n",
              "      border-right-color: var(--fill-color);\n",
              "    }\n",
              "    80% {\n",
              "      border-color: transparent;\n",
              "      border-right-color: var(--fill-color);\n",
              "      border-bottom-color: var(--fill-color);\n",
              "    }\n",
              "    90% {\n",
              "      border-color: transparent;\n",
              "      border-bottom-color: var(--fill-color);\n",
              "    }\n",
              "  }\n",
              "</style>\n",
              "\n",
              "  <script>\n",
              "    async function quickchart(key) {\n",
              "      const quickchartButtonEl =\n",
              "        document.querySelector('#' + key + ' button');\n",
              "      quickchartButtonEl.disabled = true;  // To prevent multiple clicks.\n",
              "      quickchartButtonEl.classList.add('colab-df-spinner');\n",
              "      try {\n",
              "        const charts = await google.colab.kernel.invokeFunction(\n",
              "            'suggestCharts', [key], {});\n",
              "      } catch (error) {\n",
              "        console.error('Error during call to suggestCharts:', error);\n",
              "      }\n",
              "      quickchartButtonEl.classList.remove('colab-df-spinner');\n",
              "      quickchartButtonEl.classList.add('colab-df-quickchart-complete');\n",
              "    }\n",
              "    (() => {\n",
              "      let quickchartButtonEl =\n",
              "        document.querySelector('#df-e1f1184b-fd8d-480d-ba3f-62bd972d3cc1 button');\n",
              "      quickchartButtonEl.style.display =\n",
              "        google.colab.kernel.accessAllowed ? 'block' : 'none';\n",
              "    })();\n",
              "  </script>\n",
              "</div>\n",
              "    </div>\n",
              "  </div>\n"
            ]
          },
          "metadata": {},
          "execution_count": 17
        }
      ]
    },
    {
      "cell_type": "markdown",
      "source": [
        "And the most negatively correlated features."
      ],
      "metadata": {
        "id": "q_AyCwfcS-Wt"
      }
    },
    {
      "cell_type": "code",
      "source": [
        "most_negative_corr = recipe_corr.loc[(recipe_corr['good'] < -.03) & (recipe_corr['good'].index != 'rating'),'good'].index.to_list()\n",
        "raw_data[most_negative_corr].describe()"
      ],
      "metadata": {
        "id": "zkp1oQNDTBT-",
        "outputId": "125b1c48-1f0d-4a2f-e700-644874e2ba74",
        "colab": {
          "base_uri": "https://localhost:8080/",
          "height": 367
        }
      },
      "execution_count": 18,
      "outputs": [
        {
          "output_type": "execute_result",
          "data": {
            "text/plain": [
              "          alcoholic       bitters      broccoli      cocktail  cocktail party  \\\n",
              "count  20052.000000  20052.000000  20052.000000  20052.000000    20052.000000   \n",
              "mean       0.041642      0.006334      0.006084      0.018951        0.057550   \n",
              "std        0.199774      0.079333      0.077765      0.136354        0.232897   \n",
              "min        0.000000      0.000000      0.000000      0.000000        0.000000   \n",
              "25%        0.000000      0.000000      0.000000      0.000000        0.000000   \n",
              "50%        0.000000      0.000000      0.000000      0.000000        0.000000   \n",
              "75%        0.000000      0.000000      0.000000      0.000000        0.000000   \n",
              "max        1.000000      1.000000      1.000000      1.000000        1.000000   \n",
              "\n",
              "              drink           gin       gourmet  harpercollins  \\\n",
              "count  20052.000000  20052.000000  20052.000000   20052.000000   \n",
              "mean       0.054209      0.011271      0.331538       0.006034   \n",
              "std        0.226435      0.105566      0.470778       0.077448   \n",
              "min        0.000000      0.000000      0.000000       0.000000   \n",
              "25%        0.000000      0.000000      0.000000       0.000000   \n",
              "50%        0.000000      0.000000      0.000000       0.000000   \n",
              "75%        0.000000      0.000000      1.000000       0.000000   \n",
              "max        1.000000      1.000000      1.000000       1.000000   \n",
              "\n",
              "       house & garden  ...       low fat         pasta  quick & easy  \\\n",
              "count    20052.000000  ...  20052.000000  20052.000000  20052.000000   \n",
              "mean         0.022890  ...      0.046330      0.048274      0.267903   \n",
              "std          0.149558  ...      0.210203      0.214351      0.442878   \n",
              "min          0.000000  ...      0.000000      0.000000      0.000000   \n",
              "25%          0.000000  ...      0.000000      0.000000      0.000000   \n",
              "50%          0.000000  ...      0.000000      0.000000      0.000000   \n",
              "75%          0.000000  ...      0.000000      0.000000      1.000000   \n",
              "max          1.000000  ...      1.000000      1.000000      1.000000   \n",
              "\n",
              "             radish           rum        scotch        spirit      stir-fry  \\\n",
              "count  20052.000000  20052.000000  20052.000000  20052.000000  20052.000000   \n",
              "mean       0.010373      0.016507      0.001097      0.010922      0.011321   \n",
              "std        0.101321      0.127418      0.033106      0.103937      0.105797   \n",
              "min        0.000000      0.000000      0.000000      0.000000      0.000000   \n",
              "25%        0.000000      0.000000      0.000000      0.000000      0.000000   \n",
              "50%        0.000000      0.000000      0.000000      0.000000      0.000000   \n",
              "75%        0.000000      0.000000      0.000000      0.000000      0.000000   \n",
              "max        1.000000      1.000000      1.000000      1.000000      1.000000   \n",
              "\n",
              "               tofu        vegan  \n",
              "count  20052.000000  20052.00000  \n",
              "mean       0.004588      0.09231  \n",
              "std        0.067581      0.28947  \n",
              "min        0.000000      0.00000  \n",
              "25%        0.000000      0.00000  \n",
              "50%        0.000000      0.00000  \n",
              "75%        0.000000      0.00000  \n",
              "max        1.000000      1.00000  \n",
              "\n",
              "[8 rows x 21 columns]"
            ],
            "text/html": [
              "\n",
              "  <div id=\"df-cbb76303-7a37-4735-aeeb-7c10d946db42\" class=\"colab-df-container\">\n",
              "    <div>\n",
              "<style scoped>\n",
              "    .dataframe tbody tr th:only-of-type {\n",
              "        vertical-align: middle;\n",
              "    }\n",
              "\n",
              "    .dataframe tbody tr th {\n",
              "        vertical-align: top;\n",
              "    }\n",
              "\n",
              "    .dataframe thead th {\n",
              "        text-align: right;\n",
              "    }\n",
              "</style>\n",
              "<table border=\"1\" class=\"dataframe\">\n",
              "  <thead>\n",
              "    <tr style=\"text-align: right;\">\n",
              "      <th></th>\n",
              "      <th>alcoholic</th>\n",
              "      <th>bitters</th>\n",
              "      <th>broccoli</th>\n",
              "      <th>cocktail</th>\n",
              "      <th>cocktail party</th>\n",
              "      <th>drink</th>\n",
              "      <th>gin</th>\n",
              "      <th>gourmet</th>\n",
              "      <th>harpercollins</th>\n",
              "      <th>house &amp; garden</th>\n",
              "      <th>...</th>\n",
              "      <th>low fat</th>\n",
              "      <th>pasta</th>\n",
              "      <th>quick &amp; easy</th>\n",
              "      <th>radish</th>\n",
              "      <th>rum</th>\n",
              "      <th>scotch</th>\n",
              "      <th>spirit</th>\n",
              "      <th>stir-fry</th>\n",
              "      <th>tofu</th>\n",
              "      <th>vegan</th>\n",
              "    </tr>\n",
              "  </thead>\n",
              "  <tbody>\n",
              "    <tr>\n",
              "      <th>count</th>\n",
              "      <td>20052.000000</td>\n",
              "      <td>20052.000000</td>\n",
              "      <td>20052.000000</td>\n",
              "      <td>20052.000000</td>\n",
              "      <td>20052.000000</td>\n",
              "      <td>20052.000000</td>\n",
              "      <td>20052.000000</td>\n",
              "      <td>20052.000000</td>\n",
              "      <td>20052.000000</td>\n",
              "      <td>20052.000000</td>\n",
              "      <td>...</td>\n",
              "      <td>20052.000000</td>\n",
              "      <td>20052.000000</td>\n",
              "      <td>20052.000000</td>\n",
              "      <td>20052.000000</td>\n",
              "      <td>20052.000000</td>\n",
              "      <td>20052.000000</td>\n",
              "      <td>20052.000000</td>\n",
              "      <td>20052.000000</td>\n",
              "      <td>20052.000000</td>\n",
              "      <td>20052.00000</td>\n",
              "    </tr>\n",
              "    <tr>\n",
              "      <th>mean</th>\n",
              "      <td>0.041642</td>\n",
              "      <td>0.006334</td>\n",
              "      <td>0.006084</td>\n",
              "      <td>0.018951</td>\n",
              "      <td>0.057550</td>\n",
              "      <td>0.054209</td>\n",
              "      <td>0.011271</td>\n",
              "      <td>0.331538</td>\n",
              "      <td>0.006034</td>\n",
              "      <td>0.022890</td>\n",
              "      <td>...</td>\n",
              "      <td>0.046330</td>\n",
              "      <td>0.048274</td>\n",
              "      <td>0.267903</td>\n",
              "      <td>0.010373</td>\n",
              "      <td>0.016507</td>\n",
              "      <td>0.001097</td>\n",
              "      <td>0.010922</td>\n",
              "      <td>0.011321</td>\n",
              "      <td>0.004588</td>\n",
              "      <td>0.09231</td>\n",
              "    </tr>\n",
              "    <tr>\n",
              "      <th>std</th>\n",
              "      <td>0.199774</td>\n",
              "      <td>0.079333</td>\n",
              "      <td>0.077765</td>\n",
              "      <td>0.136354</td>\n",
              "      <td>0.232897</td>\n",
              "      <td>0.226435</td>\n",
              "      <td>0.105566</td>\n",
              "      <td>0.470778</td>\n",
              "      <td>0.077448</td>\n",
              "      <td>0.149558</td>\n",
              "      <td>...</td>\n",
              "      <td>0.210203</td>\n",
              "      <td>0.214351</td>\n",
              "      <td>0.442878</td>\n",
              "      <td>0.101321</td>\n",
              "      <td>0.127418</td>\n",
              "      <td>0.033106</td>\n",
              "      <td>0.103937</td>\n",
              "      <td>0.105797</td>\n",
              "      <td>0.067581</td>\n",
              "      <td>0.28947</td>\n",
              "    </tr>\n",
              "    <tr>\n",
              "      <th>min</th>\n",
              "      <td>0.000000</td>\n",
              "      <td>0.000000</td>\n",
              "      <td>0.000000</td>\n",
              "      <td>0.000000</td>\n",
              "      <td>0.000000</td>\n",
              "      <td>0.000000</td>\n",
              "      <td>0.000000</td>\n",
              "      <td>0.000000</td>\n",
              "      <td>0.000000</td>\n",
              "      <td>0.000000</td>\n",
              "      <td>...</td>\n",
              "      <td>0.000000</td>\n",
              "      <td>0.000000</td>\n",
              "      <td>0.000000</td>\n",
              "      <td>0.000000</td>\n",
              "      <td>0.000000</td>\n",
              "      <td>0.000000</td>\n",
              "      <td>0.000000</td>\n",
              "      <td>0.000000</td>\n",
              "      <td>0.000000</td>\n",
              "      <td>0.00000</td>\n",
              "    </tr>\n",
              "    <tr>\n",
              "      <th>25%</th>\n",
              "      <td>0.000000</td>\n",
              "      <td>0.000000</td>\n",
              "      <td>0.000000</td>\n",
              "      <td>0.000000</td>\n",
              "      <td>0.000000</td>\n",
              "      <td>0.000000</td>\n",
              "      <td>0.000000</td>\n",
              "      <td>0.000000</td>\n",
              "      <td>0.000000</td>\n",
              "      <td>0.000000</td>\n",
              "      <td>...</td>\n",
              "      <td>0.000000</td>\n",
              "      <td>0.000000</td>\n",
              "      <td>0.000000</td>\n",
              "      <td>0.000000</td>\n",
              "      <td>0.000000</td>\n",
              "      <td>0.000000</td>\n",
              "      <td>0.000000</td>\n",
              "      <td>0.000000</td>\n",
              "      <td>0.000000</td>\n",
              "      <td>0.00000</td>\n",
              "    </tr>\n",
              "    <tr>\n",
              "      <th>50%</th>\n",
              "      <td>0.000000</td>\n",
              "      <td>0.000000</td>\n",
              "      <td>0.000000</td>\n",
              "      <td>0.000000</td>\n",
              "      <td>0.000000</td>\n",
              "      <td>0.000000</td>\n",
              "      <td>0.000000</td>\n",
              "      <td>0.000000</td>\n",
              "      <td>0.000000</td>\n",
              "      <td>0.000000</td>\n",
              "      <td>...</td>\n",
              "      <td>0.000000</td>\n",
              "      <td>0.000000</td>\n",
              "      <td>0.000000</td>\n",
              "      <td>0.000000</td>\n",
              "      <td>0.000000</td>\n",
              "      <td>0.000000</td>\n",
              "      <td>0.000000</td>\n",
              "      <td>0.000000</td>\n",
              "      <td>0.000000</td>\n",
              "      <td>0.00000</td>\n",
              "    </tr>\n",
              "    <tr>\n",
              "      <th>75%</th>\n",
              "      <td>0.000000</td>\n",
              "      <td>0.000000</td>\n",
              "      <td>0.000000</td>\n",
              "      <td>0.000000</td>\n",
              "      <td>0.000000</td>\n",
              "      <td>0.000000</td>\n",
              "      <td>0.000000</td>\n",
              "      <td>1.000000</td>\n",
              "      <td>0.000000</td>\n",
              "      <td>0.000000</td>\n",
              "      <td>...</td>\n",
              "      <td>0.000000</td>\n",
              "      <td>0.000000</td>\n",
              "      <td>1.000000</td>\n",
              "      <td>0.000000</td>\n",
              "      <td>0.000000</td>\n",
              "      <td>0.000000</td>\n",
              "      <td>0.000000</td>\n",
              "      <td>0.000000</td>\n",
              "      <td>0.000000</td>\n",
              "      <td>0.00000</td>\n",
              "    </tr>\n",
              "    <tr>\n",
              "      <th>max</th>\n",
              "      <td>1.000000</td>\n",
              "      <td>1.000000</td>\n",
              "      <td>1.000000</td>\n",
              "      <td>1.000000</td>\n",
              "      <td>1.000000</td>\n",
              "      <td>1.000000</td>\n",
              "      <td>1.000000</td>\n",
              "      <td>1.000000</td>\n",
              "      <td>1.000000</td>\n",
              "      <td>1.000000</td>\n",
              "      <td>...</td>\n",
              "      <td>1.000000</td>\n",
              "      <td>1.000000</td>\n",
              "      <td>1.000000</td>\n",
              "      <td>1.000000</td>\n",
              "      <td>1.000000</td>\n",
              "      <td>1.000000</td>\n",
              "      <td>1.000000</td>\n",
              "      <td>1.000000</td>\n",
              "      <td>1.000000</td>\n",
              "      <td>1.00000</td>\n",
              "    </tr>\n",
              "  </tbody>\n",
              "</table>\n",
              "<p>8 rows × 21 columns</p>\n",
              "</div>\n",
              "    <div class=\"colab-df-buttons\">\n",
              "\n",
              "  <div class=\"colab-df-container\">\n",
              "    <button class=\"colab-df-convert\" onclick=\"convertToInteractive('df-cbb76303-7a37-4735-aeeb-7c10d946db42')\"\n",
              "            title=\"Convert this dataframe to an interactive table.\"\n",
              "            style=\"display:none;\">\n",
              "\n",
              "  <svg xmlns=\"http://www.w3.org/2000/svg\" height=\"24px\" viewBox=\"0 -960 960 960\">\n",
              "    <path d=\"M120-120v-720h720v720H120Zm60-500h600v-160H180v160Zm220 220h160v-160H400v160Zm0 220h160v-160H400v160ZM180-400h160v-160H180v160Zm440 0h160v-160H620v160ZM180-180h160v-160H180v160Zm440 0h160v-160H620v160Z\"/>\n",
              "  </svg>\n",
              "    </button>\n",
              "\n",
              "  <style>\n",
              "    .colab-df-container {\n",
              "      display:flex;\n",
              "      gap: 12px;\n",
              "    }\n",
              "\n",
              "    .colab-df-convert {\n",
              "      background-color: #E8F0FE;\n",
              "      border: none;\n",
              "      border-radius: 50%;\n",
              "      cursor: pointer;\n",
              "      display: none;\n",
              "      fill: #1967D2;\n",
              "      height: 32px;\n",
              "      padding: 0 0 0 0;\n",
              "      width: 32px;\n",
              "    }\n",
              "\n",
              "    .colab-df-convert:hover {\n",
              "      background-color: #E2EBFA;\n",
              "      box-shadow: 0px 1px 2px rgba(60, 64, 67, 0.3), 0px 1px 3px 1px rgba(60, 64, 67, 0.15);\n",
              "      fill: #174EA6;\n",
              "    }\n",
              "\n",
              "    .colab-df-buttons div {\n",
              "      margin-bottom: 4px;\n",
              "    }\n",
              "\n",
              "    [theme=dark] .colab-df-convert {\n",
              "      background-color: #3B4455;\n",
              "      fill: #D2E3FC;\n",
              "    }\n",
              "\n",
              "    [theme=dark] .colab-df-convert:hover {\n",
              "      background-color: #434B5C;\n",
              "      box-shadow: 0px 1px 3px 1px rgba(0, 0, 0, 0.15);\n",
              "      filter: drop-shadow(0px 1px 2px rgba(0, 0, 0, 0.3));\n",
              "      fill: #FFFFFF;\n",
              "    }\n",
              "  </style>\n",
              "\n",
              "    <script>\n",
              "      const buttonEl =\n",
              "        document.querySelector('#df-cbb76303-7a37-4735-aeeb-7c10d946db42 button.colab-df-convert');\n",
              "      buttonEl.style.display =\n",
              "        google.colab.kernel.accessAllowed ? 'block' : 'none';\n",
              "\n",
              "      async function convertToInteractive(key) {\n",
              "        const element = document.querySelector('#df-cbb76303-7a37-4735-aeeb-7c10d946db42');\n",
              "        const dataTable =\n",
              "          await google.colab.kernel.invokeFunction('convertToInteractive',\n",
              "                                                    [key], {});\n",
              "        if (!dataTable) return;\n",
              "\n",
              "        const docLinkHtml = 'Like what you see? Visit the ' +\n",
              "          '<a target=\"_blank\" href=https://colab.research.google.com/notebooks/data_table.ipynb>data table notebook</a>'\n",
              "          + ' to learn more about interactive tables.';\n",
              "        element.innerHTML = '';\n",
              "        dataTable['output_type'] = 'display_data';\n",
              "        await google.colab.output.renderOutput(dataTable, element);\n",
              "        const docLink = document.createElement('div');\n",
              "        docLink.innerHTML = docLinkHtml;\n",
              "        element.appendChild(docLink);\n",
              "      }\n",
              "    </script>\n",
              "  </div>\n",
              "\n",
              "\n",
              "<div id=\"df-f2866878-4b52-4cdc-8b9c-83517985d769\">\n",
              "  <button class=\"colab-df-quickchart\" onclick=\"quickchart('df-f2866878-4b52-4cdc-8b9c-83517985d769')\"\n",
              "            title=\"Suggest charts\"\n",
              "            style=\"display:none;\">\n",
              "\n",
              "<svg xmlns=\"http://www.w3.org/2000/svg\" height=\"24px\"viewBox=\"0 0 24 24\"\n",
              "     width=\"24px\">\n",
              "    <g>\n",
              "        <path d=\"M19 3H5c-1.1 0-2 .9-2 2v14c0 1.1.9 2 2 2h14c1.1 0 2-.9 2-2V5c0-1.1-.9-2-2-2zM9 17H7v-7h2v7zm4 0h-2V7h2v10zm4 0h-2v-4h2v4z\"/>\n",
              "    </g>\n",
              "</svg>\n",
              "  </button>\n",
              "\n",
              "<style>\n",
              "  .colab-df-quickchart {\n",
              "      --bg-color: #E8F0FE;\n",
              "      --fill-color: #1967D2;\n",
              "      --hover-bg-color: #E2EBFA;\n",
              "      --hover-fill-color: #174EA6;\n",
              "      --disabled-fill-color: #AAA;\n",
              "      --disabled-bg-color: #DDD;\n",
              "  }\n",
              "\n",
              "  [theme=dark] .colab-df-quickchart {\n",
              "      --bg-color: #3B4455;\n",
              "      --fill-color: #D2E3FC;\n",
              "      --hover-bg-color: #434B5C;\n",
              "      --hover-fill-color: #FFFFFF;\n",
              "      --disabled-bg-color: #3B4455;\n",
              "      --disabled-fill-color: #666;\n",
              "  }\n",
              "\n",
              "  .colab-df-quickchart {\n",
              "    background-color: var(--bg-color);\n",
              "    border: none;\n",
              "    border-radius: 50%;\n",
              "    cursor: pointer;\n",
              "    display: none;\n",
              "    fill: var(--fill-color);\n",
              "    height: 32px;\n",
              "    padding: 0;\n",
              "    width: 32px;\n",
              "  }\n",
              "\n",
              "  .colab-df-quickchart:hover {\n",
              "    background-color: var(--hover-bg-color);\n",
              "    box-shadow: 0 1px 2px rgba(60, 64, 67, 0.3), 0 1px 3px 1px rgba(60, 64, 67, 0.15);\n",
              "    fill: var(--button-hover-fill-color);\n",
              "  }\n",
              "\n",
              "  .colab-df-quickchart-complete:disabled,\n",
              "  .colab-df-quickchart-complete:disabled:hover {\n",
              "    background-color: var(--disabled-bg-color);\n",
              "    fill: var(--disabled-fill-color);\n",
              "    box-shadow: none;\n",
              "  }\n",
              "\n",
              "  .colab-df-spinner {\n",
              "    border: 2px solid var(--fill-color);\n",
              "    border-color: transparent;\n",
              "    border-bottom-color: var(--fill-color);\n",
              "    animation:\n",
              "      spin 1s steps(1) infinite;\n",
              "  }\n",
              "\n",
              "  @keyframes spin {\n",
              "    0% {\n",
              "      border-color: transparent;\n",
              "      border-bottom-color: var(--fill-color);\n",
              "      border-left-color: var(--fill-color);\n",
              "    }\n",
              "    20% {\n",
              "      border-color: transparent;\n",
              "      border-left-color: var(--fill-color);\n",
              "      border-top-color: var(--fill-color);\n",
              "    }\n",
              "    30% {\n",
              "      border-color: transparent;\n",
              "      border-left-color: var(--fill-color);\n",
              "      border-top-color: var(--fill-color);\n",
              "      border-right-color: var(--fill-color);\n",
              "    }\n",
              "    40% {\n",
              "      border-color: transparent;\n",
              "      border-right-color: var(--fill-color);\n",
              "      border-top-color: var(--fill-color);\n",
              "    }\n",
              "    60% {\n",
              "      border-color: transparent;\n",
              "      border-right-color: var(--fill-color);\n",
              "    }\n",
              "    80% {\n",
              "      border-color: transparent;\n",
              "      border-right-color: var(--fill-color);\n",
              "      border-bottom-color: var(--fill-color);\n",
              "    }\n",
              "    90% {\n",
              "      border-color: transparent;\n",
              "      border-bottom-color: var(--fill-color);\n",
              "    }\n",
              "  }\n",
              "</style>\n",
              "\n",
              "  <script>\n",
              "    async function quickchart(key) {\n",
              "      const quickchartButtonEl =\n",
              "        document.querySelector('#' + key + ' button');\n",
              "      quickchartButtonEl.disabled = true;  // To prevent multiple clicks.\n",
              "      quickchartButtonEl.classList.add('colab-df-spinner');\n",
              "      try {\n",
              "        const charts = await google.colab.kernel.invokeFunction(\n",
              "            'suggestCharts', [key], {});\n",
              "      } catch (error) {\n",
              "        console.error('Error during call to suggestCharts:', error);\n",
              "      }\n",
              "      quickchartButtonEl.classList.remove('colab-df-spinner');\n",
              "      quickchartButtonEl.classList.add('colab-df-quickchart-complete');\n",
              "    }\n",
              "    (() => {\n",
              "      let quickchartButtonEl =\n",
              "        document.querySelector('#df-f2866878-4b52-4cdc-8b9c-83517985d769 button');\n",
              "      quickchartButtonEl.style.display =\n",
              "        google.colab.kernel.accessAllowed ? 'block' : 'none';\n",
              "    })();\n",
              "  </script>\n",
              "</div>\n",
              "    </div>\n",
              "  </div>\n"
            ]
          },
          "metadata": {},
          "execution_count": 18
        }
      ]
    },
    {
      "cell_type": "markdown",
      "source": [
        "We now create a restricted dataset based on the most correlated features."
      ],
      "metadata": {
        "id": "o0YlO7zLUhzQ"
      }
    },
    {
      "cell_type": "code",
      "source": [
        "raw_data_most_corr = raw_data[most_positive_corr]"
      ],
      "metadata": {
        "id": "CiAoxka_Ul6U"
      },
      "execution_count": 19,
      "outputs": []
    },
    {
      "cell_type": "markdown",
      "source": [
        "Let's try retraining our Support Vector Classifier."
      ],
      "metadata": {
        "id": "L_C8ccbXUwva"
      }
    },
    {
      "cell_type": "code",
      "source": [
        "svc_most_corr = SVC()\n",
        "X = raw_data_most_corr.drop(['good'], 1).sample(frac=0.3, replace=True, random_state=1)\n",
        "Y = raw_data_most_corr['good'].sample(frac=0.3, replace=True, random_state=1)\n",
        "svc_most_corr.fit(X,Y)"
      ],
      "metadata": {
        "id": "Q0LUQZuzUz7T",
        "outputId": "4d6680ff-f84a-4c06-aa53-c9e1ec644d3a",
        "colab": {
          "base_uri": "https://localhost:8080/",
          "height": 110
        }
      },
      "execution_count": 20,
      "outputs": [
        {
          "output_type": "stream",
          "name": "stderr",
          "text": [
            "<ipython-input-20-8096ea65c8cf>:2: FutureWarning: In a future version of pandas all arguments of DataFrame.drop except for the argument 'labels' will be keyword-only.\n",
            "  X = raw_data_most_corr.drop(['good'], 1).sample(frac=0.3, replace=True, random_state=1)\n"
          ]
        },
        {
          "output_type": "execute_result",
          "data": {
            "text/plain": [
              "SVC()"
            ],
            "text/html": [
              "<style>#sk-container-id-3 {color: black;background-color: white;}#sk-container-id-3 pre{padding: 0;}#sk-container-id-3 div.sk-toggleable {background-color: white;}#sk-container-id-3 label.sk-toggleable__label {cursor: pointer;display: block;width: 100%;margin-bottom: 0;padding: 0.3em;box-sizing: border-box;text-align: center;}#sk-container-id-3 label.sk-toggleable__label-arrow:before {content: \"▸\";float: left;margin-right: 0.25em;color: #696969;}#sk-container-id-3 label.sk-toggleable__label-arrow:hover:before {color: black;}#sk-container-id-3 div.sk-estimator:hover label.sk-toggleable__label-arrow:before {color: black;}#sk-container-id-3 div.sk-toggleable__content {max-height: 0;max-width: 0;overflow: hidden;text-align: left;background-color: #f0f8ff;}#sk-container-id-3 div.sk-toggleable__content pre {margin: 0.2em;color: black;border-radius: 0.25em;background-color: #f0f8ff;}#sk-container-id-3 input.sk-toggleable__control:checked~div.sk-toggleable__content {max-height: 200px;max-width: 100%;overflow: auto;}#sk-container-id-3 input.sk-toggleable__control:checked~label.sk-toggleable__label-arrow:before {content: \"▾\";}#sk-container-id-3 div.sk-estimator input.sk-toggleable__control:checked~label.sk-toggleable__label {background-color: #d4ebff;}#sk-container-id-3 div.sk-label input.sk-toggleable__control:checked~label.sk-toggleable__label {background-color: #d4ebff;}#sk-container-id-3 input.sk-hidden--visually {border: 0;clip: rect(1px 1px 1px 1px);clip: rect(1px, 1px, 1px, 1px);height: 1px;margin: -1px;overflow: hidden;padding: 0;position: absolute;width: 1px;}#sk-container-id-3 div.sk-estimator {font-family: monospace;background-color: #f0f8ff;border: 1px dotted black;border-radius: 0.25em;box-sizing: border-box;margin-bottom: 0.5em;}#sk-container-id-3 div.sk-estimator:hover {background-color: #d4ebff;}#sk-container-id-3 div.sk-parallel-item::after {content: \"\";width: 100%;border-bottom: 1px solid gray;flex-grow: 1;}#sk-container-id-3 div.sk-label:hover label.sk-toggleable__label {background-color: #d4ebff;}#sk-container-id-3 div.sk-serial::before {content: \"\";position: absolute;border-left: 1px solid gray;box-sizing: border-box;top: 0;bottom: 0;left: 50%;z-index: 0;}#sk-container-id-3 div.sk-serial {display: flex;flex-direction: column;align-items: center;background-color: white;padding-right: 0.2em;padding-left: 0.2em;position: relative;}#sk-container-id-3 div.sk-item {position: relative;z-index: 1;}#sk-container-id-3 div.sk-parallel {display: flex;align-items: stretch;justify-content: center;background-color: white;position: relative;}#sk-container-id-3 div.sk-item::before, #sk-container-id-3 div.sk-parallel-item::before {content: \"\";position: absolute;border-left: 1px solid gray;box-sizing: border-box;top: 0;bottom: 0;left: 50%;z-index: -1;}#sk-container-id-3 div.sk-parallel-item {display: flex;flex-direction: column;z-index: 1;position: relative;background-color: white;}#sk-container-id-3 div.sk-parallel-item:first-child::after {align-self: flex-end;width: 50%;}#sk-container-id-3 div.sk-parallel-item:last-child::after {align-self: flex-start;width: 50%;}#sk-container-id-3 div.sk-parallel-item:only-child::after {width: 0;}#sk-container-id-3 div.sk-dashed-wrapped {border: 1px dashed gray;margin: 0 0.4em 0.5em 0.4em;box-sizing: border-box;padding-bottom: 0.4em;background-color: white;}#sk-container-id-3 div.sk-label label {font-family: monospace;font-weight: bold;display: inline-block;line-height: 1.2em;}#sk-container-id-3 div.sk-label-container {text-align: center;}#sk-container-id-3 div.sk-container {/* jupyter's `normalize.less` sets `[hidden] { display: none; }` but bootstrap.min.css set `[hidden] { display: none !important; }` so we also need the `!important` here to be able to override the default hidden behavior on the sphinx rendered scikit-learn.org. See: https://github.com/scikit-learn/scikit-learn/issues/21755 */display: inline-block !important;position: relative;}#sk-container-id-3 div.sk-text-repr-fallback {display: none;}</style><div id=\"sk-container-id-3\" class=\"sk-top-container\"><div class=\"sk-text-repr-fallback\"><pre>SVC()</pre><b>In a Jupyter environment, please rerun this cell to show the HTML representation or trust the notebook. <br />On GitHub, the HTML representation is unable to render, please try loading this page with nbviewer.org.</b></div><div class=\"sk-container\" hidden><div class=\"sk-item\"><div class=\"sk-estimator sk-toggleable\"><input class=\"sk-toggleable__control sk-hidden--visually\" id=\"sk-estimator-id-3\" type=\"checkbox\" checked><label for=\"sk-estimator-id-3\" class=\"sk-toggleable__label sk-toggleable__label-arrow\">SVC</label><div class=\"sk-toggleable__content\"><pre>SVC()</pre></div></div></div></div></div>"
            ]
          },
          "metadata": {},
          "execution_count": 20
        }
      ]
    },
    {
      "cell_type": "code",
      "source": [
        "svc_most_corr.score(X, Y)"
      ],
      "metadata": {
        "id": "FvKnirwrVLsH",
        "outputId": "dc62779e-5593-4c4f-de7c-a11537c686dc",
        "colab": {
          "base_uri": "https://localhost:8080/"
        }
      },
      "execution_count": 21,
      "outputs": [
        {
          "output_type": "execute_result",
          "data": {
            "text/plain": [
              "0.604720744680851"
            ]
          },
          "metadata": {},
          "execution_count": 21
        }
      ]
    },
    {
      "cell_type": "code",
      "source": [
        "cross_val_score(svc_most_corr, X, Y, cv=5)"
      ],
      "metadata": {
        "id": "KbSnoEYuVRCo",
        "outputId": "c28fb566-78fb-492e-df4f-340e1c3633e8",
        "colab": {
          "base_uri": "https://localhost:8080/"
        }
      },
      "execution_count": 22,
      "outputs": [
        {
          "output_type": "execute_result",
          "data": {
            "text/plain": [
              "array([0.56229236, 0.56275977, 0.56109726, 0.57689111, 0.56359102])"
            ]
          },
          "metadata": {},
          "execution_count": 22
        }
      ]
    },
    {
      "cell_type": "markdown",
      "source": [
        "We can also try the SVC with adding the additional negative corellations.\n"
      ],
      "metadata": {
        "id": "He3_gfS_VX05"
      }
    },
    {
      "cell_type": "code",
      "source": [
        "highest_corr = most_positive_corr + most_negative_corr\n",
        "raw_data_highest_corr = raw_data[highest_corr]"
      ],
      "metadata": {
        "id": "Hap4k2GWVczB"
      },
      "execution_count": 23,
      "outputs": []
    },
    {
      "cell_type": "code",
      "source": [
        "svc_highest_corr = SVC()\n",
        "X = raw_data_highest_corr.drop(['good'], 1).sample(frac=0.3, replace=True, random_state=1)\n",
        "Y = raw_data_highest_corr['good'].sample(frac=0.3, replace=True, random_state=1)\n",
        "svc_highest_corr.fit(X,Y)"
      ],
      "metadata": {
        "id": "RT05BpPdV0jz",
        "outputId": "57b63787-829a-41db-d81f-6610ca1ad7a3",
        "colab": {
          "base_uri": "https://localhost:8080/",
          "height": 110
        }
      },
      "execution_count": 24,
      "outputs": [
        {
          "output_type": "stream",
          "name": "stderr",
          "text": [
            "<ipython-input-24-ffa08ba166f6>:2: FutureWarning: In a future version of pandas all arguments of DataFrame.drop except for the argument 'labels' will be keyword-only.\n",
            "  X = raw_data_highest_corr.drop(['good'], 1).sample(frac=0.3, replace=True, random_state=1)\n"
          ]
        },
        {
          "output_type": "execute_result",
          "data": {
            "text/plain": [
              "SVC()"
            ],
            "text/html": [
              "<style>#sk-container-id-4 {color: black;background-color: white;}#sk-container-id-4 pre{padding: 0;}#sk-container-id-4 div.sk-toggleable {background-color: white;}#sk-container-id-4 label.sk-toggleable__label {cursor: pointer;display: block;width: 100%;margin-bottom: 0;padding: 0.3em;box-sizing: border-box;text-align: center;}#sk-container-id-4 label.sk-toggleable__label-arrow:before {content: \"▸\";float: left;margin-right: 0.25em;color: #696969;}#sk-container-id-4 label.sk-toggleable__label-arrow:hover:before {color: black;}#sk-container-id-4 div.sk-estimator:hover label.sk-toggleable__label-arrow:before {color: black;}#sk-container-id-4 div.sk-toggleable__content {max-height: 0;max-width: 0;overflow: hidden;text-align: left;background-color: #f0f8ff;}#sk-container-id-4 div.sk-toggleable__content pre {margin: 0.2em;color: black;border-radius: 0.25em;background-color: #f0f8ff;}#sk-container-id-4 input.sk-toggleable__control:checked~div.sk-toggleable__content {max-height: 200px;max-width: 100%;overflow: auto;}#sk-container-id-4 input.sk-toggleable__control:checked~label.sk-toggleable__label-arrow:before {content: \"▾\";}#sk-container-id-4 div.sk-estimator input.sk-toggleable__control:checked~label.sk-toggleable__label {background-color: #d4ebff;}#sk-container-id-4 div.sk-label input.sk-toggleable__control:checked~label.sk-toggleable__label {background-color: #d4ebff;}#sk-container-id-4 input.sk-hidden--visually {border: 0;clip: rect(1px 1px 1px 1px);clip: rect(1px, 1px, 1px, 1px);height: 1px;margin: -1px;overflow: hidden;padding: 0;position: absolute;width: 1px;}#sk-container-id-4 div.sk-estimator {font-family: monospace;background-color: #f0f8ff;border: 1px dotted black;border-radius: 0.25em;box-sizing: border-box;margin-bottom: 0.5em;}#sk-container-id-4 div.sk-estimator:hover {background-color: #d4ebff;}#sk-container-id-4 div.sk-parallel-item::after {content: \"\";width: 100%;border-bottom: 1px solid gray;flex-grow: 1;}#sk-container-id-4 div.sk-label:hover label.sk-toggleable__label {background-color: #d4ebff;}#sk-container-id-4 div.sk-serial::before {content: \"\";position: absolute;border-left: 1px solid gray;box-sizing: border-box;top: 0;bottom: 0;left: 50%;z-index: 0;}#sk-container-id-4 div.sk-serial {display: flex;flex-direction: column;align-items: center;background-color: white;padding-right: 0.2em;padding-left: 0.2em;position: relative;}#sk-container-id-4 div.sk-item {position: relative;z-index: 1;}#sk-container-id-4 div.sk-parallel {display: flex;align-items: stretch;justify-content: center;background-color: white;position: relative;}#sk-container-id-4 div.sk-item::before, #sk-container-id-4 div.sk-parallel-item::before {content: \"\";position: absolute;border-left: 1px solid gray;box-sizing: border-box;top: 0;bottom: 0;left: 50%;z-index: -1;}#sk-container-id-4 div.sk-parallel-item {display: flex;flex-direction: column;z-index: 1;position: relative;background-color: white;}#sk-container-id-4 div.sk-parallel-item:first-child::after {align-self: flex-end;width: 50%;}#sk-container-id-4 div.sk-parallel-item:last-child::after {align-self: flex-start;width: 50%;}#sk-container-id-4 div.sk-parallel-item:only-child::after {width: 0;}#sk-container-id-4 div.sk-dashed-wrapped {border: 1px dashed gray;margin: 0 0.4em 0.5em 0.4em;box-sizing: border-box;padding-bottom: 0.4em;background-color: white;}#sk-container-id-4 div.sk-label label {font-family: monospace;font-weight: bold;display: inline-block;line-height: 1.2em;}#sk-container-id-4 div.sk-label-container {text-align: center;}#sk-container-id-4 div.sk-container {/* jupyter's `normalize.less` sets `[hidden] { display: none; }` but bootstrap.min.css set `[hidden] { display: none !important; }` so we also need the `!important` here to be able to override the default hidden behavior on the sphinx rendered scikit-learn.org. See: https://github.com/scikit-learn/scikit-learn/issues/21755 */display: inline-block !important;position: relative;}#sk-container-id-4 div.sk-text-repr-fallback {display: none;}</style><div id=\"sk-container-id-4\" class=\"sk-top-container\"><div class=\"sk-text-repr-fallback\"><pre>SVC()</pre><b>In a Jupyter environment, please rerun this cell to show the HTML representation or trust the notebook. <br />On GitHub, the HTML representation is unable to render, please try loading this page with nbviewer.org.</b></div><div class=\"sk-container\" hidden><div class=\"sk-item\"><div class=\"sk-estimator sk-toggleable\"><input class=\"sk-toggleable__control sk-hidden--visually\" id=\"sk-estimator-id-4\" type=\"checkbox\" checked><label for=\"sk-estimator-id-4\" class=\"sk-toggleable__label sk-toggleable__label-arrow\">SVC</label><div class=\"sk-toggleable__content\"><pre>SVC()</pre></div></div></div></div></div>"
            ]
          },
          "metadata": {},
          "execution_count": 24
        }
      ]
    },
    {
      "cell_type": "code",
      "source": [
        "cross_val_score(svc_highest_corr, X, Y, cv=5)"
      ],
      "metadata": {
        "id": "lvrkof4SWBCY",
        "outputId": "1741fc1d-cf06-46e8-ca9b-17cad683146b",
        "colab": {
          "base_uri": "https://localhost:8080/"
        }
      },
      "execution_count": 25,
      "outputs": [
        {
          "output_type": "execute_result",
          "data": {
            "text/plain": [
              "array([0.59468439, 0.57605985, 0.58769742, 0.60016625, 0.60099751])"
            ]
          },
          "metadata": {},
          "execution_count": 25
        }
      ]
    },
    {
      "cell_type": "markdown",
      "source": [
        "### Approach 2: Add dietary information."
      ],
      "metadata": {
        "id": "z-xR29XgWMxU"
      }
    },
    {
      "cell_type": "markdown",
      "source": [
        "As a final step, we will add dietary information to our original dataset and fill in the null values with the column mean."
      ],
      "metadata": {
        "id": "evVRLffYWTU9"
      }
    },
    {
      "cell_type": "code",
      "source": [
        "raw_data_cleaned = raw_data.copy()\n",
        "raw_data_cleaned.fillna(raw_data_cleaned.mean(), inplace=True)"
      ],
      "metadata": {
        "id": "fZRDaq4BXOc9",
        "outputId": "8948367d-a1fa-4c42-c92b-88bf95d8a7b3",
        "colab": {
          "base_uri": "https://localhost:8080/"
        }
      },
      "execution_count": 31,
      "outputs": [
        {
          "output_type": "stream",
          "name": "stderr",
          "text": [
            "<ipython-input-31-ead205478f52>:2: FutureWarning: The default value of numeric_only in DataFrame.mean is deprecated. In a future version, it will default to False. In addition, specifying 'numeric_only=None' is deprecated. Select only valid columns or specify the value of numeric_only to silence this warning.\n",
            "  raw_data_cleaned.fillna(raw_data_cleaned.mean(), inplace=True)\n"
          ]
        }
      ]
    },
    {
      "cell_type": "code",
      "source": [
        "null_count = raw_data_cleaned.isnull().sum()\n",
        "null_count[null_count>0]"
      ],
      "metadata": {
        "id": "59ca0IwkZyOh",
        "outputId": "00a00469-e467-4ba3-826b-8a8347e216a9",
        "colab": {
          "base_uri": "https://localhost:8080/"
        }
      },
      "execution_count": 32,
      "outputs": [
        {
          "output_type": "execute_result",
          "data": {
            "text/plain": [
              "Series([], dtype: int64)"
            ]
          },
          "metadata": {},
          "execution_count": 32
        }
      ]
    },
    {
      "cell_type": "markdown",
      "source": [
        "We will once again try the cleaned data as a classification problem."
      ],
      "metadata": {
        "id": "2R3eqh9wgc9J"
      }
    },
    {
      "cell_type": "code",
      "source": [
        "raw_data_cleaned['good'] = raw_data_cleaned['rating'].apply(lambda x: 1 if x >=4.2 else 0)\n",
        "raw_data_cleaned['good'].value_counts()"
      ],
      "metadata": {
        "id": "hom1jbj6ggo-",
        "outputId": "f27792d3-c07e-4ab9-b2d8-1df178e8b008",
        "colab": {
          "base_uri": "https://localhost:8080/"
        }
      },
      "execution_count": 33,
      "outputs": [
        {
          "output_type": "execute_result",
          "data": {
            "text/plain": [
              "1    10738\n",
              "0     9314\n",
              "Name: good, dtype: int64"
            ]
          },
          "metadata": {},
          "execution_count": 33
        }
      ]
    },
    {
      "cell_type": "code",
      "source": [
        "svc_cleaned = SVC()\n",
        "X = raw_data_cleaned.drop(['good','rating', 'title'], 1).sample(frac=0.3, replace=True, random_state=1)\n",
        "Y = raw_data_cleaned['good'].sample(frac=0.3, replace=True, random_state=1)\n",
        "svc_cleaned.fit(X,Y)"
      ],
      "metadata": {
        "id": "eQ5ixiu1gsVj",
        "outputId": "00c257ee-0cf3-4fa1-f9f7-2921cb83afc3",
        "colab": {
          "base_uri": "https://localhost:8080/",
          "height": 110
        }
      },
      "execution_count": 35,
      "outputs": [
        {
          "output_type": "stream",
          "name": "stderr",
          "text": [
            "<ipython-input-35-1c1e41dcbb7a>:2: FutureWarning: In a future version of pandas all arguments of DataFrame.drop except for the argument 'labels' will be keyword-only.\n",
            "  X = raw_data_cleaned.drop(['good','rating', 'title'], 1).sample(frac=0.3, replace=True, random_state=1)\n"
          ]
        },
        {
          "output_type": "execute_result",
          "data": {
            "text/plain": [
              "SVC()"
            ],
            "text/html": [
              "<style>#sk-container-id-6 {color: black;background-color: white;}#sk-container-id-6 pre{padding: 0;}#sk-container-id-6 div.sk-toggleable {background-color: white;}#sk-container-id-6 label.sk-toggleable__label {cursor: pointer;display: block;width: 100%;margin-bottom: 0;padding: 0.3em;box-sizing: border-box;text-align: center;}#sk-container-id-6 label.sk-toggleable__label-arrow:before {content: \"▸\";float: left;margin-right: 0.25em;color: #696969;}#sk-container-id-6 label.sk-toggleable__label-arrow:hover:before {color: black;}#sk-container-id-6 div.sk-estimator:hover label.sk-toggleable__label-arrow:before {color: black;}#sk-container-id-6 div.sk-toggleable__content {max-height: 0;max-width: 0;overflow: hidden;text-align: left;background-color: #f0f8ff;}#sk-container-id-6 div.sk-toggleable__content pre {margin: 0.2em;color: black;border-radius: 0.25em;background-color: #f0f8ff;}#sk-container-id-6 input.sk-toggleable__control:checked~div.sk-toggleable__content {max-height: 200px;max-width: 100%;overflow: auto;}#sk-container-id-6 input.sk-toggleable__control:checked~label.sk-toggleable__label-arrow:before {content: \"▾\";}#sk-container-id-6 div.sk-estimator input.sk-toggleable__control:checked~label.sk-toggleable__label {background-color: #d4ebff;}#sk-container-id-6 div.sk-label input.sk-toggleable__control:checked~label.sk-toggleable__label {background-color: #d4ebff;}#sk-container-id-6 input.sk-hidden--visually {border: 0;clip: rect(1px 1px 1px 1px);clip: rect(1px, 1px, 1px, 1px);height: 1px;margin: -1px;overflow: hidden;padding: 0;position: absolute;width: 1px;}#sk-container-id-6 div.sk-estimator {font-family: monospace;background-color: #f0f8ff;border: 1px dotted black;border-radius: 0.25em;box-sizing: border-box;margin-bottom: 0.5em;}#sk-container-id-6 div.sk-estimator:hover {background-color: #d4ebff;}#sk-container-id-6 div.sk-parallel-item::after {content: \"\";width: 100%;border-bottom: 1px solid gray;flex-grow: 1;}#sk-container-id-6 div.sk-label:hover label.sk-toggleable__label {background-color: #d4ebff;}#sk-container-id-6 div.sk-serial::before {content: \"\";position: absolute;border-left: 1px solid gray;box-sizing: border-box;top: 0;bottom: 0;left: 50%;z-index: 0;}#sk-container-id-6 div.sk-serial {display: flex;flex-direction: column;align-items: center;background-color: white;padding-right: 0.2em;padding-left: 0.2em;position: relative;}#sk-container-id-6 div.sk-item {position: relative;z-index: 1;}#sk-container-id-6 div.sk-parallel {display: flex;align-items: stretch;justify-content: center;background-color: white;position: relative;}#sk-container-id-6 div.sk-item::before, #sk-container-id-6 div.sk-parallel-item::before {content: \"\";position: absolute;border-left: 1px solid gray;box-sizing: border-box;top: 0;bottom: 0;left: 50%;z-index: -1;}#sk-container-id-6 div.sk-parallel-item {display: flex;flex-direction: column;z-index: 1;position: relative;background-color: white;}#sk-container-id-6 div.sk-parallel-item:first-child::after {align-self: flex-end;width: 50%;}#sk-container-id-6 div.sk-parallel-item:last-child::after {align-self: flex-start;width: 50%;}#sk-container-id-6 div.sk-parallel-item:only-child::after {width: 0;}#sk-container-id-6 div.sk-dashed-wrapped {border: 1px dashed gray;margin: 0 0.4em 0.5em 0.4em;box-sizing: border-box;padding-bottom: 0.4em;background-color: white;}#sk-container-id-6 div.sk-label label {font-family: monospace;font-weight: bold;display: inline-block;line-height: 1.2em;}#sk-container-id-6 div.sk-label-container {text-align: center;}#sk-container-id-6 div.sk-container {/* jupyter's `normalize.less` sets `[hidden] { display: none; }` but bootstrap.min.css set `[hidden] { display: none !important; }` so we also need the `!important` here to be able to override the default hidden behavior on the sphinx rendered scikit-learn.org. See: https://github.com/scikit-learn/scikit-learn/issues/21755 */display: inline-block !important;position: relative;}#sk-container-id-6 div.sk-text-repr-fallback {display: none;}</style><div id=\"sk-container-id-6\" class=\"sk-top-container\"><div class=\"sk-text-repr-fallback\"><pre>SVC()</pre><b>In a Jupyter environment, please rerun this cell to show the HTML representation or trust the notebook. <br />On GitHub, the HTML representation is unable to render, please try loading this page with nbviewer.org.</b></div><div class=\"sk-container\" hidden><div class=\"sk-item\"><div class=\"sk-estimator sk-toggleable\"><input class=\"sk-toggleable__control sk-hidden--visually\" id=\"sk-estimator-id-6\" type=\"checkbox\" checked><label for=\"sk-estimator-id-6\" class=\"sk-toggleable__label sk-toggleable__label-arrow\">SVC</label><div class=\"sk-toggleable__content\"><pre>SVC()</pre></div></div></div></div></div>"
            ]
          },
          "metadata": {},
          "execution_count": 35
        }
      ]
    },
    {
      "cell_type": "code",
      "source": [
        "svc_cleaned.score(X, Y)"
      ],
      "metadata": {
        "id": "4aazIKvCgs7S",
        "outputId": "3f4380ce-f90d-477f-f66a-18fab52a21c1",
        "colab": {
          "base_uri": "https://localhost:8080/"
        }
      },
      "execution_count": 36,
      "outputs": [
        {
          "output_type": "execute_result",
          "data": {
            "text/plain": [
              "0.5374002659574468"
            ]
          },
          "metadata": {},
          "execution_count": 36
        }
      ]
    },
    {
      "cell_type": "code",
      "source": [
        "cross_val_score(svc_cleaned, X, Y, cv=5)"
      ],
      "metadata": {
        "id": "8irMvbV4g87A",
        "outputId": "9796dd7d-3687-425c-9e38-2517c4852f0c",
        "colab": {
          "base_uri": "https://localhost:8080/"
        }
      },
      "execution_count": 37,
      "outputs": [
        {
          "output_type": "execute_result",
          "data": {
            "text/plain": [
              "array([0.53737542, 0.53699086, 0.53699086, 0.53699086, 0.53782211])"
            ]
          },
          "metadata": {},
          "execution_count": 37
        }
      ]
    },
    {
      "cell_type": "markdown",
      "source": [
        "Unfortunately, this didn't improve upon our previous methods."
      ],
      "metadata": {
        "id": "Xu_hy52uhTKD"
      }
    },
    {
      "cell_type": "markdown",
      "source": [
        "## Conclusions"
      ],
      "metadata": {
        "id": "NokCBYgWhYLf"
      }
    },
    {
      "cell_type": "markdown",
      "source": [
        "* Holiday recipes have high ratings. Summer recipes (grilling/BBQ) also have high ratings.\n",
        "* Specialty and low-carb recipes are in the list of most highly-correlated features.\n",
        "* Alcoholic beverages are in the list of most negatively correlated features. I'm not sure why these are rated so low.\n",
        "\n"
      ],
      "metadata": {
        "id": "4Q5lhXbdhbdK"
      }
    },
    {
      "cell_type": "code",
      "source": [],
      "metadata": {
        "id": "f3z5yIehh8Kt"
      },
      "execution_count": null,
      "outputs": []
    }
  ],
  "metadata": {
    "hide_input": false,
    "kernelspec": {
      "display_name": "Python 3",
      "name": "python3"
    },
    "language_info": {
      "codemirror_mode": {
        "name": "ipython",
        "version": 3
      },
      "file_extension": ".py",
      "mimetype": "text/x-python",
      "name": "python",
      "nbconvert_exporter": "python",
      "pygments_lexer": "ipython3",
      "version": "3.9.12"
    },
    "toc": {
      "colors": {
        "hover_highlight": "#DAA520",
        "running_highlight": "#FF0000",
        "selected_highlight": "#FFD700"
      },
      "moveMenuLeft": true,
      "nav_menu": {
        "height": "12px",
        "width": "252px"
      },
      "navigate_menu": true,
      "number_sections": true,
      "sideBar": true,
      "threshold": 4,
      "toc_cell": false,
      "toc_section_display": "block",
      "toc_window_display": false
    },
    "colab": {
      "provenance": [],
      "gpuType": "T4"
    },
    "accelerator": "GPU"
  },
  "nbformat": 4,
  "nbformat_minor": 0
}