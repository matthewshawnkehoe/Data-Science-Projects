{
  "nbformat": 4,
  "nbformat_minor": 0,
  "metadata": {
    "colab": {
      "provenance": [],
      "gpuType": "T4"
    },
    "kernelspec": {
      "name": "python3",
      "display_name": "Python 3"
    },
    "language_info": {
      "name": "python"
    },
    "accelerator": "GPU"
  },
  "cells": [
    {
      "cell_type": "markdown",
      "source": [
        "# House Price Challenge\n",
        "\n",
        "The housing market is one of the most crucial parts of every country's economy. Purchasing a home is one of the primary ways to build wealth and savings for people. In this respect, predicting prices in the housing market is a central topic in economic and financial circles.\n",
        "\n",
        "The [houseprices dataset from Kaggle](https://www.kaggle.com/competitions/house-prices-advanced-regression-techniques/overview) includes several features of the houses, along with their sale prices at the time that they are sold. So far in this module, we have built and implemented some models using this dataset.\n",
        "\n",
        "In this challenge, we are required to improve our model with respect to its prediction performance. We will perform the following tasks:\n",
        "\n",
        "1. Load the houseprices data from Thinkful's database.\n",
        "2. Do data cleaning, exploratory data analysis, and feature engineering. We can use our previous work in this module. But, make sure that our work is satisfactory.\n",
        "3. Now, split the data into train and test sets where 20% of the data resides in the test set.\n",
        "4. Build several linear regression models including lasso, ridge, or elastic net, and train them in the training set. Use k-fold cross-validation to select the best hyperparameters if the models include one.\n",
        "5. Evaluate your best model on the test set.\n",
        "6. So far, we have only used the features in the dataset. However, house prices can be affected by many factors like economic activity and the interest rates at the time they are sold. So, try to find some useful factors that are not included in the dataset. Integrate these factors into your model and assess the prediction performance of your model. Discuss the implications of adding these external variables into your model.\n"
      ],
      "metadata": {
        "id": "FErUff_sM5Y4"
      }
    },
    {
      "cell_type": "markdown",
      "source": [
        "First, we load create a database connection to house price data."
      ],
      "metadata": {
        "id": "HY8wtAwmN7Gu"
      }
    },
    {
      "cell_type": "code",
      "source": [
        "import numpy as np\n",
        "import pandas as pd\n",
        "import matplotlib.pyplot as plt\n",
        "from scipy import stats\n",
        "import seaborn as sns\n",
        "\n",
        "from sklearn.model_selection import cross_val_score\n",
        "from sklearn.preprocessing import StandardScaler\n",
        "from sklearn import linear_model\n",
        "from sklearn.linear_model import LinearRegression\n",
        "from sklearn.model_selection import train_test_split\n",
        "from sklearn.metrics import mean_absolute_error\n",
        "from statsmodels.tools.eval_measures import mse, rmse\n",
        "from sklearn.linear_model import LinearRegression, LassoCV, RidgeCV, ElasticNetCV\n",
        "from sqlalchemy import create_engine, text\n",
        "\n",
        "import warnings\n",
        "warnings.filterwarnings('ignore')\n",
        "\n",
        "# I want to read the full contents of the dataframes\n",
        "pd.set_option('display.max_colwidth', -1)\n",
        "pd.options.display.max_columns = None\n",
        "\n",
        "postgres_user = 'dsbc_student'\n",
        "postgres_pw = '7*.8G9QH21'\n",
        "postgres_host = '142.93.121.174'\n",
        "postgres_port = '5432'\n",
        "postgres_db = 'houseprices'"
      ],
      "metadata": {
        "id": "cdIYFMRwNBBD"
      },
      "execution_count": 1,
      "outputs": []
    },
    {
      "cell_type": "markdown",
      "source": [
        "Next, we define several helper functions."
      ],
      "metadata": {
        "id": "cdFP9qZMOTuD"
      }
    },
    {
      "cell_type": "code",
      "source": [
        "# This version of the function returns a dict of stats we can use to compare various models' performance,\n",
        "#  if five folds are defined.\n",
        "def kfold_xval(model,train_data,target_data,**kwargs):\n",
        "    num_folds = kwargs.get('num_folds',10)\n",
        "    ret_5 = kwargs.get('ret_5',num_folds==5)\n",
        "    print(\"Cross-validation using {} folds\".format(num_folds))\n",
        "    cross_val_array = cross_val_score(model, train_data, target_data, cv=num_folds)\n",
        "    if ret_5:\n",
        "        ret_dict = {'Model': str(model),\n",
        "                    'Fold_1': cross_val_array[0],\n",
        "                    'Fold_2': cross_val_array[1],\n",
        "                    'Fold_3': cross_val_array[2],\n",
        "                    'Fold_4': cross_val_array[3],\n",
        "                    'Fold_5': cross_val_array[4],\n",
        "                   }\n",
        "        print(ret_dict)\n",
        "        return(ret_dict)\n",
        "    else:\n",
        "        print(cross_val_array)"
      ],
      "metadata": {
        "id": "-V84cG2rOV7K"
      },
      "execution_count": 2,
      "outputs": []
    },
    {
      "cell_type": "code",
      "source": [
        "def comp_train_test(model,X_train,y_train,X_test,y_test):\n",
        "    model.fit(X_train,y_train)\n",
        "\n",
        "# We are making predictions here\n",
        "    y_preds_train = model.predict(X_train)\n",
        "    y_preds_test = model.predict(X_test)\n",
        "\n",
        "    print(\"R-squared of the model on the training set is: {}\".format(model.score(X_train, y_train)))\n",
        "    print(\"-----Test set statistics-----\")\n",
        "    print(\"R-squared of the model on the test set is: {}\".format(model.score(X_test, y_test)))\n",
        "    print(\"Mean absolute error of the prediction is: {}\".format(mean_absolute_error(y_test, y_preds_test)))\n",
        "    print(\"Mean squared error of the prediction is: {}\".format(mse(y_test, y_preds_test)))\n",
        "    print(\"Root mean squared error of the prediction is: {}\".format(rmse(y_test, y_preds_test)))\n",
        "    print(\"Mean absolute percentage error of the prediction is: {}\".format(np.mean(np.abs((y_test - y_preds_test) / y_test)) * 100))\n",
        "\n",
        "# Setting the alpha low helps us understand whether there is a concentration of observations\n",
        "#  at a particular point, or if it is an outlier\n",
        "    ax = sns.regplot(y_test,y_preds_test,scatter_kws={'alpha':0.3})\n",
        "    ax.set(xlabel='Test value', ylabel='Predicted value',title='Test values vs. predicted values,\\n{}'.format(str(model)))\n",
        "    plt.show()"
      ],
      "metadata": {
        "id": "StMjTuaOOeFa"
      },
      "execution_count": 3,
      "outputs": []
    },
    {
      "cell_type": "code",
      "source": [
        "def lookup_gdp(month,year):\n",
        "    if month in [1,2,3]:\n",
        "        retmo = 1\n",
        "    elif month in [4,5,6]:\n",
        "        retmo = 4\n",
        "    elif month in [7,8,9]:\n",
        "        retmo = 7\n",
        "    else:\n",
        "        retmo=10\n",
        "    datestr = \"{}-{:02d}-01\".format(year,retmo)\n",
        "    return(int(gdp_df.loc[gdp_df['DATE'] == datestr]['GDP'].values[0]))"
      ],
      "metadata": {
        "id": "Ye1DhKHfOhmJ"
      },
      "execution_count": 4,
      "outputs": []
    },
    {
      "cell_type": "code",
      "source": [
        "def lookup_int_rate(month,year):\n",
        "    datestr = \"{}-{:02d}-01\".format(year,month)\n",
        "    return(int_rate_df.loc[int_rate_df['DATE'] == datestr]['FEDFUNDS'].values[0])"
      ],
      "metadata": {
        "id": "HVFVLhg4Ojn6"
      },
      "execution_count": 5,
      "outputs": []
    },
    {
      "cell_type": "code",
      "source": [
        "def set_taxcred(year_sold):\n",
        "    if 2008 <= year_sold <= 2010:\n",
        "# Remember, these values need to be numerical...I had True/False here and then thought better of it.\n",
        "        return 1\n",
        "    else:\n",
        "        return 0"
      ],
      "metadata": {
        "id": "g_3CZLL2Olxp"
      },
      "execution_count": 6,
      "outputs": []
    },
    {
      "cell_type": "markdown",
      "source": [
        "This dataset consists of 79 variables describing many aspects of residential homes in Ames, Iowa. Using this data, our task will be to predict the prices of the houses. You can find the descriptions of the variables here: [House Prices](https://www.kaggle.com/c/house-prices-advanced-regression-techniques/data)."
      ],
      "metadata": {
        "id": "YEqQwYv8O12r"
      }
    },
    {
      "cell_type": "markdown",
      "source": [
        "\n",
        "### 1. Load the houseprices data from Thinkful's database."
      ],
      "metadata": {
        "id": "wKXbUo5_PH_4"
      }
    },
    {
      "cell_type": "code",
      "source": [
        "engine = create_engine('postgresql://{}:{}@{}:{}/{}'.format(\n",
        "    postgres_user, postgres_pw, postgres_host, postgres_port, postgres_db))\n",
        "\n",
        "house_price_df = pd.read_sql_query(text('SELECT * FROM houseprices'), con=engine.connect())\n",
        "\n",
        "# No need for an open connection, because you're only doing a single query\n",
        "engine.dispose()"
      ],
      "metadata": {
        "id": "nbHC_JXaO_ky"
      },
      "execution_count": 7,
      "outputs": []
    },
    {
      "cell_type": "markdown",
      "source": [
        "### 2. Do data cleaning, exploratory data analysis, and feature engineering. We can use our previous work in this module. But, make sure that our work is satisfactory."
      ],
      "metadata": {
        "id": "VBqIcdZOBpGk"
      }
    },
    {
      "cell_type": "markdown",
      "source": [
        "Let's first classify which columns are numerical and which are non-numerical."
      ],
      "metadata": {
        "id": "RRQtRe9vDwDS"
      }
    },
    {
      "cell_type": "code",
      "source": [
        "# Numerical\n",
        "numeric_columns = house_price_df.select_dtypes(['int64', 'float64']).columns\n",
        "print(numeric_columns)\n",
        "print(\"The number of numerical columns is {}\".format(len(numeric_columns)))"
      ],
      "metadata": {
        "colab": {
          "base_uri": "https://localhost:8080/"
        },
        "id": "SKJOCfuzDxTS",
        "outputId": "da2fc90f-4a06-4307-eeb1-5c3897dfe46d"
      },
      "execution_count": 8,
      "outputs": [
        {
          "output_type": "stream",
          "name": "stdout",
          "text": [
            "Index(['id', 'mssubclass', 'lotfrontage', 'lotarea', 'overallqual',\n",
            "       'overallcond', 'yearbuilt', 'yearremodadd', 'masvnrarea', 'bsmtfinsf1',\n",
            "       'bsmtfinsf2', 'bsmtunfsf', 'totalbsmtsf', 'firstflrsf', 'secondflrsf',\n",
            "       'lowqualfinsf', 'grlivarea', 'bsmtfullbath', 'bsmthalfbath', 'fullbath',\n",
            "       'halfbath', 'bedroomabvgr', 'kitchenabvgr', 'totrmsabvgrd',\n",
            "       'fireplaces', 'garageyrblt', 'garagecars', 'garagearea', 'wooddecksf',\n",
            "       'openporchsf', 'enclosedporch', 'threessnporch', 'screenporch',\n",
            "       'poolarea', 'miscval', 'mosold', 'yrsold', 'saleprice'],\n",
            "      dtype='object')\n",
            "The number of numerical columns is 38\n"
          ]
        }
      ]
    },
    {
      "cell_type": "code",
      "source": [
        "# Non-Numerical\n",
        "non_numeric_columns = house_price_df.select_dtypes(['object']).columns\n",
        "print(non_numeric_columns)\n",
        "print(\"The number of non-numeric columns is {}\".format(len(non_numeric_columns)))"
      ],
      "metadata": {
        "colab": {
          "base_uri": "https://localhost:8080/"
        },
        "id": "Zr8pCX4eD3-7",
        "outputId": "817c117b-504d-403a-f1c0-c168339e3a0e"
      },
      "execution_count": 9,
      "outputs": [
        {
          "output_type": "stream",
          "name": "stdout",
          "text": [
            "Index(['mszoning', 'street', 'alley', 'lotshape', 'landcontour', 'utilities',\n",
            "       'lotconfig', 'landslope', 'neighborhood', 'condition1', 'condition2',\n",
            "       'bldgtype', 'housestyle', 'roofstyle', 'roofmatl', 'exterior1st',\n",
            "       'exterior2nd', 'masvnrtype', 'exterqual', 'extercond', 'foundation',\n",
            "       'bsmtqual', 'bsmtcond', 'bsmtexposure', 'bsmtfintype1', 'bsmtfintype2',\n",
            "       'heating', 'heatingqc', 'centralair', 'electrical', 'kitchenqual',\n",
            "       'functional', 'fireplacequ', 'garagetype', 'garagefinish', 'garagequal',\n",
            "       'garagecond', 'paveddrive', 'poolqc', 'fence', 'miscfeature',\n",
            "       'saletype', 'salecondition'],\n",
            "      dtype='object')\n",
            "The number of non-numeric columns is 43\n"
          ]
        }
      ]
    },
    {
      "cell_type": "markdown",
      "source": [
        "We need to address the columns with missing values. These are"
      ],
      "metadata": {
        "id": "3kFPRTOUB450"
      }
    },
    {
      "cell_type": "code",
      "source": [
        "missing_mask = house_price_df.isna()\n",
        "total_missing = missing_mask.sum().sort_values(ascending=False)\n",
        "percent_missing = (missing_mask.sum() / missing_mask.count()).sort_values(ascending=False)\n",
        "missing_data = pd.concat([total_missing, percent_missing], axis=1, keys=['Total Missing', 'Percent Missing'])\n",
        "missing_data.head(19)"
      ],
      "metadata": {
        "colab": {
          "base_uri": "https://localhost:8080/",
          "height": 645
        },
        "id": "0NOMaLs3CQXZ",
        "outputId": "5c668a06-cd20-4cdc-dce6-12be79f7092f"
      },
      "execution_count": 10,
      "outputs": [
        {
          "output_type": "execute_result",
          "data": {
            "text/plain": [
              "              Total Missing  Percent Missing\n",
              "poolqc        1453           0.995205       \n",
              "miscfeature   1406           0.963014       \n",
              "alley         1369           0.937671       \n",
              "fence         1179           0.807534       \n",
              "fireplacequ   690            0.472603       \n",
              "lotfrontage   259            0.177397       \n",
              "garageyrblt   81             0.055479       \n",
              "garagecond    81             0.055479       \n",
              "garagetype    81             0.055479       \n",
              "garagefinish  81             0.055479       \n",
              "garagequal    81             0.055479       \n",
              "bsmtfintype2  38             0.026027       \n",
              "bsmtexposure  38             0.026027       \n",
              "bsmtqual      37             0.025342       \n",
              "bsmtcond      37             0.025342       \n",
              "bsmtfintype1  37             0.025342       \n",
              "masvnrarea    8              0.005479       \n",
              "masvnrtype    8              0.005479       \n",
              "electrical    1              0.000685       "
            ],
            "text/html": [
              "\n",
              "  <div id=\"df-c482994d-5659-43e0-8196-a8c049304175\" class=\"colab-df-container\">\n",
              "    <div>\n",
              "<style scoped>\n",
              "    .dataframe tbody tr th:only-of-type {\n",
              "        vertical-align: middle;\n",
              "    }\n",
              "\n",
              "    .dataframe tbody tr th {\n",
              "        vertical-align: top;\n",
              "    }\n",
              "\n",
              "    .dataframe thead th {\n",
              "        text-align: right;\n",
              "    }\n",
              "</style>\n",
              "<table border=\"1\" class=\"dataframe\">\n",
              "  <thead>\n",
              "    <tr style=\"text-align: right;\">\n",
              "      <th></th>\n",
              "      <th>Total Missing</th>\n",
              "      <th>Percent Missing</th>\n",
              "    </tr>\n",
              "  </thead>\n",
              "  <tbody>\n",
              "    <tr>\n",
              "      <th>poolqc</th>\n",
              "      <td>1453</td>\n",
              "      <td>0.995205</td>\n",
              "    </tr>\n",
              "    <tr>\n",
              "      <th>miscfeature</th>\n",
              "      <td>1406</td>\n",
              "      <td>0.963014</td>\n",
              "    </tr>\n",
              "    <tr>\n",
              "      <th>alley</th>\n",
              "      <td>1369</td>\n",
              "      <td>0.937671</td>\n",
              "    </tr>\n",
              "    <tr>\n",
              "      <th>fence</th>\n",
              "      <td>1179</td>\n",
              "      <td>0.807534</td>\n",
              "    </tr>\n",
              "    <tr>\n",
              "      <th>fireplacequ</th>\n",
              "      <td>690</td>\n",
              "      <td>0.472603</td>\n",
              "    </tr>\n",
              "    <tr>\n",
              "      <th>lotfrontage</th>\n",
              "      <td>259</td>\n",
              "      <td>0.177397</td>\n",
              "    </tr>\n",
              "    <tr>\n",
              "      <th>garageyrblt</th>\n",
              "      <td>81</td>\n",
              "      <td>0.055479</td>\n",
              "    </tr>\n",
              "    <tr>\n",
              "      <th>garagecond</th>\n",
              "      <td>81</td>\n",
              "      <td>0.055479</td>\n",
              "    </tr>\n",
              "    <tr>\n",
              "      <th>garagetype</th>\n",
              "      <td>81</td>\n",
              "      <td>0.055479</td>\n",
              "    </tr>\n",
              "    <tr>\n",
              "      <th>garagefinish</th>\n",
              "      <td>81</td>\n",
              "      <td>0.055479</td>\n",
              "    </tr>\n",
              "    <tr>\n",
              "      <th>garagequal</th>\n",
              "      <td>81</td>\n",
              "      <td>0.055479</td>\n",
              "    </tr>\n",
              "    <tr>\n",
              "      <th>bsmtfintype2</th>\n",
              "      <td>38</td>\n",
              "      <td>0.026027</td>\n",
              "    </tr>\n",
              "    <tr>\n",
              "      <th>bsmtexposure</th>\n",
              "      <td>38</td>\n",
              "      <td>0.026027</td>\n",
              "    </tr>\n",
              "    <tr>\n",
              "      <th>bsmtqual</th>\n",
              "      <td>37</td>\n",
              "      <td>0.025342</td>\n",
              "    </tr>\n",
              "    <tr>\n",
              "      <th>bsmtcond</th>\n",
              "      <td>37</td>\n",
              "      <td>0.025342</td>\n",
              "    </tr>\n",
              "    <tr>\n",
              "      <th>bsmtfintype1</th>\n",
              "      <td>37</td>\n",
              "      <td>0.025342</td>\n",
              "    </tr>\n",
              "    <tr>\n",
              "      <th>masvnrarea</th>\n",
              "      <td>8</td>\n",
              "      <td>0.005479</td>\n",
              "    </tr>\n",
              "    <tr>\n",
              "      <th>masvnrtype</th>\n",
              "      <td>8</td>\n",
              "      <td>0.005479</td>\n",
              "    </tr>\n",
              "    <tr>\n",
              "      <th>electrical</th>\n",
              "      <td>1</td>\n",
              "      <td>0.000685</td>\n",
              "    </tr>\n",
              "  </tbody>\n",
              "</table>\n",
              "</div>\n",
              "    <div class=\"colab-df-buttons\">\n",
              "\n",
              "  <div class=\"colab-df-container\">\n",
              "    <button class=\"colab-df-convert\" onclick=\"convertToInteractive('df-c482994d-5659-43e0-8196-a8c049304175')\"\n",
              "            title=\"Convert this dataframe to an interactive table.\"\n",
              "            style=\"display:none;\">\n",
              "\n",
              "  <svg xmlns=\"http://www.w3.org/2000/svg\" height=\"24px\" viewBox=\"0 -960 960 960\">\n",
              "    <path d=\"M120-120v-720h720v720H120Zm60-500h600v-160H180v160Zm220 220h160v-160H400v160Zm0 220h160v-160H400v160ZM180-400h160v-160H180v160Zm440 0h160v-160H620v160ZM180-180h160v-160H180v160Zm440 0h160v-160H620v160Z\"/>\n",
              "  </svg>\n",
              "    </button>\n",
              "\n",
              "  <style>\n",
              "    .colab-df-container {\n",
              "      display:flex;\n",
              "      gap: 12px;\n",
              "    }\n",
              "\n",
              "    .colab-df-convert {\n",
              "      background-color: #E8F0FE;\n",
              "      border: none;\n",
              "      border-radius: 50%;\n",
              "      cursor: pointer;\n",
              "      display: none;\n",
              "      fill: #1967D2;\n",
              "      height: 32px;\n",
              "      padding: 0 0 0 0;\n",
              "      width: 32px;\n",
              "    }\n",
              "\n",
              "    .colab-df-convert:hover {\n",
              "      background-color: #E2EBFA;\n",
              "      box-shadow: 0px 1px 2px rgba(60, 64, 67, 0.3), 0px 1px 3px 1px rgba(60, 64, 67, 0.15);\n",
              "      fill: #174EA6;\n",
              "    }\n",
              "\n",
              "    .colab-df-buttons div {\n",
              "      margin-bottom: 4px;\n",
              "    }\n",
              "\n",
              "    [theme=dark] .colab-df-convert {\n",
              "      background-color: #3B4455;\n",
              "      fill: #D2E3FC;\n",
              "    }\n",
              "\n",
              "    [theme=dark] .colab-df-convert:hover {\n",
              "      background-color: #434B5C;\n",
              "      box-shadow: 0px 1px 3px 1px rgba(0, 0, 0, 0.15);\n",
              "      filter: drop-shadow(0px 1px 2px rgba(0, 0, 0, 0.3));\n",
              "      fill: #FFFFFF;\n",
              "    }\n",
              "  </style>\n",
              "\n",
              "    <script>\n",
              "      const buttonEl =\n",
              "        document.querySelector('#df-c482994d-5659-43e0-8196-a8c049304175 button.colab-df-convert');\n",
              "      buttonEl.style.display =\n",
              "        google.colab.kernel.accessAllowed ? 'block' : 'none';\n",
              "\n",
              "      async function convertToInteractive(key) {\n",
              "        const element = document.querySelector('#df-c482994d-5659-43e0-8196-a8c049304175');\n",
              "        const dataTable =\n",
              "          await google.colab.kernel.invokeFunction('convertToInteractive',\n",
              "                                                    [key], {});\n",
              "        if (!dataTable) return;\n",
              "\n",
              "        const docLinkHtml = 'Like what you see? Visit the ' +\n",
              "          '<a target=\"_blank\" href=https://colab.research.google.com/notebooks/data_table.ipynb>data table notebook</a>'\n",
              "          + ' to learn more about interactive tables.';\n",
              "        element.innerHTML = '';\n",
              "        dataTable['output_type'] = 'display_data';\n",
              "        await google.colab.output.renderOutput(dataTable, element);\n",
              "        const docLink = document.createElement('div');\n",
              "        docLink.innerHTML = docLinkHtml;\n",
              "        element.appendChild(docLink);\n",
              "      }\n",
              "    </script>\n",
              "  </div>\n",
              "\n",
              "\n",
              "<div id=\"df-38ee3ed6-07bb-4601-ab52-cf1c7fb8b338\">\n",
              "  <button class=\"colab-df-quickchart\" onclick=\"quickchart('df-38ee3ed6-07bb-4601-ab52-cf1c7fb8b338')\"\n",
              "            title=\"Suggest charts\"\n",
              "            style=\"display:none;\">\n",
              "\n",
              "<svg xmlns=\"http://www.w3.org/2000/svg\" height=\"24px\"viewBox=\"0 0 24 24\"\n",
              "     width=\"24px\">\n",
              "    <g>\n",
              "        <path d=\"M19 3H5c-1.1 0-2 .9-2 2v14c0 1.1.9 2 2 2h14c1.1 0 2-.9 2-2V5c0-1.1-.9-2-2-2zM9 17H7v-7h2v7zm4 0h-2V7h2v10zm4 0h-2v-4h2v4z\"/>\n",
              "    </g>\n",
              "</svg>\n",
              "  </button>\n",
              "\n",
              "<style>\n",
              "  .colab-df-quickchart {\n",
              "      --bg-color: #E8F0FE;\n",
              "      --fill-color: #1967D2;\n",
              "      --hover-bg-color: #E2EBFA;\n",
              "      --hover-fill-color: #174EA6;\n",
              "      --disabled-fill-color: #AAA;\n",
              "      --disabled-bg-color: #DDD;\n",
              "  }\n",
              "\n",
              "  [theme=dark] .colab-df-quickchart {\n",
              "      --bg-color: #3B4455;\n",
              "      --fill-color: #D2E3FC;\n",
              "      --hover-bg-color: #434B5C;\n",
              "      --hover-fill-color: #FFFFFF;\n",
              "      --disabled-bg-color: #3B4455;\n",
              "      --disabled-fill-color: #666;\n",
              "  }\n",
              "\n",
              "  .colab-df-quickchart {\n",
              "    background-color: var(--bg-color);\n",
              "    border: none;\n",
              "    border-radius: 50%;\n",
              "    cursor: pointer;\n",
              "    display: none;\n",
              "    fill: var(--fill-color);\n",
              "    height: 32px;\n",
              "    padding: 0;\n",
              "    width: 32px;\n",
              "  }\n",
              "\n",
              "  .colab-df-quickchart:hover {\n",
              "    background-color: var(--hover-bg-color);\n",
              "    box-shadow: 0 1px 2px rgba(60, 64, 67, 0.3), 0 1px 3px 1px rgba(60, 64, 67, 0.15);\n",
              "    fill: var(--button-hover-fill-color);\n",
              "  }\n",
              "\n",
              "  .colab-df-quickchart-complete:disabled,\n",
              "  .colab-df-quickchart-complete:disabled:hover {\n",
              "    background-color: var(--disabled-bg-color);\n",
              "    fill: var(--disabled-fill-color);\n",
              "    box-shadow: none;\n",
              "  }\n",
              "\n",
              "  .colab-df-spinner {\n",
              "    border: 2px solid var(--fill-color);\n",
              "    border-color: transparent;\n",
              "    border-bottom-color: var(--fill-color);\n",
              "    animation:\n",
              "      spin 1s steps(1) infinite;\n",
              "  }\n",
              "\n",
              "  @keyframes spin {\n",
              "    0% {\n",
              "      border-color: transparent;\n",
              "      border-bottom-color: var(--fill-color);\n",
              "      border-left-color: var(--fill-color);\n",
              "    }\n",
              "    20% {\n",
              "      border-color: transparent;\n",
              "      border-left-color: var(--fill-color);\n",
              "      border-top-color: var(--fill-color);\n",
              "    }\n",
              "    30% {\n",
              "      border-color: transparent;\n",
              "      border-left-color: var(--fill-color);\n",
              "      border-top-color: var(--fill-color);\n",
              "      border-right-color: var(--fill-color);\n",
              "    }\n",
              "    40% {\n",
              "      border-color: transparent;\n",
              "      border-right-color: var(--fill-color);\n",
              "      border-top-color: var(--fill-color);\n",
              "    }\n",
              "    60% {\n",
              "      border-color: transparent;\n",
              "      border-right-color: var(--fill-color);\n",
              "    }\n",
              "    80% {\n",
              "      border-color: transparent;\n",
              "      border-right-color: var(--fill-color);\n",
              "      border-bottom-color: var(--fill-color);\n",
              "    }\n",
              "    90% {\n",
              "      border-color: transparent;\n",
              "      border-bottom-color: var(--fill-color);\n",
              "    }\n",
              "  }\n",
              "</style>\n",
              "\n",
              "  <script>\n",
              "    async function quickchart(key) {\n",
              "      const quickchartButtonEl =\n",
              "        document.querySelector('#' + key + ' button');\n",
              "      quickchartButtonEl.disabled = true;  // To prevent multiple clicks.\n",
              "      quickchartButtonEl.classList.add('colab-df-spinner');\n",
              "      try {\n",
              "        const charts = await google.colab.kernel.invokeFunction(\n",
              "            'suggestCharts', [key], {});\n",
              "      } catch (error) {\n",
              "        console.error('Error during call to suggestCharts:', error);\n",
              "      }\n",
              "      quickchartButtonEl.classList.remove('colab-df-spinner');\n",
              "      quickchartButtonEl.classList.add('colab-df-quickchart-complete');\n",
              "    }\n",
              "    (() => {\n",
              "      let quickchartButtonEl =\n",
              "        document.querySelector('#df-38ee3ed6-07bb-4601-ab52-cf1c7fb8b338 button');\n",
              "      quickchartButtonEl.style.display =\n",
              "        google.colab.kernel.accessAllowed ? 'block' : 'none';\n",
              "    })();\n",
              "  </script>\n",
              "</div>\n",
              "    </div>\n",
              "  </div>\n"
            ]
          },
          "metadata": {},
          "execution_count": 10
        }
      ]
    },
    {
      "cell_type": "markdown",
      "source": [
        "We will drop the first five - `poolqc`,`miscfeature`, `alley`, `fence`, and `electrical`. We will also drop the `id` column."
      ],
      "metadata": {
        "id": "K7SfjGAHCbFd"
      }
    },
    {
      "cell_type": "code",
      "source": [
        "house_price_df.drop(columns=['id','alley','electrical','poolqc','fence','miscfeature'],inplace=True)"
      ],
      "metadata": {
        "id": "mgdlhrFTCu-y"
      },
      "execution_count": 11,
      "outputs": []
    },
    {
      "cell_type": "markdown",
      "source": [
        "Next, we define a function to clean the remaining numerical and non-numerical columns."
      ],
      "metadata": {
        "id": "NjS0Eo74CzrU"
      }
    },
    {
      "cell_type": "code",
      "source": [
        "def clean_null_columns(df):\n",
        "  for col in df:\n",
        "    feature = df[col]\n",
        "    if col in numeric_columns and feature.isnull().values.any():\n",
        "      feature.fillna(feature.mean(), inplace=True)\n",
        "    elif col in non_numeric_columns and feature.isnull().values.any():\n",
        "      for i in range(0, len(feature)):\n",
        "        most_freq_val = feature.value_counts().idxmax()\n",
        "        if pd.isnull(feature[i]):\n",
        "            feature[i] = most_freq_val\n",
        "\n",
        "clean_null_columns(house_price_df)"
      ],
      "metadata": {
        "id": "IlCqV9I5GUph"
      },
      "execution_count": 12,
      "outputs": []
    },
    {
      "cell_type": "code",
      "source": [
        "house_price_df['bsmtqual'].unique()"
      ],
      "metadata": {
        "colab": {
          "base_uri": "https://localhost:8080/"
        },
        "id": "5q4duefHKUAr",
        "outputId": "b0ead0d2-be9b-4d6c-bcaa-6afa4bd79571"
      },
      "execution_count": 13,
      "outputs": [
        {
          "output_type": "execute_result",
          "data": {
            "text/plain": [
              "array(['Gd', 'TA', 'Ex', 'Fa'], dtype=object)"
            ]
          },
          "metadata": {},
          "execution_count": 13
        }
      ]
    }
  ]
}