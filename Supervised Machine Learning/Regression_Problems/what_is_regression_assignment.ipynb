{
  "cells": [
    {
      "cell_type": "markdown",
      "metadata": {
        "id": "0cHaftl7Dx6S"
      },
      "source": [
        "## Classification vs. Regression \n",
        "\n",
        "- For a classification problem, the target variable is categorical. This means that the variable only takes discrete values from within a specified set.\n",
        "- In contrast, regression problems have a continuous outcome variable. For example, you may want to build a model that predicts the next-day closing price of Apple's stock on the Nasdaq. This price can take any positive value on the number line."
      ]
    },
    {
      "cell_type": "markdown",
      "metadata": {
        "id": "N2a10NzMDcX-"
      },
      "source": [
        "#### Q1. Assume that you have World Bank data on financial, economic, and social indicators for several countries. You want to measure the factors that affect the level of development in these countries. To this end, you decide to use per capita income as a proxy for the development level, which is defined as the national income divided by the population. You want to use some features in your dataset to predict per capita income. Is this task a classification or a regression task? Why?"
      ]
    },
    {
      "cell_type": "markdown",
      "metadata": {
        "id": "FLpR3w-gDhHs"
      },
      "source": [
        "Answer: This is a regression task because the target variable (`per capita income`) is continuous."
      ]
    },
    {
      "cell_type": "markdown",
      "metadata": {
        "id": "RurhCOi8ET7m"
      },
      "source": [
        "#### Q2. Which of the following arguments are false and why?\n",
        "\n",
        "1. OLS is a special type of linear regression model.\n",
        "2. Regression models become useless if they don't meet the assumptions of linear regression.\n",
        "3. Estimation and prediction are the same things in the context of linear regression models.\n",
        "4. Linear regression is only one kind of regression model. Regression problems can also be solved with other kinds of models like support vector machines or random forests.\n"
      ]
    },
    {
      "cell_type": "markdown",
      "metadata": {
        "id": "xWqWD9ZrEgfw"
      },
      "source": [
        "Answer:\n",
        "\n",
        "1. **False:** Ordinary Least Squares (OLS) is an an optimization algorithm. It is not a linear regression model.\n",
        "2. **False:** Regression models are still useful if they meet most of the assumptions of linear regression. Further analysis may be performed through trying different models.\n",
        "3. **False:** They are different. **Estimation** refers to finding the **coefficients of the features** in the training phase while **prediction** refers to predicting unknown target values (i.e., coming up with outcome values for the observations that have not been previously observed).\n",
        "4. **True:** Other techiniques outside of linear regression can solve regression problems."
      ]
    },
    {
      "cell_type": "markdown",
      "metadata": {
        "id": "dwrrmLGfGVFs"
      },
      "source": [
        "####Q3: Assume that your project manager wants you to discover which free services your company offers make your customers buy more of your paid services. Formulate this task as a regression problem and write down the potential outcome and features that you'd like to work on."
      ]
    },
    {
      "cell_type": "markdown",
      "metadata": {
        "id": "P-pl6RDJGkh7"
      },
      "source": [
        "We could use\n",
        "\n",
        "$$ y = \\alpha + \\beta x + \\theta z + \\epsilon$$\n",
        "\n",
        "and have\n",
        "\n",
        "\\begin{align}\n",
        "&y := expenditure \\enspace from  \\enspace free \\enspace services \\\\\n",
        "&\\alpha := intercept \\enspace term, \\enspace offering \\enspace no \\enspace free \\enspace services \\\\\n",
        "&\\beta := a \\enspace free \\enspace service \\enspace variable \\enspace (such \\enspace as \\enspace proofreading \\enspace reports) \\\\\n",
        "&\\theta := another \\enspace free \\enspace service \\enspace variable \\enspace (such \\enspace as \\enspace reviewing \\enspace code) \\\\\n",
        "&\\epsilon := noise \\enspace due \\enspace to \\enspace unknown \\enspace service\n",
        "\\end{align}\n"
      ]
    },
    {
      "cell_type": "code",
      "execution_count": null,
      "metadata": {
        "id": "67GTsWZfGjU9"
      },
      "outputs": [],
      "source": []
    }
  ],
  "metadata": {
    "colab": {
      "provenance": []
    },
    "kernelspec": {
      "display_name": "Python 3",
      "language": "python",
      "name": "python3"
    },
    "language_info": {
      "codemirror_mode": {
        "name": "ipython",
        "version": 3
      },
      "file_extension": ".py",
      "mimetype": "text/x-python",
      "name": "python",
      "nbconvert_exporter": "python",
      "pygments_lexer": "ipython3",
      "version": "3.7.0"
    }
  },
  "nbformat": 4,
  "nbformat_minor": 0
}
