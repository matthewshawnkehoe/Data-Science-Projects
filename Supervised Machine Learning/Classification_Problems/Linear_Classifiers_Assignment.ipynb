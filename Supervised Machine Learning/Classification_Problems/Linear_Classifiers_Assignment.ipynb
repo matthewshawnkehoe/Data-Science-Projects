{
  "nbformat": 4,
  "nbformat_minor": 0,
  "metadata": {
    "colab": {
      "provenance": []
    },
    "kernelspec": {
      "name": "python3",
      "display_name": "Python 3"
    },
    "language_info": {
      "name": "python"
    }
  },
  "cells": [
    {
      "cell_type": "markdown",
      "source": [
        "## Linear Classifiers\n",
        "In this assignment, we will load a dataset and train a logistic regression classifier.\n",
        "\n",
        "## The dataset\n",
        "This dataset is composed of a range of biomedical voice measurements from 31 people, 23 with Parkinson's disease (PD). Each column in the table is a particular voice measure, and each row corresponds to one of 195 voice recordings from these individuals (the `name` column). The main aim of the data is to discriminate healthy people from those with PD, according to the `status` column, which is set to `0` for healthy and `1` for PD.\n",
        "\n"
      ],
      "metadata": {
        "id": "sH1BByuVrAj1"
      }
    },
    {
      "cell_type": "markdown",
      "source": [
        "## 1 Import necessary packages\n",
        "\n",
        "We will import the following packages\n",
        "\n",
        "- pandas\n",
        "- train_test_split\n",
        "- LogisticRegression\n",
        "- pyplot from matplotlib"
      ],
      "metadata": {
        "id": "UKasiMsSrexV"
      }
    },
    {
      "cell_type": "code",
      "execution_count": 1,
      "metadata": {
        "id": "lLNdwqILq8jD"
      },
      "outputs": [],
      "source": [
        "import pandas as pd\n",
        "from sklearn.model_selection import train_test_split\n",
        "from sklearn.linear_model import LogisticRegression\n",
        "import matplotlib.pyplot as plt\n",
        "import numpy as np\n",
        "\n",
        "%matplotlib inline"
      ]
    },
    {
      "cell_type": "markdown",
      "source": [
        "## 2. Load and prepare the dataset\n",
        "\n",
        "1. Load the dataset into a DataFrame named `df_data`.\n",
        "2. Drop the `name` column. This column is not a feature required by the model.\n",
        "3. Create a DataFrame named `X` containing all the columns except the status.\n",
        "4. Create a DataFrame named `y` containing the status."
      ],
      "metadata": {
        "id": "81vzOX8Dr7cy"
      }
    },
    {
      "cell_type": "code",
      "source": [
        "df_data = pd.read_csv('https://tf-assets-prod.s3.amazonaws.com/tf-curric/data-science/parkinsons.data')\n",
        "df_data = df_data.drop(['name'], axis=1)\n",
        "X = df_data.drop(['status'], axis=1)\n",
        "y = df_data['status']"
      ],
      "metadata": {
        "id": "EUMioVFCsKWx"
      },
      "execution_count": 14,
      "outputs": []
    },
    {
      "cell_type": "markdown",
      "source": [
        "## 3. Split the dataset into a training set and a test set"
      ],
      "metadata": {
        "id": "L-AXyz4QsS1L"
      }
    },
    {
      "cell_type": "code",
      "source": [
        "X_train, X_test, y_train, y_test = train_test_split(X, y)"
      ],
      "metadata": {
        "id": "AgTBB_AGsTyz"
      },
      "execution_count": 17,
      "outputs": []
    },
    {
      "cell_type": "markdown",
      "source": [
        "## 4. Create the model\n",
        "\n",
        "1. Instantiate a logistic regression classifier with an lbfgs solver and penalty set to none.\n",
        "2. Fit the classifier to the data.\n"
      ],
      "metadata": {
        "id": "o_PpUj98tlNE"
      }
    },
    {
      "cell_type": "code",
      "source": [
        "lr = LogisticRegression(solver='lbfgs', penalty='none', max_iter=1000)\n",
        "lr.fit(X_train, y_train)"
      ],
      "metadata": {
        "colab": {
          "base_uri": "https://localhost:8080/",
          "height": 110
        },
        "id": "xn46jckitqmx",
        "outputId": "0cba08d0-94cb-4011-dad6-a326851c3f9e"
      },
      "execution_count": 20,
      "outputs": [
        {
          "output_type": "stream",
          "name": "stderr",
          "text": [
            "/usr/local/lib/python3.10/dist-packages/sklearn/linear_model/_logistic.py:1173: FutureWarning: `penalty='none'`has been deprecated in 1.2 and will be removed in 1.4. To keep the past behaviour, set `penalty=None`.\n",
            "  warnings.warn(\n"
          ]
        },
        {
          "output_type": "execute_result",
          "data": {
            "text/plain": [
              "LogisticRegression(max_iter=1000, penalty='none')"
            ],
            "text/html": [
              "<style>#sk-container-id-1 {color: black;background-color: white;}#sk-container-id-1 pre{padding: 0;}#sk-container-id-1 div.sk-toggleable {background-color: white;}#sk-container-id-1 label.sk-toggleable__label {cursor: pointer;display: block;width: 100%;margin-bottom: 0;padding: 0.3em;box-sizing: border-box;text-align: center;}#sk-container-id-1 label.sk-toggleable__label-arrow:before {content: \"▸\";float: left;margin-right: 0.25em;color: #696969;}#sk-container-id-1 label.sk-toggleable__label-arrow:hover:before {color: black;}#sk-container-id-1 div.sk-estimator:hover label.sk-toggleable__label-arrow:before {color: black;}#sk-container-id-1 div.sk-toggleable__content {max-height: 0;max-width: 0;overflow: hidden;text-align: left;background-color: #f0f8ff;}#sk-container-id-1 div.sk-toggleable__content pre {margin: 0.2em;color: black;border-radius: 0.25em;background-color: #f0f8ff;}#sk-container-id-1 input.sk-toggleable__control:checked~div.sk-toggleable__content {max-height: 200px;max-width: 100%;overflow: auto;}#sk-container-id-1 input.sk-toggleable__control:checked~label.sk-toggleable__label-arrow:before {content: \"▾\";}#sk-container-id-1 div.sk-estimator input.sk-toggleable__control:checked~label.sk-toggleable__label {background-color: #d4ebff;}#sk-container-id-1 div.sk-label input.sk-toggleable__control:checked~label.sk-toggleable__label {background-color: #d4ebff;}#sk-container-id-1 input.sk-hidden--visually {border: 0;clip: rect(1px 1px 1px 1px);clip: rect(1px, 1px, 1px, 1px);height: 1px;margin: -1px;overflow: hidden;padding: 0;position: absolute;width: 1px;}#sk-container-id-1 div.sk-estimator {font-family: monospace;background-color: #f0f8ff;border: 1px dotted black;border-radius: 0.25em;box-sizing: border-box;margin-bottom: 0.5em;}#sk-container-id-1 div.sk-estimator:hover {background-color: #d4ebff;}#sk-container-id-1 div.sk-parallel-item::after {content: \"\";width: 100%;border-bottom: 1px solid gray;flex-grow: 1;}#sk-container-id-1 div.sk-label:hover label.sk-toggleable__label {background-color: #d4ebff;}#sk-container-id-1 div.sk-serial::before {content: \"\";position: absolute;border-left: 1px solid gray;box-sizing: border-box;top: 0;bottom: 0;left: 50%;z-index: 0;}#sk-container-id-1 div.sk-serial {display: flex;flex-direction: column;align-items: center;background-color: white;padding-right: 0.2em;padding-left: 0.2em;position: relative;}#sk-container-id-1 div.sk-item {position: relative;z-index: 1;}#sk-container-id-1 div.sk-parallel {display: flex;align-items: stretch;justify-content: center;background-color: white;position: relative;}#sk-container-id-1 div.sk-item::before, #sk-container-id-1 div.sk-parallel-item::before {content: \"\";position: absolute;border-left: 1px solid gray;box-sizing: border-box;top: 0;bottom: 0;left: 50%;z-index: -1;}#sk-container-id-1 div.sk-parallel-item {display: flex;flex-direction: column;z-index: 1;position: relative;background-color: white;}#sk-container-id-1 div.sk-parallel-item:first-child::after {align-self: flex-end;width: 50%;}#sk-container-id-1 div.sk-parallel-item:last-child::after {align-self: flex-start;width: 50%;}#sk-container-id-1 div.sk-parallel-item:only-child::after {width: 0;}#sk-container-id-1 div.sk-dashed-wrapped {border: 1px dashed gray;margin: 0 0.4em 0.5em 0.4em;box-sizing: border-box;padding-bottom: 0.4em;background-color: white;}#sk-container-id-1 div.sk-label label {font-family: monospace;font-weight: bold;display: inline-block;line-height: 1.2em;}#sk-container-id-1 div.sk-label-container {text-align: center;}#sk-container-id-1 div.sk-container {/* jupyter's `normalize.less` sets `[hidden] { display: none; }` but bootstrap.min.css set `[hidden] { display: none !important; }` so we also need the `!important` here to be able to override the default hidden behavior on the sphinx rendered scikit-learn.org. See: https://github.com/scikit-learn/scikit-learn/issues/21755 */display: inline-block !important;position: relative;}#sk-container-id-1 div.sk-text-repr-fallback {display: none;}</style><div id=\"sk-container-id-1\" class=\"sk-top-container\"><div class=\"sk-text-repr-fallback\"><pre>LogisticRegression(max_iter=1000, penalty=&#x27;none&#x27;)</pre><b>In a Jupyter environment, please rerun this cell to show the HTML representation or trust the notebook. <br />On GitHub, the HTML representation is unable to render, please try loading this page with nbviewer.org.</b></div><div class=\"sk-container\" hidden><div class=\"sk-item\"><div class=\"sk-estimator sk-toggleable\"><input class=\"sk-toggleable__control sk-hidden--visually\" id=\"sk-estimator-id-1\" type=\"checkbox\" checked><label for=\"sk-estimator-id-1\" class=\"sk-toggleable__label sk-toggleable__label-arrow\">LogisticRegression</label><div class=\"sk-toggleable__content\"><pre>LogisticRegression(max_iter=1000, penalty=&#x27;none&#x27;)</pre></div></div></div></div></div>"
            ]
          },
          "metadata": {},
          "execution_count": 20
        }
      ]
    },
    {
      "cell_type": "markdown",
      "source": [
        "### 5. Calculate accuracy\n",
        "\n",
        "Calculate and print the accuracy of the model on the test data."
      ],
      "metadata": {
        "id": "rAKGR3qyuI7c"
      }
    },
    {
      "cell_type": "code",
      "source": [
        "print('Accuracy of Logistic Regression without regularization: %s' % lr.score(X_test, y_test))\n",
        "print('Number of iterations %s' % lr.n_iter_[0])"
      ],
      "metadata": {
        "colab": {
          "base_uri": "https://localhost:8080/"
        },
        "id": "3mt7m81GuLmm",
        "outputId": "00f74c4e-a255-4e3a-926e-c9c9d76b268f"
      },
      "execution_count": 24,
      "outputs": [
        {
          "output_type": "stream",
          "name": "stdout",
          "text": [
            "Accuracy of Logistic Regression without regularization: 0.8979591836734694\n",
            "Number of iterations 503\n"
          ]
        }
      ]
    },
    {
      "cell_type": "markdown",
      "source": [
        "### 6. L2 regularization\n",
        "\n",
        "Train another model with L2 regularization and compare the accuracy of the new model to the previous one."
      ],
      "metadata": {
        "id": "VsenfwUiuc-g"
      }
    },
    {
      "cell_type": "code",
      "source": [
        "lr_regularized = LogisticRegression(solver='lbfgs', penalty='l2', max_iter=1000)\n",
        "lr_regularized.fit(X_train, y_train)\n",
        "print('Accuracy of Logistic Regression with regularization: %s' % lr_regularized.score(X_test, y_test))\n",
        "print('Number of iterations %s' % lr_regularized.n_iter_[0])"
      ],
      "metadata": {
        "colab": {
          "base_uri": "https://localhost:8080/"
        },
        "id": "VZfoehn-ugIu",
        "outputId": "ee5d109a-55b1-4768-e312-d3ac3ecd3a69"
      },
      "execution_count": 25,
      "outputs": [
        {
          "output_type": "stream",
          "name": "stdout",
          "text": [
            "Accuracy of Logistic Regression with regularization: 0.9183673469387755\n",
            "Number of iterations 216\n"
          ]
        }
      ]
    },
    {
      "cell_type": "markdown",
      "source": [
        "Our model clearly performs better with L2 regularization."
      ],
      "metadata": {
        "id": "qkcS-H83uztd"
      }
    },
    {
      "cell_type": "markdown",
      "source": [
        "## 7. Choose the `C` parameter\n",
        "\n",
        "Use a loop to test the effect of varying the `C` parameter from `0.05` to `1.5` in increments of `0.05`. Plot a graph to show the accuracy of the test data versus the accuracy of the training data. Select an appropriate value for `C` and explain why that may be the best value."
      ],
      "metadata": {
        "id": "MM4ss5QQu4GZ"
      }
    },
    {
      "cell_type": "code",
      "source": [
        "c_vals = np.arange(0.05, 1.5, 0.05)\n",
        "test_accuracy = []\n",
        "train_accuracy = []\n",
        "\n",
        "for c in c_vals:\n",
        "  lr = LogisticRegression(solver='lbfgs', penalty='l2', C=c, max_iter=10000)\n",
        "  lr.fit(X_train, y_train)\n",
        "  test_accuracy.append(lr.score(X_test, y_test))\n",
        "  train_accuracy.append(lr.score(X_train, y_train))\n",
        "\n",
        "fig = plt.figure(figsize=(8, 4))\n",
        "ax1 = fig.add_subplot(1, 1, 1)\n",
        "ax1.plot(c_vals, test_accuracy, '-g', label='Test Accuracy')\n",
        "ax1.plot(c_vals, train_accuracy, '-b', label='Train Accuracy')\n",
        "ax1.set(xlabel='C', ylabel='Accuracy')\n",
        "ax1.set_title('Effect of C on Accuracy')\n",
        "ax1.legend()\n",
        "plt.show()"
      ],
      "metadata": {
        "colab": {
          "base_uri": "https://localhost:8080/",
          "height": 410
        },
        "id": "m1WAnv9Ju3UV",
        "outputId": "2b323f89-31a3-45d9-e0b3-3cfe17b54703"
      },
      "execution_count": 27,
      "outputs": [
        {
          "output_type": "display_data",
          "data": {
            "text/plain": [
              "<Figure size 800x400 with 1 Axes>"
            ],
            "image/png": "[encoded data removed]"
          },
          "metadata": {}
        }
      ]
    },
    {
      "cell_type": "markdown",
      "source": [
        "From the graph above the best value for `C` occurs between `1.3` and `1.5`. This region minimizes the difference between the test and training accuracy implying the least amount of overfitting is occuring."
      ],
      "metadata": {
        "id": "rkpDQI7tviMN"
      }
    },
    {
      "cell_type": "code",
      "source": [],
      "metadata": {
        "id": "wimtbWlKvrhm"
      },
      "execution_count": null,
      "outputs": []
    }
  ]
}