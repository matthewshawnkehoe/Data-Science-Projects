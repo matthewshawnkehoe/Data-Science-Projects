{
  "cells": [
    {
      "cell_type": "markdown",
      "metadata": {
        "id": "iD1KjC8-hl_P"
      },
      "source": [
        "## Multiclass classifiers\n",
        "In this assessment, you will load a dataset and train two models to perform multiclass classification. Then you will compare the results of the models. The dataset is the *digits* dataset available from scikit-learn's datasets library. This dataset contains 1,797 samples of written digits, and your goal is to correctly identify digits from 0 to 9."
      ]
    },
    {
      "cell_type": "markdown",
      "metadata": {
        "id": "sZYeUk8FjHsd"
      },
      "source": [
        "## Load the data\n",
        "\n",
        "1. Import the `load_digits()` function from the sklearn.datasets library.\n",
        "2. Invoke `load_digits()` with the `return_X_y` parameter set to `True`. Store the returned dataset in variables `X` and `y`."
      ]
    },
    {
      "cell_type": "code",
      "execution_count": 1,
      "metadata": {
        "id": "yU07T75-he8U"
      },
      "outputs": [],
      "source": [
        "from sklearn.datasets import load_digits\n",
        "X, y = load_digits(return_X_y=True)"
      ]
    },
    {
      "cell_type": "markdown",
      "source": [
        "## Exploratory data analysis\n",
        "Perform a few exploratory  steps, including the following:\n",
        "\n",
        "1. Display the number of rows of data returned.\n",
        "2. Display the number of features in the dataset.\n",
        "3. Use NumPy's `bincount()` to display how many samples belong to each class. Is this a balanced dataset?"
      ],
      "metadata": {
        "id": "dwCk7QDP6XDe"
      }
    },
    {
      "cell_type": "code",
      "execution_count": 2,
      "metadata": {
        "colab": {
          "base_uri": "https://localhost:8080/"
        },
        "id": "EX7gj8IGkTu7",
        "outputId": "720cff59-9199-43d8-c8f2-b7668d22a5dd"
      },
      "outputs": [
        {
          "output_type": "stream",
          "name": "stdout",
          "text": [
            "The number of rows in the dataset is 1797\n",
            "The number of features in the dataset is 64\n"
          ]
        },
        {
          "output_type": "execute_result",
          "data": {
            "text/plain": [
              "array([178, 182, 177, 183, 181, 182, 181, 179, 174, 180])"
            ]
          },
          "metadata": {},
          "execution_count": 2
        }
      ],
      "source": [
        "import numpy as np\n",
        "\n",
        "print('The number of rows in the dataset is {:d}'.format(X.shape[0]))\n",
        "print('The number of features in the dataset is {:d}'.format(X.shape[1]))\n",
        "np.bincount(y)"
      ]
    },
    {
      "cell_type": "markdown",
      "source": [
        "Yes, the `bincount` function shows that the dataset is balanced. We can also review [the documentation](https://scikit-learn.org/stable/modules/generated/sklearn.datasets.load_digits.html) to see the number of rows and features in the dataset."
      ],
      "metadata": {
        "id": "xPU_mNy8-c26"
      }
    },
    {
      "cell_type": "markdown",
      "metadata": {
        "id": "6AdSZLoalPDO"
      },
      "source": [
        "## Prepare training and testing data\n",
        "1. Use `train_test_split()` to split the dataset into a training set and a test set. Set the proportion of test data to 20%. Set a random state value so that the results will be repeatable."
      ]
    },
    {
      "cell_type": "code",
      "execution_count": 3,
      "metadata": {
        "id": "K8oYDSclmIRw"
      },
      "outputs": [],
      "source": [
        "from sklearn.model_selection import train_test_split\n",
        "\n",
        "X_train, X_test, y_train, y_test = train_test_split(X, y, test_size=0.20, random_state=42)"
      ]
    },
    {
      "cell_type": "markdown",
      "metadata": {
        "id": "of-cq2s0mdx6"
      },
      "source": [
        "## Cross-validation with logistic regression\n",
        "In this step, you will create a `LogisticRegression` classifier and use five-fold cross-validation to train the model.\n",
        "\n",
        "1. Import a `LogisticRegression` classifier from scikit-learn.\n",
        "2. Instantiate a `LogisticRegression` classifier with the `lbfgs` solver and `ovr` multiclass strategy. You may have to set the maximum number of iterations to 1,000.\n",
        "3. Perform cross-validation on the model.\n",
        "4. Print the cross-validation scores and the mean of the cross-validation scores."
      ]
    },
    {
      "cell_type": "code",
      "execution_count": 8,
      "metadata": {
        "colab": {
          "base_uri": "https://localhost:8080/"
        },
        "id": "UMdjcXaplne9",
        "outputId": "e2533880-332c-4397-819f-cedcdb156acb"
      },
      "outputs": [
        {
          "output_type": "stream",
          "name": "stdout",
          "text": [
            "Accuracy scores for the 5 folds:  [0.96527778 0.95486111 0.94773519 0.95121951 0.91637631]\n",
            "Mean cross validation score: 0.947\n"
          ]
        }
      ],
      "source": [
        "from sklearn.linear_model import LogisticRegression\n",
        "from sklearn.model_selection import cross_val_score\n",
        "\n",
        "lr_clf = LogisticRegression(solver='lbfgs', multi_class='ovr', max_iter=1000)\n",
        "lr_cv_scores = cross_val_score(lr_clf, X_train, y_train, cv=5)\n",
        "\n",
        "print('Accuracy scores for the 5 folds: ', lr_cv_scores)\n",
        "print('Mean cross validation score: {:.3f}'.format(np.mean(lr_cv_scores)))"
      ]
    },
    {
      "cell_type": "markdown",
      "metadata": {
        "id": "PcZHs1vYoRBN"
      },
      "source": [
        "## Cross-validation with random forest\n",
        "Perform the same steps as above, but this time with a `RandomForestClassifier`."
      ]
    },
    {
      "cell_type": "code",
      "execution_count": 7,
      "metadata": {
        "colab": {
          "base_uri": "https://localhost:8080/"
        },
        "id": "pCD2ROdToySP",
        "outputId": "777fae0a-37db-4799-a68a-a9f741d22e3e"
      },
      "outputs": [
        {
          "output_type": "stream",
          "name": "stdout",
          "text": [
            "Accuracy scores for the 5 folds:  [0.96527778 0.95486111 0.94773519 0.95121951 0.91637631]\n",
            "Mean cross validation score: 0.947\n"
          ]
        }
      ],
      "source": [
        "from sklearn.ensemble import RandomForestClassifier\n",
        "\n",
        "rf_clf = RandomForestClassifier(n_estimators=24)\n",
        "rf_cv_scores = cross_val_score(lr_clf, X_train, y_train, cv=5)\n",
        "\n",
        "print('Accuracy scores for the 5 folds: ', rf_cv_scores)\n",
        "print('Mean cross validation score: {:.3f}'.format(np.mean(rf_cv_scores)))"
      ]
    },
    {
      "cell_type": "markdown",
      "source": [
        "We can see that cross-validation with logistic regression or random forest returns similar accuracy scores."
      ],
      "metadata": {
        "id": "r017kOUW_SZw"
      }
    },
    {
      "cell_type": "code",
      "source": [],
      "metadata": {
        "id": "ARIaFDMl_ZZM"
      },
      "execution_count": 5,
      "outputs": []
    }
  ],
  "metadata": {
    "colab": {
      "provenance": [],
      "gpuType": "T4"
    },
    "kernelspec": {
      "display_name": "Python 3",
      "name": "python3"
    },
    "language_info": {
      "codemirror_mode": {
        "name": "ipython",
        "version": 3
      },
      "file_extension": ".py",
      "mimetype": "text/x-python",
      "name": "python",
      "nbconvert_exporter": "python",
      "pygments_lexer": "ipython3",
      "version": "3.9.12"
    },
    "accelerator": "GPU"
  },
  "nbformat": 4,
  "nbformat_minor": 0
}