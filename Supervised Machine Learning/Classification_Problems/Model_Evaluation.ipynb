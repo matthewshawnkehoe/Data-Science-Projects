{
  "cells": [
    {
      "cell_type": "code",
      "execution_count": 1,
      "metadata": {
        "id": "CucDRI3maJBA"
      },
      "outputs": [],
      "source": [
        "# All imports in one place for convenience\n",
        "import matplotlib.pyplot as plt\n",
        "from sklearn.datasets import fetch_20newsgroups_vectorized\n",
        "import numpy as np\n",
        "import pandas as pd\n",
        "import seaborn as sns\n",
        "from sklearn.linear_model import LogisticRegression\n",
        "from sklearn.model_selection import train_test_split, cross_val_score\n",
        "from sklearn.dummy import DummyClassifier\n",
        "from sklearn.metrics import confusion_matrix\n",
        "from sklearn.utils.multiclass import unique_labels\n",
        "from sklearn.metrics import accuracy_score, precision_score, recall_score, f1_score, fbeta_score, classification_report\n",
        "from sklearn.metrics import roc_curve, precision_recall_curve, roc_auc_score\n",
        "%matplotlib inline\n"
      ]
    },
    {
      "cell_type": "markdown",
      "metadata": {
        "id": "Lmo4B_L4bKvN"
      },
      "source": [
        "## *20 newsgroups* dataset\n",
        "For this example, you will use the *20 newsgroups* dataset, which can be loaded using scikit-learn's dataset library. The *20 newsgroups* dataset comprises around 18,000 newsgroups' posts on 20 topics."
      ]
    },
    {
      "cell_type": "code",
      "execution_count": 2,
      "metadata": {
        "id": "wHxgkVxYaffN"
      },
      "outputs": [],
      "source": [
        "dataset = fetch_20newsgroups_vectorized()\n",
        "X, y = dataset.data, dataset.target"
      ]
    },
    {
      "cell_type": "markdown",
      "metadata": {
        "id": "0ik7deMzc4b5"
      },
      "source": [
        "Use the following code to count the number of instances for each class."
      ]
    },
    {
      "cell_type": "code",
      "execution_count": 3,
      "metadata": {
        "colab": {
          "base_uri": "https://localhost:8080/"
        },
        "id": "MwKasyg3avtm",
        "outputId": "73f753ca-2c1b-478c-bbed-91747a841e4a"
      },
      "outputs": [
        {
          "output_type": "stream",
          "name": "stdout",
          "text": [
            "alt.atheism 480\n",
            "comp.graphics 584\n",
            "comp.os.ms-windows.misc 591\n",
            "comp.sys.ibm.pc.hardware 590\n",
            "comp.sys.mac.hardware 578\n",
            "comp.windows.x 593\n",
            "misc.forsale 585\n",
            "rec.autos 594\n",
            "rec.motorcycles 598\n",
            "rec.sport.baseball 597\n",
            "rec.sport.hockey 600\n",
            "sci.crypt 595\n",
            "sci.electronics 591\n",
            "sci.med 594\n",
            "sci.space 593\n",
            "soc.religion.christian 599\n",
            "talk.politics.guns 546\n",
            "talk.politics.mideast 564\n",
            "talk.politics.misc 465\n",
            "talk.religion.misc 377\n"
          ]
        }
      ],
      "source": [
        "for class_name, class_count  in zip(dataset.target_names, np.bincount(dataset.target)):\n",
        "    print(class_name, class_count)"
      ]
    },
    {
      "cell_type": "markdown",
      "metadata": {
        "id": "1wm4CefddPJj"
      },
      "source": [
        "You can see that this is a *well-balanced dataset*. That is, each class is fairly evenly represented. Unfortunately, you won't always find such evenly distributed data in real life. So to look at the impact of an *unbalanced dataset*, reduce this dataset to just two classes: `sci.space` and everything else. First, make a copy of the target data. Then replace all instances of classes that are not `sci.space` with `0`, and replace all instances of `sci.space` with `1`.\n",
        "\n",
        "To see the effect of this change, look at the counts for each class again:"
      ]
    },
    {
      "cell_type": "code",
      "execution_count": 4,
      "metadata": {
        "colab": {
          "base_uri": "https://localhost:8080/"
        },
        "id": "q2H3FdQTgTTC",
        "outputId": "3673acfd-2b66-467e-edd6-e05f0aaf994c"
      },
      "outputs": [
        {
          "output_type": "execute_result",
          "data": {
            "text/plain": [
              "array([10721,   593])"
            ]
          },
          "metadata": {},
          "execution_count": 4
        }
      ],
      "source": [
        "y_2 = y.copy()\n",
        "y_2[y_2 != 14] = 0\n",
        "y_2[y_2 == 14] = 1\n",
        "\n",
        "np.bincount(y_2)"
      ]
    },
    {
      "cell_type": "markdown",
      "metadata": {
        "id": "JdjoWKjTiPR_"
      },
      "source": [
        "Now you have a dataset that is *class imbalanced*. That is, in the negative class, which represents posts that aren't about space, you have 10,721 instances. And in the positive class, representing posts about space, you only have 593 instances. Now you can train a classifier to predict if a post is about space or not. Use the logistic regression classifier, as shown below."
      ]
    },
    {
      "cell_type": "code",
      "execution_count": 5,
      "metadata": {
        "colab": {
          "base_uri": "https://localhost:8080/"
        },
        "id": "lK7dTfctjG-p",
        "outputId": "6cfa050f-baec-4185-b2d7-e33b17721944"
      },
      "outputs": [
        {
          "output_type": "execute_result",
          "data": {
            "text/plain": [
              "0.9671261930010604"
            ]
          },
          "metadata": {},
          "execution_count": 5
        }
      ],
      "source": [
        "X_train, X_test, y_train, y_test = train_test_split(X, y_2, random_state=82)\n",
        "\n",
        "lr = LogisticRegression(solver='lbfgs')\n",
        "lr.fit(X_train, y_train)\n",
        "lr.score(X_test, y_test)"
      ]
    },
    {
      "cell_type": "markdown",
      "metadata": {
        "id": "ppiSOaAuj1Cp"
      },
      "source": [
        "Not bad! Without any tuning, you got an accuracy of `0.967`. An accuracy of 96.7% is quite good—but before you celebrate your data science skills, examine what this means in the context of an imbalanced dataset.\n",
        "\n",
        "Suppose that you wrote a classifier that did no work at all, did not even look at the features, and just returned all predictions to be the dominant class. In this case, the dominant class is the negative class. So your dummy classifier would predict the negative class 100% of the time. What is the accuracy of the dummy classifier? Take a moment to think about it.\n",
        "\n",
        "Recall the following:\n",
        "\n",
        "$$ accuracy = \\frac{ \\# correct predictions}{all predictions}$$\n",
        "\n",
        "Because you have 10,721 negative samples, your dummy classifier will be right 10,721 times and wrong 593 times.\n",
        "\n",
        "$$ accuracy = \\frac{10721}{10721 + 593} = 0.94759$$\n",
        "\n",
        "Still pretty impressive!\n",
        "\n",
        "Scikit-learn actually has a dummy classifier to help illustrate this exact scenario."
      ]
    },
    {
      "cell_type": "code",
      "execution_count": 6,
      "metadata": {
        "colab": {
          "base_uri": "https://localhost:8080/"
        },
        "id": "t8wSuCaMnlqP",
        "outputId": "34a3195b-4aa6-4c71-b4ea-c00a9f3c5161"
      },
      "outputs": [
        {
          "output_type": "execute_result",
          "data": {
            "text/plain": [
              "0.9568752209261223"
            ]
          },
          "metadata": {},
          "execution_count": 6
        }
      ],
      "source": [
        "dummy = DummyClassifier(strategy = 'most_frequent')\n",
        "dummy.fit(X_train, y_train)\n",
        "dummy.score(X_test, y_test)\n"
      ]
    },
    {
      "cell_type": "markdown",
      "metadata": {
        "id": "DCdip2fyoeV9"
      },
      "source": [
        "Remember, the dummy classifier does not actually use the features to make a prediction. It just looks at which class is dominant and returns that one every time. Here, on your test data, you get an accuracy of over 95%—almost as good as your real classifier. Given the closeness of these two results, can you really be confident that your classifier is doing all that great of a job?\n",
        "\n",
        "This dummy classifier is quite useful for many reasons. It gives a null accuracy baseline to which you can compare your model's performance. This way, you know if your classifier is doing better than just a random guess.\n",
        "\n",
        "If your model's accuracy is close to the null accuracy baseline, it might mean one of the following:\n",
        "\n",
        " - Your features are not good predictors for your problem.\n",
        " - Your algorithm's parameters may need tuning.\n",
        " - You have a large class imbalance.\n",
        "\n",
        ""
      ]
    },
    {
      "cell_type": "markdown",
      "metadata": {
        "id": "B6mvvQGWutAx"
      },
      "source": [
        "## Confusion matrix\n",
        "The *confusion matrix* is a table showing every combination of predicted and actual values. It makes it easy to see what type of errors your model is making, and it allows you to generate several metrics describing the performance of your model. Scikit-learn comes with a function to calculate the confusion matrix, given the set of actual values and the set of predictions.\n",
        "\n",
        "### Why use a confusion matrix?\n",
        "\n",
        "Although it is important to have good accuracy, accuracy does not tell the whole story.  The confusion matrix gives you a deeper understanding of what is going on with your classification model's performance by showing you how things are bucketed. It reveals which data points are bucketed correctly and which ones are not.\n",
        "\n",
        "You will learn more about this in a bit.\n"
      ]
    },
    {
      "cell_type": "code",
      "execution_count": 7,
      "metadata": {
        "colab": {
          "base_uri": "https://localhost:8080/"
        },
        "id": "ycg9sXrMwhCw",
        "outputId": "edcee42b-a9d6-447f-9e00-12ad309220ad"
      },
      "outputs": [
        {
          "output_type": "stream",
          "name": "stdout",
          "text": [
            "[[  29   93]\n",
            " [   0 2707]]\n"
          ]
        }
      ],
      "source": [
        "predictions = lr.predict(X_test)\n",
        "\n",
        "confusion = confusion_matrix(y_test, predictions, labels=[1, 0])\n",
        "print(confusion)"
      ]
    },
    {
      "cell_type": "markdown",
      "metadata": {
        "id": "6ezOecLMyeZt"
      },
      "source": [
        "You'll interpret this in a minute.\n",
        "\n",
        "Although this gives you all the information that you need, it is not easy to read. To get a prettier picture of the confusion matrix, you could use [this function from Kaggle's website](https://www.kaggle.com/grfiv4/plot-a-confusion-matrix), or any one of many similar functions that you may find on the web."
      ]
    },
    {
      "cell_type": "code",
      "execution_count": 8,
      "metadata": {
        "id": "IQWUgUrNycCz"
      },
      "outputs": [],
      "source": [
        "def plot_confusion_matrix(cm,\n",
        "                          target_names,\n",
        "                          title='Confusion matrix',\n",
        "                          cmap=None,\n",
        "                          normalize=True):\n",
        "    \"\"\"\n",
        "    Given a scikit-learn confusion matrix (CM), make a nice plot.\n",
        "\n",
        "    Arguments\n",
        "    ---------\n",
        "    cm:           Confusion matrix from sklearn.metrics.confusion_matrix\n",
        "\n",
        "    target_names: Given classification classes, such as [0, 1, 2]\n",
        "                  The class names, for example, ['high', 'medium', 'low']\n",
        "\n",
        "    title:        The text to display at the top of the matrix\n",
        "\n",
        "    cmap:         The gradient of the values displayed from matplotlib.pyplot.cm\n",
        "                  See http://matplotlib.org/examples/color/colormaps_reference.html\n",
        "                  `plt.get_cmap('jet')` or `plt.cm.Blues`\n",
        "\n",
        "    normalize:    If `False`, plot the raw numbers\n",
        "                  If `True`, plot the proportions\n",
        "\n",
        "    Usage\n",
        "    -----\n",
        "    plot_confusion_matrix(cm           = cm,                  # Confusion matrix created by\n",
        "                                                              # `sklearn.metrics.confusion_matrix`\n",
        "                          normalize    = True,                # Show proportions\n",
        "                          target_names = y_labels_vals,       # List of names of the classes\n",
        "                          title        = best_estimator_name) # Title of graph\n",
        "\n",
        "    Citation\n",
        "    ---------\n",
        "    http://scikit-learn.org/stable/auto_examples/model_selection/plot_confusion_matrix.html\n",
        "\n",
        "    \"\"\"\n",
        "    import matplotlib.pyplot as plt\n",
        "    import numpy as np\n",
        "    import itertools\n",
        "\n",
        "    accuracy = np.trace(cm) / float(np.sum(cm))\n",
        "    misclass = 1 - accuracy\n",
        "\n",
        "    if cmap is None:\n",
        "        cmap = plt.get_cmap('Blues')\n",
        "\n",
        "    plt.figure(figsize=(8, 6))\n",
        "    plt.imshow(cm, interpolation='nearest', cmap=cmap)\n",
        "    plt.title(title)\n",
        "    plt.colorbar()\n",
        "\n",
        "    if target_names is not None:\n",
        "        tick_marks = np.arange(len(target_names))\n",
        "        plt.xticks(tick_marks, target_names, rotation=45)\n",
        "        plt.yticks(tick_marks, target_names)\n",
        "\n",
        "    if normalize:\n",
        "        cm = cm.astype('float') / cm.sum(axis=1)[:, np.newaxis]\n",
        "\n",
        "\n",
        "    thresh = cm.max() / 1.5 if normalize else cm.max() / 2\n",
        "    for i, j in itertools.product(range(cm.shape[0]), range(cm.shape[1])):\n",
        "        if normalize:\n",
        "            plt.text(j, i, \"{:0.4f}\".format(cm[i, j]),\n",
        "                     horizontalalignment=\"center\",\n",
        "                     color=\"white\" if cm[i, j] > thresh else \"black\")\n",
        "        else:\n",
        "            plt.text(j, i, \"{:,}\".format(cm[i, j]),\n",
        "                     horizontalalignment=\"center\",\n",
        "                     color=\"white\" if cm[i, j] > thresh else \"black\")\n",
        "\n",
        "\n",
        "    plt.tight_layout()\n",
        "    plt.ylabel('True label')\n",
        "    plt.xlabel('Predicted label\\naccuracy={:0.4f}; misclass={:0.4f}'.format(accuracy, misclass))\n",
        "    plt.show()"
      ]
    },
    {
      "cell_type": "code",
      "execution_count": 9,
      "metadata": {
        "colab": {
          "base_uri": "https://localhost:8080/",
          "height": 642
        },
        "id": "h693RNJOywey",
        "outputId": "8aabb3af-d588-421c-b974-caeb9f1c02af"
      },
      "outputs": [
        {
          "output_type": "display_data",
          "data": {
            "text/plain": [
              "<Figure size 800x600 with 2 Axes>"
            ],
            "image/png": "[encoded data removed]"
          },
          "metadata": {}
        }
      ],
      "source": [
        "plot_confusion_matrix(cm=confusion, target_names = ['Space', 'Not Space'], title = 'Confusion Matrix',normalize=False)\n"
      ]
    },
    {
      "cell_type": "markdown",
      "metadata": {
        "id": "JHae2YkV9PIT"
      },
      "source": [
        "Notice that the numbers that appear in the boxes of the plot above are the same as in the text-based matrix that scikit-learn produced. But this labeled diagram is much better to look at for visually evaluating a confusion matrix.\n",
        "\n",
        "### Interpreting the matrix\n",
        "\n",
        "But what do the numbers mean? Suppose that you trained a binary classification model to distinguish images of cats from images with no cats. You build a dataset of images and label which ones have cats and which ones do not. Then you run the model on a labeled test set with several images—some with cats and some without. Some of the images that have cats are correctly predicted, but some of the pictures of cats are falsely bucketed as not having cats. The reverse can also happen with pictures that are classified as not having cats—although some may be correctly predicted, some photos that do have cats may be misclassified as images without cats.\n",
        "\n",
        "You could then count the number of times that your model correctly predicted cats, correctly predicted no cats, incorrectly predicted cats, and incorrectly predicted no cats. These are the numbers that you'd plug into the confusion matrix.\n",
        "\n",
        "From the confusion matrix plotted above, you can define *true positives* (TP) as the number of times that the model correctly predicts the positive class (`cat`), and *true negatives* (TN) as the number of times that the model correctly predicts the negative class (`no cat`).\n",
        "\n",
        "*False positives* (FP) is the number of times that the model incorrectly predicts the positive class, and *false negatives* (FN) is the number of times that the model incorrectly predicts the negative class. In statistics, false positives are called *Type I errors*, and false negatives are called *Type II errors*.\n",
        "\n",
        "The true positives and true negatives are the total number of correct predictions, while the false positives and false negatives are the total number of wrong predictions.\n",
        "\n",
        "There are several important metrics that can be calculated from the confusion matrix.\n",
        "\n",
        "#### Accuracy\n",
        "\n",
        "$$Accuracy = \\frac{TP + TN}{TP + TN + FP + FN} = \\frac{29 + 2707}{29 + 2707 + 0 + 93} = 0.967$$\n",
        "\n",
        "Your model was 96.7% accurate. In other words, your model correctly classified 96.7% of the images.\n",
        "\n",
        "#### Precision\n",
        "*Precision* is a value that tells you what proportion of positive predictions are correct. That is, if the model has a precision of `0.75`, then 75% of its positive predictions are correct. Now, calculate the precision of your model.\n",
        "\n",
        "$$precision = \\frac{TP}{TP + FP} = \\frac{29}{29 + 0} = 1.0$$\n",
        "\n",
        "When your model predicts that a post is in the group `sci.space`, it is right 100% of the time!\n",
        "\n",
        "Without looking at the precision score, you would have missed this by simply accepting the accuracy score at face value.\n",
        "\n",
        "#### Recall\n",
        "*Recall* is a value that tells you what proportion of instances in the positive class were correctly predicted. This is a good indication of how many positive instances are being missed.\n",
        "\n",
        "$$recall = \\frac{TP}{TP + FN} = \\frac{29}{29 + 93} = 0.24$$\n",
        "\n",
        "You found only 24% of all posts about space. (And you've missed the 76% of posts that were actually positive but came back as false negatives!)\n",
        "\n",
        "#### Tradeoffs\n",
        "\n",
        "There is often a tradeoff to be made between precision and recall. You may be able to tune your model to improve the precision (make fewer false positive predictions), but it comes at the cost of lower recall. Similarly, if you tune the model to improve the recall, then precision may suffer.\n",
        "\n",
        "There is no one right way to tune your model. You have to decide on a case-by-case basis. Given the *20 newsgroups* dataset and the model that you trained, are you happy with your precision and recall scores? Well, that depends on how you plan to use this model and the business use case.\n",
        "\n",
        "Suppose that you want to use this model as part of a system that automatically determines a label for new posts, so that you can recommend posts to people who are interested in space. Given a precision of 100%, all of the recommendations will be correct. But with a recall of only 24%, more than 75% of the posts about space will be incorrectly identified. Your users may be annoyed because you missed too many relevant posts (false negatives). For this scenario, if you improve the recall and catch more space posts but mislabel some recommendations, your users might be happier.\n",
        "\n",
        "Now consider a screening test for a particular disease in the population. Suppose that you train a model to detect the disease given some symptoms of the patient. If the model predicts positive, you immediately send the patient for further tests and treatment. If the model predicts negative, then you assume the patient is safe. A low precision, in this case, means that many of the positive cases predicted would turn out to not have the disease. The high recall will mean that most of the positive cases are found. This seems about right. Imagine if the recall were low—many people with the disease would be incorrectly classified as not having the disease.\n",
        "\n",
        "This is a case where recall is more important than precision, because it's important to avoid false negatives—you don't want to let people who need treatment to slip through the cracks (false negatives).\n"
      ]
    },
    {
      "cell_type": "markdown",
      "metadata": {
        "id": "jNa0sboA5MLh"
      },
      "source": [
        "### F-score\n",
        "When evaluating classifiers, it is convenient to combine the precision and recall into a single value called the *F-score* (also called the *$F_1$ score*). Use the F-score to see how the two metrics level out when combined.\n",
        "\n",
        "This is done with the following formula:\n",
        "\n",
        "$$F_1 = 2 \\times \\frac{\\text{precision} \\times \\text{recall}}{\\text{precision} + \\text{recall}} = \\frac{2 \\times TP}{2 \\times TP + FN + FP}$$\n",
        "\n",
        "In computing this value, the contribution of precision and recall are equal.\n",
        "\n",
        "There is a more general case of the $F_1$ score called the *$F_\\beta$ score* (pronounced *F-beta score*). To calculate this score, a parameter $\\beta$ is used to adjust the contribution of recall and precision. To favor precision, a value of $\\beta < 1$ is used, and to favor recall, a value of $\\beta > 1$ is used. This way, if you are building a model where precision is more important than recall, then set a value for $\\beta$ less than 1. The formula is as follows:\n",
        "\n",
        "$$F_\\beta = (1 + \\beta^2) \\times \\frac{\\text{precision} \\times \\text{recall}}{(\\beta^2 \\times \\text{precision}) + \\text{recall}} = \\frac{(1 + \\beta^2) \\times TP}{(1 + \\beta^2) \\times TP + \\beta \\times FN + FP}$$\n",
        "\n",
        "You do not have to perform these calculations by hand. Scikit-learn provides functions in its metrics library for calculating these values. Each of these functions takes the actual target values and the predictions made by the model as inputs."
      ]
    },
    {
      "cell_type": "code",
      "execution_count": 10,
      "metadata": {
        "colab": {
          "base_uri": "https://localhost:8080/"
        },
        "id": "Hg845J937Jsx",
        "outputId": "38fb00cf-b521-46b2-9442-9b5ea34b54ac"
      },
      "outputs": [
        {
          "output_type": "stream",
          "name": "stdout",
          "text": [
            "Accuracy score: 0.97\n",
            "Precision score: 1.00\n",
            "Recall score: 0.24\n",
            "F1 score: 0.38\n",
            "Fbeta score favoring precision: 0.61\n",
            "FBeta score favoring recall: 0.28\n"
          ]
        }
      ],
      "source": [
        "accuracy = accuracy_score(y_test, predictions)\n",
        "precision = precision_score(y_test, predictions)\n",
        "recall = recall_score(y_test, predictions)\n",
        "f1 = f1_score(y_test, predictions)\n",
        "fbeta_precision = fbeta_score(y_test, predictions, beta=0.5)\n",
        "fbeta_recall = fbeta_score(y_test, predictions, beta=2)\n",
        "\n",
        "print('Accuracy score: {:.2f}'.format(accuracy))\n",
        "print('Precision score: {:.2f}'.format(precision))\n",
        "print('Recall score: {:.2f}'.format(recall))\n",
        "print('F1 score: {:.2f}'.format(f1))\n",
        "print('Fbeta score favoring precision: {:.2f}'.format(fbeta_precision))\n",
        "print('FBeta score favoring recall: {:.2f}'.format(fbeta_recall))"
      ]
    },
    {
      "cell_type": "markdown",
      "metadata": {
        "id": "XEeycLyRWTe_"
      },
      "source": [
        "Notice that the $F_\\beta$ score with the $\\beta < 1$ scored higher than the $F_\\beta$ with $\\beta > 1$. This is because you have a higher precision score than recall score.\n",
        "\n",
        "The `classification_report` function is also useful for giving a summary of these metrics with a single call."
      ]
    },
    {
      "cell_type": "code",
      "execution_count": 11,
      "metadata": {
        "colab": {
          "base_uri": "https://localhost:8080/"
        },
        "id": "pJkY6GDTXmhu",
        "outputId": "10b2d5aa-790a-45fe-e5bb-721fee11d263"
      },
      "outputs": [
        {
          "output_type": "stream",
          "name": "stdout",
          "text": [
            "              precision    recall  f1-score   support\n",
            "\n",
            "   Not Space       0.97      1.00      0.98      2707\n",
            "       Space       1.00      0.24      0.38       122\n",
            "\n",
            "    accuracy                           0.97      2829\n",
            "   macro avg       0.98      0.62      0.68      2829\n",
            "weighted avg       0.97      0.97      0.96      2829\n",
            "\n"
          ]
        }
      ],
      "source": [
        "report = classification_report(y_test, predictions, target_names=['Not Space', 'Space'])\n",
        "print(report)"
      ]
    },
    {
      "cell_type": "markdown",
      "metadata": {
        "id": "Wv2I-70DY420"
      },
      "source": [
        "You could compare this report to the report on the dummy classifier. The dummy classifier can be used to make predictions in a similar way to a real classifier, except you will get all results being the dominant class. You know in this example that the dominant class is the negative class, so your dummy classifier won't predict any instances as the positive class."
      ]
    },
    {
      "cell_type": "code",
      "execution_count": 12,
      "metadata": {
        "colab": {
          "base_uri": "https://localhost:8080/"
        },
        "id": "NhCRQPAUYJH2",
        "outputId": "d4fcbae2-00a8-4de4-9b60-a2faf8fe88e5"
      },
      "outputs": [
        {
          "output_type": "stream",
          "name": "stdout",
          "text": [
            "              precision    recall  f1-score   support\n",
            "\n",
            "   Not Space       0.96      1.00      0.98      2707\n",
            "       Space       0.00      0.00      0.00       122\n",
            "\n",
            "    accuracy                           0.96      2829\n",
            "   macro avg       0.48      0.50      0.49      2829\n",
            "weighted avg       0.92      0.96      0.94      2829\n",
            "\n"
          ]
        },
        {
          "output_type": "stream",
          "name": "stderr",
          "text": [
            "/usr/local/lib/python3.10/dist-packages/sklearn/metrics/_classification.py:1344: UndefinedMetricWarning: Precision and F-score are ill-defined and being set to 0.0 in labels with no predicted samples. Use `zero_division` parameter to control this behavior.\n",
            "  _warn_prf(average, modifier, msg_start, len(result))\n",
            "/usr/local/lib/python3.10/dist-packages/sklearn/metrics/_classification.py:1344: UndefinedMetricWarning: Precision and F-score are ill-defined and being set to 0.0 in labels with no predicted samples. Use `zero_division` parameter to control this behavior.\n",
            "  _warn_prf(average, modifier, msg_start, len(result))\n",
            "/usr/local/lib/python3.10/dist-packages/sklearn/metrics/_classification.py:1344: UndefinedMetricWarning: Precision and F-score are ill-defined and being set to 0.0 in labels with no predicted samples. Use `zero_division` parameter to control this behavior.\n",
            "  _warn_prf(average, modifier, msg_start, len(result))\n"
          ]
        }
      ],
      "source": [
        "dummy_report = classification_report(y_test, dummy.predict(X_test), target_names=['Not Space', 'Space'])\n",
        "print(dummy_report)"
      ]
    },
    {
      "cell_type": "markdown",
      "metadata": {
        "id": "Y0O4cOLQZXaO"
      },
      "source": [
        "The `UndefinedMetricWarning` is due to the fact that $TP + FP == 0$. This is a good indication that the classifier is not performing well, even though the accuracy is high. Even if your classifier did have a few FPs, the precision and recall would be quite low for that class."
      ]
    },
    {
      "cell_type": "markdown",
      "metadata": {
        "id": "xqYk9tngq4vB"
      },
      "source": [
        "## Decision function: Varying the probability threshold\n",
        "Given some input, the model generates some probabilities for each input. This is given by the `predict_proba()` method. Rather than giving actual predictions, this method gives a probability that this instance belongs to the positive class.\n",
        "\n",
        "The following code generates the list of probabilities for the test data and prints the first 30 values."
      ]
    },
    {
      "cell_type": "code",
      "execution_count": 23,
      "metadata": {
        "colab": {
          "base_uri": "https://localhost:8080/"
        },
        "id": "SGrL2EMlq_YU",
        "outputId": "3e385607-e16a-4a77-f14d-2362a28c1b79"
      },
      "outputs": [
        {
          "output_type": "stream",
          "name": "stdout",
          "text": [
            "[0.03045873 0.01633326 0.04686767 0.0330425  0.01673376 0.03064549\n",
            " 0.03555476 0.03864876 0.03771071 0.03000802 0.0433192  0.03206011\n",
            " 0.01691639 0.04610477 0.045327   0.0176444  0.03604467 0.02145434\n",
            " 0.05960115 0.22718345 0.04970892 0.04448515 0.01503259 0.0268403\n",
            " 0.02251283 0.02651896 0.05111075 0.03264745 0.03637281]\n"
          ]
        }
      ],
      "source": [
        "probs = lr.predict_proba(X_test)[:, 1]\n",
        "print(probs[1:30])"
      ]
    },
    {
      "cell_type": "markdown",
      "metadata": {
        "id": "cfaBR6h2ReC_"
      },
      "source": [
        "You have seen in the previous lesson that the probability threshold is `0.5`. That is, if the probability is greater than `0.5`, then you will predict positive. And if it is less than `0.5`, you will predict negative. In the plot below, the probabilities of all test samples are plotted in two distribution plots. The red plot is the negative class, and the green plot is the positive class. The blue line is the probability threshold.\n",
        "\n",
        "Notice that there are positive instances on both sides of the threshold. That means that all positive instances on the left of the threshold will be incorrectly classified as negative—thereby giving false negatives."
      ]
    },
    {
      "cell_type": "code",
      "execution_count": 14,
      "metadata": {
        "colab": {
          "base_uri": "https://localhost:8080/",
          "height": 1000
        },
        "id": "S_OQCQ2HGnoN",
        "outputId": "f0bb7abf-12c7-40f8-935e-6bff8382d36d"
      },
      "outputs": [
        {
          "output_type": "stream",
          "name": "stderr",
          "text": [
            "<ipython-input-14-a4923a3da9e5>:7: UserWarning: \n",
            "\n",
            "`distplot` is a deprecated function and will be removed in seaborn v0.14.0.\n",
            "\n",
            "Please adapt your code to use either `displot` (a figure-level function with\n",
            "similar flexibility) or `kdeplot` (an axes-level function for kernel density plots).\n",
            "\n",
            "For a guide to updating your code to use the new functions, please see\n",
            "https://gist.github.com/mwaskom/de44147ed2974457ad6372750bbe5751\n",
            "\n",
            "  sns.distplot(pos, hist = False, kde = True, color='g',\n",
            "/usr/local/lib/python3.10/dist-packages/seaborn/distributions.py:2511: FutureWarning: \n",
            "\n",
            "`shade` is now deprecated in favor of `fill`; setting `fill=True`.\n",
            "This will become an error in seaborn v0.14.0; please update your code.\n",
            "\n",
            "  kdeplot(**{axis: a}, ax=ax, color=kde_color, **kde_kws)\n",
            "<ipython-input-14-a4923a3da9e5>:10: UserWarning: \n",
            "\n",
            "`distplot` is a deprecated function and will be removed in seaborn v0.14.0.\n",
            "\n",
            "Please adapt your code to use either `displot` (a figure-level function with\n",
            "similar flexibility) or `kdeplot` (an axes-level function for kernel density plots).\n",
            "\n",
            "For a guide to updating your code to use the new functions, please see\n",
            "https://gist.github.com/mwaskom/de44147ed2974457ad6372750bbe5751\n",
            "\n",
            "  sns.distplot(neg, hist = False, kde = True, color='r',\n",
            "/usr/local/lib/python3.10/dist-packages/seaborn/distributions.py:2511: FutureWarning: \n",
            "\n",
            "`shade` is now deprecated in favor of `fill`; setting `fill=True`.\n",
            "This will become an error in seaborn v0.14.0; please update your code.\n",
            "\n",
            "  kdeplot(**{axis: a}, ax=ax, color=kde_color, **kde_kws)\n",
            "WARNING:matplotlib.font_manager:findfont: Font family 'xkcd' not found.\n",
            "WARNING:matplotlib.font_manager:findfont: Font family 'xkcd Script' not found.\n",
            "WARNING:matplotlib.font_manager:findfont: Font family 'Comic Neue' not found.\n",
            "WARNING:matplotlib.font_manager:findfont: Font family 'Comic Sans MS' not found.\n",
            "WARNING:matplotlib.font_manager:findfont: Font family 'xkcd' not found.\n",
            "WARNING:matplotlib.font_manager:findfont: Font family 'xkcd Script' not found.\n",
            "WARNING:matplotlib.font_manager:findfont: Font family 'Comic Neue' not found.\n",
            "WARNING:matplotlib.font_manager:findfont: Font family 'Comic Sans MS' not found.\n",
            "/usr/local/lib/python3.10/dist-packages/IPython/core/pylabtools.py:151: UserWarning: Glyph 8722 (\\N{MINUS SIGN}) missing from current font.\n",
            "  fig.canvas.print_figure(bytes_io, **kw)\n",
            "WARNING:matplotlib.font_manager:findfont: Font family 'xkcd' not found.\n",
            "WARNING:matplotlib.font_manager:findfont: Font family 'xkcd Script' not found.\n",
            "WARNING:matplotlib.font_manager:findfont: Font family 'Comic Neue' not found.\n",
            "WARNING:matplotlib.font_manager:findfont: Font family 'Comic Sans MS' not found.\n",
            "WARNING:matplotlib.font_manager:findfont: Font family 'xkcd' not found.\n",
            "WARNING:matplotlib.font_manager:findfont: Font family 'xkcd Script' not found.\n",
            "WARNING:matplotlib.font_manager:findfont: Font family 'Comic Neue' not found.\n",
            "WARNING:matplotlib.font_manager:findfont: Font family 'Comic Sans MS' not found.\n",
            "WARNING:matplotlib.font_manager:findfont: Font family 'xkcd' not found.\n",
            "WARNING:matplotlib.font_manager:findfont: Font family 'xkcd Script' not found.\n",
            "WARNING:matplotlib.font_manager:findfont: Font family 'Comic Neue' not found.\n",
            "WARNING:matplotlib.font_manager:findfont: Font family 'Comic Sans MS' not found.\n",
            "WARNING:matplotlib.font_manager:findfont: Font family 'xkcd' not found.\n",
            "WARNING:matplotlib.font_manager:findfont: Font family 'xkcd Script' not found.\n",
            "WARNING:matplotlib.font_manager:findfont: Font family 'Comic Neue' not found.\n",
            "WARNING:matplotlib.font_manager:findfont: Font family 'Comic Sans MS' not found.\n",
            "WARNING:matplotlib.font_manager:findfont: Font family 'xkcd' not found.\n",
            "WARNING:matplotlib.font_manager:findfont: Font family 'xkcd Script' not found.\n",
            "WARNING:matplotlib.font_manager:findfont: Font family 'Comic Neue' not found.\n",
            "WARNING:matplotlib.font_manager:findfont: Font family 'Comic Sans MS' not found.\n",
            "WARNING:matplotlib.font_manager:findfont: Font family 'xkcd' not found.\n",
            "WARNING:matplotlib.font_manager:findfont: Font family 'xkcd Script' not found.\n",
            "WARNING:matplotlib.font_manager:findfont: Font family 'Comic Neue' not found.\n",
            "WARNING:matplotlib.font_manager:findfont: Font family 'Comic Sans MS' not found.\n",
            "WARNING:matplotlib.font_manager:findfont: Font family 'xkcd' not found.\n",
            "WARNING:matplotlib.font_manager:findfont: Font family 'xkcd Script' not found.\n",
            "WARNING:matplotlib.font_manager:findfont: Font family 'Comic Neue' not found.\n",
            "WARNING:matplotlib.font_manager:findfont: Font family 'Comic Sans MS' not found.\n",
            "WARNING:matplotlib.font_manager:findfont: Font family 'xkcd' not found.\n",
            "WARNING:matplotlib.font_manager:findfont: Font family 'xkcd Script' not found.\n",
            "WARNING:matplotlib.font_manager:findfont: Font family 'Comic Neue' not found.\n",
            "WARNING:matplotlib.font_manager:findfont: Font family 'Comic Sans MS' not found.\n",
            "WARNING:matplotlib.font_manager:findfont: Font family 'xkcd' not found.\n",
            "WARNING:matplotlib.font_manager:findfont: Font family 'xkcd Script' not found.\n",
            "WARNING:matplotlib.font_manager:findfont: Font family 'Comic Neue' not found.\n",
            "WARNING:matplotlib.font_manager:findfont: Font family 'Comic Sans MS' not found.\n",
            "WARNING:matplotlib.font_manager:findfont: Font family 'xkcd' not found.\n",
            "WARNING:matplotlib.font_manager:findfont: Font family 'xkcd Script' not found.\n",
            "WARNING:matplotlib.font_manager:findfont: Font family 'Comic Neue' not found.\n",
            "WARNING:matplotlib.font_manager:findfont: Font family 'Comic Sans MS' not found.\n",
            "WARNING:matplotlib.font_manager:findfont: Font family 'xkcd' not found.\n",
            "WARNING:matplotlib.font_manager:findfont: Font family 'xkcd Script' not found.\n",
            "WARNING:matplotlib.font_manager:findfont: Font family 'Comic Neue' not found.\n",
            "WARNING:matplotlib.font_manager:findfont: Font family 'Comic Sans MS' not found.\n",
            "WARNING:matplotlib.font_manager:findfont: Font family 'xkcd' not found.\n",
            "WARNING:matplotlib.font_manager:findfont: Font family 'xkcd Script' not found.\n",
            "WARNING:matplotlib.font_manager:findfont: Font family 'Comic Neue' not found.\n",
            "WARNING:matplotlib.font_manager:findfont: Font family 'Comic Sans MS' not found.\n",
            "WARNING:matplotlib.font_manager:findfont: Font family 'xkcd' not found.\n",
            "WARNING:matplotlib.font_manager:findfont: Font family 'xkcd Script' not found.\n",
            "WARNING:matplotlib.font_manager:findfont: Font family 'Comic Neue' not found.\n",
            "WARNING:matplotlib.font_manager:findfont: Font family 'Comic Sans MS' not found.\n",
            "WARNING:matplotlib.font_manager:findfont: Font family 'xkcd' not found.\n",
            "WARNING:matplotlib.font_manager:findfont: Font family 'xkcd Script' not found.\n",
            "WARNING:matplotlib.font_manager:findfont: Font family 'Comic Neue' not found.\n",
            "WARNING:matplotlib.font_manager:findfont: Font family 'Comic Sans MS' not found.\n",
            "WARNING:matplotlib.font_manager:findfont: Font family 'xkcd' not found.\n",
            "WARNING:matplotlib.font_manager:findfont: Font family 'xkcd Script' not found.\n",
            "WARNING:matplotlib.font_manager:findfont: Font family 'Comic Neue' not found.\n",
            "WARNING:matplotlib.font_manager:findfont: Font family 'Comic Sans MS' not found.\n",
            "WARNING:matplotlib.font_manager:findfont: Font family 'xkcd' not found.\n",
            "WARNING:matplotlib.font_manager:findfont: Font family 'xkcd Script' not found.\n",
            "WARNING:matplotlib.font_manager:findfont: Font family 'Comic Neue' not found.\n",
            "WARNING:matplotlib.font_manager:findfont: Font family 'Comic Sans MS' not found.\n",
            "WARNING:matplotlib.font_manager:findfont: Font family 'xkcd' not found.\n",
            "WARNING:matplotlib.font_manager:findfont: Font family 'xkcd Script' not found.\n",
            "WARNING:matplotlib.font_manager:findfont: Font family 'Comic Neue' not found.\n",
            "WARNING:matplotlib.font_manager:findfont: Font family 'Comic Sans MS' not found.\n",
            "WARNING:matplotlib.font_manager:findfont: Font family 'xkcd' not found.\n",
            "WARNING:matplotlib.font_manager:findfont: Font family 'xkcd Script' not found.\n",
            "WARNING:matplotlib.font_manager:findfont: Font family 'Comic Neue' not found.\n",
            "WARNING:matplotlib.font_manager:findfont: Font family 'Comic Sans MS' not found.\n",
            "WARNING:matplotlib.font_manager:findfont: Font family 'xkcd' not found.\n",
            "WARNING:matplotlib.font_manager:findfont: Font family 'xkcd Script' not found.\n",
            "WARNING:matplotlib.font_manager:findfont: Font family 'Comic Neue' not found.\n",
            "WARNING:matplotlib.font_manager:findfont: Font family 'Comic Sans MS' not found.\n",
            "WARNING:matplotlib.font_manager:findfont: Font family 'xkcd' not found.\n",
            "WARNING:matplotlib.font_manager:findfont: Font family 'xkcd Script' not found.\n",
            "WARNING:matplotlib.font_manager:findfont: Font family 'Comic Neue' not found.\n",
            "WARNING:matplotlib.font_manager:findfont: Font family 'Comic Sans MS' not found.\n",
            "WARNING:matplotlib.font_manager:findfont: Font family 'xkcd' not found.\n",
            "WARNING:matplotlib.font_manager:findfont: Font family 'xkcd Script' not found.\n",
            "WARNING:matplotlib.font_manager:findfont: Font family 'Comic Neue' not found.\n",
            "WARNING:matplotlib.font_manager:findfont: Font family 'Comic Sans MS' not found.\n",
            "WARNING:matplotlib.font_manager:findfont: Font family 'xkcd' not found.\n",
            "WARNING:matplotlib.font_manager:findfont: Font family 'xkcd Script' not found.\n",
            "WARNING:matplotlib.font_manager:findfont: Font family 'Comic Neue' not found.\n",
            "WARNING:matplotlib.font_manager:findfont: Font family 'Comic Sans MS' not found.\n",
            "WARNING:matplotlib.font_manager:findfont: Font family 'xkcd' not found.\n",
            "WARNING:matplotlib.font_manager:findfont: Font family 'xkcd Script' not found.\n",
            "WARNING:matplotlib.font_manager:findfont: Font family 'Comic Neue' not found.\n",
            "WARNING:matplotlib.font_manager:findfont: Font family 'Comic Sans MS' not found.\n",
            "WARNING:matplotlib.font_manager:findfont: Font family 'xkcd' not found.\n",
            "WARNING:matplotlib.font_manager:findfont: Font family 'xkcd Script' not found.\n",
            "WARNING:matplotlib.font_manager:findfont: Font family 'Comic Neue' not found.\n",
            "WARNING:matplotlib.font_manager:findfont: Font family 'Comic Sans MS' not found.\n",
            "WARNING:matplotlib.font_manager:findfont: Font family 'xkcd' not found.\n",
            "WARNING:matplotlib.font_manager:findfont: Font family 'xkcd Script' not found.\n",
            "WARNING:matplotlib.font_manager:findfont: Font family 'Comic Neue' not found.\n",
            "WARNING:matplotlib.font_manager:findfont: Font family 'Comic Sans MS' not found.\n",
            "WARNING:matplotlib.font_manager:findfont: Font family 'xkcd' not found.\n",
            "WARNING:matplotlib.font_manager:findfont: Font family 'xkcd Script' not found.\n",
            "WARNING:matplotlib.font_manager:findfont: Font family 'Comic Neue' not found.\n",
            "WARNING:matplotlib.font_manager:findfont: Font family 'Comic Sans MS' not found.\n",
            "WARNING:matplotlib.font_manager:findfont: Font family 'xkcd' not found.\n",
            "WARNING:matplotlib.font_manager:findfont: Font family 'xkcd Script' not found.\n",
            "WARNING:matplotlib.font_manager:findfont: Font family 'Comic Neue' not found.\n",
            "WARNING:matplotlib.font_manager:findfont: Font family 'Comic Sans MS' not found.\n",
            "WARNING:matplotlib.font_manager:findfont: Font family 'xkcd' not found.\n",
            "WARNING:matplotlib.font_manager:findfont: Font family 'xkcd Script' not found.\n",
            "WARNING:matplotlib.font_manager:findfont: Font family 'Comic Neue' not found.\n",
            "WARNING:matplotlib.font_manager:findfont: Font family 'Comic Sans MS' not found.\n",
            "WARNING:matplotlib.font_manager:findfont: Font family 'xkcd' not found.\n",
            "WARNING:matplotlib.font_manager:findfont: Font family 'xkcd Script' not found.\n",
            "WARNING:matplotlib.font_manager:findfont: Font family 'Comic Neue' not found.\n",
            "WARNING:matplotlib.font_manager:findfont: Font family 'Comic Sans MS' not found.\n",
            "WARNING:matplotlib.font_manager:findfont: Font family 'xkcd' not found.\n",
            "WARNING:matplotlib.font_manager:findfont: Font family 'xkcd Script' not found.\n",
            "WARNING:matplotlib.font_manager:findfont: Font family 'Comic Neue' not found.\n",
            "WARNING:matplotlib.font_manager:findfont: Font family 'Comic Sans MS' not found.\n",
            "WARNING:matplotlib.font_manager:findfont: Font family 'xkcd' not found.\n",
            "WARNING:matplotlib.font_manager:findfont: Font family 'xkcd Script' not found.\n",
            "WARNING:matplotlib.font_manager:findfont: Font family 'Comic Neue' not found.\n",
            "WARNING:matplotlib.font_manager:findfont: Font family 'Comic Sans MS' not found.\n",
            "WARNING:matplotlib.font_manager:findfont: Font family 'xkcd' not found.\n",
            "WARNING:matplotlib.font_manager:findfont: Font family 'xkcd Script' not found.\n",
            "WARNING:matplotlib.font_manager:findfont: Font family 'Comic Neue' not found.\n",
            "WARNING:matplotlib.font_manager:findfont: Font family 'Comic Sans MS' not found.\n",
            "WARNING:matplotlib.font_manager:findfont: Font family 'xkcd' not found.\n",
            "WARNING:matplotlib.font_manager:findfont: Font family 'xkcd Script' not found.\n",
            "WARNING:matplotlib.font_manager:findfont: Font family 'Comic Neue' not found.\n",
            "WARNING:matplotlib.font_manager:findfont: Font family 'Comic Sans MS' not found.\n",
            "WARNING:matplotlib.font_manager:findfont: Font family 'xkcd' not found.\n",
            "WARNING:matplotlib.font_manager:findfont: Font family 'xkcd Script' not found.\n",
            "WARNING:matplotlib.font_manager:findfont: Font family 'Comic Neue' not found.\n",
            "WARNING:matplotlib.font_manager:findfont: Font family 'Comic Sans MS' not found.\n",
            "WARNING:matplotlib.font_manager:findfont: Font family 'xkcd' not found.\n",
            "WARNING:matplotlib.font_manager:findfont: Font family 'xkcd Script' not found.\n",
            "WARNING:matplotlib.font_manager:findfont: Font family 'Comic Neue' not found.\n",
            "WARNING:matplotlib.font_manager:findfont: Font family 'Comic Sans MS' not found.\n",
            "WARNING:matplotlib.font_manager:findfont: Font family 'xkcd' not found.\n",
            "WARNING:matplotlib.font_manager:findfont: Font family 'xkcd Script' not found.\n",
            "WARNING:matplotlib.font_manager:findfont: Font family 'Comic Neue' not found.\n",
            "WARNING:matplotlib.font_manager:findfont: Font family 'Comic Sans MS' not found.\n",
            "WARNING:matplotlib.font_manager:findfont: Font family 'xkcd' not found.\n",
            "WARNING:matplotlib.font_manager:findfont: Font family 'xkcd Script' not found.\n",
            "WARNING:matplotlib.font_manager:findfont: Font family 'Comic Neue' not found.\n",
            "WARNING:matplotlib.font_manager:findfont: Font family 'Comic Sans MS' not found.\n",
            "WARNING:matplotlib.font_manager:findfont: Font family 'xkcd' not found.\n",
            "WARNING:matplotlib.font_manager:findfont: Font family 'xkcd Script' not found.\n",
            "WARNING:matplotlib.font_manager:findfont: Font family 'Comic Neue' not found.\n",
            "WARNING:matplotlib.font_manager:findfont: Font family 'Comic Sans MS' not found.\n",
            "WARNING:matplotlib.font_manager:findfont: Font family 'xkcd' not found.\n",
            "WARNING:matplotlib.font_manager:findfont: Font family 'xkcd Script' not found.\n",
            "WARNING:matplotlib.font_manager:findfont: Font family 'Comic Neue' not found.\n",
            "WARNING:matplotlib.font_manager:findfont: Font family 'Comic Sans MS' not found.\n",
            "WARNING:matplotlib.font_manager:findfont: Font family 'xkcd' not found.\n",
            "WARNING:matplotlib.font_manager:findfont: Font family 'xkcd Script' not found.\n",
            "WARNING:matplotlib.font_manager:findfont: Font family 'Comic Neue' not found.\n",
            "WARNING:matplotlib.font_manager:findfont: Font family 'Comic Sans MS' not found.\n",
            "WARNING:matplotlib.font_manager:findfont: Font family 'xkcd' not found.\n",
            "WARNING:matplotlib.font_manager:findfont: Font family 'xkcd Script' not found.\n",
            "WARNING:matplotlib.font_manager:findfont: Font family 'Comic Neue' not found.\n",
            "WARNING:matplotlib.font_manager:findfont: Font family 'Comic Sans MS' not found.\n",
            "WARNING:matplotlib.font_manager:findfont: Font family 'xkcd' not found.\n",
            "WARNING:matplotlib.font_manager:findfont: Font family 'xkcd Script' not found.\n",
            "WARNING:matplotlib.font_manager:findfont: Font family 'Comic Neue' not found.\n",
            "WARNING:matplotlib.font_manager:findfont: Font family 'Comic Sans MS' not found.\n",
            "WARNING:matplotlib.font_manager:findfont: Font family 'xkcd' not found.\n",
            "WARNING:matplotlib.font_manager:findfont: Font family 'xkcd Script' not found.\n",
            "WARNING:matplotlib.font_manager:findfont: Font family 'Comic Neue' not found.\n",
            "WARNING:matplotlib.font_manager:findfont: Font family 'Comic Sans MS' not found.\n",
            "WARNING:matplotlib.font_manager:findfont: Font family 'xkcd' not found.\n",
            "WARNING:matplotlib.font_manager:findfont: Font family 'xkcd Script' not found.\n",
            "WARNING:matplotlib.font_manager:findfont: Font family 'Comic Neue' not found.\n",
            "WARNING:matplotlib.font_manager:findfont: Font family 'Comic Sans MS' not found.\n",
            "WARNING:matplotlib.font_manager:findfont: Font family 'xkcd' not found.\n",
            "WARNING:matplotlib.font_manager:findfont: Font family 'xkcd Script' not found.\n",
            "WARNING:matplotlib.font_manager:findfont: Font family 'Comic Neue' not found.\n",
            "WARNING:matplotlib.font_manager:findfont: Font family 'Comic Sans MS' not found.\n",
            "WARNING:matplotlib.font_manager:findfont: Font family 'xkcd' not found.\n",
            "WARNING:matplotlib.font_manager:findfont: Font family 'xkcd Script' not found.\n",
            "WARNING:matplotlib.font_manager:findfont: Font family 'Comic Neue' not found.\n",
            "WARNING:matplotlib.font_manager:findfont: Font family 'Comic Sans MS' not found.\n",
            "WARNING:matplotlib.font_manager:findfont: Font family 'xkcd' not found.\n",
            "WARNING:matplotlib.font_manager:findfont: Font family 'xkcd Script' not found.\n",
            "WARNING:matplotlib.font_manager:findfont: Font family 'Comic Neue' not found.\n",
            "WARNING:matplotlib.font_manager:findfont: Font family 'Comic Sans MS' not found.\n",
            "WARNING:matplotlib.font_manager:findfont: Font family 'xkcd' not found.\n",
            "WARNING:matplotlib.font_manager:findfont: Font family 'xkcd Script' not found.\n",
            "WARNING:matplotlib.font_manager:findfont: Font family 'Comic Neue' not found.\n",
            "WARNING:matplotlib.font_manager:findfont: Font family 'Comic Sans MS' not found.\n",
            "WARNING:matplotlib.font_manager:findfont: Font family 'xkcd' not found.\n",
            "WARNING:matplotlib.font_manager:findfont: Font family 'xkcd Script' not found.\n",
            "WARNING:matplotlib.font_manager:findfont: Font family 'Comic Neue' not found.\n",
            "WARNING:matplotlib.font_manager:findfont: Font family 'Comic Sans MS' not found.\n",
            "WARNING:matplotlib.font_manager:findfont: Font family 'xkcd' not found.\n",
            "WARNING:matplotlib.font_manager:findfont: Font family 'xkcd Script' not found.\n",
            "WARNING:matplotlib.font_manager:findfont: Font family 'Comic Neue' not found.\n",
            "WARNING:matplotlib.font_manager:findfont: Font family 'Comic Sans MS' not found.\n",
            "WARNING:matplotlib.font_manager:findfont: Font family 'xkcd' not found.\n",
            "WARNING:matplotlib.font_manager:findfont: Font family 'xkcd Script' not found.\n",
            "WARNING:matplotlib.font_manager:findfont: Font family 'Comic Neue' not found.\n",
            "WARNING:matplotlib.font_manager:findfont: Font family 'Comic Sans MS' not found.\n",
            "WARNING:matplotlib.font_manager:findfont: Font family 'xkcd' not found.\n",
            "WARNING:matplotlib.font_manager:findfont: Font family 'xkcd Script' not found.\n",
            "WARNING:matplotlib.font_manager:findfont: Font family 'Comic Neue' not found.\n",
            "WARNING:matplotlib.font_manager:findfont: Font family 'Comic Sans MS' not found.\n",
            "WARNING:matplotlib.font_manager:findfont: Font family 'xkcd' not found.\n",
            "WARNING:matplotlib.font_manager:findfont: Font family 'xkcd Script' not found.\n",
            "WARNING:matplotlib.font_manager:findfont: Font family 'Comic Neue' not found.\n",
            "WARNING:matplotlib.font_manager:findfont: Font family 'Comic Sans MS' not found.\n",
            "WARNING:matplotlib.font_manager:findfont: Font family 'xkcd' not found.\n",
            "WARNING:matplotlib.font_manager:findfont: Font family 'xkcd Script' not found.\n",
            "WARNING:matplotlib.font_manager:findfont: Font family 'Comic Neue' not found.\n",
            "WARNING:matplotlib.font_manager:findfont: Font family 'Comic Sans MS' not found.\n",
            "WARNING:matplotlib.font_manager:findfont: Font family 'xkcd' not found.\n",
            "WARNING:matplotlib.font_manager:findfont: Font family 'xkcd Script' not found.\n",
            "WARNING:matplotlib.font_manager:findfont: Font family 'Comic Neue' not found.\n",
            "WARNING:matplotlib.font_manager:findfont: Font family 'Comic Sans MS' not found.\n",
            "WARNING:matplotlib.font_manager:findfont: Font family 'xkcd' not found.\n",
            "WARNING:matplotlib.font_manager:findfont: Font family 'xkcd Script' not found.\n",
            "WARNING:matplotlib.font_manager:findfont: Font family 'Comic Neue' not found.\n",
            "WARNING:matplotlib.font_manager:findfont: Font family 'Comic Sans MS' not found.\n",
            "WARNING:matplotlib.font_manager:findfont: Font family 'xkcd' not found.\n",
            "WARNING:matplotlib.font_manager:findfont: Font family 'xkcd Script' not found.\n",
            "WARNING:matplotlib.font_manager:findfont: Font family 'Comic Neue' not found.\n",
            "WARNING:matplotlib.font_manager:findfont: Font family 'Comic Sans MS' not found.\n",
            "WARNING:matplotlib.font_manager:findfont: Font family 'xkcd' not found.\n",
            "WARNING:matplotlib.font_manager:findfont: Font family 'xkcd Script' not found.\n",
            "WARNING:matplotlib.font_manager:findfont: Font family 'Comic Neue' not found.\n",
            "WARNING:matplotlib.font_manager:findfont: Font family 'Comic Sans MS' not found.\n",
            "WARNING:matplotlib.font_manager:findfont: Font family 'xkcd' not found.\n",
            "WARNING:matplotlib.font_manager:findfont: Font family 'xkcd Script' not found.\n",
            "WARNING:matplotlib.font_manager:findfont: Font family 'Comic Neue' not found.\n",
            "WARNING:matplotlib.font_manager:findfont: Font family 'Comic Sans MS' not found.\n",
            "WARNING:matplotlib.font_manager:findfont: Font family 'xkcd' not found.\n",
            "WARNING:matplotlib.font_manager:findfont: Font family 'xkcd Script' not found.\n",
            "WARNING:matplotlib.font_manager:findfont: Font family 'Comic Neue' not found.\n",
            "WARNING:matplotlib.font_manager:findfont: Font family 'Comic Sans MS' not found.\n",
            "WARNING:matplotlib.font_manager:findfont: Font family 'xkcd' not found.\n",
            "WARNING:matplotlib.font_manager:findfont: Font family 'xkcd Script' not found.\n",
            "WARNING:matplotlib.font_manager:findfont: Font family 'Comic Neue' not found.\n",
            "WARNING:matplotlib.font_manager:findfont: Font family 'Comic Sans MS' not found.\n",
            "WARNING:matplotlib.font_manager:findfont: Font family 'xkcd' not found.\n",
            "WARNING:matplotlib.font_manager:findfont: Font family 'xkcd Script' not found.\n",
            "WARNING:matplotlib.font_manager:findfont: Font family 'Comic Neue' not found.\n",
            "WARNING:matplotlib.font_manager:findfont: Font family 'Comic Sans MS' not found.\n",
            "WARNING:matplotlib.font_manager:findfont: Font family 'xkcd' not found.\n",
            "WARNING:matplotlib.font_manager:findfont: Font family 'xkcd Script' not found.\n",
            "WARNING:matplotlib.font_manager:findfont: Font family 'Comic Neue' not found.\n",
            "WARNING:matplotlib.font_manager:findfont: Font family 'Comic Sans MS' not found.\n",
            "WARNING:matplotlib.font_manager:findfont: Font family 'xkcd' not found.\n",
            "WARNING:matplotlib.font_manager:findfont: Font family 'xkcd Script' not found.\n",
            "WARNING:matplotlib.font_manager:findfont: Font family 'Comic Neue' not found.\n",
            "WARNING:matplotlib.font_manager:findfont: Font family 'Comic Sans MS' not found.\n",
            "WARNING:matplotlib.font_manager:findfont: Font family 'xkcd' not found.\n",
            "WARNING:matplotlib.font_manager:findfont: Font family 'xkcd Script' not found.\n",
            "WARNING:matplotlib.font_manager:findfont: Font family 'Comic Neue' not found.\n",
            "WARNING:matplotlib.font_manager:findfont: Font family 'Comic Sans MS' not found.\n",
            "WARNING:matplotlib.font_manager:findfont: Font family 'xkcd' not found.\n",
            "WARNING:matplotlib.font_manager:findfont: Font family 'xkcd Script' not found.\n",
            "WARNING:matplotlib.font_manager:findfont: Font family 'Comic Neue' not found.\n",
            "WARNING:matplotlib.font_manager:findfont: Font family 'Comic Sans MS' not found.\n",
            "WARNING:matplotlib.font_manager:findfont: Font family 'xkcd' not found.\n",
            "WARNING:matplotlib.font_manager:findfont: Font family 'xkcd Script' not found.\n",
            "WARNING:matplotlib.font_manager:findfont: Font family 'Comic Neue' not found.\n",
            "WARNING:matplotlib.font_manager:findfont: Font family 'Comic Sans MS' not found.\n",
            "WARNING:matplotlib.font_manager:findfont: Font family 'xkcd' not found.\n",
            "WARNING:matplotlib.font_manager:findfont: Font family 'xkcd Script' not found.\n",
            "WARNING:matplotlib.font_manager:findfont: Font family 'Comic Neue' not found.\n",
            "WARNING:matplotlib.font_manager:findfont: Font family 'Comic Sans MS' not found.\n",
            "WARNING:matplotlib.font_manager:findfont: Font family 'xkcd' not found.\n",
            "WARNING:matplotlib.font_manager:findfont: Font family 'xkcd Script' not found.\n",
            "WARNING:matplotlib.font_manager:findfont: Font family 'Comic Neue' not found.\n",
            "WARNING:matplotlib.font_manager:findfont: Font family 'Comic Sans MS' not found.\n",
            "WARNING:matplotlib.font_manager:findfont: Font family 'xkcd' not found.\n",
            "WARNING:matplotlib.font_manager:findfont: Font family 'xkcd Script' not found.\n",
            "WARNING:matplotlib.font_manager:findfont: Font family 'Comic Neue' not found.\n",
            "WARNING:matplotlib.font_manager:findfont: Font family 'Comic Sans MS' not found.\n",
            "WARNING:matplotlib.font_manager:findfont: Font family 'xkcd' not found.\n",
            "WARNING:matplotlib.font_manager:findfont: Font family 'xkcd Script' not found.\n",
            "WARNING:matplotlib.font_manager:findfont: Font family 'Comic Neue' not found.\n",
            "WARNING:matplotlib.font_manager:findfont: Font family 'Comic Sans MS' not found.\n",
            "WARNING:matplotlib.font_manager:findfont: Font family 'xkcd' not found.\n",
            "WARNING:matplotlib.font_manager:findfont: Font family 'xkcd Script' not found.\n",
            "WARNING:matplotlib.font_manager:findfont: Font family 'Comic Neue' not found.\n",
            "WARNING:matplotlib.font_manager:findfont: Font family 'Comic Sans MS' not found.\n"
          ]
        },
        {
          "output_type": "display_data",
          "data": {
            "text/plain": [
              "<Figure size 800x400 with 1 Axes>"
            ],
            "image/png": "[encoded data removed]"
          },
          "metadata": {}
        }
      ],
      "source": [
        "pos = [i for i, j in zip(probs, y_test) if j == 1]\n",
        "neg = [i for i, j in zip(probs, y_test) if j == 0]\n",
        "\n",
        "with plt.xkcd():\n",
        "  fig = plt.figure(figsize=(8, 4))\n",
        "\n",
        "  sns.distplot(pos, hist = False, kde = True, color='g',\n",
        "                 kde_kws = {'shade': True, 'linewidth': 3})\n",
        "\n",
        "  sns.distplot(neg, hist = False, kde = True, color='r',\n",
        "                 kde_kws = {'shade': True, 'linewidth': 3})\n",
        "\n",
        "  plt.plot([0.5, 0.5], [0, 25], '-b')\n",
        "  plt.annotate(\n",
        "        'The probability threshold\\npositive to the right\\nnegative to the left',\n",
        "        xy=(0.51, 15), arrowprops=dict(arrowstyle='->'), xytext=(0.6, 20))\n",
        "\n",
        "plt.show()"
      ]
    },
    {
      "cell_type": "markdown",
      "metadata": {
        "id": "n724uu0Ng5Jn"
      },
      "source": [
        "By adjusting the threshold, you can affect the recall and precision values. Suppose that you want to make sure that you get no false positives; that is, you do not want to classify any post as space if it isn't about space. You could move the threshold to the right until there are no red instances on the right side of the line. Correspondingly, that will mean that fewer positive instances will be correctly identified. Or, to put it another way, more positive instances will end up on the left of the threshold and will be incorrectly classified as negative."
      ]
    },
    {
      "cell_type": "markdown",
      "metadata": {
        "id": "ePLqUSvXih07"
      },
      "source": [
        "## ROC curve\n",
        "If you set the threshold to `0` (moving the threshold all the way to the left), then the model predicts `1` for all samples. You will get a *true positive rate* (TPR) of `1`; that is, all positive instances will be correctly predicted. You will also get a *false positive rate* (FPR) of `1` because all negative samples will be incorrectly predicted as positive.\n",
        "\n",
        "If you set the threshold to `1`, then the model predicts `0` for all samples. You get a TPR of `0` because none of the actual positive samples will be correctly predicted. And you get an FPR of `0` because none of the negative class will be predicted as positive.\n",
        "\n",
        "As you vary the threshold between these two extremes, you get different TPR and FPR values. You can plot these values to see the relationship between the values as the threshold moves.\n",
        "\n",
        "The set of points that you get when you vary the threshold from `0` to `1` can be connected to describe a curve through space, which is called the *receiver operating characteristic* (ROC) curve.\n",
        "\n",
        "The `sklearn.metrics.roc_curve` function calculates the FPR, TPR, and threshold values that you can use to plot a ROC curve. Below, the first 30 values are printed."
      ]
    },
    {
      "cell_type": "code",
      "execution_count": 15,
      "metadata": {
        "colab": {
          "base_uri": "https://localhost:8080/"
        },
        "id": "582PFFN1ij7K",
        "outputId": "97b8c1dc-3adf-45a0-feb6-baa08fe8d257"
      },
      "outputs": [
        {
          "output_type": "stream",
          "name": "stdout",
          "text": [
            "[0.         0.         0.00036941 0.00036941 0.00073883 0.00073883\n",
            " 0.00110824 0.00110824 0.00147765 0.00147765 0.00184706 0.00184706\n",
            " 0.00221648 0.00221648 0.00258589 0.00258589 0.00332471 0.00332471\n",
            " 0.00369413 0.00369413 0.00480236 0.00480236 0.0059106  0.0059106\n",
            " 0.00628001 0.00628001 0.00664943 0.00664943 0.00775767]\n",
            "[0.00819672 0.46721311 0.46721311 0.48360656 0.48360656 0.5\n",
            " 0.5        0.59016393 0.59016393 0.6147541  0.6147541  0.62295082\n",
            " 0.62295082 0.64754098 0.64754098 0.68852459 0.68852459 0.70491803\n",
            " 0.70491803 0.74590164 0.74590164 0.7704918  0.7704918  0.77868852\n",
            " 0.77868852 0.78688525 0.78688525 0.80327869 0.80327869]\n",
            "[0.98462604 0.3446592  0.34283523 0.3311512  0.32653259 0.32153467\n",
            " 0.31893541 0.27469392 0.27468563 0.24375424 0.24159574 0.23921165\n",
            " 0.23860809 0.21948719 0.20223596 0.18165188 0.17696934 0.16373987\n",
            " 0.16369255 0.15575538 0.15284347 0.1478981  0.13727432 0.13693788\n",
            " 0.13573329 0.13529207 0.13304517 0.13221123 0.12896697]\n"
          ]
        }
      ],
      "source": [
        "fpr, tpr, thresholds = roc_curve(y_test, probs)\n",
        "print(fpr[1:30])\n",
        "print(tpr[1:30])\n",
        "print(thresholds[1:30])"
      ]
    },
    {
      "cell_type": "code",
      "execution_count": 16,
      "metadata": {
        "colab": {
          "base_uri": "https://localhost:8080/",
          "height": 564
        },
        "id": "nX4xptQJmPUM",
        "outputId": "0f49a28a-2595-4724-ddd0-883622e2162f"
      },
      "outputs": [
        {
          "output_type": "display_data",
          "data": {
            "text/plain": [
              "<Figure size 600x600 with 1 Axes>"
            ],
            "image/png": "[encoded data removed]"
          },
          "metadata": {}
        }
      ],
      "source": [
        "fig = plt.figure(figsize = (6, 6))\n",
        "plt.plot([0, 1], [0, 1], 'k--')\n",
        "plt.plot(fpr, tpr)\n",
        "plt.xlabel('False Positive Rate')\n",
        "plt.ylabel('True Positive Rate')\n",
        "plt.title('ROC curve for Logistic Regression Model')\n",
        "plt.show()"
      ]
    },
    {
      "cell_type": "markdown",
      "metadata": {
        "id": "-7izD9a3x7C7"
      },
      "source": [
        "The top-left corner of this graph is the ideal spot: it minimizes the false positive rate and maximizes the true positive rate. So a steep curve that gets close to that corner is better than a shallow curve that remains close to the dashed baseline. That dashed line represents a 50% chance classifier. That is, any classifier that works as well as a coin toss will have a curve close to that line. But that is as good as random. So curves just above that line are better than random. The particular curve for this classifier is quite good; as you can see, it steeply climbs before leveling out.\n",
        "\n"
      ]
    },
    {
      "cell_type": "markdown",
      "metadata": {
        "id": "0yLCNgGQ10dB"
      },
      "source": [
        "## Precision-recall curve\n",
        "Another useful visualization is the *precision-recall curve*. Similar to the ROC curve, it shows the relationship of precision to recall as the threshold is varied from `0` to `1`. Again, scikit-learn's metrics library provides a function that can help."
      ]
    },
    {
      "cell_type": "code",
      "execution_count": 24,
      "metadata": {
        "colab": {
          "base_uri": "https://localhost:8080/",
          "height": 564
        },
        "id": "vyVzU2JV28E5",
        "outputId": "0920ed2e-2fd3-45ed-8b76-d0d31c4168dc"
      },
      "outputs": [
        {
          "output_type": "display_data",
          "data": {
            "text/plain": [
              "<Figure size 600x600 with 1 Axes>"
            ],
            "image/png": "[encoded data removed]"
          },
          "metadata": {}
        }
      ],
      "source": [
        "pres, rec, thresholds = precision_recall_curve(y_test, predictions)\n",
        "fig = plt.figure(figsize = (6, 6))\n",
        "plt.plot(rec, pres)\n",
        "plt.xlabel('Recall')\n",
        "plt.ylabel('Precision')\n",
        "plt.title('Precision-Recall Curve')\n",
        "plt.show()"
      ]
    },
    {
      "cell_type": "markdown",
      "metadata": {
        "id": "fzpdAz-A4zh4"
      },
      "source": [
        "In this case, you see a smooth drop in precision as recall increases. You won't always have such a smooth curve, but the general downward trend is expected.\n",
        "\n",
        "Remember that these two visualizations serve slightly different purposes:\n",
        "\n",
        " - **ROC curves** are used when the classes are more or less balanced.\n",
        " - **Precision-recall curves** are used when there is a class imbalance.\n",
        "\n",
        ""
      ]
    },
    {
      "cell_type": "markdown",
      "metadata": {
        "id": "PRcSLoOa5oYs"
      },
      "source": [
        "## Area under the ROC curve\n",
        "You can compute a useful metric from the ROC curve. Since the top-left corner is ideal, you want to favor curves that get as close to that corner as possible. If you measure the *area under the curve* (AUC), that metric will tell you how close you get to the ideal. In the plot below, the area under the curve and above the baseline is shaded. Notice that if the curve gets closer to the baseline, the area will be smaller.\n",
        "\n"
      ]
    },
    {
      "cell_type": "code",
      "execution_count": 18,
      "metadata": {
        "colab": {
          "base_uri": "https://localhost:8080/",
          "height": 564
        },
        "id": "V7kjCQPF8aDU",
        "outputId": "f6330ae5-c53a-47b2-effa-6fedce3e6d5a"
      },
      "outputs": [
        {
          "output_type": "display_data",
          "data": {
            "text/plain": [
              "<Figure size 600x600 with 1 Axes>"
            ],
            "image/png": "[encoded data removed]"
          },
          "metadata": {}
        }
      ],
      "source": [
        "fig = plt.figure(figsize = (6, 6))\n",
        "plt.plot([0, 1], [0, 1], 'k--')\n",
        "plt.plot(fpr, tpr)\n",
        "plt.fill(fpr, tpr, 'grey', alpha=0.3)\n",
        "plt.xlabel('False Positive Rate')\n",
        "plt.ylabel('True Positive Rate')\n",
        "plt.title('ROC curve for Logistic Regression Model')\n",
        "plt.show()"
      ]
    },
    {
      "cell_type": "markdown",
      "metadata": {
        "id": "MmWKZiqU8yW2"
      },
      "source": [
        "To calculate the area under the curve, use the `roc_auc_score` function from scikit-learn's metrics library. This function takes the actual labels and the predicted probabilities as input."
      ]
    },
    {
      "cell_type": "code",
      "execution_count": 19,
      "metadata": {
        "colab": {
          "base_uri": "https://localhost:8080/"
        },
        "id": "_bUCAfqq9KP8",
        "outputId": "9e63e97c-1034-4326-d245-68974a9d20bc"
      },
      "outputs": [
        {
          "output_type": "stream",
          "name": "stdout",
          "text": [
            "Area under the ROC curve: 0.990\n"
          ]
        }
      ],
      "source": [
        "auc = roc_auc_score(y_test, probs)\n",
        "print('Area under the ROC curve: {:.3f}'.format(auc))"
      ]
    },
    {
      "cell_type": "markdown",
      "metadata": {
        "id": "Oe6ILSwDHmBB"
      },
      "source": [
        "## Cross-validation\n",
        "So far, you have been using a train-test split to reserve a portion of your data for testing. You do this so that you have some previously unseen data to test the model. If you train and test with the same data, you run the risk of overfitting the model to the training data.\n",
        "\n",
        "But there is still a risk of overfitting to the test data itself. If you tune your model to perform well on the test data, what guarantee do you have that it will continue to perform as well on new data? Also, you know that the training algorithm is susceptible to small changes in the data. Recall from the discussion on linear classifiers that you are searching for a set of parameter values that optimizes a cost function. There is no absolute right answer to such a search. The values that you find are dependent on the data that you use to train the model.\n",
        "\n",
        "By splitting the data into just training and testing, you drastically reduce the number of samples that can be used for learning the model, and the results can depend on a particular random choice for the pair of sets.\n",
        "\n",
        "To see that illustrated, call `train_test_split` multiple times and train a model with the results each time. The `train_test_split` function randomly assigns data to the training set and test set. That means that each time you call the function, a different set of data is assigned to the test set."
      ]
    },
    {
      "cell_type": "code",
      "execution_count": 20,
      "metadata": {
        "colab": {
          "base_uri": "https://localhost:8080/"
        },
        "id": "ibNUzjhwNI5S",
        "outputId": "886a983f-32f4-4cfa-c8e2-bbf2a32cc9eb"
      },
      "outputs": [
        {
          "output_type": "stream",
          "name": "stdout",
          "text": [
            "First split score: 0.965\n",
            "Second split score: 0.962\n"
          ]
        }
      ],
      "source": [
        "X_train, X_test, y_train, y_test = train_test_split(X, y_2)\n",
        "\n",
        "lr = LogisticRegression(solver='lbfgs')\n",
        "lr.fit(X_train, y_train)\n",
        "print('First split score: {:.3f}'.format(lr.score(X_test, y_test)))\n",
        "\n",
        "X_train, X_test, y_train, y_test = train_test_split(X, y_2)\n",
        "\n",
        "lr = LogisticRegression(solver='lbfgs')\n",
        "lr.fit(X_train, y_train)\n",
        "print('Second split score: {:.3f}'.format(lr.score(X_test, y_test)))"
      ]
    },
    {
      "cell_type": "markdown",
      "metadata": {
        "id": "XssqZnhPNf2b"
      },
      "source": [
        "In the code above, `train_test_split` is called twice, and two models are trained with the results. Notice that the accuracy varies between the models. The implication is that you run the risk of randomly selecting a biased training or testing dataset, and you may end up with a model that does not generalize well to unseen data.\n",
        "\n",
        "That is where *cross-validation* comes in.\n",
        "\n",
        "Before you explore cross-validation, just a quick note about the randomness of `train_test_split`. If you get a different test set each time, and it results in a different accuracy score each time, how can you know whether any observed improvements are a result of your parameter tuning or just random chance? During model-building, it would be useful to create a test split that remains stable. To do this, use the `random_state` parameter (as you did at the beginning of this Notebook). This parameter takes an integer and uses it as the seed for the random generator. That means that you can specify the same number to get the same split each time. In the code below, two models are trained on two splits of the data again, this time with the same `random_state`."
      ]
    },
    {
      "cell_type": "code",
      "execution_count": 21,
      "metadata": {
        "colab": {
          "base_uri": "https://localhost:8080/"
        },
        "id": "Q1qVHr90OmGx",
        "outputId": "bf0590e2-11a0-42df-eed7-288708ac9801"
      },
      "outputs": [
        {
          "output_type": "stream",
          "name": "stdout",
          "text": [
            "First split score: 0.964\n",
            "Second split score: 0.964\n"
          ]
        }
      ],
      "source": [
        "X_train, X_test, y_train, y_test = train_test_split(X, y_2, random_state=40)\n",
        "\n",
        "lr = LogisticRegression(solver='lbfgs')\n",
        "lr.fit(X_train, y_train)\n",
        "print('First split score: {:.3f}'.format(lr.score(X_test, y_test)))\n",
        "\n",
        "X_train, X_test, y_train, y_test = train_test_split(X, y_2, random_state=40)\n",
        "\n",
        "lr = LogisticRegression(solver='lbfgs')\n",
        "lr.fit(X_train, y_train)\n",
        "print('Second split score: {:.3f}'.format(lr.score(X_test, y_test)))"
      ]
    },
    {
      "cell_type": "markdown",
      "metadata": {
        "id": "KLRs34SsO6tW"
      },
      "source": [
        "Now back, to cross-validation. Cross-validation works by dividing the dataset into a specified number ($k$) of distinct sets called *folds*. Typically $k = 5$ or $k = 10$ folds, but you are free to use any number of folds that you wish. You then iterate the folds and train a model with $k - 1$ folds and use the remaining fold as the test set for validation. In each iteration, a different fold is used as the test set.\n",
        "\n",
        "This yields $k$ accuracy scores for the $k$ models that are created and trained. But each model was trained on a different set of data and tested on a different set of data. Also, each data sample has a chance to be in the test set for one model. You can then find the mean of the scores to get an overall value for your model.\n",
        "\n",
        "The `sklearn.model_selection.cross_val_score` function performs this cross-validation process, providing an array of scores for each model created. Remember that this may be an expensive process (in terms of time) because you have to create and train $k$ different models. Typically, you first split the data into the training and test set using `train_test_split`, as you did above. Then cross-validation is done on the training set, while the test set is held for the final evaluation of the selected model."
      ]
    },
    {
      "cell_type": "code",
      "execution_count": 22,
      "metadata": {
        "colab": {
          "base_uri": "https://localhost:8080/"
        },
        "id": "xIETjRsnW5Bi",
        "outputId": "407b0e3e-bc09-47fb-d569-6bb92bc9e8c1"
      },
      "outputs": [
        {
          "output_type": "stream",
          "name": "stdout",
          "text": [
            "Accuracy scores for the five folds:  [0.95167943 0.96169711 0.95816146 0.95639364 0.95875074]\n",
            "Mean cross-validation score: 0.957\n"
          ]
        }
      ],
      "source": [
        "X_train, X_test, y_train, y_test = train_test_split(X, y_2, random_state=40)\n",
        "clf = LogisticRegression(solver='lbfgs')\n",
        "cv_scores = cross_val_score(clf, X_train, y_train, cv = 5)\n",
        "\n",
        "print('Accuracy scores for the five folds: ', cv_scores)\n",
        "print('Mean cross-validation score: {:.3f}'.format(np.mean(cv_scores)))"
      ]
    },
    {
      "cell_type": "markdown",
      "metadata": {
        "id": "FYZllyolSwWG"
      },
      "source": [
        "Based on the scores, the model is able to predict consistently high on all five folds of the dataset. This provides assurance that the model is performing well on unseen data multiple times, and it was not just by the luck of the draw during the initial data split.\n"
      ]
    },
    {
      "cell_type": "markdown",
      "metadata": {
        "id": "tRW939g-b2kK"
      },
      "source": [
        "## Conclusion\n",
        "\n",
        "The accuracy score does not tell the whole story, so you should use a variety of techniques in order to better understand how your classification model is performing.\n",
        "\n",
        "Using the evaluation metrics discussed above, you can identify where your model is misclassifying. And you can use this information to improve the model in further iterations.  \n",
        "\n",
        "To better focus your time and energy for the next model iterations, you also want to consider tradeoffs. How the model will be used will drive those decisions.\n",
        "\n",
        "You can now use the various model evaluation techniques described above, along with cross-validation, to select the best-performing model for your next project."
      ]
    }
  ],
  "metadata": {
    "colab": {
      "provenance": [],
      "gpuType": "T4"
    },
    "kernelspec": {
      "display_name": "Python 3",
      "name": "python3"
    },
    "language_info": {
      "codemirror_mode": {
        "name": "ipython",
        "version": 3
      },
      "file_extension": ".py",
      "mimetype": "text/x-python",
      "name": "python",
      "nbconvert_exporter": "python",
      "pygments_lexer": "ipython3",
      "version": "3.9.12"
    },
    "accelerator": "GPU"
  },
  "nbformat": 4,
  "nbformat_minor": 0
}