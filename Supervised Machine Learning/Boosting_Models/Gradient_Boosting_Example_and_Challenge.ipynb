{
  "cells": [
    {
      "cell_type": "code",
      "execution_count": 1,
      "metadata": {
        "id": "0O8F47-WWxdL",
        "run_control": {
          "frozen": false,
          "read_only": false
        }
      },
      "outputs": [],
      "source": [
        "import itertools\n",
        "import pandas as pd\n",
        "import numpy as np\n",
        "import matplotlib.pyplot as plt\n",
        "%matplotlib inline\n",
        "\n",
        "from sklearn.metrics import confusion_matrix, precision_score, recall_score\n",
        "from sklearn import ensemble"
      ]
    },
    {
      "cell_type": "markdown",
      "metadata": {
        "id": "Ot7eui_-WxdM"
      },
      "source": [
        "### Gradient boost guided example\n",
        "\n",
        "Now that you've walked through gradient boost by hand, try it with scikit-learn. You'll still use the *European Social Survey* data, but now with a **categorical** outcome: **whether or not someone lives with a partner**."
      ]
    },
    {
      "cell_type": "code",
      "execution_count": 2,
      "metadata": {
        "id": "rRU_vIfMWxdO"
      },
      "outputs": [],
      "source": [
        "df = pd.read_csv((\n",
        "    \"https://raw.githubusercontent.com/Thinkful-Ed/data-201-resources/\"\n",
        "    \"master/ESS_practice_data/ESSdata_Thinkful.csv\")).dropna()\n",
        "\n",
        "# Define outcome and predictors.\n",
        "# Set the outcomes to `0` and `1`.\n",
        "y = df['partner'] - 1\n",
        "X = df.loc[:, ~df.columns.isin(['partner', 'cntry', 'idno'])]\n",
        "\n",
        "# Make the categorical variable `country` into dummies.\n",
        "X = pd.concat([X, pd.get_dummies(df['cntry'])], axis=1)\n",
        "\n",
        "# Create training and test sets.\n",
        "offset = int(X.shape[0] * 0.8)\n",
        "\n",
        "# Put 80% of the data in the training set.\n",
        "X_train, y_train = X[:offset], y[:offset]\n",
        "\n",
        "# And put 20% in the test set.\n",
        "X_test, y_test = X[offset:], y[offset:]"
      ]
    },
    {
      "cell_type": "markdown",
      "metadata": {
        "id": "ysUVY0HlWxdO"
      },
      "source": [
        "Because you're now working with a binary outcome, you've switched to a classifier. Now your loss function can't be the residuals. Your options are `deviance` and `exponential`. The `deviance` loss function is used for logistic regression, and you'll try that here."
      ]
    },
    {
      "cell_type": "code",
      "execution_count": 3,
      "metadata": {
        "id": "F8ZMpUSBWxdP"
      },
      "outputs": [],
      "source": [
        "# You'll make 500 iterations, use 2-deep trees, and set your loss function.\n",
        "\n",
        "# It's best to update this table for the drill\n",
        "# at the end of the lesson.\n",
        "\n",
        "params = {'n_estimators': 500,\n",
        "          'max_depth': 2,\n",
        "          'loss': 'log_loss'}\n",
        "\n",
        "# Initialize and fit the model.\n",
        "clf = ensemble.GradientBoostingClassifier(**params)\n",
        "clf.fit(X_train, y_train)\n",
        "\n",
        "predict_train = clf.predict(X_train)\n",
        "predict_test = clf.predict(X_test)"
      ]
    },
    {
      "cell_type": "markdown",
      "metadata": {
        "id": "xLN8hmlrWxdP"
      },
      "source": [
        "### Evaluation of model: Confusion matrix plot\n",
        "\n",
        "This plot is based on an example from [scikit-learn's documentation](https://scikit-learn.org/0.18/auto_examples/model_selection/plot_confusion_matrix.html)."
      ]
    },
    {
      "cell_type": "code",
      "execution_count": 4,
      "metadata": {
        "id": "34CrzbugWxdP"
      },
      "outputs": [],
      "source": [
        "def plot_confusion_matrix(cm, classes,normalize,\n",
        "                          title='Confusion matrix',\n",
        "                          cmap=plt.cm.Blues):\n",
        "    \"\"\"\n",
        "    This function prints and plots the confusion matrix.\n",
        "    Normalization can be applied by setting `normalize=True`.\n",
        "    \"\"\"\n",
        "    if normalize:\n",
        "        cm = cm.astype('float') / cm.sum(axis=1)[:, np.newaxis]\n",
        "        print(\"Normalized confusion matrix\")\n",
        "    else:\n",
        "        print('Confusion matrix, without normalization')\n",
        "\n",
        "    plt.imshow(cm, interpolation='nearest', cmap=cmap)\n",
        "    plt.title(title)\n",
        "    plt.colorbar()\n",
        "    tick_marks = np.arange(len(classes))\n",
        "    plt.xticks(tick_marks, classes)\n",
        "    plt.yticks(tick_marks, classes)\n",
        "    fmt = '.2f' if normalize else 'd'\n",
        "    thresh = cm.max() / 2.\n",
        "    for i, j in itertools.product(range(cm.shape[0]), range(cm.shape[1])):\n",
        "        plt.text(j, i, format(cm[i, j], fmt),\n",
        "                 horizontalalignment=\"center\", verticalalignment=\"center\",\n",
        "                 color=\"white\" if cm[i, j] > thresh else \"black\")\n",
        "    plt.ylabel('True label')\n",
        "    plt.xlabel('Predicted label')"
      ]
    },
    {
      "cell_type": "code",
      "execution_count": 5,
      "metadata": {
        "colab": {
          "base_uri": "https://localhost:8080/",
          "height": 490
        },
        "id": "Wrx6OdJCWxdQ",
        "outputId": "0c92c21c-3e3e-49eb-affa-043b4d3cd30d"
      },
      "outputs": [
        {
          "name": "stdout",
          "output_type": "stream",
          "text": [
            "Confusion matrix, without normalization\n"
          ]
        },
        {
          "data": {
            "image/png": "[encoded data removed]",
            "text/plain": [
              "<Figure size 640x480 with 2 Axes>"
            ]
          },
          "metadata": {},
          "output_type": "display_data"
        }
      ],
      "source": [
        "cm = confusion_matrix(y_test, predict_test)\n",
        "plot_confusion_matrix(cm,[0,1],False)"
      ]
    },
    {
      "cell_type": "code",
      "execution_count": 6,
      "metadata": {
        "colab": {
          "base_uri": "https://localhost:8080/",
          "height": 490
        },
        "id": "qcoQrquyWxdR",
        "outputId": "500b1bdc-9413-47d1-ddb1-db593b7798c9"
      },
      "outputs": [
        {
          "name": "stdout",
          "output_type": "stream",
          "text": [
            "Normalized confusion matrix\n"
          ]
        },
        {
          "data": {
            "image/png": "[encoded data removed]",
            "text/plain": [
              "<Figure size 640x480 with 2 Axes>"
            ]
          },
          "metadata": {},
          "output_type": "display_data"
        }
      ],
      "source": [
        "cm = confusion_matrix(y_test, predict_test)\n",
        "plot_confusion_matrix(cm,[0,1],True)"
      ]
    },
    {
      "cell_type": "markdown",
      "metadata": {
        "id": "8fmsVHvJWxdS"
      },
      "source": [
        "#### Accuracy"
      ]
    },
    {
      "cell_type": "code",
      "execution_count": 7,
      "metadata": {
        "colab": {
          "base_uri": "https://localhost:8080/"
        },
        "id": "zHSlkMSvWxdS",
        "outputId": "6b174225-bca3-4286-eff3-39837482c5d3"
      },
      "outputs": [
        {
          "data": {
            "text/plain": [
              "0.747239263803681"
            ]
          },
          "execution_count": 7,
          "metadata": {},
          "output_type": "execute_result"
        }
      ],
      "source": [
        "clf.score(X_test, y_test)"
      ]
    },
    {
      "cell_type": "markdown",
      "metadata": {
        "id": "-kxMjpj1WxdT"
      },
      "source": [
        "#### Precision"
      ]
    },
    {
      "cell_type": "code",
      "execution_count": 8,
      "metadata": {
        "colab": {
          "base_uri": "https://localhost:8080/"
        },
        "id": "ujCBrAwCWxdT",
        "outputId": "d0cbbc93-b46a-4df0-ad7d-87ffc3867c0e"
      },
      "outputs": [
        {
          "data": {
            "text/plain": [
              "0.7035647279549718"
            ]
          },
          "execution_count": 8,
          "metadata": {},
          "output_type": "execute_result"
        }
      ],
      "source": [
        "y_pred = clf.predict(X_test)\n",
        "precision_score(y_test,y_pred)"
      ]
    },
    {
      "cell_type": "markdown",
      "metadata": {
        "id": "YC3F2JfhWxdU"
      },
      "source": [
        "#### Recall"
      ]
    },
    {
      "cell_type": "code",
      "execution_count": 9,
      "metadata": {
        "colab": {
          "base_uri": "https://localhost:8080/"
        },
        "id": "lPgC00zIWxdU",
        "outputId": "fc06eaca-7220-4f68-fb7b-663291c213c1"
      },
      "outputs": [
        {
          "data": {
            "text/plain": [
              "0.5961844197138315"
            ]
          },
          "execution_count": 9,
          "metadata": {},
          "output_type": "execute_result"
        }
      ],
      "source": [
        "recall_score(y_test,y_pred)"
      ]
    },
    {
      "cell_type": "markdown",
      "metadata": {
        "id": "5tbxEvi0c3tP"
      },
      "source": [
        "#### Type I Errors"
      ]
    },
    {
      "cell_type": "code",
      "execution_count": 10,
      "metadata": {
        "colab": {
          "base_uri": "https://localhost:8080/"
        },
        "id": "DowS2wkXc7Fa",
        "outputId": "035d9a2b-8084-4a83-c58b-9cac6fe16859"
      },
      "outputs": [
        {
          "name": "stdout",
          "output_type": "stream",
          "text": [
            "0.09693251533742331\n"
          ]
        }
      ],
      "source": [
        "table_test = pd.crosstab(y_test, predict_test, margins=True)\n",
        "test_tI_errors = table_test.loc[0.0,1.0]/table_test.loc['All','All']\n",
        "print(test_tI_errors)"
      ]
    },
    {
      "cell_type": "markdown",
      "metadata": {
        "id": "HmZBujqWdMMh"
      },
      "source": [
        "#### Type II Errors"
      ]
    },
    {
      "cell_type": "code",
      "execution_count": 11,
      "metadata": {
        "colab": {
          "base_uri": "https://localhost:8080/"
        },
        "id": "iJeWdODidNqL",
        "outputId": "65ea0c88-4142-480a-c890-a201758a0f7c"
      },
      "outputs": [
        {
          "name": "stdout",
          "output_type": "stream",
          "text": [
            "0.1558282208588957\n"
          ]
        }
      ],
      "source": [
        "test_tII_errors = table_test.loc[1.0,0.0]/table_test.loc['All','All']\n",
        "print(test_tII_errors)"
      ]
    },
    {
      "cell_type": "markdown",
      "metadata": {
        "id": "5Uyf_W9pWxdU"
      },
      "source": [
        "Unlike decision trees, gradient boost solutions aren't terribly easy to interpret on the surface. But they aren't quite black boxes either. You can get a measure of how important various features are by counting how many times a feature is used over the course of many decision trees."
      ]
    },
    {
      "cell_type": "code",
      "execution_count": 12,
      "metadata": {
        "colab": {
          "base_uri": "https://localhost:8080/",
          "height": 472
        },
        "id": "7U18xmUJWxdU",
        "outputId": "daf078dc-b932-49c7-b3f0-7f63327fcbf7"
      },
      "outputs": [
        {
          "data": {
            "image/png": "[encoded data removed]",
            "text/plain": [
              "<Figure size 640x480 with 1 Axes>"
            ]
          },
          "metadata": {},
          "output_type": "display_data"
        }
      ],
      "source": [
        "feature_importance = clf.feature_importances_\n",
        "\n",
        "# Make importances relative to max importance.\n",
        "feature_importance = 100.0 * (feature_importance / feature_importance.max())\n",
        "sorted_idx = np.argsort(feature_importance)\n",
        "pos = np.arange(sorted_idx.shape[0]) + .5\n",
        "plt.subplot(1, 2, 2)\n",
        "plt.barh(pos, feature_importance[sorted_idx], align='center')\n",
        "plt.yticks(pos, X.columns[sorted_idx])\n",
        "plt.xlabel('Relative Importance')\n",
        "plt.title('Variable Importance')\n",
        "plt.show()"
      ]
    },
    {
      "cell_type": "markdown",
      "metadata": {
        "id": "DOhXjDKpWxdU"
      },
      "source": [
        "It appears that age and happiness are the most important features in predicting whether or not someone lives with a partner."
      ]
    },
    {
      "cell_type": "markdown",
      "metadata": {
        "collapsed": true,
        "id": "6wAtFwjRWxdU"
      },
      "source": [
        "### Drill: Improve this gradient boost model\n",
        "\n",
        "This model is already doing all right, but there is definitely room for improvement. Your task is to see how low you can get the error rates to go in the test set, based on your model in the training set. Here are some strategies that you might use:\n",
        "\n",
        "* Creating new features\n",
        "* Applying more overfitting-prevention strategies like subsampling\n",
        "* Making more iterations\n",
        "* Trying a different loss function\n",
        "* Changing the structure of the weak learner by allowing more leaves in the tree or using other modifications\n",
        "\n",
        "You can learn more about the parameters for the gradient boost model [in scikit-learn's documentation](https://scikit-learn.org/stable/modules/generated/sklearn.ensemble.GradientBoostingClassifier.html). You can update the *params* table featured earlier, before you initialized and fit the model.\n",
        "\n",
        "Here are a few of the parameters that you could tune:\n",
        " - `learning_rate`\n",
        " - `max_depth`\n",
        " - `n_estimators`\n",
        " - `loss`\n",
        " - `subsample`\n",
        " - `min_samples_split`\n",
        "\n",
        "You can then use the same metrics to evaluate your results.\n",
        "          \n",
        "Have fun!"
      ]
    },
    {
      "cell_type": "markdown",
      "metadata": {
        "id": "aZ515uAqZsBM"
      },
      "source": [
        "Let's first examine our existing dataframe."
      ]
    },
    {
      "cell_type": "code",
      "execution_count": 13,
      "metadata": {
        "colab": {
          "base_uri": "https://localhost:8080/",
          "height": 300
        },
        "id": "byCDft7vZuUx",
        "outputId": "c798708c-f0da-4b7c-fccd-c324f8318e05"
      },
      "outputs": [
        {
          "data": {
            "text/html": [
              "\n",
              "  <div id=\"df-1a78087f-dd46-4998-941c-0de91fd3cfc0\" class=\"colab-df-container\">\n",
              "    <div>\n",
              "<style scoped>\n",
              "    .dataframe tbody tr th:only-of-type {\n",
              "        vertical-align: middle;\n",
              "    }\n",
              "\n",
              "    .dataframe tbody tr th {\n",
              "        vertical-align: top;\n",
              "    }\n",
              "\n",
              "    .dataframe thead th {\n",
              "        text-align: right;\n",
              "    }\n",
              "</style>\n",
              "<table border=\"1\" class=\"dataframe\">\n",
              "  <thead>\n",
              "    <tr style=\"text-align: right;\">\n",
              "      <th></th>\n",
              "      <th>idno</th>\n",
              "      <th>year</th>\n",
              "      <th>tvtot</th>\n",
              "      <th>ppltrst</th>\n",
              "      <th>pplfair</th>\n",
              "      <th>pplhlp</th>\n",
              "      <th>happy</th>\n",
              "      <th>sclmeet</th>\n",
              "      <th>sclact</th>\n",
              "      <th>gndr</th>\n",
              "      <th>agea</th>\n",
              "      <th>partner</th>\n",
              "    </tr>\n",
              "  </thead>\n",
              "  <tbody>\n",
              "    <tr>\n",
              "      <th>count</th>\n",
              "      <td>8.147000e+03</td>\n",
              "      <td>8147.000000</td>\n",
              "      <td>8147.000000</td>\n",
              "      <td>8147.000000</td>\n",
              "      <td>8147.000000</td>\n",
              "      <td>8147.000000</td>\n",
              "      <td>8147.000000</td>\n",
              "      <td>8147.000000</td>\n",
              "      <td>8147.000000</td>\n",
              "      <td>8147.000000</td>\n",
              "      <td>8147.000000</td>\n",
              "      <td>8147.000000</td>\n",
              "    </tr>\n",
              "    <tr>\n",
              "      <th>mean</th>\n",
              "      <td>4.022622e+04</td>\n",
              "      <td>6.500307</td>\n",
              "      <td>3.818584</td>\n",
              "      <td>5.574936</td>\n",
              "      <td>6.005155</td>\n",
              "      <td>5.321468</td>\n",
              "      <td>7.708482</td>\n",
              "      <td>5.215908</td>\n",
              "      <td>2.755984</td>\n",
              "      <td>1.496379</td>\n",
              "      <td>47.262182</td>\n",
              "      <td>1.384681</td>\n",
              "    </tr>\n",
              "    <tr>\n",
              "      <th>std</th>\n",
              "      <td>6.320721e+05</td>\n",
              "      <td>0.500031</td>\n",
              "      <td>2.008937</td>\n",
              "      <td>2.215745</td>\n",
              "      <td>2.120127</td>\n",
              "      <td>2.166217</td>\n",
              "      <td>1.720839</td>\n",
              "      <td>1.438792</td>\n",
              "      <td>0.901406</td>\n",
              "      <td>0.500018</td>\n",
              "      <td>18.316890</td>\n",
              "      <td>0.486550</td>\n",
              "    </tr>\n",
              "    <tr>\n",
              "      <th>min</th>\n",
              "      <td>1.000000e+00</td>\n",
              "      <td>6.000000</td>\n",
              "      <td>0.000000</td>\n",
              "      <td>0.000000</td>\n",
              "      <td>0.000000</td>\n",
              "      <td>0.000000</td>\n",
              "      <td>0.000000</td>\n",
              "      <td>1.000000</td>\n",
              "      <td>1.000000</td>\n",
              "      <td>1.000000</td>\n",
              "      <td>15.000000</td>\n",
              "      <td>1.000000</td>\n",
              "    </tr>\n",
              "    <tr>\n",
              "      <th>25%</th>\n",
              "      <td>1.063000e+03</td>\n",
              "      <td>6.000000</td>\n",
              "      <td>2.000000</td>\n",
              "      <td>4.000000</td>\n",
              "      <td>5.000000</td>\n",
              "      <td>4.000000</td>\n",
              "      <td>7.000000</td>\n",
              "      <td>4.000000</td>\n",
              "      <td>2.000000</td>\n",
              "      <td>1.000000</td>\n",
              "      <td>33.000000</td>\n",
              "      <td>1.000000</td>\n",
              "    </tr>\n",
              "    <tr>\n",
              "      <th>50%</th>\n",
              "      <td>1.749000e+03</td>\n",
              "      <td>7.000000</td>\n",
              "      <td>4.000000</td>\n",
              "      <td>6.000000</td>\n",
              "      <td>6.000000</td>\n",
              "      <td>5.000000</td>\n",
              "      <td>8.000000</td>\n",
              "      <td>6.000000</td>\n",
              "      <td>3.000000</td>\n",
              "      <td>1.000000</td>\n",
              "      <td>47.000000</td>\n",
              "      <td>1.000000</td>\n",
              "    </tr>\n",
              "    <tr>\n",
              "      <th>75%</th>\n",
              "      <td>2.778000e+03</td>\n",
              "      <td>7.000000</td>\n",
              "      <td>5.000000</td>\n",
              "      <td>7.000000</td>\n",
              "      <td>8.000000</td>\n",
              "      <td>7.000000</td>\n",
              "      <td>9.000000</td>\n",
              "      <td>6.000000</td>\n",
              "      <td>3.000000</td>\n",
              "      <td>2.000000</td>\n",
              "      <td>61.000000</td>\n",
              "      <td>2.000000</td>\n",
              "    </tr>\n",
              "    <tr>\n",
              "      <th>max</th>\n",
              "      <td>1.100143e+07</td>\n",
              "      <td>7.000000</td>\n",
              "      <td>7.000000</td>\n",
              "      <td>10.000000</td>\n",
              "      <td>10.000000</td>\n",
              "      <td>10.000000</td>\n",
              "      <td>10.000000</td>\n",
              "      <td>7.000000</td>\n",
              "      <td>5.000000</td>\n",
              "      <td>2.000000</td>\n",
              "      <td>114.000000</td>\n",
              "      <td>2.000000</td>\n",
              "    </tr>\n",
              "  </tbody>\n",
              "</table>\n",
              "</div>\n",
              "    <div class=\"colab-df-buttons\">\n",
              "\n",
              "  <div class=\"colab-df-container\">\n",
              "    <button class=\"colab-df-convert\" onclick=\"convertToInteractive('df-1a78087f-dd46-4998-941c-0de91fd3cfc0')\"\n",
              "            title=\"Convert this dataframe to an interactive table.\"\n",
              "            style=\"display:none;\">\n",
              "\n",
              "  <svg xmlns=\"http://www.w3.org/2000/svg\" height=\"24px\" viewBox=\"0 -960 960 960\">\n",
              "    <path d=\"M120-120v-720h720v720H120Zm60-500h600v-160H180v160Zm220 220h160v-160H400v160Zm0 220h160v-160H400v160ZM180-400h160v-160H180v160Zm440 0h160v-160H620v160ZM180-180h160v-160H180v160Zm440 0h160v-160H620v160Z\"/>\n",
              "  </svg>\n",
              "    </button>\n",
              "\n",
              "  <style>\n",
              "    .colab-df-container {\n",
              "      display:flex;\n",
              "      gap: 12px;\n",
              "    }\n",
              "\n",
              "    .colab-df-convert {\n",
              "      background-color: #E8F0FE;\n",
              "      border: none;\n",
              "      border-radius: 50%;\n",
              "      cursor: pointer;\n",
              "      display: none;\n",
              "      fill: #1967D2;\n",
              "      height: 32px;\n",
              "      padding: 0 0 0 0;\n",
              "      width: 32px;\n",
              "    }\n",
              "\n",
              "    .colab-df-convert:hover {\n",
              "      background-color: #E2EBFA;\n",
              "      box-shadow: 0px 1px 2px rgba(60, 64, 67, 0.3), 0px 1px 3px 1px rgba(60, 64, 67, 0.15);\n",
              "      fill: #174EA6;\n",
              "    }\n",
              "\n",
              "    .colab-df-buttons div {\n",
              "      margin-bottom: 4px;\n",
              "    }\n",
              "\n",
              "    [theme=dark] .colab-df-convert {\n",
              "      background-color: #3B4455;\n",
              "      fill: #D2E3FC;\n",
              "    }\n",
              "\n",
              "    [theme=dark] .colab-df-convert:hover {\n",
              "      background-color: #434B5C;\n",
              "      box-shadow: 0px 1px 3px 1px rgba(0, 0, 0, 0.15);\n",
              "      filter: drop-shadow(0px 1px 2px rgba(0, 0, 0, 0.3));\n",
              "      fill: #FFFFFF;\n",
              "    }\n",
              "  </style>\n",
              "\n",
              "    <script>\n",
              "      const buttonEl =\n",
              "        document.querySelector('#df-1a78087f-dd46-4998-941c-0de91fd3cfc0 button.colab-df-convert');\n",
              "      buttonEl.style.display =\n",
              "        google.colab.kernel.accessAllowed ? 'block' : 'none';\n",
              "\n",
              "      async function convertToInteractive(key) {\n",
              "        const element = document.querySelector('#df-1a78087f-dd46-4998-941c-0de91fd3cfc0');\n",
              "        const dataTable =\n",
              "          await google.colab.kernel.invokeFunction('convertToInteractive',\n",
              "                                                    [key], {});\n",
              "        if (!dataTable) return;\n",
              "\n",
              "        const docLinkHtml = 'Like what you see? Visit the ' +\n",
              "          '<a target=\"_blank\" href=https://colab.research.google.com/notebooks/data_table.ipynb>data table notebook</a>'\n",
              "          + ' to learn more about interactive tables.';\n",
              "        element.innerHTML = '';\n",
              "        dataTable['output_type'] = 'display_data';\n",
              "        await google.colab.output.renderOutput(dataTable, element);\n",
              "        const docLink = document.createElement('div');\n",
              "        docLink.innerHTML = docLinkHtml;\n",
              "        element.appendChild(docLink);\n",
              "      }\n",
              "    </script>\n",
              "  </div>\n",
              "\n",
              "\n",
              "<div id=\"df-fb9321f6-645f-481b-be0a-b6234135c2e3\">\n",
              "  <button class=\"colab-df-quickchart\" onclick=\"quickchart('df-fb9321f6-645f-481b-be0a-b6234135c2e3')\"\n",
              "            title=\"Suggest charts\"\n",
              "            style=\"display:none;\">\n",
              "\n",
              "<svg xmlns=\"http://www.w3.org/2000/svg\" height=\"24px\"viewBox=\"0 0 24 24\"\n",
              "     width=\"24px\">\n",
              "    <g>\n",
              "        <path d=\"M19 3H5c-1.1 0-2 .9-2 2v14c0 1.1.9 2 2 2h14c1.1 0 2-.9 2-2V5c0-1.1-.9-2-2-2zM9 17H7v-7h2v7zm4 0h-2V7h2v10zm4 0h-2v-4h2v4z\"/>\n",
              "    </g>\n",
              "</svg>\n",
              "  </button>\n",
              "\n",
              "<style>\n",
              "  .colab-df-quickchart {\n",
              "      --bg-color: #E8F0FE;\n",
              "      --fill-color: #1967D2;\n",
              "      --hover-bg-color: #E2EBFA;\n",
              "      --hover-fill-color: #174EA6;\n",
              "      --disabled-fill-color: #AAA;\n",
              "      --disabled-bg-color: #DDD;\n",
              "  }\n",
              "\n",
              "  [theme=dark] .colab-df-quickchart {\n",
              "      --bg-color: #3B4455;\n",
              "      --fill-color: #D2E3FC;\n",
              "      --hover-bg-color: #434B5C;\n",
              "      --hover-fill-color: #FFFFFF;\n",
              "      --disabled-bg-color: #3B4455;\n",
              "      --disabled-fill-color: #666;\n",
              "  }\n",
              "\n",
              "  .colab-df-quickchart {\n",
              "    background-color: var(--bg-color);\n",
              "    border: none;\n",
              "    border-radius: 50%;\n",
              "    cursor: pointer;\n",
              "    display: none;\n",
              "    fill: var(--fill-color);\n",
              "    height: 32px;\n",
              "    padding: 0;\n",
              "    width: 32px;\n",
              "  }\n",
              "\n",
              "  .colab-df-quickchart:hover {\n",
              "    background-color: var(--hover-bg-color);\n",
              "    box-shadow: 0 1px 2px rgba(60, 64, 67, 0.3), 0 1px 3px 1px rgba(60, 64, 67, 0.15);\n",
              "    fill: var(--button-hover-fill-color);\n",
              "  }\n",
              "\n",
              "  .colab-df-quickchart-complete:disabled,\n",
              "  .colab-df-quickchart-complete:disabled:hover {\n",
              "    background-color: var(--disabled-bg-color);\n",
              "    fill: var(--disabled-fill-color);\n",
              "    box-shadow: none;\n",
              "  }\n",
              "\n",
              "  .colab-df-spinner {\n",
              "    border: 2px solid var(--fill-color);\n",
              "    border-color: transparent;\n",
              "    border-bottom-color: var(--fill-color);\n",
              "    animation:\n",
              "      spin 1s steps(1) infinite;\n",
              "  }\n",
              "\n",
              "  @keyframes spin {\n",
              "    0% {\n",
              "      border-color: transparent;\n",
              "      border-bottom-color: var(--fill-color);\n",
              "      border-left-color: var(--fill-color);\n",
              "    }\n",
              "    20% {\n",
              "      border-color: transparent;\n",
              "      border-left-color: var(--fill-color);\n",
              "      border-top-color: var(--fill-color);\n",
              "    }\n",
              "    30% {\n",
              "      border-color: transparent;\n",
              "      border-left-color: var(--fill-color);\n",
              "      border-top-color: var(--fill-color);\n",
              "      border-right-color: var(--fill-color);\n",
              "    }\n",
              "    40% {\n",
              "      border-color: transparent;\n",
              "      border-right-color: var(--fill-color);\n",
              "      border-top-color: var(--fill-color);\n",
              "    }\n",
              "    60% {\n",
              "      border-color: transparent;\n",
              "      border-right-color: var(--fill-color);\n",
              "    }\n",
              "    80% {\n",
              "      border-color: transparent;\n",
              "      border-right-color: var(--fill-color);\n",
              "      border-bottom-color: var(--fill-color);\n",
              "    }\n",
              "    90% {\n",
              "      border-color: transparent;\n",
              "      border-bottom-color: var(--fill-color);\n",
              "    }\n",
              "  }\n",
              "</style>\n",
              "\n",
              "  <script>\n",
              "    async function quickchart(key) {\n",
              "      const quickchartButtonEl =\n",
              "        document.querySelector('#' + key + ' button');\n",
              "      quickchartButtonEl.disabled = true;  // To prevent multiple clicks.\n",
              "      quickchartButtonEl.classList.add('colab-df-spinner');\n",
              "      try {\n",
              "        const charts = await google.colab.kernel.invokeFunction(\n",
              "            'suggestCharts', [key], {});\n",
              "      } catch (error) {\n",
              "        console.error('Error during call to suggestCharts:', error);\n",
              "      }\n",
              "      quickchartButtonEl.classList.remove('colab-df-spinner');\n",
              "      quickchartButtonEl.classList.add('colab-df-quickchart-complete');\n",
              "    }\n",
              "    (() => {\n",
              "      let quickchartButtonEl =\n",
              "        document.querySelector('#df-fb9321f6-645f-481b-be0a-b6234135c2e3 button');\n",
              "      quickchartButtonEl.style.display =\n",
              "        google.colab.kernel.accessAllowed ? 'block' : 'none';\n",
              "    })();\n",
              "  </script>\n",
              "</div>\n",
              "    </div>\n",
              "  </div>\n"
            ],
            "text/plain": [
              "               idno         year        tvtot      ppltrst      pplfair  \\\n",
              "count  8.147000e+03  8147.000000  8147.000000  8147.000000  8147.000000   \n",
              "mean   4.022622e+04     6.500307     3.818584     5.574936     6.005155   \n",
              "std    6.320721e+05     0.500031     2.008937     2.215745     2.120127   \n",
              "min    1.000000e+00     6.000000     0.000000     0.000000     0.000000   \n",
              "25%    1.063000e+03     6.000000     2.000000     4.000000     5.000000   \n",
              "50%    1.749000e+03     7.000000     4.000000     6.000000     6.000000   \n",
              "75%    2.778000e+03     7.000000     5.000000     7.000000     8.000000   \n",
              "max    1.100143e+07     7.000000     7.000000    10.000000    10.000000   \n",
              "\n",
              "            pplhlp        happy      sclmeet       sclact         gndr  \\\n",
              "count  8147.000000  8147.000000  8147.000000  8147.000000  8147.000000   \n",
              "mean      5.321468     7.708482     5.215908     2.755984     1.496379   \n",
              "std       2.166217     1.720839     1.438792     0.901406     0.500018   \n",
              "min       0.000000     0.000000     1.000000     1.000000     1.000000   \n",
              "25%       4.000000     7.000000     4.000000     2.000000     1.000000   \n",
              "50%       5.000000     8.000000     6.000000     3.000000     1.000000   \n",
              "75%       7.000000     9.000000     6.000000     3.000000     2.000000   \n",
              "max      10.000000    10.000000     7.000000     5.000000     2.000000   \n",
              "\n",
              "              agea      partner  \n",
              "count  8147.000000  8147.000000  \n",
              "mean     47.262182     1.384681  \n",
              "std      18.316890     0.486550  \n",
              "min      15.000000     1.000000  \n",
              "25%      33.000000     1.000000  \n",
              "50%      47.000000     1.000000  \n",
              "75%      61.000000     2.000000  \n",
              "max     114.000000     2.000000  "
            ]
          },
          "execution_count": 13,
          "metadata": {},
          "output_type": "execute_result"
        }
      ],
      "source": [
        "df.describe()"
      ]
    },
    {
      "cell_type": "code",
      "execution_count": 14,
      "metadata": {
        "colab": {
          "base_uri": "https://localhost:8080/"
        },
        "id": "HtYUZEVsZzOw",
        "outputId": "467fa196-fe9b-46ab-b8ec-46eda158e65b"
      },
      "outputs": [
        {
          "data": {
            "text/plain": [
              "Series([], dtype: int64)"
            ]
          },
          "execution_count": 14,
          "metadata": {},
          "output_type": "execute_result"
        }
      ],
      "source": [
        "null_count = df.isnull().sum()\n",
        "null_count[null_count>0]"
      ]
    },
    {
      "cell_type": "markdown",
      "metadata": {
        "id": "HORzmwR2aIBs"
      },
      "source": [
        "We can see that all of our features are continuous and that we don't have any nulls. Let's create a new function and then try subsampling."
      ]
    },
    {
      "cell_type": "code",
      "execution_count": 15,
      "metadata": {
        "id": "OTEQfF_faUV1"
      },
      "outputs": [],
      "source": [
        "def run_the_model(params,X_train,X_test,y_train,y_test):\n",
        "    # Initialize and fit the model.\n",
        "    clf = ensemble.GradientBoostingClassifier(**params)\n",
        "    clf.fit(X_train, y_train)\n",
        "\n",
        "    predict_train = clf.predict(X_train)\n",
        "    predict_test = clf.predict(X_test)\n",
        "\n",
        "    # Create accuracy tables.\n",
        "    table_train = pd.crosstab(y_train, predict_train, margins=True)\n",
        "    table_test = pd.crosstab(y_test, predict_test, margins=True)\n",
        "\n",
        "    train_tI_errors = table_train.loc[0.0,1.0] / table_train.loc['All','All']\n",
        "    train_tII_errors = table_train.loc[1.0,0.0] / table_train.loc['All','All']\n",
        "\n",
        "    test_tI_errors = table_test.loc[0.0,1.0]/table_test.loc['All','All']\n",
        "    test_tII_errors = table_test.loc[1.0,0.0]/table_test.loc['All','All']\n",
        "\n",
        "    train_accuracy = clf.score(X_train, y_train)\n",
        "    y_pred_train = clf.predict(X_train)\n",
        "    train_precision = precision_score(y_train,y_pred_train)\n",
        "    train_recall = recall_score(y_train,y_pred_train)\n",
        "\n",
        "    test_accuracy = clf.score(X_test, y_test)\n",
        "    y_pred = clf.predict(X_test)\n",
        "    test_precision = precision_score(y_test,y_pred)\n",
        "    test_recall = recall_score(y_test,y_pred)\n",
        "\n",
        "    print((\n",
        "        'Training set accuracy:\\n'\n",
        "        'Training accuracy: {}\\n'\n",
        "        'Training precision: {}\\n'\n",
        "        'Training recall: {}\\n'\n",
        "        'Percent Type I errors: {}\\n'\n",
        "        'Percent Type II errors: {}\\n\\n'\n",
        "        'Test set accuracy:\\n'\n",
        "        'Test accuracy: {}\\n'\n",
        "        'Test precision: {}\\n'\n",
        "        'Test recall: {}\\n'\n",
        "        'Percent Type I errors: {}\\n'\n",
        "        'Percent Type II errors: {}'\n",
        "    ).format(train_accuracy,train_precision,train_recall,train_tI_errors,train_tII_errors,\n",
        "             test_accuracy,test_precision,test_recall,test_tI_errors, test_tII_errors))"
      ]
    },
    {
      "cell_type": "code",
      "execution_count": 16,
      "metadata": {
        "colab": {
          "base_uri": "https://localhost:8080/"
        },
        "id": "kiHsAmjIanlA",
        "outputId": "93fd8409-ce8b-41b9-8ee7-195bc7b09366"
      },
      "outputs": [
        {
          "name": "stdout",
          "output_type": "stream",
          "text": [
            "Training set accuracy:\n",
            "Training accuracy: 0.7801135491790702\n",
            "Training precision: 0.8217286914765907\n",
            "Training recall: 0.5465069860279441\n",
            "Percent Type I errors: 0.04557311646463096\n",
            "Percent Type II errors: 0.17431333435629892\n",
            "\n",
            "Test set accuracy:\n",
            "Test accuracy: 0.7392638036809815\n",
            "Test precision: 0.6841155234657039\n",
            "Test recall: 0.6025437201907791\n",
            "Percent Type I errors: 0.10736196319018405\n",
            "Percent Type II errors: 0.15337423312883436\n"
          ]
        }
      ],
      "source": [
        "# Subsampling\n",
        "params = {'n_estimators': 500,\n",
        "          'max_depth': 2,\n",
        "          'loss': 'log_loss',\n",
        "          'random_state': 99,\n",
        "          'subsample': .8,} # Use Stochastic Gradient Boosting\n",
        "clf = ensemble.GradientBoostingClassifier(**params)\n",
        "run_the_model(params,X_train,X_test,y_train,y_test)"
      ]
    },
    {
      "cell_type": "markdown",
      "metadata": {
        "id": "onwM9AlCdVYo"
      },
      "source": [
        "We can see a slight improvement in recall for our Test set. However, the errors, accuracy, and precision are similar as above. Instead of \"manually\" testing all of the other parameters, let's take advantage of [GridSearchCV](https://scikit-learn.org/stable/modules/generated/sklearn.model_selection.GridSearchCV.html)."
      ]
    },
    {
      "cell_type": "code",
      "execution_count": 17,
      "metadata": {
        "colab": {
          "base_uri": "https://localhost:8080/",
          "height": 118
        },
        "id": "u11p73oQdf7T",
        "outputId": "abc89ea0-9dac-4277-ba02-f812e8bbee86"
      },
      "outputs": [
        {
          "data": {
            "text/html": [
              "<style>#sk-container-id-1 {color: black;background-color: white;}#sk-container-id-1 pre{padding: 0;}#sk-container-id-1 div.sk-toggleable {background-color: white;}#sk-container-id-1 label.sk-toggleable__label {cursor: pointer;display: block;width: 100%;margin-bottom: 0;padding: 0.3em;box-sizing: border-box;text-align: center;}#sk-container-id-1 label.sk-toggleable__label-arrow:before {content: \"▸\";float: left;margin-right: 0.25em;color: #696969;}#sk-container-id-1 label.sk-toggleable__label-arrow:hover:before {color: black;}#sk-container-id-1 div.sk-estimator:hover label.sk-toggleable__label-arrow:before {color: black;}#sk-container-id-1 div.sk-toggleable__content {max-height: 0;max-width: 0;overflow: hidden;text-align: left;background-color: #f0f8ff;}#sk-container-id-1 div.sk-toggleable__content pre {margin: 0.2em;color: black;border-radius: 0.25em;background-color: #f0f8ff;}#sk-container-id-1 input.sk-toggleable__control:checked~div.sk-toggleable__content {max-height: 200px;max-width: 100%;overflow: auto;}#sk-container-id-1 input.sk-toggleable__control:checked~label.sk-toggleable__label-arrow:before {content: \"▾\";}#sk-container-id-1 div.sk-estimator input.sk-toggleable__control:checked~label.sk-toggleable__label {background-color: #d4ebff;}#sk-container-id-1 div.sk-label input.sk-toggleable__control:checked~label.sk-toggleable__label {background-color: #d4ebff;}#sk-container-id-1 input.sk-hidden--visually {border: 0;clip: rect(1px 1px 1px 1px);clip: rect(1px, 1px, 1px, 1px);height: 1px;margin: -1px;overflow: hidden;padding: 0;position: absolute;width: 1px;}#sk-container-id-1 div.sk-estimator {font-family: monospace;background-color: #f0f8ff;border: 1px dotted black;border-radius: 0.25em;box-sizing: border-box;margin-bottom: 0.5em;}#sk-container-id-1 div.sk-estimator:hover {background-color: #d4ebff;}#sk-container-id-1 div.sk-parallel-item::after {content: \"\";width: 100%;border-bottom: 1px solid gray;flex-grow: 1;}#sk-container-id-1 div.sk-label:hover label.sk-toggleable__label {background-color: #d4ebff;}#sk-container-id-1 div.sk-serial::before {content: \"\";position: absolute;border-left: 1px solid gray;box-sizing: border-box;top: 0;bottom: 0;left: 50%;z-index: 0;}#sk-container-id-1 div.sk-serial {display: flex;flex-direction: column;align-items: center;background-color: white;padding-right: 0.2em;padding-left: 0.2em;position: relative;}#sk-container-id-1 div.sk-item {position: relative;z-index: 1;}#sk-container-id-1 div.sk-parallel {display: flex;align-items: stretch;justify-content: center;background-color: white;position: relative;}#sk-container-id-1 div.sk-item::before, #sk-container-id-1 div.sk-parallel-item::before {content: \"\";position: absolute;border-left: 1px solid gray;box-sizing: border-box;top: 0;bottom: 0;left: 50%;z-index: -1;}#sk-container-id-1 div.sk-parallel-item {display: flex;flex-direction: column;z-index: 1;position: relative;background-color: white;}#sk-container-id-1 div.sk-parallel-item:first-child::after {align-self: flex-end;width: 50%;}#sk-container-id-1 div.sk-parallel-item:last-child::after {align-self: flex-start;width: 50%;}#sk-container-id-1 div.sk-parallel-item:only-child::after {width: 0;}#sk-container-id-1 div.sk-dashed-wrapped {border: 1px dashed gray;margin: 0 0.4em 0.5em 0.4em;box-sizing: border-box;padding-bottom: 0.4em;background-color: white;}#sk-container-id-1 div.sk-label label {font-family: monospace;font-weight: bold;display: inline-block;line-height: 1.2em;}#sk-container-id-1 div.sk-label-container {text-align: center;}#sk-container-id-1 div.sk-container {/* jupyter's `normalize.less` sets `[hidden] { display: none; }` but bootstrap.min.css set `[hidden] { display: none !important; }` so we also need the `!important` here to be able to override the default hidden behavior on the sphinx rendered scikit-learn.org. See: https://github.com/scikit-learn/scikit-learn/issues/21755 */display: inline-block !important;position: relative;}#sk-container-id-1 div.sk-text-repr-fallback {display: none;}</style><div id=\"sk-container-id-1\" class=\"sk-top-container\"><div class=\"sk-text-repr-fallback\"><pre>GridSearchCV(cv=5, estimator=GradientBoostingClassifier(random_state=99),\n",
              "             param_grid={&#x27;max_depth&#x27;: [2, 4],\n",
              "                         &#x27;n_estimators&#x27;: range(50, 500, 50)})</pre><b>In a Jupyter environment, please rerun this cell to show the HTML representation or trust the notebook. <br />On GitHub, the HTML representation is unable to render, please try loading this page with nbviewer.org.</b></div><div class=\"sk-container\" hidden><div class=\"sk-item sk-dashed-wrapped\"><div class=\"sk-label-container\"><div class=\"sk-label sk-toggleable\"><input class=\"sk-toggleable__control sk-hidden--visually\" id=\"sk-estimator-id-1\" type=\"checkbox\" ><label for=\"sk-estimator-id-1\" class=\"sk-toggleable__label sk-toggleable__label-arrow\">GridSearchCV</label><div class=\"sk-toggleable__content\"><pre>GridSearchCV(cv=5, estimator=GradientBoostingClassifier(random_state=99),\n",
              "             param_grid={&#x27;max_depth&#x27;: [2, 4],\n",
              "                         &#x27;n_estimators&#x27;: range(50, 500, 50)})</pre></div></div></div><div class=\"sk-parallel\"><div class=\"sk-parallel-item\"><div class=\"sk-item\"><div class=\"sk-label-container\"><div class=\"sk-label sk-toggleable\"><input class=\"sk-toggleable__control sk-hidden--visually\" id=\"sk-estimator-id-2\" type=\"checkbox\" ><label for=\"sk-estimator-id-2\" class=\"sk-toggleable__label sk-toggleable__label-arrow\">estimator: GradientBoostingClassifier</label><div class=\"sk-toggleable__content\"><pre>GradientBoostingClassifier(random_state=99)</pre></div></div></div><div class=\"sk-serial\"><div class=\"sk-item\"><div class=\"sk-estimator sk-toggleable\"><input class=\"sk-toggleable__control sk-hidden--visually\" id=\"sk-estimator-id-3\" type=\"checkbox\" ><label for=\"sk-estimator-id-3\" class=\"sk-toggleable__label sk-toggleable__label-arrow\">GradientBoostingClassifier</label><div class=\"sk-toggleable__content\"><pre>GradientBoostingClassifier(random_state=99)</pre></div></div></div></div></div></div></div></div></div></div>"
            ],
            "text/plain": [
              "GridSearchCV(cv=5, estimator=GradientBoostingClassifier(random_state=99),\n",
              "             param_grid={'max_depth': [2, 4],\n",
              "                         'n_estimators': range(50, 500, 50)})"
            ]
          },
          "execution_count": 17,
          "metadata": {},
          "output_type": "execute_result"
        }
      ],
      "source": [
        "# n_estimators and max_depth\n",
        "from sklearn.model_selection import GridSearchCV\n",
        "params = {'n_estimators': range(50,500,50),\n",
        "          'max_depth': [2,4]}\n",
        "\n",
        "clf = ensemble.GradientBoostingClassifier(loss='log_loss',random_state=99)\n",
        "gscv = GridSearchCV(clf,params,cv=5)\n",
        "gscv.fit(X,y)"
      ]
    },
    {
      "cell_type": "code",
      "execution_count": 18,
      "metadata": {
        "colab": {
          "base_uri": "https://localhost:8080/"
        },
        "id": "KrKLoWnbklHV",
        "outputId": "9650bf77-3449-4809-aa2c-6e38515136f8"
      },
      "outputs": [
        {
          "data": {
            "text/plain": [
              "({'max_depth': 4, 'n_estimators': 50}, 0.750829783788466)"
            ]
          },
          "execution_count": 18,
          "metadata": {},
          "output_type": "execute_result"
        }
      ],
      "source": [
        "# Look at scores\n",
        "gscv.best_params_, gscv.best_score_"
      ]
    },
    {
      "cell_type": "code",
      "execution_count": 19,
      "metadata": {
        "colab": {
          "base_uri": "https://localhost:8080/",
          "height": 118
        },
        "id": "dM1xXhYI_Uwd",
        "outputId": "5ceff36d-4eb9-4a0c-f146-343066803cb5"
      },
      "outputs": [
        {
          "data": {
            "text/html": [
              "<style>#sk-container-id-2 {color: black;background-color: white;}#sk-container-id-2 pre{padding: 0;}#sk-container-id-2 div.sk-toggleable {background-color: white;}#sk-container-id-2 label.sk-toggleable__label {cursor: pointer;display: block;width: 100%;margin-bottom: 0;padding: 0.3em;box-sizing: border-box;text-align: center;}#sk-container-id-2 label.sk-toggleable__label-arrow:before {content: \"▸\";float: left;margin-right: 0.25em;color: #696969;}#sk-container-id-2 label.sk-toggleable__label-arrow:hover:before {color: black;}#sk-container-id-2 div.sk-estimator:hover label.sk-toggleable__label-arrow:before {color: black;}#sk-container-id-2 div.sk-toggleable__content {max-height: 0;max-width: 0;overflow: hidden;text-align: left;background-color: #f0f8ff;}#sk-container-id-2 div.sk-toggleable__content pre {margin: 0.2em;color: black;border-radius: 0.25em;background-color: #f0f8ff;}#sk-container-id-2 input.sk-toggleable__control:checked~div.sk-toggleable__content {max-height: 200px;max-width: 100%;overflow: auto;}#sk-container-id-2 input.sk-toggleable__control:checked~label.sk-toggleable__label-arrow:before {content: \"▾\";}#sk-container-id-2 div.sk-estimator input.sk-toggleable__control:checked~label.sk-toggleable__label {background-color: #d4ebff;}#sk-container-id-2 div.sk-label input.sk-toggleable__control:checked~label.sk-toggleable__label {background-color: #d4ebff;}#sk-container-id-2 input.sk-hidden--visually {border: 0;clip: rect(1px 1px 1px 1px);clip: rect(1px, 1px, 1px, 1px);height: 1px;margin: -1px;overflow: hidden;padding: 0;position: absolute;width: 1px;}#sk-container-id-2 div.sk-estimator {font-family: monospace;background-color: #f0f8ff;border: 1px dotted black;border-radius: 0.25em;box-sizing: border-box;margin-bottom: 0.5em;}#sk-container-id-2 div.sk-estimator:hover {background-color: #d4ebff;}#sk-container-id-2 div.sk-parallel-item::after {content: \"\";width: 100%;border-bottom: 1px solid gray;flex-grow: 1;}#sk-container-id-2 div.sk-label:hover label.sk-toggleable__label {background-color: #d4ebff;}#sk-container-id-2 div.sk-serial::before {content: \"\";position: absolute;border-left: 1px solid gray;box-sizing: border-box;top: 0;bottom: 0;left: 50%;z-index: 0;}#sk-container-id-2 div.sk-serial {display: flex;flex-direction: column;align-items: center;background-color: white;padding-right: 0.2em;padding-left: 0.2em;position: relative;}#sk-container-id-2 div.sk-item {position: relative;z-index: 1;}#sk-container-id-2 div.sk-parallel {display: flex;align-items: stretch;justify-content: center;background-color: white;position: relative;}#sk-container-id-2 div.sk-item::before, #sk-container-id-2 div.sk-parallel-item::before {content: \"\";position: absolute;border-left: 1px solid gray;box-sizing: border-box;top: 0;bottom: 0;left: 50%;z-index: -1;}#sk-container-id-2 div.sk-parallel-item {display: flex;flex-direction: column;z-index: 1;position: relative;background-color: white;}#sk-container-id-2 div.sk-parallel-item:first-child::after {align-self: flex-end;width: 50%;}#sk-container-id-2 div.sk-parallel-item:last-child::after {align-self: flex-start;width: 50%;}#sk-container-id-2 div.sk-parallel-item:only-child::after {width: 0;}#sk-container-id-2 div.sk-dashed-wrapped {border: 1px dashed gray;margin: 0 0.4em 0.5em 0.4em;box-sizing: border-box;padding-bottom: 0.4em;background-color: white;}#sk-container-id-2 div.sk-label label {font-family: monospace;font-weight: bold;display: inline-block;line-height: 1.2em;}#sk-container-id-2 div.sk-label-container {text-align: center;}#sk-container-id-2 div.sk-container {/* jupyter's `normalize.less` sets `[hidden] { display: none; }` but bootstrap.min.css set `[hidden] { display: none !important; }` so we also need the `!important` here to be able to override the default hidden behavior on the sphinx rendered scikit-learn.org. See: https://github.com/scikit-learn/scikit-learn/issues/21755 */display: inline-block !important;position: relative;}#sk-container-id-2 div.sk-text-repr-fallback {display: none;}</style><div id=\"sk-container-id-2\" class=\"sk-top-container\"><div class=\"sk-text-repr-fallback\"><pre>GridSearchCV(cv=5,\n",
              "             estimator=GradientBoostingClassifier(max_depth=4, n_estimators=50,\n",
              "                                                  random_state=99),\n",
              "             param_grid={&#x27;learning_rate&#x27;: [0.1, 0.2, 0.3, 0.4, 0.5, 0.6, 0.7,\n",
              "                                           0.8, 0.9, 1.0],\n",
              "                         &#x27;loss&#x27;: [&#x27;log_loss&#x27;, &#x27;exponential&#x27;]})</pre><b>In a Jupyter environment, please rerun this cell to show the HTML representation or trust the notebook. <br />On GitHub, the HTML representation is unable to render, please try loading this page with nbviewer.org.</b></div><div class=\"sk-container\" hidden><div class=\"sk-item sk-dashed-wrapped\"><div class=\"sk-label-container\"><div class=\"sk-label sk-toggleable\"><input class=\"sk-toggleable__control sk-hidden--visually\" id=\"sk-estimator-id-4\" type=\"checkbox\" ><label for=\"sk-estimator-id-4\" class=\"sk-toggleable__label sk-toggleable__label-arrow\">GridSearchCV</label><div class=\"sk-toggleable__content\"><pre>GridSearchCV(cv=5,\n",
              "             estimator=GradientBoostingClassifier(max_depth=4, n_estimators=50,\n",
              "                                                  random_state=99),\n",
              "             param_grid={&#x27;learning_rate&#x27;: [0.1, 0.2, 0.3, 0.4, 0.5, 0.6, 0.7,\n",
              "                                           0.8, 0.9, 1.0],\n",
              "                         &#x27;loss&#x27;: [&#x27;log_loss&#x27;, &#x27;exponential&#x27;]})</pre></div></div></div><div class=\"sk-parallel\"><div class=\"sk-parallel-item\"><div class=\"sk-item\"><div class=\"sk-label-container\"><div class=\"sk-label sk-toggleable\"><input class=\"sk-toggleable__control sk-hidden--visually\" id=\"sk-estimator-id-5\" type=\"checkbox\" ><label for=\"sk-estimator-id-5\" class=\"sk-toggleable__label sk-toggleable__label-arrow\">estimator: GradientBoostingClassifier</label><div class=\"sk-toggleable__content\"><pre>GradientBoostingClassifier(max_depth=4, n_estimators=50, random_state=99)</pre></div></div></div><div class=\"sk-serial\"><div class=\"sk-item\"><div class=\"sk-estimator sk-toggleable\"><input class=\"sk-toggleable__control sk-hidden--visually\" id=\"sk-estimator-id-6\" type=\"checkbox\" ><label for=\"sk-estimator-id-6\" class=\"sk-toggleable__label sk-toggleable__label-arrow\">GradientBoostingClassifier</label><div class=\"sk-toggleable__content\"><pre>GradientBoostingClassifier(max_depth=4, n_estimators=50, random_state=99)</pre></div></div></div></div></div></div></div></div></div></div>"
            ],
            "text/plain": [
              "GridSearchCV(cv=5,\n",
              "             estimator=GradientBoostingClassifier(max_depth=4, n_estimators=50,\n",
              "                                                  random_state=99),\n",
              "             param_grid={'learning_rate': [0.1, 0.2, 0.3, 0.4, 0.5, 0.6, 0.7,\n",
              "                                           0.8, 0.9, 1.0],\n",
              "                         'loss': ['log_loss', 'exponential']})"
            ]
          },
          "execution_count": 19,
          "metadata": {},
          "output_type": "execute_result"
        }
      ],
      "source": [
        "# learning_rate and loss\n",
        "params = {'learning_rate': [x/10 for x in range(1,11,1)],\n",
        "          'loss': ['log_loss','exponential']}\n",
        "\n",
        "clf = ensemble.GradientBoostingClassifier(max_depth=4,n_estimators=50,random_state=99)\n",
        "gscv = GridSearchCV(clf,params,cv=5)\n",
        "gscv.fit(X,y)"
      ]
    },
    {
      "cell_type": "code",
      "execution_count": 20,
      "metadata": {
        "colab": {
          "base_uri": "https://localhost:8080/"
        },
        "id": "rUJiR7w0_U0U",
        "outputId": "5495bdc9-a89a-49fd-d354-9d064621d582"
      },
      "outputs": [
        {
          "data": {
            "text/plain": [
              "({'learning_rate': 0.1, 'loss': 'exponential'}, 0.7518119061338396)"
            ]
          },
          "execution_count": 20,
          "metadata": {},
          "output_type": "execute_result"
        }
      ],
      "source": [
        "# Look at scores\n",
        "gscv.best_params_, gscv.best_score_"
      ]
    },
    {
      "cell_type": "code",
      "execution_count": 21,
      "metadata": {
        "colab": {
          "base_uri": "https://localhost:8080/",
          "height": 118
        },
        "id": "rrMG8liLB3gs",
        "outputId": "d77b7370-f3b7-4958-dd10-8ca19d72cdc3"
      },
      "outputs": [
        {
          "data": {
            "text/html": [
              "<style>#sk-container-id-3 {color: black;background-color: white;}#sk-container-id-3 pre{padding: 0;}#sk-container-id-3 div.sk-toggleable {background-color: white;}#sk-container-id-3 label.sk-toggleable__label {cursor: pointer;display: block;width: 100%;margin-bottom: 0;padding: 0.3em;box-sizing: border-box;text-align: center;}#sk-container-id-3 label.sk-toggleable__label-arrow:before {content: \"▸\";float: left;margin-right: 0.25em;color: #696969;}#sk-container-id-3 label.sk-toggleable__label-arrow:hover:before {color: black;}#sk-container-id-3 div.sk-estimator:hover label.sk-toggleable__label-arrow:before {color: black;}#sk-container-id-3 div.sk-toggleable__content {max-height: 0;max-width: 0;overflow: hidden;text-align: left;background-color: #f0f8ff;}#sk-container-id-3 div.sk-toggleable__content pre {margin: 0.2em;color: black;border-radius: 0.25em;background-color: #f0f8ff;}#sk-container-id-3 input.sk-toggleable__control:checked~div.sk-toggleable__content {max-height: 200px;max-width: 100%;overflow: auto;}#sk-container-id-3 input.sk-toggleable__control:checked~label.sk-toggleable__label-arrow:before {content: \"▾\";}#sk-container-id-3 div.sk-estimator input.sk-toggleable__control:checked~label.sk-toggleable__label {background-color: #d4ebff;}#sk-container-id-3 div.sk-label input.sk-toggleable__control:checked~label.sk-toggleable__label {background-color: #d4ebff;}#sk-container-id-3 input.sk-hidden--visually {border: 0;clip: rect(1px 1px 1px 1px);clip: rect(1px, 1px, 1px, 1px);height: 1px;margin: -1px;overflow: hidden;padding: 0;position: absolute;width: 1px;}#sk-container-id-3 div.sk-estimator {font-family: monospace;background-color: #f0f8ff;border: 1px dotted black;border-radius: 0.25em;box-sizing: border-box;margin-bottom: 0.5em;}#sk-container-id-3 div.sk-estimator:hover {background-color: #d4ebff;}#sk-container-id-3 div.sk-parallel-item::after {content: \"\";width: 100%;border-bottom: 1px solid gray;flex-grow: 1;}#sk-container-id-3 div.sk-label:hover label.sk-toggleable__label {background-color: #d4ebff;}#sk-container-id-3 div.sk-serial::before {content: \"\";position: absolute;border-left: 1px solid gray;box-sizing: border-box;top: 0;bottom: 0;left: 50%;z-index: 0;}#sk-container-id-3 div.sk-serial {display: flex;flex-direction: column;align-items: center;background-color: white;padding-right: 0.2em;padding-left: 0.2em;position: relative;}#sk-container-id-3 div.sk-item {position: relative;z-index: 1;}#sk-container-id-3 div.sk-parallel {display: flex;align-items: stretch;justify-content: center;background-color: white;position: relative;}#sk-container-id-3 div.sk-item::before, #sk-container-id-3 div.sk-parallel-item::before {content: \"\";position: absolute;border-left: 1px solid gray;box-sizing: border-box;top: 0;bottom: 0;left: 50%;z-index: -1;}#sk-container-id-3 div.sk-parallel-item {display: flex;flex-direction: column;z-index: 1;position: relative;background-color: white;}#sk-container-id-3 div.sk-parallel-item:first-child::after {align-self: flex-end;width: 50%;}#sk-container-id-3 div.sk-parallel-item:last-child::after {align-self: flex-start;width: 50%;}#sk-container-id-3 div.sk-parallel-item:only-child::after {width: 0;}#sk-container-id-3 div.sk-dashed-wrapped {border: 1px dashed gray;margin: 0 0.4em 0.5em 0.4em;box-sizing: border-box;padding-bottom: 0.4em;background-color: white;}#sk-container-id-3 div.sk-label label {font-family: monospace;font-weight: bold;display: inline-block;line-height: 1.2em;}#sk-container-id-3 div.sk-label-container {text-align: center;}#sk-container-id-3 div.sk-container {/* jupyter's `normalize.less` sets `[hidden] { display: none; }` but bootstrap.min.css set `[hidden] { display: none !important; }` so we also need the `!important` here to be able to override the default hidden behavior on the sphinx rendered scikit-learn.org. See: https://github.com/scikit-learn/scikit-learn/issues/21755 */display: inline-block !important;position: relative;}#sk-container-id-3 div.sk-text-repr-fallback {display: none;}</style><div id=\"sk-container-id-3\" class=\"sk-top-container\"><div class=\"sk-text-repr-fallback\"><pre>GridSearchCV(cv=5,\n",
              "             estimator=GradientBoostingClassifier(loss=&#x27;exponential&#x27;,\n",
              "                                                  max_depth=4, n_estimators=50,\n",
              "                                                  random_state=99),\n",
              "             param_grid={&#x27;min_samples_split&#x27;: [2, 4, 8, 16, 32, 64, 128, 256],\n",
              "                         &#x27;subsample&#x27;: [0.5, 0.55, 0.6, 0.65, 0.7, 0.75, 0.8,\n",
              "                                       0.85, 0.9, 0.95]})</pre><b>In a Jupyter environment, please rerun this cell to show the HTML representation or trust the notebook. <br />On GitHub, the HTML representation is unable to render, please try loading this page with nbviewer.org.</b></div><div class=\"sk-container\" hidden><div class=\"sk-item sk-dashed-wrapped\"><div class=\"sk-label-container\"><div class=\"sk-label sk-toggleable\"><input class=\"sk-toggleable__control sk-hidden--visually\" id=\"sk-estimator-id-7\" type=\"checkbox\" ><label for=\"sk-estimator-id-7\" class=\"sk-toggleable__label sk-toggleable__label-arrow\">GridSearchCV</label><div class=\"sk-toggleable__content\"><pre>GridSearchCV(cv=5,\n",
              "             estimator=GradientBoostingClassifier(loss=&#x27;exponential&#x27;,\n",
              "                                                  max_depth=4, n_estimators=50,\n",
              "                                                  random_state=99),\n",
              "             param_grid={&#x27;min_samples_split&#x27;: [2, 4, 8, 16, 32, 64, 128, 256],\n",
              "                         &#x27;subsample&#x27;: [0.5, 0.55, 0.6, 0.65, 0.7, 0.75, 0.8,\n",
              "                                       0.85, 0.9, 0.95]})</pre></div></div></div><div class=\"sk-parallel\"><div class=\"sk-parallel-item\"><div class=\"sk-item\"><div class=\"sk-label-container\"><div class=\"sk-label sk-toggleable\"><input class=\"sk-toggleable__control sk-hidden--visually\" id=\"sk-estimator-id-8\" type=\"checkbox\" ><label for=\"sk-estimator-id-8\" class=\"sk-toggleable__label sk-toggleable__label-arrow\">estimator: GradientBoostingClassifier</label><div class=\"sk-toggleable__content\"><pre>GradientBoostingClassifier(loss=&#x27;exponential&#x27;, max_depth=4, n_estimators=50,\n",
              "                           random_state=99)</pre></div></div></div><div class=\"sk-serial\"><div class=\"sk-item\"><div class=\"sk-estimator sk-toggleable\"><input class=\"sk-toggleable__control sk-hidden--visually\" id=\"sk-estimator-id-9\" type=\"checkbox\" ><label for=\"sk-estimator-id-9\" class=\"sk-toggleable__label sk-toggleable__label-arrow\">GradientBoostingClassifier</label><div class=\"sk-toggleable__content\"><pre>GradientBoostingClassifier(loss=&#x27;exponential&#x27;, max_depth=4, n_estimators=50,\n",
              "                           random_state=99)</pre></div></div></div></div></div></div></div></div></div></div>"
            ],
            "text/plain": [
              "GridSearchCV(cv=5,\n",
              "             estimator=GradientBoostingClassifier(loss='exponential',\n",
              "                                                  max_depth=4, n_estimators=50,\n",
              "                                                  random_state=99),\n",
              "             param_grid={'min_samples_split': [2, 4, 8, 16, 32, 64, 128, 256],\n",
              "                         'subsample': [0.5, 0.55, 0.6, 0.65, 0.7, 0.75, 0.8,\n",
              "                                       0.85, 0.9, 0.95]})"
            ]
          },
          "execution_count": 21,
          "metadata": {},
          "output_type": "execute_result"
        }
      ],
      "source": [
        "# subsample and min_samples_split\n",
        "params = {'subsample': [x/20 for x in range(10,20,1)],\n",
        "          'min_samples_split': [2**x for x in range(1,9)]}\n",
        "\n",
        "clf = ensemble.GradientBoostingClassifier(max_depth=4,n_estimators=50,learning_rate=0.1,loss='exponential',random_state=99)\n",
        "gscv = GridSearchCV(clf,params,cv=5)\n",
        "gscv.fit(X,y)"
      ]
    },
    {
      "cell_type": "code",
      "execution_count": 22,
      "metadata": {
        "colab": {
          "base_uri": "https://localhost:8080/"
        },
        "id": "vcoZVHhdB30R",
        "outputId": "3836a95b-7138-49bf-a042-4fc0feda464a"
      },
      "outputs": [
        {
          "data": {
            "text/plain": [
              "({'min_samples_split': 32, 'subsample': 0.9}, 0.75291687850953)"
            ]
          },
          "execution_count": 22,
          "metadata": {},
          "output_type": "execute_result"
        }
      ],
      "source": [
        "# Look at scores\n",
        "gscv.best_params_, gscv.best_score_"
      ]
    },
    {
      "cell_type": "code",
      "execution_count": 37,
      "metadata": {
        "colab": {
          "base_uri": "https://localhost:8080/"
        },
        "id": "OELfGCzkkxcf",
        "outputId": "d2dd9eb3-9641-4d21-bd58-e46521033218"
      },
      "outputs": [
        {
          "name": "stdout",
          "output_type": "stream",
          "text": [
            "Training set accuracy:\n",
            "Training accuracy: 0.7782722111400951\n",
            "Training precision: 0.8437094682230869\n",
            "Training recall: 0.5193612774451097\n",
            "Percent Type I errors: 0.03698020561608102\n",
            "Percent Type II errors: 0.18474758324382384\n",
            "\n",
            "Test set accuracy:\n",
            "Test accuracy: 0.7588957055214723\n",
            "Test precision: 0.7633928571428571\n",
            "Test recall: 0.5437201907790143\n",
            "Percent Type I errors: 0.06503067484662577\n",
            "Percent Type II errors: 0.17607361963190185\n"
          ]
        }
      ],
      "source": [
        "# These are reasonably good parameters.\n",
        "params = {'loss': 'log_loss', # we should be using log_loss\n",
        "          'random_state': 99,\n",
        "          'max_depth': 4,\n",
        "          'n_estimators': 50,\n",
        "          'learning_rate': 0.1,\n",
        "          'subsample': 0.9,\n",
        "          'min_samples_split': 32,\n",
        "         }\n",
        "clf = ensemble.GradientBoostingClassifier(**params)\n",
        "run_the_model(params,X_train,X_test,y_train,y_test)"
      ]
    },
    {
      "cell_type": "markdown",
      "metadata": {
        "id": "37DV6A2plIOx"
      },
      "source": [
        "We see significantly better accuracy, recall, and precision. We can also verify that the confusion matrix more accurately predicts the correct classes."
      ]
    },
    {
      "cell_type": "code",
      "execution_count": 39,
      "metadata": {
        "colab": {
          "base_uri": "https://localhost:8080/",
          "height": 490
        },
        "id": "z2RE9BsalPdY",
        "outputId": "f318a670-8f13-4fa2-f9f0-340f6efdabf4"
      },
      "outputs": [
        {
          "name": "stdout",
          "output_type": "stream",
          "text": [
            "Confusion matrix, without normalization\n"
          ]
        },
        {
          "data": {
            "image/png": "[encoded data removed]",
            "text/plain": [
              "<Figure size 640x480 with 2 Axes>"
            ]
          },
          "metadata": {},
          "output_type": "display_data"
        }
      ],
      "source": [
        "clf.fit(X_train, y_train)\n",
        "predict_test = clf.predict(X_test)\n",
        "cm = confusion_matrix(y_test, predict_test)\n",
        "plot_confusion_matrix(cm,[0,1],False)"
      ]
    },
    {
      "cell_type": "code",
      "execution_count": 40,
      "metadata": {
        "colab": {
          "base_uri": "https://localhost:8080/",
          "height": 490
        },
        "id": "hcEk9TCYldCt",
        "outputId": "da75be84-9a22-4fed-b819-6609dae93e9c"
      },
      "outputs": [
        {
          "name": "stdout",
          "output_type": "stream",
          "text": [
            "Normalized confusion matrix\n"
          ]
        },
        {
          "data": {
            "image/png": "[encoded data removed]",
            "text/plain": [
              "<Figure size 640x480 with 2 Axes>"
            ]
          },
          "metadata": {},
          "output_type": "display_data"
        }
      ],
      "source": [
        "cm = confusion_matrix(y_test, predict_test)\n",
        "plot_confusion_matrix(cm,[0,1],True)"
      ]
    }
  ],
  "metadata": {
    "accelerator": "GPU",
    "colab": {
      "gpuType": "T4",
      "provenance": []
    },
    "hide_input": false,
    "kernelspec": {
      "display_name": "Python 3",
      "name": "python3"
    },
    "language_info": {
      "codemirror_mode": {
        "name": "ipython",
        "version": 3
      },
      "file_extension": ".py",
      "mimetype": "text/x-python",
      "name": "python",
      "nbconvert_exporter": "python",
      "pygments_lexer": "ipython3",
      "version": "3.9.12"
    },
    "toc": {
      "colors": {
        "hover_highlight": "#DAA520",
        "running_highlight": "#FF0000",
        "selected_highlight": "#FFD700"
      },
      "moveMenuLeft": true,
      "nav_menu": {
        "height": "59px",
        "width": "252px"
      },
      "navigate_menu": true,
      "number_sections": true,
      "sideBar": true,
      "threshold": 4,
      "toc_cell": false,
      "toc_section_display": "block",
      "toc_window_display": false
    }
  },
  "nbformat": 4,
  "nbformat_minor": 0
}
