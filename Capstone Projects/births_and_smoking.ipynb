{
  "nbformat": 4,
  "nbformat_minor": 0,
  "metadata": {
    "colab": {
      "provenance": [],
      "authorship_tag": "ABX9TyPFCo7+3Ka8OcDJJoQCzUr5",
      "include_colab_link": true
    },
    "kernelspec": {
      "name": "python3",
      "display_name": "Python 3"
    },
    "language_info": {
      "name": "python"
    }
  },
  "cells": [
    {
      "cell_type": "markdown",
      "metadata": {
        "id": "view-in-github",
        "colab_type": "text"
      },
      "source": [
        "<a href=\"https://colab.research.google.com/github/matthewshawnkehoe/Thinkful/blob/main/births_and_smoking.ipynb\" target=\"_parent\"><img src=\"https://colab.research.google.com/assets/colab-badge.svg\" alt=\"Open In Colab\"/></a>"
      ]
    },
    {
      "cell_type": "markdown",
      "source": [
        "# Does smoking cause low birth weight?\n",
        "\n",
        "## Introduction\n",
        "As data scientists at a large healthcare organization, we constantly strive to find ways which can improve human health and longevity. During an annual meeting of maternal health, a couple of members from the audience asked if there was a data-driven method of finding factors that impact the health of newborns. A couple of pregnant women were smokers and asked if smoking would negatively impact the health of their unborn children. Interested in answering this question analytically, we decided to use a data-driven approach through A/B testing.\n",
        "\n",
        "We decided that the birth weight of a newborn is a good indentifier of overall health and that we would like to identify if smoking decreases the birth weight of newborns. Our analysis will benefit current and future mothers, physicians, and healthcare organizations."
      ],
      "metadata": {
        "id": "Z-rfzeN_KT_K"
      }
    },
    {
      "cell_type": "markdown",
      "source": [
        "![](https://www.verywellfamily.com/thmb/xVJtWvUQ4OG6Zo688kUEUc-chto=/750x0/filters:no_upscale():max_bytes(150000):strip_icc():format(webp)/baby-birth-weight-statistics-9b84ab741b2e4eefbdc4f399037558f9.jpg)"
      ],
      "metadata": {
        "id": "e2UMqRYwLRgJ"
      }
    },
    {
      "cell_type": "markdown",
      "source": [
        "Image Source: [Physical Growth in Newborns](https://www.uofmhealth.org/health-library/te6295)"
      ],
      "metadata": {
        "id": "AASKaUnYLapX"
      }
    },
    {
      "cell_type": "markdown",
      "source": [
        "## Table of Contents\n",
        "---\n",
        "- [Introduction](#Introduction)\n",
        "- [Hypothesis](#Hypothesis)\n",
        "- [Data Analysis](#Data-Analysis)\n",
        "- [Methods](#Test-Statistic)\n",
        "- [Results](#Further-Analysis-through-Additional-Variables)\n",
        "- [Discussion and recommendations](#Discussion-and-recommendations)"
      ],
      "metadata": {
        "id": "0YtGnPxmPvm_"
      }
    },
    {
      "cell_type": "markdown",
      "source": [
        "## Hypothesis\n",
        "To decide if smoking impacts the health of newborns, we formed the following **null (H₀)** hypothesis and **alternative (Hₐ)** hypothesis.\n",
        "\n",
        "**H₀:** In the population, the birth weight distribution is the same whether the mother smokes or not. Smoking does not impact birth weight.\n",
        "\n",
        "**Hₐ:**  In the population, smokers' babies have a lower birth weight on average than those of non-smokers."
      ],
      "metadata": {
        "id": "rzoej-iVonnn"
      }
    },
    {
      "cell_type": "markdown",
      "source": [
        "## Data Analysis\n",
        "\n",
        "To avoid spending money on organizing a survey ourselves, we'll make use of existing data to determine whether we can answer our hypothesis. One good candidate for our purpose is the [Berkeley Stats Lab](https://www.stat.berkeley.edu/~statlabs/labs.html) birth weight data. The survey data is publicly available in [this GitHub repository](https://github.com/data-8/textbook). Below, we'll do a quick exploration of the `baby.csv` file stored in the repository just mentioned. We'll read in the file using the direct link [here](https://github.com/data-8/textbook/tree/main/assets/data/baby.csv).\n",
        "\n",
        "A quick search shows that the dataset contains 1,174 observations and 6 variables. More specifically, the variables are\n",
        "\n",
        "* `birth weight`: the baby's birth weight in ounces\n",
        "* `gestational days`: the number of gestational days\n",
        "* `maternal age`: the mother's age in years\n",
        "* `maternal height`: the mother's height in inches\n",
        "* `maternal pregnancy weight`: the mother's pregnancy weight in pounds\n",
        "* `maternal smoker`: whether or not the mother smoked during pregnancy\n",
        "\n",
        "We will now explore the data."
      ],
      "metadata": {
        "id": "B4JRcN2uptWD"
      }
    },
    {
      "cell_type": "code",
      "source": [
        "# Load libraries and configure environment\n",
        "import math\n",
        "import pandas as pd\n",
        "import numpy as np\n",
        "import matplotlib.pyplot as plt\n",
        "import seaborn as sns\n",
        "%matplotlib inline\n",
        "from scipy import stats\n",
        "plt.style.use('fivethirtyeight')\n",
        "\n",
        "# This doesn't work so I directly put the file it Google Colab\n",
        "# births = pd.read_csv(\"https://github.com/data-8/textbook/tree/main/assets/data/baby.csv\")\n",
        "births = pd.read_csv(\"baby.csv\")\n",
        "\n",
        "# Convert column headers to lower case for ease of coding\n",
        "births.columns = births.columns.str.lower()\n",
        "\n",
        "# Inspect data\n",
        "print(births.shape)\n",
        "\n",
        "births.info()\n",
        "births.head()"
      ],
      "metadata": {
        "id": "xjFGn8RFqHcm",
        "outputId": "993f28e8-cf34-41a5-9cfa-d81ebcd91576",
        "colab": {
          "base_uri": "https://localhost:8080/",
          "height": 463
        }
      },
      "execution_count": 10,
      "outputs": [
        {
          "output_type": "stream",
          "name": "stdout",
          "text": [
            "(1174, 6)\n",
            "<class 'pandas.core.frame.DataFrame'>\n",
            "RangeIndex: 1174 entries, 0 to 1173\n",
            "Data columns (total 6 columns):\n",
            " #   Column                     Non-Null Count  Dtype\n",
            "---  ------                     --------------  -----\n",
            " 0   birth weight               1174 non-null   int64\n",
            " 1   gestational days           1174 non-null   int64\n",
            " 2   maternal age               1174 non-null   int64\n",
            " 3   maternal height            1174 non-null   int64\n",
            " 4   maternal pregnancy weight  1174 non-null   int64\n",
            " 5   maternal smoker            1174 non-null   bool \n",
            "dtypes: bool(1), int64(5)\n",
            "memory usage: 47.1 KB\n"
          ]
        },
        {
          "output_type": "execute_result",
          "data": {
            "text/plain": [
              "   birth weight  gestational days  maternal age  maternal height  \\\n",
              "0           120               284            27               62   \n",
              "1           113               282            33               64   \n",
              "2           128               279            28               64   \n",
              "3           108               282            23               67   \n",
              "4           136               286            25               62   \n",
              "\n",
              "   maternal pregnancy weight  maternal smoker  \n",
              "0                        100            False  \n",
              "1                        135            False  \n",
              "2                        115             True  \n",
              "3                        125             True  \n",
              "4                         93            False  "
            ],
            "text/html": [
              "\n",
              "  <div id=\"df-466f4544-440f-4475-84f0-0cddd45aaaf5\" class=\"colab-df-container\">\n",
              "    <div>\n",
              "<style scoped>\n",
              "    .dataframe tbody tr th:only-of-type {\n",
              "        vertical-align: middle;\n",
              "    }\n",
              "\n",
              "    .dataframe tbody tr th {\n",
              "        vertical-align: top;\n",
              "    }\n",
              "\n",
              "    .dataframe thead th {\n",
              "        text-align: right;\n",
              "    }\n",
              "</style>\n",
              "<table border=\"1\" class=\"dataframe\">\n",
              "  <thead>\n",
              "    <tr style=\"text-align: right;\">\n",
              "      <th></th>\n",
              "      <th>birth weight</th>\n",
              "      <th>gestational days</th>\n",
              "      <th>maternal age</th>\n",
              "      <th>maternal height</th>\n",
              "      <th>maternal pregnancy weight</th>\n",
              "      <th>maternal smoker</th>\n",
              "    </tr>\n",
              "  </thead>\n",
              "  <tbody>\n",
              "    <tr>\n",
              "      <th>0</th>\n",
              "      <td>120</td>\n",
              "      <td>284</td>\n",
              "      <td>27</td>\n",
              "      <td>62</td>\n",
              "      <td>100</td>\n",
              "      <td>False</td>\n",
              "    </tr>\n",
              "    <tr>\n",
              "      <th>1</th>\n",
              "      <td>113</td>\n",
              "      <td>282</td>\n",
              "      <td>33</td>\n",
              "      <td>64</td>\n",
              "      <td>135</td>\n",
              "      <td>False</td>\n",
              "    </tr>\n",
              "    <tr>\n",
              "      <th>2</th>\n",
              "      <td>128</td>\n",
              "      <td>279</td>\n",
              "      <td>28</td>\n",
              "      <td>64</td>\n",
              "      <td>115</td>\n",
              "      <td>True</td>\n",
              "    </tr>\n",
              "    <tr>\n",
              "      <th>3</th>\n",
              "      <td>108</td>\n",
              "      <td>282</td>\n",
              "      <td>23</td>\n",
              "      <td>67</td>\n",
              "      <td>125</td>\n",
              "      <td>True</td>\n",
              "    </tr>\n",
              "    <tr>\n",
              "      <th>4</th>\n",
              "      <td>136</td>\n",
              "      <td>286</td>\n",
              "      <td>25</td>\n",
              "      <td>62</td>\n",
              "      <td>93</td>\n",
              "      <td>False</td>\n",
              "    </tr>\n",
              "  </tbody>\n",
              "</table>\n",
              "</div>\n",
              "    <div class=\"colab-df-buttons\">\n",
              "\n",
              "  <div class=\"colab-df-container\">\n",
              "    <button class=\"colab-df-convert\" onclick=\"convertToInteractive('df-466f4544-440f-4475-84f0-0cddd45aaaf5')\"\n",
              "            title=\"Convert this dataframe to an interactive table.\"\n",
              "            style=\"display:none;\">\n",
              "\n",
              "  <svg xmlns=\"http://www.w3.org/2000/svg\" height=\"24px\" viewBox=\"0 -960 960 960\">\n",
              "    <path d=\"M120-120v-720h720v720H120Zm60-500h600v-160H180v160Zm220 220h160v-160H400v160Zm0 220h160v-160H400v160ZM180-400h160v-160H180v160Zm440 0h160v-160H620v160ZM180-180h160v-160H180v160Zm440 0h160v-160H620v160Z\"/>\n",
              "  </svg>\n",
              "    </button>\n",
              "\n",
              "  <style>\n",
              "    .colab-df-container {\n",
              "      display:flex;\n",
              "      gap: 12px;\n",
              "    }\n",
              "\n",
              "    .colab-df-convert {\n",
              "      background-color: #E8F0FE;\n",
              "      border: none;\n",
              "      border-radius: 50%;\n",
              "      cursor: pointer;\n",
              "      display: none;\n",
              "      fill: #1967D2;\n",
              "      height: 32px;\n",
              "      padding: 0 0 0 0;\n",
              "      width: 32px;\n",
              "    }\n",
              "\n",
              "    .colab-df-convert:hover {\n",
              "      background-color: #E2EBFA;\n",
              "      box-shadow: 0px 1px 2px rgba(60, 64, 67, 0.3), 0px 1px 3px 1px rgba(60, 64, 67, 0.15);\n",
              "      fill: #174EA6;\n",
              "    }\n",
              "\n",
              "    .colab-df-buttons div {\n",
              "      margin-bottom: 4px;\n",
              "    }\n",
              "\n",
              "    [theme=dark] .colab-df-convert {\n",
              "      background-color: #3B4455;\n",
              "      fill: #D2E3FC;\n",
              "    }\n",
              "\n",
              "    [theme=dark] .colab-df-convert:hover {\n",
              "      background-color: #434B5C;\n",
              "      box-shadow: 0px 1px 3px 1px rgba(0, 0, 0, 0.15);\n",
              "      filter: drop-shadow(0px 1px 2px rgba(0, 0, 0, 0.3));\n",
              "      fill: #FFFFFF;\n",
              "    }\n",
              "  </style>\n",
              "\n",
              "    <script>\n",
              "      const buttonEl =\n",
              "        document.querySelector('#df-466f4544-440f-4475-84f0-0cddd45aaaf5 button.colab-df-convert');\n",
              "      buttonEl.style.display =\n",
              "        google.colab.kernel.accessAllowed ? 'block' : 'none';\n",
              "\n",
              "      async function convertToInteractive(key) {\n",
              "        const element = document.querySelector('#df-466f4544-440f-4475-84f0-0cddd45aaaf5');\n",
              "        const dataTable =\n",
              "          await google.colab.kernel.invokeFunction('convertToInteractive',\n",
              "                                                    [key], {});\n",
              "        if (!dataTable) return;\n",
              "\n",
              "        const docLinkHtml = 'Like what you see? Visit the ' +\n",
              "          '<a target=\"_blank\" href=https://colab.research.google.com/notebooks/data_table.ipynb>data table notebook</a>'\n",
              "          + ' to learn more about interactive tables.';\n",
              "        element.innerHTML = '';\n",
              "        dataTable['output_type'] = 'display_data';\n",
              "        await google.colab.output.renderOutput(dataTable, element);\n",
              "        const docLink = document.createElement('div');\n",
              "        docLink.innerHTML = docLinkHtml;\n",
              "        element.appendChild(docLink);\n",
              "      }\n",
              "    </script>\n",
              "  </div>\n",
              "\n",
              "\n",
              "<div id=\"df-0ab96e9f-8373-4bf9-833b-01ad4628324c\">\n",
              "  <button class=\"colab-df-quickchart\" onclick=\"quickchart('df-0ab96e9f-8373-4bf9-833b-01ad4628324c')\"\n",
              "            title=\"Suggest charts.\"\n",
              "            style=\"display:none;\">\n",
              "\n",
              "<svg xmlns=\"http://www.w3.org/2000/svg\" height=\"24px\"viewBox=\"0 0 24 24\"\n",
              "     width=\"24px\">\n",
              "    <g>\n",
              "        <path d=\"M19 3H5c-1.1 0-2 .9-2 2v14c0 1.1.9 2 2 2h14c1.1 0 2-.9 2-2V5c0-1.1-.9-2-2-2zM9 17H7v-7h2v7zm4 0h-2V7h2v10zm4 0h-2v-4h2v4z\"/>\n",
              "    </g>\n",
              "</svg>\n",
              "  </button>\n",
              "\n",
              "<style>\n",
              "  .colab-df-quickchart {\n",
              "      --bg-color: #E8F0FE;\n",
              "      --fill-color: #1967D2;\n",
              "      --hover-bg-color: #E2EBFA;\n",
              "      --hover-fill-color: #174EA6;\n",
              "      --disabled-fill-color: #AAA;\n",
              "      --disabled-bg-color: #DDD;\n",
              "  }\n",
              "\n",
              "  [theme=dark] .colab-df-quickchart {\n",
              "      --bg-color: #3B4455;\n",
              "      --fill-color: #D2E3FC;\n",
              "      --hover-bg-color: #434B5C;\n",
              "      --hover-fill-color: #FFFFFF;\n",
              "      --disabled-bg-color: #3B4455;\n",
              "      --disabled-fill-color: #666;\n",
              "  }\n",
              "\n",
              "  .colab-df-quickchart {\n",
              "    background-color: var(--bg-color);\n",
              "    border: none;\n",
              "    border-radius: 50%;\n",
              "    cursor: pointer;\n",
              "    display: none;\n",
              "    fill: var(--fill-color);\n",
              "    height: 32px;\n",
              "    padding: 0;\n",
              "    width: 32px;\n",
              "  }\n",
              "\n",
              "  .colab-df-quickchart:hover {\n",
              "    background-color: var(--hover-bg-color);\n",
              "    box-shadow: 0 1px 2px rgba(60, 64, 67, 0.3), 0 1px 3px 1px rgba(60, 64, 67, 0.15);\n",
              "    fill: var(--button-hover-fill-color);\n",
              "  }\n",
              "\n",
              "  .colab-df-quickchart-complete:disabled,\n",
              "  .colab-df-quickchart-complete:disabled:hover {\n",
              "    background-color: var(--disabled-bg-color);\n",
              "    fill: var(--disabled-fill-color);\n",
              "    box-shadow: none;\n",
              "  }\n",
              "\n",
              "  .colab-df-spinner {\n",
              "    border: 2px solid var(--fill-color);\n",
              "    border-color: transparent;\n",
              "    border-bottom-color: var(--fill-color);\n",
              "    animation:\n",
              "      spin 1s steps(1) infinite;\n",
              "  }\n",
              "\n",
              "  @keyframes spin {\n",
              "    0% {\n",
              "      border-color: transparent;\n",
              "      border-bottom-color: var(--fill-color);\n",
              "      border-left-color: var(--fill-color);\n",
              "    }\n",
              "    20% {\n",
              "      border-color: transparent;\n",
              "      border-left-color: var(--fill-color);\n",
              "      border-top-color: var(--fill-color);\n",
              "    }\n",
              "    30% {\n",
              "      border-color: transparent;\n",
              "      border-left-color: var(--fill-color);\n",
              "      border-top-color: var(--fill-color);\n",
              "      border-right-color: var(--fill-color);\n",
              "    }\n",
              "    40% {\n",
              "      border-color: transparent;\n",
              "      border-right-color: var(--fill-color);\n",
              "      border-top-color: var(--fill-color);\n",
              "    }\n",
              "    60% {\n",
              "      border-color: transparent;\n",
              "      border-right-color: var(--fill-color);\n",
              "    }\n",
              "    80% {\n",
              "      border-color: transparent;\n",
              "      border-right-color: var(--fill-color);\n",
              "      border-bottom-color: var(--fill-color);\n",
              "    }\n",
              "    90% {\n",
              "      border-color: transparent;\n",
              "      border-bottom-color: var(--fill-color);\n",
              "    }\n",
              "  }\n",
              "</style>\n",
              "\n",
              "  <script>\n",
              "    async function quickchart(key) {\n",
              "      const quickchartButtonEl =\n",
              "        document.querySelector('#' + key + ' button');\n",
              "      quickchartButtonEl.disabled = true;  // To prevent multiple clicks.\n",
              "      quickchartButtonEl.classList.add('colab-df-spinner');\n",
              "      try {\n",
              "        const charts = await google.colab.kernel.invokeFunction(\n",
              "            'suggestCharts', [key], {});\n",
              "      } catch (error) {\n",
              "        console.error('Error during call to suggestCharts:', error);\n",
              "      }\n",
              "      quickchartButtonEl.classList.remove('colab-df-spinner');\n",
              "      quickchartButtonEl.classList.add('colab-df-quickchart-complete');\n",
              "    }\n",
              "    (() => {\n",
              "      let quickchartButtonEl =\n",
              "        document.querySelector('#df-0ab96e9f-8373-4bf9-833b-01ad4628324c button');\n",
              "      quickchartButtonEl.style.display =\n",
              "        google.colab.kernel.accessAllowed ? 'block' : 'none';\n",
              "    })();\n",
              "  </script>\n",
              "</div>\n",
              "    </div>\n",
              "  </div>\n"
            ]
          },
          "metadata": {},
          "execution_count": 10
        }
      ]
    },
    {
      "cell_type": "markdown",
      "source": [
        "We see that we have five numerical fields and a boolean representing categorical data for smoking. None of the fields have nulls, so we won't need to perform any data cleaning."
      ],
      "metadata": {
        "id": "6NAIGEYCo2BF"
      }
    },
    {
      "cell_type": "markdown",
      "source": [
        "## Methods"
      ],
      "metadata": {
        "id": "3ORGmMU4qV_P"
      }
    },
    {
      "cell_type": "markdown",
      "source": [
        "For our analysis, we will create two Dataframes, one containing the birth weight of mothers who are smokers and another containing the birth weight for mothers who don't smoke. We suspect that this will allow us to analytically answer our research question and decide if smoking influences birth weight.\n",
        "\n",
        "If the distributions of birth weights appear to be close to normally distributed based on their histogram, skewness, and kurtosis, we will conduct an independent samples t-test between the groups at the two-tail, 95% confidence interval.\n",
        "\n",
        "We first split the data into smokers and non-smokers."
      ],
      "metadata": {
        "id": "5MJ1RSRfqbY1"
      }
    },
    {
      "cell_type": "code",
      "source": [
        "smoker_yes = births[births['maternal smoker'] == True]\n",
        "smoker_no = births[births['maternal smoker'] == False]\n",
        "# Count number of smokers and non-smokers\n",
        "print(births['maternal smoker'].groupby(births['maternal smoker']).agg(['count']))"
      ],
      "metadata": {
        "id": "eDd9IqozrUYq",
        "outputId": "305aacc3-abed-43f0-bb4a-9bc6b780e9e3",
        "colab": {
          "base_uri": "https://localhost:8080/"
        }
      },
      "execution_count": 11,
      "outputs": [
        {
          "output_type": "stream",
          "name": "stdout",
          "text": [
            "                 count\n",
            "maternal smoker       \n",
            "False              715\n",
            "True               459\n"
          ]
        }
      ]
    },
    {
      "cell_type": "markdown",
      "source": [
        "We see that there are 459 smokers and 715 nonsmokers among the 1174 women sampled. Now we will check if the data is normally distributed."
      ],
      "metadata": {
        "id": "Yfi_yeWYrXBk"
      }
    },
    {
      "cell_type": "code",
      "source": [
        "plt.hist(smoker_yes['birth weight'], alpha = .5, label = \"smoker yes\")\n",
        "plt.hist(smoker_no['birth weight'], alpha = .5, label = \"smoker no\")\n",
        "plt.legend(loc=\"upper right\")\n",
        "plt.xlabel('Birth Weight')\n",
        "plt.title(\"Birth Weight of Smokers and Non-Smokers\")\n",
        "plt.show()"
      ],
      "metadata": {
        "id": "5n7Sujvorf4Q",
        "outputId": "cb4481a2-e947-41f4-a1fb-cdf173cce3b7",
        "colab": {
          "base_uri": "https://localhost:8080/",
          "height": 508
        }
      },
      "execution_count": 19,
      "outputs": [
        {
          "output_type": "display_data",
          "data": {
            "text/plain": [
              "<Figure size 640x480 with 1 Axes>"
            ],
            "image/png": "[encoded data removed]"
          },
          "metadata": {}
        }
      ]
    },
    {
      "cell_type": "code",
      "source": [
        "print(stats.describe(smoker_yes['birth weight']))\n",
        "print(stats.describe(smoker_no['birth weight']))"
      ],
      "metadata": {
        "id": "vjq1Dm0grlra",
        "outputId": "c6ce4f54-63f9-4654-baa4-975f17228fec",
        "colab": {
          "base_uri": "https://localhost:8080/"
        }
      },
      "execution_count": 13,
      "outputs": [
        {
          "output_type": "stream",
          "name": "stdout",
          "text": [
            "DescribeResult(nobs=459, minmax=(58, 163), mean=113.81917211328977, variance=334.7074045532817, skewness=-0.02118644337959522, kurtosis=-0.05246237500936468)\n",
            "DescribeResult(nobs=715, minmax=(55, 176), mean=123.08531468531469, variance=303.58514818514817, skewness=-0.16278727504369808, kurtosis=1.0168432036227957)\n"
          ]
        }
      ]
    },
    {
      "cell_type": "markdown",
      "source": [
        "Our results show that our data is normally distributed and we now conduct our t-test and look at the 95% confidence interval."
      ],
      "metadata": {
        "id": "EQrtX0QXrqwG"
      }
    },
    {
      "cell_type": "code",
      "source": [
        "# Conduct the t-test\n",
        "stats.ttest_ind(smoker_yes['birth weight'], smoker_no['birth weight'])"
      ],
      "metadata": {
        "id": "XIO1b5HlsU2_",
        "outputId": "e46b5a30-9395-49ae-b18d-a43937cd1b9d",
        "colab": {
          "base_uri": "https://localhost:8080/"
        }
      },
      "execution_count": 14,
      "outputs": [
        {
          "output_type": "execute_result",
          "data": {
            "text/plain": [
              "TtestResult(statistic=-8.718755502379533, pvalue=9.461067881089321e-18, df=1172.0)"
            ]
          },
          "metadata": {},
          "execution_count": 14
        }
      ]
    },
    {
      "cell_type": "code",
      "source": [
        "# Confidence interval\n",
        "def get_95_ci(array_1, array_2):\n",
        "    sample_1_n = array_1.shape[0]\n",
        "    sample_2_n = array_2.shape[0]\n",
        "    sample_1_mean = array_1.mean()\n",
        "    sample_2_mean = array_2.mean()\n",
        "    sample_1_var = array_1.var()\n",
        "    sample_2_var = array_2.var()\n",
        "    mean_difference = sample_2_mean - sample_1_mean\n",
        "    std_err_difference = math.sqrt((sample_1_var/sample_1_n)+(sample_2_var/sample_2_n))\n",
        "    margin_of_error = 1.96 * std_err_difference\n",
        "    ci_lower = mean_difference - margin_of_error\n",
        "    ci_upper = mean_difference + margin_of_error\n",
        "    return(\"The difference in means at the 95% confidence interval (two-tail) is between \"+str(ci_lower)+\" and \"+str(ci_upper)+\".\")"
      ],
      "metadata": {
        "id": "gctX25oqshlw"
      },
      "execution_count": 15,
      "outputs": []
    },
    {
      "cell_type": "code",
      "source": [
        "print(get_95_ci(smoker_yes['birth weight'], smoker_no['birth weight']))"
      ],
      "metadata": {
        "id": "0jfB1jIrsnhP",
        "outputId": "c7cba1d6-3388-4c47-df8d-8db1d925e6de",
        "colab": {
          "base_uri": "https://localhost:8080/"
        }
      },
      "execution_count": 16,
      "outputs": [
        {
          "output_type": "stream",
          "name": "stdout",
          "text": [
            "The difference in means at the 95% confidence interval (two-tail) is between 7.160802712877646 and 11.37148243117219.\n"
          ]
        }
      ]
    },
    {
      "cell_type": "code",
      "source": [
        "def get_95_ci_for_viz(array_1, array_2):\n",
        "    sample_1_n = array_1.shape[0]\n",
        "    sample_2_n = array_2.shape[0]\n",
        "    sample_1_mean = array_1.mean()\n",
        "    sample_2_mean = array_2.mean()\n",
        "    sample_1_var = array_1.var()\n",
        "    sample_2_var = array_2.var()\n",
        "    mean_difference = sample_2_mean - sample_1_mean\n",
        "    std_err_difference = math.sqrt((sample_1_var/sample_1_n)+(sample_2_var/sample_2_n))\n",
        "    margin_of_error = 1.96 * std_err_difference\n",
        "    ci_lower = mean_difference - margin_of_error\n",
        "    ci_upper = mean_difference + margin_of_error\n",
        "    return ci_lower, ci_upper\n",
        "\n",
        "low, high = get_95_ci_for_viz(smoker_yes['birth weight'], smoker_no['birth weight'])\n",
        "\n",
        "# Plot results using a histogram\n",
        "plt.hist(low, alpha = .5, label = \"smoker yes\", width=0.5)\n",
        "plt.hist(high, alpha = .5, label = \"smoker no\", width=0.5)\n",
        "plt.legend(loc=\"upper right\")\n",
        "plt.xlabel('Birth Weight')\n",
        "plt.title(\"Birth Weight of Smokers and Non-Smokers\")\n",
        "plt.show()"
      ],
      "metadata": {
        "id": "zcqghY13F3dV",
        "outputId": "1e848470-64b3-4c50-d704-9f15d8adb5cd",
        "colab": {
          "base_uri": "https://localhost:8080/",
          "height": 508
        }
      },
      "execution_count": 31,
      "outputs": [
        {
          "output_type": "display_data",
          "data": {
            "text/plain": [
              "<Figure size 640x480 with 1 Axes>"
            ],
            "image/png": "[encoded data removed]"
          },
          "metadata": {}
        }
      ]
    },
    {
      "cell_type": "markdown",
      "source": [
        "We will also look at the mean of smokers and non-smokers. We see that the birth weight for smokers is lower than that of non-smokers."
      ],
      "metadata": {
        "id": "TRI_IdLsssa0"
      }
    },
    {
      "cell_type": "code",
      "source": [
        "print(f'The average birth weight for non-smokers is ',smoker_no['birth weight'].mean())\n",
        "print(f'The average birth weight for smokers is ',smoker_yes['birth weight'].mean())"
      ],
      "metadata": {
        "id": "MbgsPv-Ts_RV",
        "outputId": "05029aa7-4581-406c-94b0-aea768428e91",
        "colab": {
          "base_uri": "https://localhost:8080/"
        }
      },
      "execution_count": 32,
      "outputs": [
        {
          "output_type": "stream",
          "name": "stdout",
          "text": [
            "The average birth weight for non-smokers is  123.08531468531469\n",
            "The average birth weight for smokers is  113.81917211328977\n"
          ]
        }
      ]
    },
    {
      "cell_type": "code",
      "source": [
        "# Plot results using a bar chart\n",
        "\n",
        "DayOfWeekOfCall = [1,2]\n",
        "DispatchesOnThisWeekday = [smoker_yes['birth weight'].mean(), smoker_no['birth weight'].mean()]\n",
        "\n",
        "labels = [\"Smoking\", \"Non-Smoking\"]\n",
        "\n",
        "plt.bar(DayOfWeekOfCall, DispatchesOnThisWeekday, align='center', width = 0.5)\n",
        "plt.xticks(DayOfWeekOfCall, labels)\n",
        "plt.ylabel('ounces')\n",
        "plt.title('Average weight of newborns')\n",
        "plt.show()"
      ],
      "metadata": {
        "id": "Mdf7CZWwHEnu",
        "outputId": "5584c94c-e6c4-494f-f6a0-b468efb06357",
        "colab": {
          "base_uri": "https://localhost:8080/",
          "height": 479
        }
      },
      "execution_count": 40,
      "outputs": [
        {
          "output_type": "display_data",
          "data": {
            "text/plain": [
              "<Figure size 640x480 with 1 Axes>"
            ],
            "image/png": "[encoded data removed]"
          },
          "metadata": {}
        }
      ]
    },
    {
      "cell_type": "markdown",
      "source": [
        "## Results\n",
        "\n",
        "We set out to identify if smoking causes low birth weight. To simplify our data analysis, we used existing data from a study done at the Stats Lab at UC Berkeley. Using A/B testing, we confirmed that our data was normally distributed and that we could conduct a t-test. Our results showed a p-value of `9.46e-18`, indicating that smoking does influence the birth weight of newborns and mothers who smoke generally have babies with a lower birth weight.\n",
        "\n",
        "The 95% confidence interval suggests that the difference in birth weight between smokers and non-smokers is between 7.16 and 11.37 ounces. The average birth weight of smokers is 113.82 ounces while the average birth weight of non-smokers is 123.08 ounces."
      ],
      "metadata": {
        "id": "iX2mTOSKuG6L"
      }
    },
    {
      "cell_type": "markdown",
      "source": [
        "## Discussion and recommendation\n",
        "\n",
        "There is a wide range of negative health outcomes associated with a low birth weight. For example, it is closely associated with fetal and neonatal mortality and morbidity, inhibited growth and cognitive development as well as noncommunicable diseases in adulthood. Infants with low birth weight are about 20 times more likely to die than those with a higher birth weight. Therefore, we would like to further use data-driven analysis to help our healthcare orgnaization find other factors which cause low birth weight. We recommend the performing the following studies:\n",
        "\n",
        "* Given the five other variables included in the UC Berkley dataset, does gestation days, maternal age, maternal height, or maternal pregnancy weight impact the birth weight of newborns?\n",
        "* Does alcohol consumption decrease birth weight? We would need to look at data from a different data source or conduct a different study in order to see the effects of alcohol consumption.\n",
        "* Does variables from the father influence birth weight? We would once again need to perform a different study or use a different dataset."
      ],
      "metadata": {
        "id": "9CmJfq68uXfp"
      }
    },
    {
      "cell_type": "markdown",
      "source": [],
      "metadata": {
        "id": "fq_2dDWkKTS1"
      }
    }
  ]
}