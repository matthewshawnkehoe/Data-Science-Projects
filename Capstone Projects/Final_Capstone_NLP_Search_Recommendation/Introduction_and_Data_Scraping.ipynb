{
 "cells": [
  {
   "cell_type": "code",
   "execution_count": 1,
   "id": "e6d5bf62",
   "metadata": {},
   "outputs": [],
   "source": [
    "import requests\n",
    "import os\n",
    "import re\n",
    "from bs4 import BeautifulSoup\n",
    "import pandas as pd"
   ]
  },
  {
   "cell_type": "markdown",
   "id": "1c4586ea",
   "metadata": {},
   "source": [
    "Top Things to do from places in [50 Best Places to Travel in 2024](https://www.travelandleisure.com/best-places-to-go-2024-8385979).\n",
    "\n",
    "1.   Cartagena, Colombia: https://www.tripadvisor.com/Attractions-g297476-Activities-oa0-Cartagena_Cartagena_District_Bolivar_Department.html\n",
    "2.   Rajasthan, India: https://www.tripadvisor.com/Attractions-g297665-Activities-oa0-Rajasthan.html\n",
    "3.   Tallinn, Estonia: https://www.tripadvisor.com/Attractions-g274958-Activities-oa0-Tallinn_Harju_County.html\n",
    "4.   Warsaw, Poland: https://www.tripadvisor.com/Attractions-g274856-Activities-oa0-Warsaw_Mazovia_Province_Central_Poland.html\n",
    "5.   Mérida, Mexico: https://www.tripadvisor.com/Attractions-g150811-Activities-oa0-Merida_Yucatan_Peninsula.html\n",
    "6.   Fort Worth, Texas: https://www.tripadvisor.com/Attractions-g55857-Activities-oa0-Fort_Worth_Texas.html\n",
    "7.   Las Vegas, Nevada: https://www.tripadvisor.com/Attractions-g45963-Activities-oa0-Las_Vegas_Nevada.html\n",
    "8.   Paris, France: https://www.tripadvisor.com/Attractions-g187147-Activities-oa0-Paris_Ile_de_France.html\n",
    "9.   Egersund, Norway: https://www.tripadvisor.com/Attractions-g668814-Activities-oa0-Egersund_Eigersund_Municipality_Rogaland_Western_Norway.html\n",
    "10.  Hokkaido, Japan: https://www.tripadvisor.com/Attractions-g298143-Activities-oa0-Hokkaido.html\n",
    "11.  Wellington, New Zealand: https://www.tripadvisor.com/Attractions-g255115-Activities-oa0-Wellington_Greater_Wellington_North_Island.html\n",
    "12.  Costa Rica: https://www.tripadvisor.com/Attractions-g291982-Activities-oa0-Costa_Rica.html\n",
    "13.  Bahai, Brazil: https://www.tripadvisor.com/Attractions-g303251-Activities-oa0-State_of_Bahia.html\n",
    "14.  Sri Lanka, South Asia: https://www.tripadvisor.com/Attractions-g293961-Activities-oa0-Sri_Lanka.html\n",
    "15.  Porto, Portugal: https://www.tripadvisor.com/Attractions-g189180-Activities-oa0-Porto_Porto_District_Northern_Portugal.html"
   ]
  },
  {
   "cell_type": "code",
   "execution_count": 2,
   "id": "032a9682",
   "metadata": {},
   "outputs": [],
   "source": [
    "# Finds text inside \"Things to Do\" from places in Trip Advisor\n",
    "def find_things_to_do_text(url):\n",
    "    headers = {'User-Agent': 'Mozilla/5.0'}\n",
    "    r = requests.get(url, headers=headers)\n",
    "    soup = BeautifulSoup(r.content, 'lxml')\n",
    "    all_attractions = soup.find_all('div', class_='XfVdV o AIbhI')\n",
    "    results = [re.sub(r'^\\d+\\.', '', attraction.text).strip() for attraction in all_attractions]\n",
    "    return results\n",
    "\n",
    "# Gets 200 pages worth of \"Things to Do\" from a specific place in trip advisor\n",
    "def create_url_list(base_url,number,end):\n",
    "    url_list = []\n",
    "    for i in range(2, 201):\n",
    "        url = f'https://www.tripadvisor.com/Attractions-{number}-a_sort.-oa{30*i - 30}-{end}.html'\n",
    "        url_list.append(url)\n",
    "\n",
    "    # Insert the base URL at the beginning of the list\n",
    "    url_list.insert(0, base_url)\n",
    "    return url_list"
   ]
  },
  {
   "cell_type": "markdown",
   "id": "d7e85651",
   "metadata": {},
   "source": [
    "### Cartagena, Colombia"
   ]
  },
  {
   "cell_type": "code",
   "execution_count": 3,
   "id": "3e337d11",
   "metadata": {},
   "outputs": [],
   "source": [
    "base_url = 'https://www.tripadvisor.com/Attractions-g297476-Activities-oa0-Cartagena_Cartagena_District_Bolivar_Department.html'\n",
    "number = 'g297476'\n",
    "end = 'Cartagena_Cartagena_District_Bolivar_Department'\n",
    "url_list = create_url_list(base_url,number,end)\n",
    "\n",
    "all_things_to_do = []\n",
    "for url in url_list:\n",
    "    result = find_things_to_do_text(url)\n",
    "    all_things_to_do.extend(result)"
   ]
  },
  {
   "cell_type": "code",
   "execution_count": 4,
   "id": "29f32c27",
   "metadata": {},
   "outputs": [],
   "source": [
    "loc_dir = 'C:/Users/mskeh/Documents/GitHub/Thinkful/Capstone Projects/Final_Capstone_NLP_Search_Recommendation/Data'\n",
    "\n",
    "def make_all_things_to_do_csv(name, csv_name):\n",
    "    df = pd.DataFrame(all_things_to_do, columns=['Places'])\n",
    "    df['Place'] = name\n",
    "    csv_path = os.path.join(loc_dir, csv_name)\n",
    "    df.to_csv(csv_path, index=False)\n",
    "    return df\n",
    "    \n",
    "cartegena_df = make_all_things_to_do_csv('Cartagena, Colombia', 'cartagena.csv')"
   ]
  },
  {
   "cell_type": "markdown",
   "id": "be5fb545",
   "metadata": {},
   "source": [
    "### Rajasthan, India"
   ]
  },
  {
   "cell_type": "code",
   "execution_count": 5,
   "id": "5171de33",
   "metadata": {},
   "outputs": [],
   "source": [
    "base_url = 'https://www.tripadvisor.com/Attractions-g297665-Activities-oa0-Rajasthan.html'\n",
    "number = 'g297665'\n",
    "end = 'Rajasthan'\n",
    "url_list = create_url_list(base_url,number,end)\n",
    "\n",
    "all_things_to_do = []\n",
    "for url in url_list:\n",
    "    result = find_things_to_do_text(url)\n",
    "    all_things_to_do.extend(result)"
   ]
  },
  {
   "cell_type": "code",
   "execution_count": 6,
   "id": "e11fe553",
   "metadata": {},
   "outputs": [],
   "source": [
    "rajasthan_df = make_all_things_to_do_csv('Rajasthan, India', 'rajasthan.csv')"
   ]
  },
  {
   "cell_type": "markdown",
   "id": "b85d97a7",
   "metadata": {},
   "source": [
    "### Tallinn, Estonia"
   ]
  },
  {
   "cell_type": "code",
   "execution_count": 7,
   "id": "92f6ab39",
   "metadata": {},
   "outputs": [],
   "source": [
    "base_url = 'https://www.tripadvisor.com/Attractions-g274958-Activities-oa0-Tallinn_Harju_County.html'\n",
    "number = 'g274958'\n",
    "end = 'Tallinn_Harju_County'\n",
    "url_list = create_url_list(base_url,number,end)\n",
    "\n",
    "all_things_to_do = []\n",
    "for url in url_list:\n",
    "    result = find_things_to_do_text(url)\n",
    "    all_things_to_do.extend(result)"
   ]
  },
  {
   "cell_type": "code",
   "execution_count": 8,
   "id": "2106235b",
   "metadata": {},
   "outputs": [],
   "source": [
    "tallinn_df = make_all_things_to_do_csv('Tallinn, Estonia', 'tallinn.csv')"
   ]
  },
  {
   "cell_type": "markdown",
   "id": "2cbfe726",
   "metadata": {},
   "source": [
    "### Warsaw, Poland"
   ]
  },
  {
   "cell_type": "code",
   "execution_count": 9,
   "id": "86b677cd",
   "metadata": {},
   "outputs": [],
   "source": [
    "base_url = 'https://www.tripadvisor.com/Attractions-g274856-Activities-oa0-Warsaw_Mazovia_Province_Central_Poland.html'\n",
    "number = 'g274856'\n",
    "end = 'Warsaw_Mazovia_Province_Central_Poland'\n",
    "url_list = create_url_list(base_url,number,end)\n",
    "\n",
    "all_things_to_do = []\n",
    "for url in url_list:\n",
    "    result = find_things_to_do_text(url)\n",
    "    all_things_to_do.extend(result)"
   ]
  },
  {
   "cell_type": "code",
   "execution_count": 10,
   "id": "522f056a",
   "metadata": {},
   "outputs": [],
   "source": [
    "warsaw_df = make_all_things_to_do_csv('Warsaw, Poland', 'warsaw.csv')"
   ]
  },
  {
   "cell_type": "markdown",
   "id": "453b8bea",
   "metadata": {},
   "source": [
    "### Mérida, Mexico"
   ]
  },
  {
   "cell_type": "code",
   "execution_count": 11,
   "id": "f649606a",
   "metadata": {},
   "outputs": [],
   "source": [
    "base_url = 'https://www.tripadvisor.com/Attractions-g150811-Activities-oa0-Merida_Yucatan_Peninsula.html'\n",
    "number = 'g150811'\n",
    "end = 'Merida_Yucatan_Peninsula'\n",
    "url_list = create_url_list(base_url,number,end)\n",
    "\n",
    "all_things_to_do = []\n",
    "for url in url_list:\n",
    "    result = find_things_to_do_text(url)\n",
    "    all_things_to_do.extend(result)"
   ]
  },
  {
   "cell_type": "code",
   "execution_count": 12,
   "id": "5132e4de",
   "metadata": {},
   "outputs": [],
   "source": [
    "merida_df = make_all_things_to_do_csv('Mérida, Mexico', 'merida.csv')"
   ]
  },
  {
   "cell_type": "markdown",
   "id": "3bd658c1",
   "metadata": {},
   "source": [
    "### Fort Worth, Texas"
   ]
  },
  {
   "cell_type": "code",
   "execution_count": 13,
   "id": "85d05dce",
   "metadata": {},
   "outputs": [],
   "source": [
    "base_url = 'https://www.tripadvisor.com/Attractions-g55857-Activities-oa0-Fort_Worth_Texas.html'\n",
    "number = 'g55857'\n",
    "end = 'Fort_Worth_Texas'\n",
    "url_list = create_url_list(base_url,number,end)\n",
    "\n",
    "all_things_to_do = []\n",
    "for url in url_list:\n",
    "    result = find_things_to_do_text(url)\n",
    "    all_things_to_do.extend(result)"
   ]
  },
  {
   "cell_type": "code",
   "execution_count": 14,
   "id": "bbbf0d4b",
   "metadata": {},
   "outputs": [],
   "source": [
    "fort_worth_df = make_all_things_to_do_csv('Fort Worth, Texas', 'fort_worth.csv')"
   ]
  },
  {
   "cell_type": "markdown",
   "id": "ed2149c7",
   "metadata": {},
   "source": [
    "### Las Vegas, Nevada"
   ]
  },
  {
   "cell_type": "code",
   "execution_count": 15,
   "id": "1807c895",
   "metadata": {},
   "outputs": [],
   "source": [
    "base_url = 'https://www.tripadvisor.com/Attractions-g45963-Activities-oa0-Las_Vegas_Nevada.html'\n",
    "number = 'g45963'\n",
    "end = 'Las_Vegas_Nevada'\n",
    "url_list = create_url_list(base_url,number,end)\n",
    "\n",
    "all_things_to_do = []\n",
    "for url in url_list:\n",
    "    result = find_things_to_do_text(url)\n",
    "    all_things_to_do.extend(result)"
   ]
  },
  {
   "cell_type": "code",
   "execution_count": 16,
   "id": "2817472c",
   "metadata": {},
   "outputs": [],
   "source": [
    "las_vegas_df = make_all_things_to_do_csv('Las Vegas, Nevada', 'las_vegas.csv')"
   ]
  },
  {
   "cell_type": "markdown",
   "id": "8b6541f7",
   "metadata": {},
   "source": [
    "### Paris, France"
   ]
  },
  {
   "cell_type": "code",
   "execution_count": 17,
   "id": "cd3a4bf7",
   "metadata": {},
   "outputs": [],
   "source": [
    "base_url = 'https://www.tripadvisor.com/Attractions-g187147-Activities-oa0-Paris_Ile_de_France.html'\n",
    "number = 'g187147'\n",
    "end = 'Paris_Ile_de_France'\n",
    "url_list = create_url_list(base_url,number,end)\n",
    "\n",
    "all_things_to_do = []\n",
    "for url in url_list:\n",
    "    result = find_things_to_do_text(url)\n",
    "    all_things_to_do.extend(result)"
   ]
  },
  {
   "cell_type": "code",
   "execution_count": 18,
   "id": "ea587dd1",
   "metadata": {},
   "outputs": [],
   "source": [
    "paris_df = make_all_things_to_do_csv('Paris, France', 'paris.csv')"
   ]
  },
  {
   "cell_type": "markdown",
   "id": "87376867",
   "metadata": {},
   "source": [
    "### Egersund, Norway"
   ]
  },
  {
   "cell_type": "code",
   "execution_count": 19,
   "id": "71378b04",
   "metadata": {},
   "outputs": [],
   "source": [
    "base_url = 'https://www.tripadvisor.com/Attractions-g668814-Activities-oa0-Egersund_Eigersund_Municipality_Rogaland_Western_Norway.html'\n",
    "number = 'g668814'\n",
    "end = 'Egersund_Eigersund_Municipality_Rogaland_Western_Norway'\n",
    "url_list = create_url_list(base_url,number,end)\n",
    "\n",
    "all_things_to_do = []\n",
    "for url in url_list:\n",
    "    result = find_things_to_do_text(url)\n",
    "    all_things_to_do.extend(result)"
   ]
  },
  {
   "cell_type": "code",
   "execution_count": 20,
   "id": "5b5d6a64",
   "metadata": {},
   "outputs": [],
   "source": [
    "egersund_df = make_all_things_to_do_csv('Egersund, Norway', 'egersund.csv')"
   ]
  },
  {
   "cell_type": "markdown",
   "id": "14886169",
   "metadata": {},
   "source": [
    "### Hokkaido, Japan"
   ]
  },
  {
   "cell_type": "code",
   "execution_count": 21,
   "id": "9e096269",
   "metadata": {},
   "outputs": [],
   "source": [
    "base_url = 'https://www.tripadvisor.com/Attractions-g298143-Activities-oa0-Hokkaido.html'\n",
    "number = 'g298143'\n",
    "end = 'Hokkaido'\n",
    "url_list = create_url_list(base_url,number,end)\n",
    "\n",
    "all_things_to_do = []\n",
    "for url in url_list:\n",
    "    result = find_things_to_do_text(url)\n",
    "    all_things_to_do.extend(result)"
   ]
  },
  {
   "cell_type": "code",
   "execution_count": 22,
   "id": "1764f63c",
   "metadata": {},
   "outputs": [],
   "source": [
    "hokkaido_df = make_all_things_to_do_csv('Hokkaido, Japan', 'hokkaido.csv')"
   ]
  },
  {
   "cell_type": "markdown",
   "id": "ed4ea7e5",
   "metadata": {},
   "source": [
    "### Wellington, New Zealand"
   ]
  },
  {
   "cell_type": "code",
   "execution_count": 23,
   "id": "564c2665",
   "metadata": {},
   "outputs": [],
   "source": [
    "base_url = 'https://www.tripadvisor.com/Attractions-g255115-Activities-oa0-Wellington_Greater_Wellington_North_Island.html'\n",
    "number = 'g255115'\n",
    "end = 'Wellington_Greater_Wellington_North_Island'\n",
    "url_list = create_url_list(base_url,number,end)\n",
    "\n",
    "all_things_to_do = []\n",
    "for url in url_list:\n",
    "    result = find_things_to_do_text(url)\n",
    "    all_things_to_do.extend(result)"
   ]
  },
  {
   "cell_type": "code",
   "execution_count": 24,
   "id": "fc557610",
   "metadata": {},
   "outputs": [],
   "source": [
    "wellington_df = make_all_things_to_do_csv('Wellington, New Zealand', 'wellington.csv')"
   ]
  },
  {
   "cell_type": "markdown",
   "id": "fceff468",
   "metadata": {},
   "source": [
    "### Costa Rica, Central America"
   ]
  },
  {
   "cell_type": "code",
   "execution_count": 25,
   "id": "7df5c9e3",
   "metadata": {},
   "outputs": [],
   "source": [
    "base_url = 'https://www.tripadvisor.com/Attractions-g291982-Activities-oa0-Costa_Rica.html'\n",
    "number = 'g291982'\n",
    "end = 'Costa_Rica'\n",
    "url_list = create_url_list(base_url,number,end)\n",
    "\n",
    "all_things_to_do = []\n",
    "for url in url_list:\n",
    "    result = find_things_to_do_text(url)\n",
    "    all_things_to_do.extend(result)"
   ]
  },
  {
   "cell_type": "code",
   "execution_count": 26,
   "id": "8dfbbb65",
   "metadata": {},
   "outputs": [],
   "source": [
    "costa_rica_df = make_all_things_to_do_csv('Costa Rica, Central America', 'costa_rica.csv')"
   ]
  },
  {
   "cell_type": "markdown",
   "id": "342b38cd",
   "metadata": {},
   "source": [
    "### Bahai, Brazil"
   ]
  },
  {
   "cell_type": "code",
   "execution_count": 27,
   "id": "a5088050",
   "metadata": {},
   "outputs": [],
   "source": [
    "base_url = 'https://www.tripadvisor.com/Attractions-g303251-Activities-oa0-State_of_Bahia.html'\n",
    "number = 'g303251'\n",
    "end = 'State_of_Bahia'\n",
    "url_list = create_url_list(base_url,number,end)\n",
    "\n",
    "all_things_to_do = []\n",
    "for url in url_list:\n",
    "    result = find_things_to_do_text(url)\n",
    "    all_things_to_do.extend(result)"
   ]
  },
  {
   "cell_type": "code",
   "execution_count": 28,
   "id": "4eae2f8d",
   "metadata": {},
   "outputs": [],
   "source": [
    "bahai_df = make_all_things_to_do_csv('Bahai, Brazil', 'bahai.csv')"
   ]
  },
  {
   "cell_type": "markdown",
   "id": "3d2d8fc4",
   "metadata": {},
   "source": [
    "### Sri Lanka, South Asia"
   ]
  },
  {
   "cell_type": "code",
   "execution_count": 29,
   "id": "9e1573b4",
   "metadata": {},
   "outputs": [],
   "source": [
    "base_url = 'https://www.tripadvisor.com/Attractions-g293961-Activities-oa0-Sri_Lanka.html'\n",
    "number = 'g293961'\n",
    "end = 'Sri_Lanka'\n",
    "url_list = create_url_list(base_url,number,end)\n",
    "\n",
    "all_things_to_do = []\n",
    "for url in url_list:\n",
    "    result = find_things_to_do_text(url)\n",
    "    all_things_to_do.extend(result)"
   ]
  },
  {
   "cell_type": "code",
   "execution_count": 30,
   "id": "4ba4661a",
   "metadata": {},
   "outputs": [],
   "source": [
    "sri_lanka_df = make_all_things_to_do_csv('Sri Lanka, South Asia', 'sri_lanka.csv')"
   ]
  },
  {
   "cell_type": "markdown",
   "id": "f6d6b6b0",
   "metadata": {},
   "source": [
    "### Porto, Portugal"
   ]
  },
  {
   "cell_type": "code",
   "execution_count": 31,
   "id": "50e6ff71",
   "metadata": {},
   "outputs": [],
   "source": [
    "base_url = 'https://www.tripadvisor.com/Attractions-g189180-Activities-oa0-Porto_Porto_District_Northern_Portugal.html'\n",
    "number = 'g189180'\n",
    "end = 'Porto_Porto_District_Northern_Portugal'\n",
    "url_list = create_url_list(base_url,number,end)\n",
    "\n",
    "all_things_to_do = []\n",
    "for url in url_list:\n",
    "    result = find_things_to_do_text(url)\n",
    "    all_things_to_do.extend(result)"
   ]
  },
  {
   "cell_type": "code",
   "execution_count": 32,
   "id": "37281c62",
   "metadata": {},
   "outputs": [],
   "source": [
    "porto_df = make_all_things_to_do_csv('Porto, Portugal', 'porto.csv')"
   ]
  },
  {
   "cell_type": "markdown",
   "id": "50346576",
   "metadata": {},
   "source": [
    "### Combine all the DataFrames into a single csv"
   ]
  },
  {
   "cell_type": "code",
   "execution_count": 33,
   "id": "3d6c17d7",
   "metadata": {},
   "outputs": [],
   "source": [
    "all_df = [cartegena_df, rajasthan_df, tallinn_df, warsaw_df, merida_df,\n",
    "          fort_worth_df, las_vegas_df, paris_df, egersund_df, hokkaido_df,\n",
    "          wellington_df, costa_rica_df, bahai_df, sri_lanka_df, porto_df]\n",
    "all_things_to_do_df = pd.concat(all_df)"
   ]
  },
  {
   "cell_type": "code",
   "execution_count": 34,
   "id": "95004769",
   "metadata": {},
   "outputs": [],
   "source": [
    "csv_name = 'all_things_to_do.csv'\n",
    "csv_path = os.path.join(loc_dir, csv_name)\n",
    "all_things_to_do_df.to_csv(csv_path, index=False)"
   ]
  },
  {
   "cell_type": "code",
   "execution_count": null,
   "id": "5ca4f784",
   "metadata": {},
   "outputs": [],
   "source": []
  }
 ],
 "metadata": {
  "kernelspec": {
   "display_name": "Python 3 (ipykernel)",
   "language": "python",
   "name": "python3"
  },
  "language_info": {
   "codemirror_mode": {
    "name": "ipython",
    "version": 3
   },
   "file_extension": ".py",
   "mimetype": "text/x-python",
   "name": "python",
   "nbconvert_exporter": "python",
   "pygments_lexer": "ipython3",
   "version": "3.11.5"
  }
 },
 "nbformat": 4,
 "nbformat_minor": 5
}
