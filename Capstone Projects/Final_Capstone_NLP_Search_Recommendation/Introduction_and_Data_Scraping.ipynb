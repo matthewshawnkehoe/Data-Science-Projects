{
 "cells": [
  {
   "cell_type": "code",
   "execution_count": 135,
   "id": "14f87017",
   "metadata": {},
   "outputs": [],
   "source": [
    "import requests\n",
    "import os\n",
    "from bs4 import BeautifulSoup\n",
    "import pandas as pd"
   ]
  },
  {
   "cell_type": "markdown",
   "id": "ae9c11fc",
   "metadata": {},
   "source": [
    "Top Things to do from places in [50 Best Places to Travel in 2024](https://www.travelandleisure.com/best-places-to-go-2024-8385979).\n",
    "\n",
    "1.   Cartagena, Colombia: https://www.tripadvisor.com/Attractions-g297476-Activities-oa0-Cartagena_Cartagena_District_Bolivar_Department.html\n",
    "2.   Rajasthan, India: https://www.tripadvisor.com/Attractions-g297665-Activities-oa0-Rajasthan.html\n",
    "3.   Tallinn, Estonia: https://www.tripadvisor.com/Attractions-g274958-Activities-oa0-Tallinn_Harju_County.html\n",
    "4.   Warsaw, Poland: https://www.tripadvisor.com/Attractions-g274856-Activities-oa0-Warsaw_Mazovia_Province_Central_Poland.html\n",
    "5.   Mérida, Mexico: https://www.tripadvisor.com/Attractions-g150811-Activities-oa0-Merida_Yucatan_Peninsula.html\n",
    "6.   Fort Worth, Texas: https://www.tripadvisor.com/Attractions-g55857-Activities-oa0-Fort_Worth_Texas.html\n",
    "7.   Las Vegas, Nevada: https://www.tripadvisor.com/Attractions-g45963-Activities-oa0-Las_Vegas_Nevada.html\n",
    "8.   Paris, France: https://www.tripadvisor.com/Attractions-g187147-Activities-oa0-Paris_Ile_de_France.html\n",
    "9.   Egersund, Norway: https://www.tripadvisor.com/Attractions-g668814-Activities-oa0-Egersund_Eigersund_Municipality_Rogaland_Western_Norway.html\n",
    "10.  Hokkaido, Japan: https://www.tripadvisor.com/Attractions-g298143-Activities-oa0-Hokkaido.html\n",
    "11.  Wellington, New Zealand: https://www.tripadvisor.com/Attractions-g255115-Activities-oa0-Wellington_Greater_Wellington_North_Island.html\n",
    "12.  Costa Rica: https://www.tripadvisor.com/Attractions-g291982-Activities-oa0-Costa_Rica.html\n",
    "13.  Bahai, Brazil: https://www.tripadvisor.com/Attractions-g303251-Activities-oa0-State_of_Bahia.html\n",
    "14.  Sri Lanka, South Asia: https://www.tripadvisor.com/Attractions-g293961-Activities-oa0-Sri_Lanka.html\n",
    "15.  Porto, Portugal: https://www.tripadvisor.com/Attractions-g189180-Activities-oa0-Porto_Porto_District_Northern_Portugal.html"
   ]
  },
  {
   "cell_type": "code",
   "execution_count": 139,
   "id": "5d139899",
   "metadata": {},
   "outputs": [],
   "source": [
    "# Finds text inside \"Things to Do\" from places in Trip Advisor\n",
    "def find_things_to_do_text(url):\n",
    "    headers = {'User-Agent': 'Mozilla/5.0'}\n",
    "    r = requests.get(url, headers=headers)\n",
    "    soup = BeautifulSoup(html_london.content, 'lxml')\n",
    "    all_attractions = soup.find_all('div', class_='XfVdV o AIbhI')\n",
    "    results = [re.sub(r'^\\d+\\.', '', attraction.text).strip() for attraction in all_attractions]\n",
    "    return results\n",
    "\n",
    "# Gets 50 pages worth of \"Things to Do\" from a specific place in trip advisor\n",
    "def create_url_list(base_url,number,end):\n",
    "    url_list = []\n",
    "    for i in range(2, 51):\n",
    "        url = f'https://www.tripadvisor.com/Attractions-{number}-a_sort.-oa{30*i - 30}-{end}.html'\n",
    "        url_list.append(url)\n",
    "\n",
    "    # Insert the base URL at the beginning of the list\n",
    "    url_list.insert(0, base_url)\n",
    "    return url_list"
   ]
  },
  {
   "cell_type": "markdown",
   "id": "9d1a477c",
   "metadata": {},
   "source": [
    "### Cartagena, Colombia"
   ]
  },
  {
   "cell_type": "code",
   "execution_count": 140,
   "id": "1315c8a8",
   "metadata": {},
   "outputs": [],
   "source": [
    "base_url = 'https://www.tripadvisor.com/Attractions-g297476-Activities-oa0-Cartagena_Cartagena_District_Bolivar_Department.html'\n",
    "number = 'g297476'\n",
    "end = 'Cartagena_Cartagena_District_Bolivar_Department'\n",
    "url_list = create_url_list(base_url,number,end)\n",
    "\n",
    "all_things_to_do = []\n",
    "for url in url_list:\n",
    "    result = find_things_to_do_text(url)\n",
    "    all_things_to_do.extend(result)"
   ]
  },
  {
   "cell_type": "code",
   "execution_count": 144,
   "id": "97128ad3",
   "metadata": {},
   "outputs": [],
   "source": [
    "loc_dir = 'C:/Users/mskeh/Documents/GitHub/Thinkful/Capstone Projects/Final_Capstone_NLP_Search_Recommendation/Data'\n",
    "\n",
    "def make_all_things_to_do_csv(name, csv_name):\n",
    "    df = pd.DataFrame(all_things_to_do, columns=['Places'])\n",
    "    df['Place'] = name\n",
    "    csv_path = os.path.join(loc_dir, csv_name)\n",
    "    df.to_csv(csv_path, index=False)\n",
    "    return df\n",
    "    \n",
    "cartegena_df = make_all_things_to_do_csv('Cartagena, Colombia', 'cartagena.csv')"
   ]
  },
  {
   "cell_type": "markdown",
   "id": "cdc59761",
   "metadata": {},
   "source": [
    "### Rajasthan, India"
   ]
  },
  {
   "cell_type": "code",
   "execution_count": 145,
   "id": "e17c91fc",
   "metadata": {},
   "outputs": [],
   "source": [
    "base_url = 'https://www.tripadvisor.com/Attractions-g297665-Activities-oa0-Rajasthan.html'\n",
    "number = 'g297665'\n",
    "end = 'Rajasthan'\n",
    "url_list = create_url_list(base_url,number,end)\n",
    "\n",
    "all_things_to_do = []\n",
    "for url in url_list:\n",
    "    result = find_things_to_do_text(url)\n",
    "    all_things_to_do.extend(result)"
   ]
  },
  {
   "cell_type": "code",
   "execution_count": 146,
   "id": "a29f539f",
   "metadata": {},
   "outputs": [],
   "source": [
    "rajasthan_df = make_all_things_to_do_csv('Rajasthan, India', 'rajasthan.csv')"
   ]
  },
  {
   "cell_type": "markdown",
   "id": "23d15ca4",
   "metadata": {},
   "source": [
    "### Tallinn, Estonia"
   ]
  },
  {
   "cell_type": "code",
   "execution_count": 147,
   "id": "02c367aa",
   "metadata": {},
   "outputs": [],
   "source": [
    "base_url = 'https://www.tripadvisor.com/Attractions-g274958-Activities-oa0-Tallinn_Harju_County.html'\n",
    "number = 'g274958'\n",
    "end = 'Tallinn_Harju_County'\n",
    "url_list = create_url_list(base_url,number,end)\n",
    "\n",
    "all_things_to_do = []\n",
    "for url in url_list:\n",
    "    result = find_things_to_do_text(url)\n",
    "    all_things_to_do.extend(result)"
   ]
  },
  {
   "cell_type": "code",
   "execution_count": 149,
   "id": "886d49e7",
   "metadata": {},
   "outputs": [],
   "source": [
    "tallinn_df = make_all_things_to_do_csv('Tallinn, Estonia', 'tallinn.csv')"
   ]
  },
  {
   "cell_type": "markdown",
   "id": "f4647d6f",
   "metadata": {},
   "source": [
    "### Warsaw, Poland"
   ]
  },
  {
   "cell_type": "code",
   "execution_count": 150,
   "id": "befda01b",
   "metadata": {},
   "outputs": [],
   "source": [
    "base_url = 'https://www.tripadvisor.com/Attractions-g274856-Activities-oa0-Warsaw_Mazovia_Province_Central_Poland.html'\n",
    "number = 'g274856'\n",
    "end = 'Warsaw_Mazovia_Province_Central_Poland'\n",
    "url_list = create_url_list(base_url,number,end)\n",
    "\n",
    "all_things_to_do = []\n",
    "for url in url_list:\n",
    "    result = find_things_to_do_text(url)\n",
    "    all_things_to_do.extend(result)"
   ]
  },
  {
   "cell_type": "code",
   "execution_count": 151,
   "id": "90f79902",
   "metadata": {},
   "outputs": [],
   "source": [
    "warsaw_df = make_all_things_to_do_csv('Warsaw, Poland', 'warsaw.csv')"
   ]
  },
  {
   "cell_type": "markdown",
   "id": "b8d7785a",
   "metadata": {},
   "source": [
    "### Mérida, Mexico"
   ]
  },
  {
   "cell_type": "code",
   "execution_count": 152,
   "id": "28cc4354",
   "metadata": {},
   "outputs": [],
   "source": [
    "base_url = 'https://www.tripadvisor.com/Attractions-g150811-Activities-oa0-Merida_Yucatan_Peninsula.html'\n",
    "number = 'g150811'\n",
    "end = 'Merida_Yucatan_Peninsula'\n",
    "url_list = create_url_list(base_url,number,end)\n",
    "\n",
    "all_things_to_do = []\n",
    "for url in url_list:\n",
    "    result = find_things_to_do_text(url)\n",
    "    all_things_to_do.extend(result)"
   ]
  },
  {
   "cell_type": "code",
   "execution_count": 153,
   "id": "ffe82001",
   "metadata": {},
   "outputs": [],
   "source": [
    "merida_df = make_all_things_to_do_csv('Mérida, Mexico', 'merida.csv')"
   ]
  },
  {
   "cell_type": "markdown",
   "id": "9e6920e0",
   "metadata": {},
   "source": [
    "### Fort Worth, Texas"
   ]
  },
  {
   "cell_type": "code",
   "execution_count": 154,
   "id": "a9ba3964",
   "metadata": {},
   "outputs": [],
   "source": [
    "base_url = 'https://www.tripadvisor.com/Attractions-g55857-Activities-oa0-Fort_Worth_Texas.html'\n",
    "number = 'g55857'\n",
    "end = 'Fort_Worth_Texas'\n",
    "url_list = create_url_list(base_url,number,end)\n",
    "\n",
    "all_things_to_do = []\n",
    "for url in url_list:\n",
    "    result = find_things_to_do_text(url)\n",
    "    all_things_to_do.extend(result)"
   ]
  },
  {
   "cell_type": "code",
   "execution_count": 155,
   "id": "2d682bd4",
   "metadata": {},
   "outputs": [],
   "source": [
    "fort_worth_df = make_all_things_to_do_csv('Fort Worth, Texas', 'fort_worth.csv')"
   ]
  },
  {
   "cell_type": "markdown",
   "id": "5497c910",
   "metadata": {},
   "source": [
    "### Las Vegas, Nevada"
   ]
  },
  {
   "cell_type": "code",
   "execution_count": 156,
   "id": "649f6c9d",
   "metadata": {},
   "outputs": [],
   "source": [
    "base_url = 'https://www.tripadvisor.com/Attractions-g45963-Activities-oa0-Las_Vegas_Nevada.html'\n",
    "number = 'g45963'\n",
    "end = 'Las_Vegas_Nevada'\n",
    "url_list = create_url_list(base_url,number,end)\n",
    "\n",
    "all_things_to_do = []\n",
    "for url in url_list:\n",
    "    result = find_things_to_do_text(url)\n",
    "    all_things_to_do.extend(result)"
   ]
  },
  {
   "cell_type": "code",
   "execution_count": 157,
   "id": "3b7c2c51",
   "metadata": {},
   "outputs": [],
   "source": [
    "las_vegas_df = make_all_things_to_do_csv('Las Vegas, Nevada', 'las_vegas.csv')"
   ]
  },
  {
   "cell_type": "markdown",
   "id": "0f3c7c85",
   "metadata": {},
   "source": [
    "### Paris, France"
   ]
  },
  {
   "cell_type": "code",
   "execution_count": 158,
   "id": "269a58d9",
   "metadata": {},
   "outputs": [],
   "source": [
    "base_url = 'https://www.tripadvisor.com/Attractions-g187147-Activities-oa0-Paris_Ile_de_France.html'\n",
    "number = 'g187147'\n",
    "end = 'Paris_Ile_de_France'\n",
    "url_list = create_url_list(base_url,number,end)\n",
    "\n",
    "all_things_to_do = []\n",
    "for url in url_list:\n",
    "    result = find_things_to_do_text(url)\n",
    "    all_things_to_do.extend(result)"
   ]
  },
  {
   "cell_type": "code",
   "execution_count": 159,
   "id": "d04c98fe",
   "metadata": {},
   "outputs": [],
   "source": [
    "paris_df = make_all_things_to_do_csv('Paris, France', 'paris.csv')"
   ]
  },
  {
   "cell_type": "markdown",
   "id": "4afdaa0a",
   "metadata": {},
   "source": [
    "### Egersund, Norway"
   ]
  },
  {
   "cell_type": "code",
   "execution_count": 160,
   "id": "b10d1ab8",
   "metadata": {},
   "outputs": [],
   "source": [
    "base_url = 'https://www.tripadvisor.com/Attractions-g668814-Activities-oa0-Egersund_Eigersund_Municipality_Rogaland_Western_Norway.html'\n",
    "number = 'g668814'\n",
    "end = 'Egersund_Eigersund_Municipality_Rogaland_Western_Norway'\n",
    "url_list = create_url_list(base_url,number,end)\n",
    "\n",
    "all_things_to_do = []\n",
    "for url in url_list:\n",
    "    result = find_things_to_do_text(url)\n",
    "    all_things_to_do.extend(result)"
   ]
  },
  {
   "cell_type": "code",
   "execution_count": 161,
   "id": "99e77a1e",
   "metadata": {},
   "outputs": [],
   "source": [
    "egersund_df = make_all_things_to_do_csv('Egersund, Norway', 'egersund.csv')"
   ]
  },
  {
   "cell_type": "markdown",
   "id": "b40b53d7",
   "metadata": {},
   "source": [
    "### Hokkaido, Japan"
   ]
  },
  {
   "cell_type": "code",
   "execution_count": 162,
   "id": "79027a2d",
   "metadata": {},
   "outputs": [],
   "source": [
    "base_url = 'https://www.tripadvisor.com/Attractions-g298143-Activities-oa0-Hokkaido.html'\n",
    "number = 'g298143'\n",
    "end = 'Hokkaido'\n",
    "url_list = create_url_list(base_url,number,end)\n",
    "\n",
    "all_things_to_do = []\n",
    "for url in url_list:\n",
    "    result = find_things_to_do_text(url)\n",
    "    all_things_to_do.extend(result)"
   ]
  },
  {
   "cell_type": "code",
   "execution_count": 163,
   "id": "501aa24b",
   "metadata": {},
   "outputs": [],
   "source": [
    "hokkaido_df = make_all_things_to_do_csv('Hokkaido, Japan', 'hokkaido.csv')"
   ]
  },
  {
   "cell_type": "markdown",
   "id": "2e32159c",
   "metadata": {},
   "source": [
    "### Wellington, New Zealand"
   ]
  },
  {
   "cell_type": "code",
   "execution_count": 164,
   "id": "eecf74c2",
   "metadata": {},
   "outputs": [],
   "source": [
    "base_url = 'https://www.tripadvisor.com/Attractions-g255115-Activities-oa0-Wellington_Greater_Wellington_North_Island.html'\n",
    "number = 'g255115'\n",
    "end = 'Wellington_Greater_Wellington_North_Island'\n",
    "url_list = create_url_list(base_url,number,end)\n",
    "\n",
    "all_things_to_do = []\n",
    "for url in url_list:\n",
    "    result = find_things_to_do_text(url)\n",
    "    all_things_to_do.extend(result)"
   ]
  },
  {
   "cell_type": "code",
   "execution_count": 165,
   "id": "424c3ca7",
   "metadata": {},
   "outputs": [],
   "source": [
    "wellington_df = make_all_things_to_do_csv('Wellington, New Zealand', 'wellington.csv')"
   ]
  },
  {
   "cell_type": "markdown",
   "id": "5ec24cd0",
   "metadata": {},
   "source": [
    "### Costa Rica"
   ]
  },
  {
   "cell_type": "code",
   "execution_count": 166,
   "id": "ac899c42",
   "metadata": {},
   "outputs": [],
   "source": [
    "base_url = 'https://www.tripadvisor.com/Attractions-g291982-Activities-oa0-Costa_Rica.html'\n",
    "number = 'g291982'\n",
    "end = 'Costa_Rica'\n",
    "url_list = create_url_list(base_url,number,end)\n",
    "\n",
    "all_things_to_do = []\n",
    "for url in url_list:\n",
    "    result = find_things_to_do_text(url)\n",
    "    all_things_to_do.extend(result)"
   ]
  },
  {
   "cell_type": "code",
   "execution_count": 167,
   "id": "c409eeca",
   "metadata": {},
   "outputs": [],
   "source": [
    "costa_rica_df = make_all_things_to_do_csv('Costa Rica', 'costa_rica.csv')"
   ]
  },
  {
   "cell_type": "markdown",
   "id": "f5057562",
   "metadata": {},
   "source": [
    "### Bahai, Brazil"
   ]
  },
  {
   "cell_type": "code",
   "execution_count": 168,
   "id": "fa1f23d6",
   "metadata": {},
   "outputs": [],
   "source": [
    "base_url = 'https://www.tripadvisor.com/Attractions-g303251-Activities-oa0-State_of_Bahia.html'\n",
    "number = 'g303251'\n",
    "end = 'State_of_Bahia'\n",
    "url_list = create_url_list(base_url,number,end)\n",
    "\n",
    "all_things_to_do = []\n",
    "for url in url_list:\n",
    "    result = find_things_to_do_text(url)\n",
    "    all_things_to_do.extend(result)"
   ]
  },
  {
   "cell_type": "code",
   "execution_count": 169,
   "id": "b755c4d6",
   "metadata": {},
   "outputs": [],
   "source": [
    "bahai_df = make_all_things_to_do_csv('Bahai, Brazil', 'bahai.csv')"
   ]
  },
  {
   "cell_type": "markdown",
   "id": "afac35c9",
   "metadata": {},
   "source": [
    "### Sri Lanka, South Asia"
   ]
  },
  {
   "cell_type": "code",
   "execution_count": 170,
   "id": "ec81be45",
   "metadata": {},
   "outputs": [],
   "source": [
    "base_url = 'https://www.tripadvisor.com/Attractions-g293961-Activities-oa0-Sri_Lanka.html'\n",
    "number = 'g293961'\n",
    "end = 'Sri_Lanka'\n",
    "url_list = create_url_list(base_url,number,end)\n",
    "\n",
    "all_things_to_do = []\n",
    "for url in url_list:\n",
    "    result = find_things_to_do_text(url)\n",
    "    all_things_to_do.extend(result)"
   ]
  },
  {
   "cell_type": "code",
   "execution_count": 171,
   "id": "ea6bee5a",
   "metadata": {},
   "outputs": [],
   "source": [
    "sri_lanka_df = make_all_things_to_do_csv('Sri Lanka, South Asia', 'sri_lanka.csv')"
   ]
  },
  {
   "cell_type": "markdown",
   "id": "d4dde99f",
   "metadata": {},
   "source": [
    "### Porto, Portugal"
   ]
  },
  {
   "cell_type": "code",
   "execution_count": 172,
   "id": "1c1f5f8a",
   "metadata": {},
   "outputs": [],
   "source": [
    "base_url = 'https://www.tripadvisor.com/Attractions-g189180-Activities-oa0-Porto_Porto_District_Northern_Portugal.html'\n",
    "number = 'g189180'\n",
    "end = 'Porto_Porto_District_Northern_Portugal'\n",
    "url_list = create_url_list(base_url,number,end)\n",
    "\n",
    "all_things_to_do = []\n",
    "for url in url_list:\n",
    "    result = find_things_to_do_text(url)\n",
    "    all_things_to_do.extend(result)"
   ]
  },
  {
   "cell_type": "code",
   "execution_count": 173,
   "id": "5b20a560",
   "metadata": {},
   "outputs": [],
   "source": [
    "porto_df = make_all_things_to_do_csv('Porto, Portugal', 'porto.csv')"
   ]
  },
  {
   "cell_type": "markdown",
   "id": "8424631d",
   "metadata": {},
   "source": [
    "### Combine all the DataFrames into a single csv"
   ]
  },
  {
   "cell_type": "code",
   "execution_count": 174,
   "id": "2cfc9fa4",
   "metadata": {},
   "outputs": [
    {
     "data": {
      "text/html": [
       "<div>\n",
       "<style scoped>\n",
       "    .dataframe tbody tr th:only-of-type {\n",
       "        vertical-align: middle;\n",
       "    }\n",
       "\n",
       "    .dataframe tbody tr th {\n",
       "        vertical-align: top;\n",
       "    }\n",
       "\n",
       "    .dataframe thead th {\n",
       "        text-align: right;\n",
       "    }\n",
       "</style>\n",
       "<table border=\"1\" class=\"dataframe\">\n",
       "  <thead>\n",
       "    <tr style=\"text-align: right;\">\n",
       "      <th></th>\n",
       "      <th>Places</th>\n",
       "      <th>Place</th>\n",
       "    </tr>\n",
       "  </thead>\n",
       "  <tbody>\n",
       "    <tr>\n",
       "      <th>0</th>\n",
       "      <td>Stonehenge, Windsor Castle, and Bath from London</td>\n",
       "      <td>Cartagena, Colombia</td>\n",
       "    </tr>\n",
       "    <tr>\n",
       "      <th>1</th>\n",
       "      <td>Big Bus London Hop-On Hop-Off Tour and River C...</td>\n",
       "      <td>Cartagena, Colombia</td>\n",
       "    </tr>\n",
       "    <tr>\n",
       "      <th>2</th>\n",
       "      <td>Stonehenge, Windsor Castle and Bath with Pub L...</td>\n",
       "      <td>Cartagena, Colombia</td>\n",
       "    </tr>\n",
       "    <tr>\n",
       "      <th>3</th>\n",
       "      <td>Small-Group Cotswolds Tour (From London)</td>\n",
       "      <td>Cartagena, Colombia</td>\n",
       "    </tr>\n",
       "    <tr>\n",
       "      <th>4</th>\n",
       "      <td>The Premier Classic London: Private 4-Hour Tou...</td>\n",
       "      <td>Cartagena, Colombia</td>\n",
       "    </tr>\n",
       "  </tbody>\n",
       "</table>\n",
       "</div>"
      ],
      "text/plain": [
       "                                              Places                Place\n",
       "0   Stonehenge, Windsor Castle, and Bath from London  Cartagena, Colombia\n",
       "1  Big Bus London Hop-On Hop-Off Tour and River C...  Cartagena, Colombia\n",
       "2  Stonehenge, Windsor Castle and Bath with Pub L...  Cartagena, Colombia\n",
       "3           Small-Group Cotswolds Tour (From London)  Cartagena, Colombia\n",
       "4  The Premier Classic London: Private 4-Hour Tou...  Cartagena, Colombia"
      ]
     },
     "execution_count": 174,
     "metadata": {},
     "output_type": "execute_result"
    }
   ],
   "source": [
    "all_df = [cartegena_df, rajasthan_df, tallinn_df, warsaw_df, merida_df,\n",
    "          fort_worth_df, las_vegas_df, paris_df, egersund_df, hokkaido_df,\n",
    "          wellington_df, costa_rica_df, bahai_df, sri_lanka_df, porto_df]\n",
    "all_things_to_do_df = pd.concat(all_df)"
   ]
  },
  {
   "cell_type": "code",
   "execution_count": 179,
   "id": "ffd5c72e",
   "metadata": {},
   "outputs": [],
   "source": [
    "csv_name = 'all_things_to_do.csv'\n",
    "csv_path = os.path.join(loc_dir, csv_name)\n",
    "all_things_to_do_df.to_csv(csv_path, index=False)"
   ]
  },
  {
   "cell_type": "code",
   "execution_count": null,
   "id": "ed65d911",
   "metadata": {},
   "outputs": [],
   "source": []
  }
 ],
 "metadata": {
  "kernelspec": {
   "display_name": "Python 3 (ipykernel)",
   "language": "python",
   "name": "python3"
  },
  "language_info": {
   "codemirror_mode": {
    "name": "ipython",
    "version": 3
   },
   "file_extension": ".py",
   "mimetype": "text/x-python",
   "name": "python",
   "nbconvert_exporter": "python",
   "pygments_lexer": "ipython3",
   "version": "3.11.5"
  }
 },
 "nbformat": 4,
 "nbformat_minor": 5
}
