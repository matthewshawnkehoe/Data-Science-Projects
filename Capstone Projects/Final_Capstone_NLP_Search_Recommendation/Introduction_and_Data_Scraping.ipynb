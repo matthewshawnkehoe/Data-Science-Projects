{
 "cells": [
  {
   "cell_type": "markdown",
   "id": "c1560a9f",
   "metadata": {},
   "source": [
    "# NLP Recommender System - Travel Advisor"
   ]
  },
  {
   "cell_type": "markdown",
   "id": "16dfc9ed",
   "metadata": {},
   "source": [
    "## Introduction\n",
    "Amid the initial challenges of the pandemic, the Travel Health Index [hit a low point of 20](https://www.kiplinger.com/personal-finance/is-travel-finally-back-new-report-reveals-record-tourism-rebound) in April 2020, reflecting a drastic 80% reduction in travel compared to the same month in 2019. Now, three years later, the travel industry has not only rebounded but has also exceeded pre-pandemic levels, witnessing a global surge in travel activity.\n",
    "\n",
    "In light of this positive trend, the focus of this project is on developing a sophisticated Natural Language Processing (NLP) Recommender System. The system draws insights from the [50 best places to travel in 2024](https://www.travelandleisure.com/best-places-to-go-2024-8385979) and has been trained on a substantial dataset of over 56,109 text pairs sourced from Trip Advisor. By leveraging NLP techniques, the project aims to provide an enhanced travel experience by delivering personalized and informed recommendations. This initiative aligns with the current dynamics of a thriving travel industry, catering to the increased interest and diverse preferences of modern-day travelers.\n",
    "\n",
    "\n",
    "### Our Research Problem\n",
    "In this project, we'll explore the creation of a Natural Language Processing (NLP) Recommender System using various Text Vectorization techniques. These methods include TD-IDF Vectorization, Count Vectorization, Cosine Similarity, Unigrams and Bi-Grams, K-Nearest Neighbor, Logistic Regression, Support Vector Machine, Decision Treee, Ensemble Learning, and BERT:\n",
    "\n",
    "- **TD-IDF Vectorization:** Weights words based on their frequency in a document and inversely to their prevalence across the entire dataset.\n",
    "\n",
    "- **Count Vectorization:** Represents text as numerical vectors by counting the occurrence of each term within a document.\n",
    "\n",
    "- **Cosine Similarity:** Measures the similarity between different text vectors, aiding in suggesting items aligned with user preferences.\n",
    "\n",
    "- **Bi-Grams:** Considers a single word or pairs of consecutive words to capture relationships and context, enhancing the understanding of textual content.\n",
    "\n",
    "- **K-Nearest Neighbor:** A method that identifies similar items based on the proximity of data points in the feature space.\n",
    "\n",
    "- **Logistic Regression:** A linear model for classification tasks that can be adapted for recommendation purposes.\n",
    "\n",
    "- **Support Vector Machine:** An algorithm that classifies items by finding the hyperplane that best separates different classes.\n",
    "\n",
    "- **Decision Trees:** Tree-like models that make decisions based on input features, providing interpretability and flexibility.\n",
    "\n",
    "- **Ensemble Learning:** Techniques such as Bagging and Boosting that combine multiple models to enhance overall predictive performance.\n",
    "\n",
    "- **BERT (Bidirectional Encoder Representations from Transformers):** An advanced technique that comprehensively captures contextual information bidirectionally, elevating the system's accuracy and sophistication.\n",
    "\n",
    "By leveraging these techniques, our aim is to build a powerful and versatile NLP Recommender System, providing personalized travel recommendations tailored to users' unique preferences and interests."
   ]
  },
  {
   "cell_type": "markdown",
   "id": "6b0b0286",
   "metadata": {},
   "source": [
    "## Table of Contents\n",
    "---\n",
    "- [Introduction](#Introduction)\n",
    "  - [Our Research Problem](#Our-Research-Problem)\n",
    "- [Web Scraping](#Web-Scraping)"
   ]
  },
  {
   "cell_type": "markdown",
   "id": "c5d736d6",
   "metadata": {},
   "source": [
    "## Web Scraping\n",
    "We will scrape tens of thousands of recommended activities from Trip Advisor. Some of the places are taken from [50 Best Places to Travel in 2024](https://www.travelandleisure.com/best-places-to-go-2024-8385979). Other places are popular travel destinations that we hope to visit some day in the future. As a reference, here is a list of the places scraped (and their associated URL on Trip Advisor):\n",
    "\n",
    "1.   Bogota, Colombia: https://www.tripadvisor.com/Attractions-g294074-Activities-oa0-Bogota.html\n",
    "2.   Rajasthan, India: https://www.tripadvisor.com/Attractions-g297665-Activities-oa0-Rajasthan.html\n",
    "3.   Berlin, Germany: https://www.tripadvisor.com/Attractions-g187323-Activities-oa0-Berlin.html\n",
    "4.   Moscow, Russia: https://www.tripadvisor.com/Attractions-g298484-Activities-oa0-Moscow_Central_Russia.html\n",
    "5.   Mexico City, Mexico: https://www.tripadvisor.com/Attractions-g150800-Activities-oa0-Mexico_City_Central_Mexico_and_Gulf_Coast.html\n",
    "6.   New York City, New York: https://www.tripadvisor.com/Attractions-g60763-Activities-oa0-New_York_City_New_York.html\n",
    "7.   Las Vegas, Nevada: https://www.tripadvisor.com/Attractions-g45963-Activities-oa0-Las_Vegas_Nevada.html\n",
    "8.   Paris, France: https://www.tripadvisor.com/Attractions-g187147-Activities-oa0-Paris_Ile_de_France.html\n",
    "9.   Stockholm, Sweden: https://www.tripadvisor.com/Attractions-g189852-Activities-oa0-Stockholm.html\n",
    "10.  Hokkaido, Japan: https://www.tripadvisor.com/Attractions-g298143-Activities-oa0-Hokkaido.html\n",
    "11.  Melbourne, Austrailia: https://www.tripadvisor.com/Attractions-g255100-Activities-oa0-Melbourne_Victoria.html\n",
    "12.  Bahamas,  Atlantic Ocean: https://www.tripadvisor.com/Attractions-g147414-Activities-oa0-Bahamas.html\n",
    "13.  Bahai, Brazil: https://www.tripadvisor.com/Attractions-g303251-Activities-oa0-State_of_Bahia.html\n",
    "14.  Bali, Indonesia: https://www.tripadvisor.com/Attractions-g294226-Activities-oa0-Bali.html\n",
    "15.  Amsterdam, Netherlands: https://www.tripadvisor.com/Attractions-g188590-Activities-oa0-Amsterdam_North_Holland_Province.html\n",
    "16.  Hong Kong, China: https://www.tripadvisor.com/Attractions-g294217-Activities-oa0-Hong_Kong.html\n",
    "17.  Rome, Italy: https://www.tripadvisor.com/Attractions-g187791-Activities-oa0-Rome_Lazio.html\n",
    "18.  Honolulu, Hawaii: https://www.tripadvisor.com/Attractions-g60982-Activities-oa0-Honolulu_Oahu_Hawaii.html\n",
    "19.  Bangkok, Thailand: https://www.tripadvisor.com/Attractions-g293916-Activities-oa0-Bangkok.html\n",
    "20.  San Franscisco, California: https://www.tripadvisor.com/Attractions-g60713-Activities-oa0-San_Francisco_California.html\n",
    "21.  New Zealand, Pacific Ocean: https://www.tripadvisor.com/Attractions-g255104-Activities-oa0-New_Zealand.html\n",
    "22.  Singapore, Asia: https://www.tripadvisor.com/Attractions-g294265-Activities-oa0-Singapore.html\n",
    "23.  Sydney, Austrailia: https://www.tripadvisor.com/Attractions-g255060-Activities-oa0-Sydney_New_South_Wales.html\n",
    "24.  South Korea, East Asia: https://www.tripadvisor.com/Attractions-g294196-Activities-oa0-South_Korea.html\n",
    "25.  Norway, Europe: https://www.tripadvisor.com/Attractions-g190455-Activities-oa0-Norway.html\n",
    "26.  Toronto, Canada: https://www.tripadvisor.com/Attractions-g155019-Activities-oa0-Toronto_Ontario.html\n",
    "27.  Swiss Alps, Switzerland: https://www.tripadvisor.com/Attractions-g188077-Activities-oa0-Swiss_Alps.html\n",
    "28.  Tokyo, Japan: https://www.tripadvisor.com/Attractions-g298184-Activities-oa0-Tokyo_Tokyo_Prefecture_Kanto.html\n",
    "29.  Cairo, Egypt: https://www.tripadvisor.com/Attractions-g294201-Activities-oa0-Cairo_Cairo_Governorate.html\n",
    "30.  Rio de Janeiro, Brazil: https://www.tripadvisor.com/Attractions-g303506-Activities-oa0-Rio_de_Janeiro_State_of_Rio_de_Janeiro.html"
   ]
  },
  {
   "cell_type": "markdown",
   "id": "bfb53caf",
   "metadata": {},
   "source": [
    "We will now import the necessary libraries for web scraping."
   ]
  },
  {
   "cell_type": "code",
   "execution_count": 1,
   "id": "bf4764bc",
   "metadata": {},
   "outputs": [],
   "source": [
    "import os\n",
    "import re\n",
    "import requests\n",
    "import pandas as pd\n",
    "from concurrent.futures import ThreadPoolExecutor\n",
    "from bs4 import BeautifulSoup"
   ]
  },
  {
   "cell_type": "markdown",
   "id": "8f82bd7e",
   "metadata": {},
   "source": [
    "Below are our three core functions for getting text data."
   ]
  },
  {
   "cell_type": "code",
   "execution_count": 2,
   "id": "cc1da863",
   "metadata": {},
   "outputs": [],
   "source": [
    "loc_dir = 'C:/Users/mskeh/Documents/GitHub/Thinkful/Capstone Projects/Final_Capstone_NLP_Search_Recommendation/Data'\n",
    "\n",
    "def find_things_to_do_text(url):\n",
    "    \"\"\"\n",
    "    Extracts text inside \"Things to Do\" from a TripAdvisor page.\n",
    "\n",
    "    Args:\n",
    "        url (str): The URL of the TripAdvisor page.\n",
    "\n",
    "    Returns:\n",
    "        list: List of extracted texts.\n",
    "    \"\"\"\n",
    "    headers = {'User-Agent': 'Mozilla/5.0 (Windows NT 10.0; Win64; x64) AppleWebKit/537.36 (KHTML, like Gecko) Chrome/121.0.0.0 Safari/537.36'}\n",
    "    with requests.Session() as session:\n",
    "        response = session.get(url, headers=headers)\n",
    "        soup = BeautifulSoup(response.content, 'lxml')\n",
    "        all_attractions = soup.find_all('div', class_='XfVdV o AIbhI')\n",
    "        return [re.sub(r'^\\d+\\.', '', attraction.text).strip() for attraction in all_attractions]\n",
    "\n",
    "def create_url_list(base_url, number, end):\n",
    "    \"\"\"\n",
    "    Creates a list of URLs for scraping TripAdvisor pages.\n",
    "\n",
    "    Args:\n",
    "        base_url (str): The base URL of the TripAdvisor page.\n",
    "        number (str): A unique identifier for the location.\n",
    "        end (str): Additional information for the URL.\n",
    "\n",
    "    Returns:\n",
    "        list: List of generated URLs.\n",
    "    \"\"\"\n",
    "    return [f'https://www.tripadvisor.com/Attractions-{number}-a_sort.-oa{30*i - 30}-{end}.html' for i in range(2, 201)]\n",
    "\n",
    "def scrape_and_save(base_url, number, end, name, csv_name):\n",
    "    \"\"\"\n",
    "    Scrapes TripAdvisor pages, saves data to a DataFrame, and exports to CSV.\n",
    "\n",
    "    Args:\n",
    "        base_url (str): The base URL of the TripAdvisor page.\n",
    "        number (str): A unique identifier for the location.\n",
    "        end (str): Additional information for the URL.\n",
    "        name (str): The name of the location.\n",
    "        csv_name (str): The desired name for the CSV file.\n",
    "\n",
    "    Returns:\n",
    "        pandas.DataFrame: The DataFrame containing the scraped data.\n",
    "    \"\"\"\n",
    "    url_list = create_url_list(base_url, number, end)\n",
    "    url_list.insert(0, base_url)\n",
    "\n",
    "    all_things_to_do = []\n",
    "\n",
    "    with ThreadPoolExecutor() as executor:\n",
    "        # Use ThreadPoolExecutor for parallel execution of requests\n",
    "        all_things_to_do = list(executor.map(find_things_to_do_text, url_list))\n",
    "\n",
    "    all_things_to_do = [item for sublist in all_things_to_do for item in sublist]\n",
    "\n",
    "    df = pd.DataFrame(all_things_to_do, columns=['Text'])\n",
    "    df['Location'] = name\n",
    "    csv_path = os.path.join(loc_dir, csv_name)\n",
    "    df.to_csv(csv_path, index=False)\n",
    "    return df"
   ]
  },
  {
   "cell_type": "markdown",
   "id": "071a42c3",
   "metadata": {},
   "source": [
    "We will now use the three helper functions to scrape data. We will put all of the scraped data into DataFrames and then combine all of them into a single DataFrame."
   ]
  },
  {
   "cell_type": "markdown",
   "id": "4e0c30de",
   "metadata": {},
   "source": [
    "### Prague, Czech Republic"
   ]
  },
  {
   "cell_type": "code",
   "execution_count": 3,
   "id": "08f76255",
   "metadata": {},
   "outputs": [],
   "source": [
    "base_url = 'https://www.tripadvisor.com/Attractions-g274707-Activities-oa0-Prague_Bohemia.html'\n",
    "number = 'g274707'\n",
    "end = 'Prague_Bohemia'\n",
    "name = 'Prague, Czech Republic'\n",
    "csv_name = 'prague.csv'\n",
    "\n",
    "prague_df = scrape_and_save(base_url, number, end, name, csv_name)"
   ]
  },
  {
   "cell_type": "markdown",
   "id": "02d4b615",
   "metadata": {},
   "source": [
    "### Rajasthan, India"
   ]
  },
  {
   "cell_type": "code",
   "execution_count": 4,
   "id": "e5d086cf",
   "metadata": {},
   "outputs": [],
   "source": [
    "base_url = 'https://www.tripadvisor.com/Attractions-g297665-Activities-oa0-Rajasthan.html'\n",
    "number = 'g297665'\n",
    "end = 'Rajasthan'\n",
    "name = 'Rajasthan, India'\n",
    "csv_name = 'rajasthan.csv'\n",
    "\n",
    "rajasthan_df = scrape_and_save(base_url, number, end, name, csv_name)"
   ]
  },
  {
   "cell_type": "markdown",
   "id": "b162c8b4",
   "metadata": {},
   "source": [
    "### Berlin, Germany"
   ]
  },
  {
   "cell_type": "code",
   "execution_count": 5,
   "id": "926f58fd",
   "metadata": {},
   "outputs": [],
   "source": [
    "base_url = 'https://www.tripadvisor.com/Attractions-g187323-Activities-oa0-Berlin.html'\n",
    "number = 'g187323'\n",
    "end = 'Berlin'\n",
    "name = 'Berlin, Germany'\n",
    "csv_name = 'berlin.csv'\n",
    "\n",
    "berlin_df = scrape_and_save(base_url, number, end, name, csv_name)"
   ]
  },
  {
   "cell_type": "markdown",
   "id": "443284b8",
   "metadata": {},
   "source": [
    "### Moscow, Russia"
   ]
  },
  {
   "cell_type": "code",
   "execution_count": 6,
   "id": "03e769b1",
   "metadata": {},
   "outputs": [],
   "source": [
    "base_url = 'https://www.tripadvisor.com/Attractions-g298484-Activities-oa0-Moscow_Central_Russia.html'\n",
    "number = 'g298484'\n",
    "end = 'Moscow_Central_Russia'\n",
    "name = 'Moscow, Russia'\n",
    "csv_name = 'moscow.csv'\n",
    "\n",
    "moscow_df = scrape_and_save(base_url, number, end, name, csv_name)"
   ]
  },
  {
   "cell_type": "markdown",
   "id": "91c2071a",
   "metadata": {},
   "source": [
    "### Mexico City, Mexico"
   ]
  },
  {
   "cell_type": "code",
   "execution_count": 7,
   "id": "58e1c0b2",
   "metadata": {},
   "outputs": [],
   "source": [
    "base_url = 'https://www.tripadvisor.com/Attractions-g150800-Activities-oa0-Mexico_City_Central_Mexico_and_Gulf_Coast.html'\n",
    "number = 'g150800'\n",
    "end = 'Mexico_City_Central_Mexico_and_Gulf_Coast'\n",
    "name = 'Mexico City, Mexico'\n",
    "csv_name = 'mexico_city.csv'\n",
    "\n",
    "mexico_city_df = scrape_and_save(base_url, number, end, name, csv_name)"
   ]
  },
  {
   "cell_type": "markdown",
   "id": "3e3aa24f",
   "metadata": {},
   "source": [
    "### New York City, New York"
   ]
  },
  {
   "cell_type": "code",
   "execution_count": 8,
   "id": "1371d4aa",
   "metadata": {},
   "outputs": [],
   "source": [
    "base_url = 'https://www.tripadvisor.com/Attractions-g60763-Activities-oa0-New_York_City_New_York.html'\n",
    "number = 'g60763'\n",
    "end = 'New_York_City_New_York'\n",
    "name = 'New York City, New York'\n",
    "csv_name = 'new_york_city.csv'\n",
    "\n",
    "new_york_city_df = scrape_and_save(base_url, number, end, name, csv_name)"
   ]
  },
  {
   "cell_type": "markdown",
   "id": "22740228",
   "metadata": {},
   "source": [
    "### Las Vegas, Nevada"
   ]
  },
  {
   "cell_type": "code",
   "execution_count": 9,
   "id": "e5da433f",
   "metadata": {},
   "outputs": [],
   "source": [
    "base_url = 'https://www.tripadvisor.com/Attractions-g45963-Activities-oa0-Las_Vegas_Nevada.html'\n",
    "number = 'g45963'\n",
    "end = 'Las_Vegas_Nevada'\n",
    "name = 'Las Vegas, Nevada'\n",
    "csv_name = 'las_vegas.csv'\n",
    "\n",
    "las_vegas_df = scrape_and_save(base_url, number, end, name, csv_name)"
   ]
  },
  {
   "cell_type": "markdown",
   "id": "e7c8cbcc",
   "metadata": {},
   "source": [
    "### Paris, France"
   ]
  },
  {
   "cell_type": "code",
   "execution_count": 10,
   "id": "15071126",
   "metadata": {},
   "outputs": [],
   "source": [
    "base_url = 'https://www.tripadvisor.com/Attractions-g187147-Activities-oa0-Paris_Ile_de_France.html'\n",
    "number = 'g187147'\n",
    "end = 'Paris_Ile_de_France'\n",
    "name = 'Paris, France'\n",
    "csv_name = 'paris.csv'\n",
    "\n",
    "paris_df = scrape_and_save(base_url, number, end, name, csv_name)"
   ]
  },
  {
   "cell_type": "markdown",
   "id": "c8cb6537",
   "metadata": {},
   "source": [
    "### Stockholm, Sweden"
   ]
  },
  {
   "cell_type": "code",
   "execution_count": 11,
   "id": "06afba69",
   "metadata": {},
   "outputs": [],
   "source": [
    "base_url = 'https://www.tripadvisor.com/Attractions-g189852-Activities-oa0-Stockholm.html'\n",
    "number = 'g189852'\n",
    "end = 'Stockholm'\n",
    "name = 'Stockholm, Sweden'\n",
    "csv_name = 'stockholm.csv'\n",
    "\n",
    "stockholm_df = scrape_and_save(base_url, number, end, name, csv_name)"
   ]
  },
  {
   "cell_type": "markdown",
   "id": "91005129",
   "metadata": {},
   "source": [
    "### Hokkaido, Japan"
   ]
  },
  {
   "cell_type": "code",
   "execution_count": 12,
   "id": "00ec2bc4",
   "metadata": {},
   "outputs": [],
   "source": [
    "base_url = 'https://www.tripadvisor.com/Attractions-g298143-Activities-oa0-Hokkaido.html'\n",
    "number = 'g298143'\n",
    "end = 'Hokkaido'\n",
    "name = 'Hokkaido, Japan'\n",
    "csv_name = 'hokkaido.csv'\n",
    "\n",
    "hokkaido_df = scrape_and_save(base_url, number, end, name, csv_name)"
   ]
  },
  {
   "cell_type": "markdown",
   "id": "c1f2aaf6",
   "metadata": {},
   "source": [
    "### Melbourne, Austrailia"
   ]
  },
  {
   "cell_type": "code",
   "execution_count": 13,
   "id": "c78f09ee",
   "metadata": {},
   "outputs": [],
   "source": [
    "base_url = 'https://www.tripadvisor.com/Attractions-g255100-Activities-oa0-Melbourne_Victoria.html'\n",
    "number = 'g255100'\n",
    "end = 'Melbourne_Victoria'\n",
    "name = 'Melbourne, Austrailia'\n",
    "csv_name = 'melbourne.csv'\n",
    "\n",
    "melbourne_df = scrape_and_save(base_url, number, end, name, csv_name)"
   ]
  },
  {
   "cell_type": "markdown",
   "id": "2587d5b4",
   "metadata": {},
   "source": [
    "### Bahamas, Atlantic Ocean"
   ]
  },
  {
   "cell_type": "code",
   "execution_count": 14,
   "id": "20572bf6",
   "metadata": {},
   "outputs": [],
   "source": [
    "base_url = 'https://www.tripadvisor.com/Attractions-g147414-Activities-oa0-Bahamas.html'\n",
    "number = 'g147414'\n",
    "end = 'Bahamas'\n",
    "name = 'Bahamas, Atlantic Ocean'\n",
    "csv_name = 'bahamas.csv'\n",
    "\n",
    "bahamas_df = scrape_and_save(base_url, number, end, name, csv_name)"
   ]
  },
  {
   "cell_type": "markdown",
   "id": "8a0157e1",
   "metadata": {},
   "source": [
    "### Bahai, Brazil"
   ]
  },
  {
   "cell_type": "code",
   "execution_count": 15,
   "id": "f43754af",
   "metadata": {},
   "outputs": [],
   "source": [
    "base_url = 'https://www.tripadvisor.com/Attractions-g303251-Activities-oa0-State_of_Bahia.html'\n",
    "number = 'g303251'\n",
    "end = 'State_of_Bahia'\n",
    "name = 'Bahai, Brazil'\n",
    "csv_name = 'bahai.csv'\n",
    "\n",
    "bahai_df = scrape_and_save(base_url, number, end, name, csv_name)"
   ]
  },
  {
   "cell_type": "markdown",
   "id": "ecc80f9e",
   "metadata": {},
   "source": [
    "### Bali, Indonesia"
   ]
  },
  {
   "cell_type": "code",
   "execution_count": 16,
   "id": "2dc8bf87",
   "metadata": {},
   "outputs": [],
   "source": [
    "base_url = 'https://www.tripadvisor.com/Attractions-g294226-Activities-oa0-Bali.html'\n",
    "number = 'g294226'\n",
    "end = 'Bali'\n",
    "name = 'Bali, Indonesia'\n",
    "csv_name = 'bali.csv'\n",
    "\n",
    "bali_df = scrape_and_save(base_url, number, end, name, csv_name)"
   ]
  },
  {
   "cell_type": "markdown",
   "id": "38c393e2",
   "metadata": {},
   "source": [
    "### Amsterdam, Netherlands"
   ]
  },
  {
   "cell_type": "code",
   "execution_count": 17,
   "id": "1f9b2e18",
   "metadata": {},
   "outputs": [],
   "source": [
    "base_url = 'https://www.tripadvisor.com/Attractions-g188590-Activities-oa0-Amsterdam_North_Holland_Province.html'\n",
    "number = 'g188590'\n",
    "end = 'Amsterdam_North_Holland_Province'\n",
    "name = 'Amsterdam, Netherlands'\n",
    "csv_name = 'amsterdam.csv'\n",
    "\n",
    "amsterdam_df = scrape_and_save(base_url, number, end, name, csv_name)"
   ]
  },
  {
   "cell_type": "markdown",
   "id": "50d3563e",
   "metadata": {},
   "source": [
    "### Hong Kong, China"
   ]
  },
  {
   "cell_type": "code",
   "execution_count": 18,
   "id": "fc972722",
   "metadata": {},
   "outputs": [],
   "source": [
    "base_url = 'https://www.tripadvisor.com/Attractions-g294217-Activities-oa0-Hong_Kong.html'\n",
    "number = 'g294217'\n",
    "end = 'Hong_Kong'\n",
    "name = 'Hong Kong, China'\n",
    "csv_name = 'hong_kong.csv'\n",
    "\n",
    "hong_kong_df = scrape_and_save(base_url, number, end, name, csv_name)"
   ]
  },
  {
   "cell_type": "markdown",
   "id": "9c3cb272",
   "metadata": {},
   "source": [
    "### Rome, Italy"
   ]
  },
  {
   "cell_type": "code",
   "execution_count": 19,
   "id": "50be2566",
   "metadata": {},
   "outputs": [],
   "source": [
    "base_url = 'https://www.tripadvisor.com/Attractions-g187791-Activities-oa0-Rome_Lazio.html'\n",
    "number = 'g187791'\n",
    "end = 'Rome_Lazio'\n",
    "name = 'Rome, Italy'\n",
    "csv_name = 'rome.csv'\n",
    "\n",
    "rome_df = scrape_and_save(base_url, number, end, name, csv_name)"
   ]
  },
  {
   "cell_type": "markdown",
   "id": "666befe2",
   "metadata": {},
   "source": [
    "### Honolulu, Hawaii"
   ]
  },
  {
   "cell_type": "code",
   "execution_count": 20,
   "id": "633f6a2f",
   "metadata": {},
   "outputs": [],
   "source": [
    "base_url = 'https://www.tripadvisor.com/Attractions-g60982-Activities-oa0-Honolulu_Oahu_Hawaii.html'\n",
    "number = 'g60982'\n",
    "end = 'Honolulu_Oahu_Hawaii'\n",
    "name = 'Honolulu, Hawaii'\n",
    "csv_name = 'honolulu.csv'\n",
    "\n",
    "honolulu_df = scrape_and_save(base_url, number, end, name, csv_name)"
   ]
  },
  {
   "cell_type": "markdown",
   "id": "6df9e7c3",
   "metadata": {},
   "source": [
    "### Bangkok, Thailand"
   ]
  },
  {
   "cell_type": "code",
   "execution_count": 21,
   "id": "433dea4b",
   "metadata": {},
   "outputs": [],
   "source": [
    "base_url = 'https://www.tripadvisor.com/Attractions-g293916-Activities-oa0-Bangkok.html'\n",
    "number = 'g293916'\n",
    "end = 'Bangkok'\n",
    "name = 'Bangkok, Thailand'\n",
    "csv_name = 'bangkok.csv'\n",
    "\n",
    "bangkok_df = scrape_and_save(base_url, number, end, name, csv_name)"
   ]
  },
  {
   "cell_type": "markdown",
   "id": "2f513634",
   "metadata": {},
   "source": [
    "### San Franscisco, California"
   ]
  },
  {
   "cell_type": "code",
   "execution_count": 22,
   "id": "50ad3932",
   "metadata": {},
   "outputs": [],
   "source": [
    "base_url = 'https://www.tripadvisor.com/Attractions-g60713-Activities-oa0-San_Francisco_California.html'\n",
    "number = 'g60713'\n",
    "end = 'San_Francisco_California'\n",
    "name = 'San Franscisco, California'\n",
    "csv_name = 'san_franscisco.csv'\n",
    "\n",
    "san_franscisco_df = scrape_and_save(base_url, number, end, name, csv_name)"
   ]
  },
  {
   "cell_type": "markdown",
   "id": "4a83cb7d",
   "metadata": {},
   "source": [
    "### New Zealand, Pacific Ocean"
   ]
  },
  {
   "cell_type": "code",
   "execution_count": 23,
   "id": "f6fc27d2",
   "metadata": {},
   "outputs": [],
   "source": [
    "base_url = 'https://www.tripadvisor.com/Attractions-g255104-Activities-oa0-New_Zealand.html'\n",
    "number = 'g255104'\n",
    "end = 'New_Zealand'\n",
    "name = 'New Zealand, Pacific Ocean'\n",
    "csv_name = 'new_zealand.csv'\n",
    "\n",
    "new_zealand_df = scrape_and_save(base_url, number, end, name, csv_name)       "
   ]
  },
  {
   "cell_type": "markdown",
   "id": "2358b3e3",
   "metadata": {},
   "source": [
    "### Singapore, Asia"
   ]
  },
  {
   "cell_type": "code",
   "execution_count": 24,
   "id": "e1007d9c",
   "metadata": {},
   "outputs": [],
   "source": [
    "base_url = 'https://www.tripadvisor.com/Attractions-g294265-Activities-oa0-Singapore.html'\n",
    "number = 'g294265'\n",
    "end = 'Singapore'\n",
    "name = 'Singapore, Asia'\n",
    "csv_name = 'singapore.csv'\n",
    "\n",
    "singapore_df = scrape_and_save(base_url, number, end, name, csv_name) "
   ]
  },
  {
   "cell_type": "markdown",
   "id": "95117f8d",
   "metadata": {},
   "source": [
    "### Sydney, Austrailia"
   ]
  },
  {
   "cell_type": "code",
   "execution_count": 25,
   "id": "9a021b50",
   "metadata": {},
   "outputs": [],
   "source": [
    "base_url = 'https://www.tripadvisor.com/Attractions-g255060-Activities-oa0-Sydney_New_South_Wales.html'\n",
    "number = 'g255060'\n",
    "end = 'Sydney_New_South_Wales'\n",
    "name = 'Sydney, Austrailia'\n",
    "csv_name = 'sydney.csv'\n",
    "\n",
    "sydney_df = scrape_and_save(base_url, number, end, name, csv_name) "
   ]
  },
  {
   "cell_type": "markdown",
   "id": "fd610801",
   "metadata": {},
   "source": [
    "### South Korea, East Asia"
   ]
  },
  {
   "cell_type": "code",
   "execution_count": 26,
   "id": "42619dba",
   "metadata": {},
   "outputs": [],
   "source": [
    "base_url = 'https://www.tripadvisor.com/Attractions-g294196-Activities-oa0-South_Korea.html'\n",
    "number = 'g294196'\n",
    "end = 'South_Korea'\n",
    "name = 'South Korea, East Asia'\n",
    "csv_name = 'south_korea.csv'\n",
    "\n",
    "south_korea_df = scrape_and_save(base_url, number, end, name, csv_name) "
   ]
  },
  {
   "cell_type": "markdown",
   "id": "7a6a4b48",
   "metadata": {},
   "source": [
    "### Norway, Europe"
   ]
  },
  {
   "cell_type": "code",
   "execution_count": 27,
   "id": "803945c9",
   "metadata": {},
   "outputs": [],
   "source": [
    "base_url = 'https://www.tripadvisor.com/Attractions-g190455-Activities-oa0-Norway.html'\n",
    "number = 'g190455'\n",
    "end = 'Norway'\n",
    "name = 'Norway, Europe'\n",
    "csv_name = 'norway.csv'\n",
    "\n",
    "norway_df = scrape_and_save(base_url, number, end, name, csv_name)     "
   ]
  },
  {
   "cell_type": "markdown",
   "id": "71db4e57",
   "metadata": {},
   "source": [
    "### Toronto, Canada"
   ]
  },
  {
   "cell_type": "code",
   "execution_count": 28,
   "id": "29180ca6",
   "metadata": {},
   "outputs": [],
   "source": [
    "base_url = 'https://www.tripadvisor.com/Attractions-g155019-Activities-oa0-Toronto_Ontario.html'\n",
    "number = 'g155019'\n",
    "end = 'Toronto_Ontario'\n",
    "name = 'Toronto, Canada'\n",
    "csv_name = 'toronto.csv'\n",
    "\n",
    "toronto_df = scrape_and_save(base_url, number, end, name, csv_name) "
   ]
  },
  {
   "cell_type": "markdown",
   "id": "e28538d7",
   "metadata": {},
   "source": [
    "### Swiss Alps, Switzerland"
   ]
  },
  {
   "cell_type": "code",
   "execution_count": 29,
   "id": "b3fbbbe5",
   "metadata": {},
   "outputs": [],
   "source": [
    "base_url = 'https://www.tripadvisor.com/Attractions-g188077-Activities-oa0-Swiss_Alps.html'\n",
    "number = 'g188077'\n",
    "end = 'Swiss_Alps'\n",
    "name = 'Swiss Alps, Switzerland'\n",
    "csv_name = 'swiss_alps.csv'\n",
    "\n",
    "swiss_alps_df = scrape_and_save(base_url, number, end, name, csv_name) "
   ]
  },
  {
   "cell_type": "markdown",
   "id": "1f1ae7fe",
   "metadata": {},
   "source": [
    "### Tokyo, Japan"
   ]
  },
  {
   "cell_type": "code",
   "execution_count": 30,
   "id": "a5d2213a",
   "metadata": {},
   "outputs": [],
   "source": [
    "base_url = 'https://www.tripadvisor.com/Attractions-g298184-Activities-oa0-Tokyo_Tokyo_Prefecture_Kanto.html'\n",
    "number = 'g298184'\n",
    "end = 'Tokyo_Tokyo_Prefecture_Kanto'\n",
    "name = 'Tokyo, Japan'\n",
    "csv_name = 'tokyo.csv'\n",
    "\n",
    "tokyo_df = scrape_and_save(base_url, number, end, name, csv_name) "
   ]
  },
  {
   "cell_type": "markdown",
   "id": "99732d26",
   "metadata": {},
   "source": [
    "### Cairo, Egypt"
   ]
  },
  {
   "cell_type": "code",
   "execution_count": 31,
   "id": "22b819b5",
   "metadata": {},
   "outputs": [],
   "source": [
    "base_url = 'https://www.tripadvisor.com/Attractions-g294201-Activities-oa0-Cairo_Cairo_Governorate.html'\n",
    "number = 'g294201'\n",
    "end = 'Cairo_Cairo_Governorate'\n",
    "name = 'Cairo, Egypt'\n",
    "csv_name = 'cairo.csv'\n",
    "\n",
    "cairo_df = scrape_and_save(base_url, number, end, name, csv_name) "
   ]
  },
  {
   "cell_type": "markdown",
   "id": "53a1e76f",
   "metadata": {},
   "source": [
    "### Rio de Janeiro, Brazil"
   ]
  },
  {
   "cell_type": "code",
   "execution_count": 32,
   "id": "fe2d95b7",
   "metadata": {},
   "outputs": [],
   "source": [
    "base_url = 'https://www.tripadvisor.com/Attractions-g303506-Activities-oa0-Rio_de_Janeiro_State_of_Rio_de_Janeiro.html'\n",
    "number = 'g303506'\n",
    "end = 'Rio_de_Janeiro_State_of_Rio_de_Janeiro'\n",
    "name = 'Rio de Janeiro, Brazil'\n",
    "csv_name = 'rio_de_janeiro.csv'\n",
    "\n",
    "rio_de_janeiro_df = scrape_and_save(base_url, number, end, name, csv_name)"
   ]
  },
  {
   "cell_type": "markdown",
   "id": "1d7a1eea",
   "metadata": {},
   "source": [
    "### Combine all the DataFrames into a single csv\n",
    "Will will now create an `all_df` which will be put into a `.csv` file containing the text for all Things to Do from Trip Advisor."
   ]
  },
  {
   "cell_type": "code",
   "execution_count": 33,
   "id": "2993febe",
   "metadata": {},
   "outputs": [],
   "source": [
    "all_df = [prague_df, rajasthan_df, berlin_df, moscow_df, mexico_city_df,\n",
    "          new_york_city_df, las_vegas_df, paris_df, stockholm_df, hokkaido_df,\n",
    "          melbourne_df, bahamas_df, bahai_df, bali_df, amsterdam_df,\n",
    "          hong_kong_df, rome_df, honolulu_df, bangkok_df, san_franscisco_df,\n",
    "          new_zealand_df, singapore_df, sydney_df, south_korea_df, norway_df,\n",
    "          toronto_df, swiss_alps_df, tokyo_df, cairo_df, rio_de_janeiro_df]\n",
    "all_things_to_do_df = pd.concat(all_df)"
   ]
  },
  {
   "cell_type": "code",
   "execution_count": 34,
   "id": "5e02559d",
   "metadata": {},
   "outputs": [],
   "source": [
    "csv_name = 'all_things_to_do.csv'\n",
    "csv_path = os.path.join(loc_dir, csv_name)\n",
    "all_things_to_do_df.to_csv(csv_path, index=False)"
   ]
  },
  {
   "cell_type": "markdown",
   "id": "06be5ca2",
   "metadata": {},
   "source": [
    "To make processing easier, we will continue our analysis in a separate notebook. "
   ]
  },
  {
   "cell_type": "code",
   "execution_count": null,
   "id": "436838e2",
   "metadata": {},
   "outputs": [],
   "source": []
  }
 ],
 "metadata": {
  "kernelspec": {
   "display_name": "Python 3 (ipykernel)",
   "language": "python",
   "name": "python3"
  },
  "language_info": {
   "codemirror_mode": {
    "name": "ipython",
    "version": 3
   },
   "file_extension": ".py",
   "mimetype": "text/x-python",
   "name": "python",
   "nbconvert_exporter": "python",
   "pygments_lexer": "ipython3",
   "version": "3.11.5"
  }
 },
 "nbformat": 4,
 "nbformat_minor": 5
}
