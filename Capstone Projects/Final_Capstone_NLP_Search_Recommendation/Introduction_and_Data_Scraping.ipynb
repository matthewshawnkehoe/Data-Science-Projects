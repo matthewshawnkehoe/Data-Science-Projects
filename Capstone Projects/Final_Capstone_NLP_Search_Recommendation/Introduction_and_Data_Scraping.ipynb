{
 "cells": [
  {
   "cell_type": "markdown",
   "id": "c1560a9f",
   "metadata": {},
   "source": [
    "# NLP Recommender System - Travel Advisor"
   ]
  },
  {
   "cell_type": "markdown",
   "id": "16dfc9ed",
   "metadata": {},
   "source": [
    "## Introduction\n",
    "At its lowest point during the early days of the pandemic, the Travel Health Index [dipped to 20 in April 2020](https://www.kiplinger.com/personal-finance/is-travel-finally-back-new-report-reveals-record-tourism-rebound), a sign travel performance had sunk to 20% of April 2019 levels. Three years later, travel has fully rebounded and continually set new records across all global regions. In fact, more people are traveling now than before the pandemic.\n",
    "\n",
    "This project creates a NLP Recommender System using travel destinations from [50 best places to travel in 2024](https://www.travelandleisure.com/best-places-to-go-2024-8385979). The NLP system was trained on over 20,000 text pairs from teh popular travel site Trip Advisor.\n",
    "\n",
    "TODO: Update"
   ]
  },
  {
   "cell_type": "markdown",
   "id": "6b0b0286",
   "metadata": {},
   "source": [
    "## Table of Contents\n",
    "---\n",
    "- [Introduction](#Introduction)\n",
    "  - [Our Research Problem](#Our-Research-Problem)\n",
    "- [Web Scraping](#Web-Scraping)"
   ]
  },
  {
   "cell_type": "markdown",
   "id": "c5d736d6",
   "metadata": {},
   "source": [
    "## Web Scraping\n",
    "We will scrape tens of thousands of \"things to do\" from Trip Advisor. Some of the places are taken from [50 Best Places to Travel in 2024](https://www.travelandleisure.com/best-places-to-go-2024-8385979). Other places are popular travel destinations that I hope to go to one day in the future. As a reference, here is a list of the places scraped (and their associated URL on Trip Advisor):\n",
    "\n",
    "1.   Cartagena, Colombia: https://www.tripadvisor.com/Attractions-g297476-Activities-oa0-Cartagena_Cartagena_District_Bolivar_Department.html\n",
    "2.   Rajasthan, India: https://www.tripadvisor.com/Attractions-g297665-Activities-oa0-Rajasthan.html\n",
    "3.   Tallinn, Estonia: https://www.tripadvisor.com/Attractions-g274958-Activities-oa0-Tallinn_Harju_County.html\n",
    "4.   Warsaw, Poland: https://www.tripadvisor.com/Attractions-g274856-Activities-oa0-Warsaw_Mazovia_Province_Central_Poland.html\n",
    "5.   Mérida, Mexico: https://www.tripadvisor.com/Attractions-g150811-Activities-oa0-Merida_Yucatan_Peninsula.html\n",
    "6.   Fort Worth, Texas: https://www.tripadvisor.com/Attractions-g55857-Activities-oa0-Fort_Worth_Texas.html\n",
    "7.   Las Vegas, Nevada: https://www.tripadvisor.com/Attractions-g45963-Activities-oa0-Las_Vegas_Nevada.html\n",
    "8.   Paris, France: https://www.tripadvisor.com/Attractions-g187147-Activities-oa0-Paris_Ile_de_France.html\n",
    "9.   Egersund, Norway: https://www.tripadvisor.com/Attractions-g668814-Activities-oa0-Egersund_Eigersund_Municipality_Rogaland_Western_Norway.html\n",
    "10.  Hokkaido, Japan: https://www.tripadvisor.com/Attractions-g298143-Activities-oa0-Hokkaido.html\n",
    "11.  Wellington, New Zealand: https://www.tripadvisor.com/Attractions-g255115-Activities-oa0-Wellington_Greater_Wellington_North_Island.html\n",
    "12.  Costa Rica: https://www.tripadvisor.com/Attractions-g291982-Activities-oa0-Costa_Rica.html\n",
    "13.  Bahai, Brazil: https://www.tripadvisor.com/Attractions-g303251-Activities-oa0-State_of_Bahia.html\n",
    "14.  Sri Lanka, South Asia: https://www.tripadvisor.com/Attractions-g293961-Activities-oa0-Sri_Lanka.html\n",
    "15.  Porto, Portugal: https://www.tripadvisor.com/Attractions-g189180-Activities-oa0-Porto_Porto_District_Northern_Portugal.html"
   ]
  },
  {
   "cell_type": "markdown",
   "id": "bfb53caf",
   "metadata": {},
   "source": [
    "We will now import the necessary libraries for web scraping."
   ]
  },
  {
   "cell_type": "code",
   "execution_count": 1,
   "id": "bf4764bc",
   "metadata": {},
   "outputs": [],
   "source": [
    "import requests\n",
    "import os\n",
    "import re\n",
    "from bs4 import BeautifulSoup\n",
    "import pandas as pd"
   ]
  },
  {
   "cell_type": "markdown",
   "id": "8f82bd7e",
   "metadata": {},
   "source": [
    "Below are our three core functions for getting text data."
   ]
  },
  {
   "cell_type": "code",
   "execution_count": 2,
   "id": "cc1da863",
   "metadata": {},
   "outputs": [],
   "source": [
    "loc_dir = 'C:/Users/mskeh/Documents/GitHub/Thinkful/Capstone Projects/Final_Capstone_NLP_Search_Recommendation/Data'\n",
    "\n",
    "def find_things_to_do_text(url):\n",
    "    \"\"\"\n",
    "    Extracts text inside \"Things to Do\" from a TripAdvisor page.\n",
    "\n",
    "    Args:\n",
    "        url (str): The URL of the TripAdvisor page.\n",
    "\n",
    "    Returns:\n",
    "        list: List of extracted texts.\n",
    "    \"\"\"\n",
    "    headers = {'User-Agent': 'Mozilla/5.0 (Windows NT 10.0; Win64; x64) AppleWebKit/537.36 (KHTML, like Gecko) Chrome/121.0.0.0 Safari/537.36'}\n",
    "    r = requests.get(url, headers=headers)\n",
    "    soup = BeautifulSoup(r.content, 'lxml')\n",
    "    all_attractions = soup.find_all('div', class_='XfVdV o AIbhI')\n",
    "    return [re.sub(r'^\\d+\\.', '', attraction.text).strip() for attraction in all_attractions]\n",
    "\n",
    "def create_url_list(base_url, number, end):\n",
    "    \"\"\"\n",
    "    Creates a list of URLs for scraping TripAdvisor pages.\n",
    "\n",
    "    Args:\n",
    "        base_url (str): The base URL of the TripAdvisor page.\n",
    "        number (str): A unique identifier for the location.\n",
    "        end (str): Additional information for the URL.\n",
    "\n",
    "    Returns:\n",
    "        list: List of generated URLs.\n",
    "    \"\"\"\n",
    "    return [f'https://www.tripadvisor.com/Attractions-{number}-a_sort.-oa{30*i - 30}-{end}.html' for i in range(2, 201)]\n",
    "\n",
    "def scrape_and_save(base_url, number, end, name, csv_name):\n",
    "    \"\"\"\n",
    "    Scrapes TripAdvisor pages, saves data to a DataFrame, and exports to CSV.\n",
    "\n",
    "    Args:\n",
    "        base_url (str): The base URL of the TripAdvisor page.\n",
    "        number (str): A unique identifier for the location.\n",
    "        end (str): Additional information for the URL.\n",
    "        name (str): The name of the location.\n",
    "        csv_name (str): The desired name for the CSV file.\n",
    "\n",
    "    Returns:\n",
    "        pandas.DataFrame: The DataFrame containing the scraped data.\n",
    "    \"\"\"\n",
    "    url_list = create_url_list(base_url, number, end)\n",
    "    url_list.insert(0, base_url)\n",
    "\n",
    "    all_things_to_do = [attraction for url in url_list for attraction in find_things_to_do_text(url)]\n",
    "\n",
    "    df = pd.DataFrame(all_things_to_do, columns=['Text'])\n",
    "    df['Location'] = name\n",
    "    csv_path = os.path.join(loc_dir, csv_name)\n",
    "    df.to_csv(csv_path, index=False)\n",
    "    return df"
   ]
  },
  {
   "cell_type": "markdown",
   "id": "071a42c3",
   "metadata": {},
   "source": [
    "We will now use the three helper functions to scrape data. We will put all of the scraped data into DataFrames and then combine all of them into a single DataFrame."
   ]
  },
  {
   "cell_type": "markdown",
   "id": "4e0c30de",
   "metadata": {},
   "source": [
    "### Cartagena, Colombia"
   ]
  },
  {
   "cell_type": "code",
   "execution_count": 3,
   "id": "08f76255",
   "metadata": {},
   "outputs": [],
   "source": [
    "base_url = 'https://www.tripadvisor.com/Attractions-g297476-Activities-oa0-Cartagena_Cartagena_District_Bolivar_Department.html'\n",
    "number = 'g297476'\n",
    "end = 'Cartagena_Cartagena_District_Bolivar_Department'\n",
    "name = 'Cartagena, Colombia'\n",
    "csv_name = 'cartagena.csv'\n",
    "\n",
    "cartagena_df = scrape_and_save(base_url, number, end, name, csv_name)"
   ]
  },
  {
   "cell_type": "markdown",
   "id": "02d4b615",
   "metadata": {},
   "source": [
    "### Rajasthan, India"
   ]
  },
  {
   "cell_type": "code",
   "execution_count": 4,
   "id": "e5d086cf",
   "metadata": {},
   "outputs": [],
   "source": [
    "base_url = 'https://www.tripadvisor.com/Attractions-g297665-Activities-oa0-Rajasthan.html'\n",
    "number = 'g297665'\n",
    "end = 'Rajasthan'\n",
    "name = 'Rajasthan, India'\n",
    "csv_name = 'rajasthan.csv'\n",
    "\n",
    "rajasthan_df = scrape_and_save(base_url, number, end, name, csv_name)"
   ]
  },
  {
   "cell_type": "markdown",
   "id": "b162c8b4",
   "metadata": {},
   "source": [
    "### Tallinn, Estonia"
   ]
  },
  {
   "cell_type": "code",
   "execution_count": 5,
   "id": "926f58fd",
   "metadata": {},
   "outputs": [],
   "source": [
    "base_url = 'https://www.tripadvisor.com/Attractions-g274958-Activities-oa0-Tallinn_Harju_County.html'\n",
    "number = 'g274958'\n",
    "end = 'Tallinn_Harju_County'\n",
    "name = 'Tallinn, Estonia'\n",
    "csv_name = 'tallinn.csv'\n",
    "\n",
    "tallinn_df = scrape_and_save(base_url, number, end, name, csv_name)"
   ]
  },
  {
   "cell_type": "markdown",
   "id": "443284b8",
   "metadata": {},
   "source": [
    "### Warsaw, Poland"
   ]
  },
  {
   "cell_type": "code",
   "execution_count": 6,
   "id": "03e769b1",
   "metadata": {},
   "outputs": [],
   "source": [
    "base_url = 'https://www.tripadvisor.com/Attractions-g274856-Activities-oa0-Warsaw_Mazovia_Province_Central_Poland.html'\n",
    "number = 'g274856'\n",
    "end = 'Warsaw_Mazovia_Province_Central_Poland'\n",
    "name = 'Warsaw, Poland'\n",
    "csv_name = 'warsaw.csv'\n",
    "\n",
    "warsaw_df = scrape_and_save(base_url, number, end, name, csv_name)"
   ]
  },
  {
   "cell_type": "markdown",
   "id": "91c2071a",
   "metadata": {},
   "source": [
    "### Mérida, Mexico"
   ]
  },
  {
   "cell_type": "code",
   "execution_count": 7,
   "id": "58e1c0b2",
   "metadata": {},
   "outputs": [],
   "source": [
    "base_url = 'https://www.tripadvisor.com/Attractions-g150811-Activities-oa0-Merida_Yucatan_Peninsula.html'\n",
    "number = 'g150811'\n",
    "end = 'Merida_Yucatan_Peninsula'\n",
    "name = 'Mérida, Mexico'\n",
    "csv_name = 'merida.csv'\n",
    "\n",
    "merida_df = scrape_and_save(base_url, number, end, name, csv_name)"
   ]
  },
  {
   "cell_type": "markdown",
   "id": "3e3aa24f",
   "metadata": {},
   "source": [
    "### Fort Worth, Texas"
   ]
  },
  {
   "cell_type": "code",
   "execution_count": 8,
   "id": "1371d4aa",
   "metadata": {},
   "outputs": [],
   "source": [
    "base_url = 'https://www.tripadvisor.com/Attractions-g55857-Activities-oa0-Fort_Worth_Texas.html'\n",
    "number = 'g55857'\n",
    "end = 'Fort_Worth_Texas'\n",
    "name = 'Fort Worth, Texas'\n",
    "csv_name = 'fort_worth.csv'\n",
    "\n",
    "fort_worth_df = scrape_and_save(base_url, number, end, name, csv_name)"
   ]
  },
  {
   "cell_type": "markdown",
   "id": "22740228",
   "metadata": {},
   "source": [
    "### Las Vegas, Nevada"
   ]
  },
  {
   "cell_type": "code",
   "execution_count": 9,
   "id": "e5da433f",
   "metadata": {},
   "outputs": [],
   "source": [
    "base_url = 'https://www.tripadvisor.com/Attractions-g45963-Activities-oa0-Las_Vegas_Nevada.html'\n",
    "number = 'g45963'\n",
    "end = 'Las_Vegas_Nevada'\n",
    "name = 'Las Vegas, Nevada'\n",
    "csv_name = 'las_vegas.csv'\n",
    "\n",
    "las_vegas_df = scrape_and_save(base_url, number, end, name, csv_name)"
   ]
  },
  {
   "cell_type": "markdown",
   "id": "e7c8cbcc",
   "metadata": {},
   "source": [
    "### Paris, France"
   ]
  },
  {
   "cell_type": "code",
   "execution_count": 10,
   "id": "15071126",
   "metadata": {},
   "outputs": [],
   "source": [
    "base_url = 'https://www.tripadvisor.com/Attractions-g187147-Activities-oa0-Paris_Ile_de_France.html'\n",
    "number = 'g187147'\n",
    "end = 'Paris_Ile_de_France'\n",
    "name = 'Paris, France'\n",
    "csv_name = 'paris.csv'\n",
    "\n",
    "paris_df = scrape_and_save(base_url, number, end, name, csv_name)"
   ]
  },
  {
   "cell_type": "markdown",
   "id": "c1f2aaf6",
   "metadata": {},
   "source": [
    "### Egersund, Norway"
   ]
  },
  {
   "cell_type": "code",
   "execution_count": 11,
   "id": "c78f09ee",
   "metadata": {},
   "outputs": [],
   "source": [
    "base_url = 'https://www.tripadvisor.com/Attractions-g668814-Activities-oa0-Egersund_Eigersund_Municipality_Rogaland_Western_Norway.html'\n",
    "number = 'g668814'\n",
    "end = 'Egersund_Eigersund_Municipality_Rogaland_Western_Norway'\n",
    "name = 'Egersund, Norway'\n",
    "csv_name = 'egersund.csv'\n",
    "\n",
    "egersund_df = scrape_and_save(base_url, number, end, name, csv_name)"
   ]
  },
  {
   "cell_type": "markdown",
   "id": "91005129",
   "metadata": {},
   "source": [
    "### Hokkaido, Japan"
   ]
  },
  {
   "cell_type": "code",
   "execution_count": 12,
   "id": "00ec2bc4",
   "metadata": {},
   "outputs": [],
   "source": [
    "base_url = 'https://www.tripadvisor.com/Attractions-g298143-Activities-oa0-Hokkaido.html'\n",
    "number = 'g298143'\n",
    "end = 'Hokkaido'\n",
    "name = 'Hokkaido, Japan'\n",
    "csv_name = 'hokkaido.csv'\n",
    "\n",
    "hokkaido_df = scrape_and_save(base_url, number, end, name, csv_name)"
   ]
  },
  {
   "cell_type": "markdown",
   "id": "c8cb6537",
   "metadata": {},
   "source": [
    "### Wellington, New Zealand"
   ]
  },
  {
   "cell_type": "code",
   "execution_count": 13,
   "id": "06afba69",
   "metadata": {},
   "outputs": [],
   "source": [
    "base_url = 'https://www.tripadvisor.com/Attractions-g255115-Activities-oa0-Wellington_Greater_Wellington_North_Island.html'\n",
    "number = 'g255115'\n",
    "end = 'Wellington_Greater_Wellington_North_Island'\n",
    "name = 'Wellington, New Zealand'\n",
    "csv_name = 'wellington.csv'\n",
    "\n",
    "wellington_df = scrape_and_save(base_url, number, end, name, csv_name)"
   ]
  },
  {
   "cell_type": "markdown",
   "id": "2587d5b4",
   "metadata": {},
   "source": [
    "### Costa Rica, Central America"
   ]
  },
  {
   "cell_type": "code",
   "execution_count": 14,
   "id": "20572bf6",
   "metadata": {},
   "outputs": [],
   "source": [
    "base_url = 'https://www.tripadvisor.com/Attractions-g291982-Activities-oa0-Costa_Rica.html'\n",
    "number = 'g291982'\n",
    "end = 'Costa_Rica'\n",
    "name = 'Costa Rica, Central America'\n",
    "csv_name = 'costa_rica.csv'\n",
    "\n",
    "costa_rica_df = scrape_and_save(base_url, number, end, name, csv_name)"
   ]
  },
  {
   "cell_type": "markdown",
   "id": "8a0157e1",
   "metadata": {},
   "source": [
    "### Bahai, Brazil"
   ]
  },
  {
   "cell_type": "code",
   "execution_count": 15,
   "id": "f43754af",
   "metadata": {},
   "outputs": [],
   "source": [
    "base_url = 'https://www.tripadvisor.com/Attractions-g303251-Activities-oa0-State_of_Bahia.html'\n",
    "number = 'g303251'\n",
    "end = 'State_of_Bahia'\n",
    "name = 'Bahai, Brazil'\n",
    "csv_name = 'bahai.csv'\n",
    "\n",
    "bahai_df = scrape_and_save(base_url, number, end, name, csv_name)"
   ]
  },
  {
   "cell_type": "markdown",
   "id": "ecc80f9e",
   "metadata": {},
   "source": [
    "### Sri Lanka, South Asia"
   ]
  },
  {
   "cell_type": "code",
   "execution_count": 16,
   "id": "2dc8bf87",
   "metadata": {},
   "outputs": [],
   "source": [
    "base_url = 'https://www.tripadvisor.com/Attractions-g293961-Activities-oa0-Sri_Lanka.html'\n",
    "number = 'g293961'\n",
    "end = 'Sri_Lanka'\n",
    "name = 'Sri Lanka, South Asia'\n",
    "csv_name = 'sri_lanka.csv'\n",
    "\n",
    "sri_lanka_df = scrape_and_save(base_url, number, end, name, csv_name)"
   ]
  },
  {
   "cell_type": "markdown",
   "id": "38c393e2",
   "metadata": {},
   "source": [
    "### Porto, Portugal"
   ]
  },
  {
   "cell_type": "code",
   "execution_count": 17,
   "id": "1f9b2e18",
   "metadata": {},
   "outputs": [],
   "source": [
    "base_url = 'https://www.tripadvisor.com/Attractions-g189180-Activities-oa0-Porto_Porto_District_Northern_Portugal.html'\n",
    "number = 'g189180'\n",
    "end = 'Porto_Porto_District_Northern_Portugal'\n",
    "name = 'Porto, Portugal'\n",
    "csv_name = 'porto.csv'\n",
    "\n",
    "porto_df = scrape_and_save(base_url, number, end, name, csv_name)"
   ]
  },
  {
   "cell_type": "markdown",
   "id": "1d7a1eea",
   "metadata": {},
   "source": [
    "### Combine all the DataFrames into a single csv\n",
    "Will will now create an `all_df` which will be put into a `.csv` file containing the text for all \"things to do\" in all places."
   ]
  },
  {
   "cell_type": "code",
   "execution_count": 19,
   "id": "2993febe",
   "metadata": {},
   "outputs": [],
   "source": [
    "all_df = [cartagena_df, rajasthan_df, tallinn_df, warsaw_df, merida_df,\n",
    "          fort_worth_df, las_vegas_df, paris_df, egersund_df, hokkaido_df,\n",
    "          wellington_df, costa_rica_df, bahai_df, sri_lanka_df, porto_df]\n",
    "all_things_to_do_df = pd.concat(all_df)"
   ]
  },
  {
   "cell_type": "code",
   "execution_count": 20,
   "id": "5e02559d",
   "metadata": {},
   "outputs": [],
   "source": [
    "csv_name = 'all_things_to_do.csv'\n",
    "csv_path = os.path.join(loc_dir, csv_name)\n",
    "all_things_to_do_df.to_csv(csv_path, index=False)"
   ]
  },
  {
   "cell_type": "markdown",
   "id": "06be5ca2",
   "metadata": {},
   "source": [
    "To make processing easier, we will complete further analysis in a different notebook. "
   ]
  },
  {
   "cell_type": "code",
   "execution_count": null,
   "id": "436838e2",
   "metadata": {},
   "outputs": [],
   "source": []
  }
 ],
 "metadata": {
  "kernelspec": {
   "display_name": "Python 3 (ipykernel)",
   "language": "python",
   "name": "python3"
  },
  "language_info": {
   "codemirror_mode": {
    "name": "ipython",
    "version": 3
   },
   "file_extension": ".py",
   "mimetype": "text/x-python",
   "name": "python",
   "nbconvert_exporter": "python",
   "pygments_lexer": "ipython3",
   "version": "3.11.5"
  }
 },
 "nbformat": 4,
 "nbformat_minor": 5
}
