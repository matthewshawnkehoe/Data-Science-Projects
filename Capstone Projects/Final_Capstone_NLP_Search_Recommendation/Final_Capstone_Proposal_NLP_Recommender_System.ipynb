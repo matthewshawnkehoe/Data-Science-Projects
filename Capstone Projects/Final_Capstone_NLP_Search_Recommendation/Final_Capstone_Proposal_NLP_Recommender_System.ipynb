{
  "cells": [
    {
      "cell_type": "markdown",
      "metadata": {
        "id": "M5UBpmKneKuz"
      },
      "source": [
        "# Final Project Proposal: NLP Recommender System\n",
        "\n",
        "### Matthew Kehoe, January 2024\n"
      ]
    },
    {
      "cell_type": "markdown",
      "metadata": {
        "id": "B0L9xkeYeKu0"
      },
      "source": [
        "Many people experience difficulties sorting through massive amounts of information while using search engines to discover content that is relevant to their interests. The vast volume of information frequently leads in time-consuming and inefficient searches. Recognizing this pervasive issue, there is an increasing demand for creative solutions that speed up the search process and give consumers more relevant and tailored information. In response, I've chosen to propose Natural Language Processing (NLP) recommender systems as my final project. The fundamental purpose of this system is to reduce the time-consuming chore of manual search by automatically offering material to users based on key search terms, ensuring that the information given is not only relevant but also aligned with individual preferences and interests.\n",
        "\n"
      ]
    },
    {
      "cell_type": "markdown",
      "metadata": {
        "id": "D74CFNjaeKu1"
      },
      "source": [
        "## What is the problem you are attempting to solve?\n",
        "\n",
        "By using context and conceptual filtering, NLP recommender systems are able to narrow down large amounts of information into something that can be managed by an individual.\n",
        "\n",
        "I can think of several scenarios:\n",
        "\n",
        "1.   As I search through a large database of movies, I would appreciate if someone could recommend films similar to what I am searching for.\n",
        "2.   In order to plan a trip to a foreign city, I am seeking information regarding the city I should travel to based on what key words I entered into the search engine.\n",
        "3.   As I am searching for a product on Amazon, I am interested in seeing similar products based on the key words that I entered in my search.\n",
        "4.  I am scanning the internet for news articles. The ability to find news articles related to my interests would be extremely convenient.\n",
        "5.  I am using Indeed.com to look for a job and would like to see the most important jobs first (according to my search criteria).\n",
        "\n",
        "Similar problems happen every day when someone goes and searches for something in a search engine. Recommender systems could be used to help alleviate the task of manually searching through the entire web of information.\n",
        "\n"
      ]
    },
    {
      "cell_type": "markdown",
      "metadata": {
        "id": "pAL-bb92eKu1"
      },
      "source": [
        "## How is your solution valuable?\n",
        "NLP-based recommender systems offer significant value by addressing key challenges in information retrieval and content recommendation. In particular, they address:\n",
        "\n",
        "* **Personalization:** NLP enables recommender systems to understand linguistic nuances and user preferences. By evaluating textual content and user interactions, these systems can make personalized recommendations based on individual preferences, resulting in a more engaging user experience.\n",
        "* **Semantic Understanding:** NLP enables systems to go beyond keyword matching and understand the semantic context of textual content. This advanced comprehension allows for more accurate content recommendations, ensuring that the suggested items align with the user's intent and preferences.\n",
        "* **Efficient Information Retrieval:** With the ever-increasing number of online content, people frequently experience information overload. NLP-based recommender systems help to streamline the search process by delivering relevant content based on key search terms, saving users time and effort in discovering information that matches their interests.\n",
        "* **Adaptability:** These systems can adapt to changing user preferences over time. NLP-based recommender systems keep recommendations relevant by continuously evaluating user interactions and updating profiles to reflect changes in user behavior and interests.\n",
        "* **Mitigation of Information Overload:** NLP helps filter and prioritize information, preventing users from being overwhelmed by the sheer volume of available content. Recommender systems guide users to content that is most likely to be of interest, reducing the cognitive load associated with information overload.\n",
        "* **Business Value:** For content producers, NLP-based recommender systems improve user satisfaction and retention. This, in turn, has a beneficial impact on revenue creation because satisfied users are more likely to consume and share content, contributing to the overall success of digital platforms.\n",
        "\n",
        "In summary, NLP-based recommender systems add significant value by providing personalized, relevant, and efficient content recommendations, ultimately enhancing user satisfaction and engagement.\n"
      ]
    },
    {
      "cell_type": "markdown",
      "metadata": {
        "id": "SbC2fvRIeKu3"
      },
      "source": [
        "## What is your data source and how will you access it?\n",
        "\n",
        "I will choose one of the example projects listed above. In particular, I will use a web scraper to scrape data from\n",
        "*   Movie Recommendations: [Rotten Tomatoes](https://www.rottentomatoes.com/) or [IMDb](https://www.imdb.com/).\n",
        "*   Travel Recommendations: Trip reviews from [Tripadvisor](https://www.tripadvisor.com/) or [Yelp](https://www.yelp.com/).\n",
        "*   Amazon Recommendations: User reviews from [Amazon](https://www.amazon.com/).\n",
        "*   News Recommendations: [Newspaper](https://github.com/codelucas/newspaper) can be used to scrape almost any news website.\n",
        "*   Job Recommendations: [Indeed](https://www.indeed.com/) or [Monster](https://www.monster.com/).\n",
        "\n",
        "To do this, I will use the Python library [BeautifulSoup](https://www.crummy.com/software/BeautifulSoup/).\n"
      ]
    },
    {
      "cell_type": "markdown",
      "metadata": {
        "id": "Gs9DuTVmeKu3"
      },
      "source": [
        "## What techniques from the course do you anticipate using?\n",
        "\n",
        "I anticipate using the following material from earlier in the course:\n",
        "\n",
        "- Web Scraping\n",
        "- Exploratory Data Analysis\n",
        "- Data Cleaning\n",
        "- Data Visualization\n",
        "- Support Vector Machine\n",
        "- Artifical Neural Networks\n",
        "\n",
        "Outside of the coursework, I will also like to look at vectorization strategies for classifying text data:\n",
        "\n",
        "- Count Vectorization\n",
        "- TF-IDF Vectorization\n",
        "- Count Vectorization using Bi-Grams\n",
        "\n",
        "I will also investigate other applications of NLP such as:\n",
        "\n",
        "- Sequence-to-sequence learning\n",
        "- Encoders/Decoders\n",
        "- Contextual Sequence Learning through RNN\n",
        "- Variational Autoencoders\n",
        "- Transformers\n",
        "\n",
        "I hope to apply material I learned from the popular textbooks [Deep Learning with Python](https://www.manning.com/books/deep-learning-with-python) and [Getting Started with Natural Language Processing](https://www.manning.com/books/getting-started-with-natural-language-processing)."
      ]
    },
    {
      "cell_type": "markdown",
      "metadata": {
        "id": "SG2wgoJdeKu5"
      },
      "source": [
        "## What do you anticipate to be the biggest challenge you'll face?\n",
        "\n",
        "It may take a significant amount of time to perform the web scraping. I could also encounter some difficulties getting the data in the format that I need for further analysis.\n",
        "\n",
        "I won't be able to do everything that I want to do in the project timeline."
      ]
    },
    {
      "cell_type": "code",
      "execution_count": null,
      "metadata": {
        "id": "O5p4e01zvZDC"
      },
      "outputs": [],
      "source": []
    }
  ],
  "metadata": {
    "colab": {
      "provenance": []
    },
    "kernelspec": {
      "display_name": "Python 3",
      "language": "python",
      "name": "python3"
    },
    "language_info": {
      "codemirror_mode": {
        "name": "ipython",
        "version": 3
      },
      "file_extension": ".py",
      "mimetype": "text/x-python",
      "name": "python",
      "nbconvert_exporter": "python",
      "pygments_lexer": "ipython3",
      "version": "3.6.9"
    }
  },
  "nbformat": 4,
  "nbformat_minor": 0
}
